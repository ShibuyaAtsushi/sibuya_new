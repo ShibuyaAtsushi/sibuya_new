{
 "cells": [
  {
   "cell_type": "markdown",
   "metadata": {},
   "source": [
    "# Custom Gymnasium Mujoco Env\n",
    "参考：[test_mujoco_custom_env.py](https://github.com/Farama-Foundation/Gymnasium/blob/main/tests/envs/mujoco/test_mujoco_custom_env.py)"
   ]
  },
  {
   "cell_type": "markdown",
   "metadata": {},
   "source": [
    "オリジナルのMuJoCo環境を作成します\n",
    "\n",
    "オリジナルのMuJoCo環境は，そのクラスを作ることで実装します．\n",
    "実査の学習を行うmain文的な処理は，gymのインターフェースであれば共通で使用できます．\n",
    "よって，自分なりの環境クラスを作成すればいいだけです．\n",
    "その環境クラスには，step, reset, render,などの必須なメソッドを定義する必要がありますが，MuJoCoでは使いやすくするためのサンプルがあります！\n",
    "よってそれを元に作るだけで，強化学習の環境が作れて，学習を回すことができます"
   ]
  },
  {
   "cell_type": "code",
   "execution_count": null,
   "metadata": {},
   "outputs": [],
   "source": []
  },
  {
   "cell_type": "code",
   "execution_count": 1,
   "metadata": {},
   "outputs": [
    {
     "name": "stderr",
     "output_type": "stream",
     "text": [
      "c:\\Users\\atusi\\anaconda3\\envs\\gymenv\\Lib\\site-packages\\gymnasium\\core.py:311: UserWarning: \u001b[33mWARN: env.model to get variables from other wrappers is deprecated and will be removed in v1.0, to get this variable you can do `env.unwrapped.model` for environment variables or `env.get_wrapper_attr('model')` that will search the reminding wrappers.\u001b[0m\n",
      "  logger.warn(\n",
      "c:\\Users\\atusi\\anaconda3\\envs\\gymenv\\Lib\\site-packages\\gymnasium\\core.py:311: UserWarning: \u001b[33mWARN: env.data to get variables from other wrappers is deprecated and will be removed in v1.0, to get this variable you can do `env.unwrapped.data` for environment variables or `env.get_wrapper_attr('data')` that will search the reminding wrappers.\u001b[0m\n",
      "  logger.warn(\n"
     ]
    }
   ],
   "source": [
    "__credits__ = [\"Kallinteris-Andreas\"]\n",
    "\n",
    "import os\n",
    "import warnings\n",
    "\n",
    "import math\n",
    "import numpy as np\n",
    "import pytest\n",
    "import random\n",
    "import mujoco\n",
    "\n",
    "from gymnasium import utils\n",
    "from gymnasium.envs.mujoco import MujocoEnv\n",
    "from gymnasium.error import Error\n",
    "from gymnasium.spaces import Box\n",
    "from gymnasium.utils.env_checker import check_env\n",
    "\n",
    "\n",
    "class MouseRightEnv(MujocoEnv, utils.EzPickle):\n",
    "    \"\"\"\n",
    "    Gymansium.MujocoEnv`環境APIを使った，マイクロマウスの強化学習環境\\n\n",
    "    右旋回を行う動作をより良くするタスク．\\n\n",
    "    mujoco envを継承しています．\n",
    "    \"\"\"\n",
    "\n",
    "    metadata = {\n",
    "        \"render_modes\": [\n",
    "            \"human\",\n",
    "            \"rgb_array\",\n",
    "            \"depth_array\",\n",
    "        ],\n",
    "    }\n",
    "\n",
    "    def __init__(self, xml_file=\"my_xmls/mouse_in_zigzag_maze.xml\", frame_skip=1, **kwargs):\n",
    "        utils.EzPickle.__init__(self, xml_file, frame_skip, **kwargs)\n",
    "\n",
    "        MujocoEnv.__init__(\n",
    "            self,\n",
    "            xml_file,\n",
    "            frame_skip=frame_skip,\n",
    "            observation_space=None,  # needs to be defined after\n",
    "            default_camera_config={},\n",
    "            **kwargs,\n",
    "        )\n",
    "\n",
    "        self.metadata = {\n",
    "            \"render_modes\": [\n",
    "                \"human\",\n",
    "                \"rgb_array\",\n",
    "                \"depth_array\",\n",
    "            ],\n",
    "            \"render_fps\": int(np.round(1.0 / self.dt)),\n",
    "        }\n",
    "\n",
    "        obs_size = 11 #self.data.qpos.size + self.data.qvel.size #たとえば，観測空間に位置と速度を入れたいのであれば，サイズを指定したいので，サイズを取る\n",
    "        # self.wall_hit = 0\n",
    "        #マイクロマウスのパラメータ用変数\n",
    "        self.reward_graph = []\n",
    "        self.mouse_xpos_graph = []\n",
    "        self.mouse_ypos_graph = []\n",
    "        self.mouse_angle_rad = math.pi/2\n",
    "        self.mouse_xpos = 0\n",
    "        self.mouse_ypos = 0\n",
    "        self.mouse_vel = 0\n",
    "        self.now_time = 0\n",
    "        self.past_time = 0\n",
    "        self.delta_t = 0\n",
    "        self.wheel_r = 0\n",
    "        self.gear = 9.0e-3\n",
    "        self.wheel_r = 0.0135\n",
    "        self.tread = 0.072\n",
    "        self.right_rotation_sum = 0\n",
    "        self.left_rotation_sum = 0\n",
    "        self.stepcount = 0\n",
    "        self.angsum_obs = 0\n",
    "        \n",
    "\n",
    "\n",
    "        self.observation_space = Box(\n",
    "            low=-np.inf, high=np.inf, shape=(obs_size,), dtype=np.float64\n",
    "        )\n",
    "\n",
    "    def get_odom(self, model, data): #今のタイヤの回転角度と速度（角度と角速度）を求める．\n",
    "        odm_right = data.actuator('right').length[0]/self.gear # 得た値をgearで割ったもの＝タイヤの角度(rad)\n",
    "        odm_left = data.actuator('left').length[0]/self.gear # ＝タイヤの角度\n",
    "        vel_left = data.actuator('left').velocity[0]/self.gear # ＝タイヤの回転角速度\n",
    "        return odm_right, odm_left\n",
    "    \n",
    "    def get_pulse_count(self, pre_odm_right, pre_odm_left, odm_right, odm_left): #回転量をパルスにする エンコーダの役割をする関数\n",
    "        \"\"\"\n",
    "            回転量の差から，パルス数を求める． エンコーダの役割をする関数\\\\\n",
    "            Returns:\n",
    "                right_pulse_num = 右タイヤのパルス数 \\\\\n",
    "                left_pulse_num = 左タイヤのパルス数\n",
    "            \"\"\"\n",
    "        \n",
    "        pre_right_rotation_sum = self.right_rotation_sum\n",
    "        pre_left_rotation_sum = self.left_rotation_sum\n",
    "        self.right_rotation_sum += (odm_right - pre_odm_right)/(2*math.pi) *4096 #1周あたり4096段階で，細かい回転量を計測（分解能ほぼ無限のエンコーダ）\n",
    "        self.left_rotation_sum += (odm_left - pre_odm_left)/(2*math.pi) *4096 #1周あたり4096段階で，細かい回転量を計測（分解能ほぼ無限のエンコーダ）\n",
    "        right_pulse_num = int(self.right_rotation_sum) - int(pre_right_rotation_sum)\n",
    "        left_pulse_num = int(self.left_rotation_sum) - int(pre_left_rotation_sum)\n",
    "        # print(\"回転量をパルス段階に変換　この値の差が，実際に出たパルスとなる：\", right_pulse_num)\n",
    "        return right_pulse_num, left_pulse_num\n",
    "    \n",
    "    def get_odom_at_pulse(self, right_pulse_num, left_pulse_num): #今のタイヤの回転角度と速度（角度と角速度）を求める．\n",
    "        right_wheel_move = 2*math.pi * self.wheel_r * (right_pulse_num/4096) #２πｒ×回転数で移動距離を求める．/delta_t\n",
    "        left_wheel_move = 2*math.pi * self.wheel_r * (left_pulse_num/4096) #２πｒ×回転数で移動距離を求める．\n",
    "        right_wheel_vel = right_wheel_move/self.delta_t #移動距離から，速度を求める\n",
    "        left_wheel_vel = left_wheel_move/self.delta_t #移動距離から，速度を求める\n",
    "        mouse_vel = (right_wheel_vel + left_wheel_vel)/2 #左右平均が並進速度\n",
    "        mouse_radvel = (right_wheel_vel - left_wheel_vel)/self.tread #これがマウスの旋回角速度（rad/s）\n",
    "        return mouse_vel, mouse_radvel #これで，エンコーダによる各タイヤの推定速度が求められた\n",
    "\n",
    "    def step(self, action):\n",
    "        # self.model.geom_friction[:] = 0\n",
    "        # print(\"摩擦！！！！\", self.model.geom_friction)\n",
    "        # self.model.forward()\n",
    "        # mujoco.mj_forward(self.model, self.data)#mujocoのキャッシュを更新するための処理\n",
    "        # self.sim.forward()\n",
    "        wall_hit = 0\n",
    "        course_out = 0\n",
    "        goal = 0\n",
    "        velocity_before = self.data.sensor(\"Veloci\").data[0] # 前の速度を取る\n",
    "        ####オドメトリ####\n",
    "        self.past_time = self.data.time\n",
    "        # エンコーダを読み取る\n",
    "        pre_odm_right, pre_odm_left = self.get_odom(self.model, self.data)\n",
    "        before_ang = self.quaternion_to_euler_numpy(self.data.qpos[3:7])\n",
    "        self.do_simulation(action, self.frame_skip)####################シミュレーション実行##############################\n",
    "        self.now_time = self.data.time\n",
    "        self.delta_t = self.now_time - self.past_time #シミュレーションが1ステップ終わった後の時間を取得\n",
    "        self.past_time = self.now_time\n",
    "        # エンコーダをもう一度読み取る　（行動後の値を取得）\n",
    "        odm_right, odm_left = self.get_odom(self.model, self.data)\n",
    "        # エンコーダ値から，この一瞬に出たパルス数を算出し，\n",
    "        right_pulse_num, left_pulse_num = self.get_pulse_count(pre_odm_right, pre_odm_left, odm_right, odm_left)\n",
    "        # パルス数から，移動速度と角速度を求める\n",
    "        mouse_vel, mouse_rad_vel = self.get_odom_at_pulse(right_pulse_num, left_pulse_num) #これで，エンコーダによるマウスの速度・角速度が推定できた\n",
    "        # 速度に時間を掛けて，移動距離を計算 まず向きを計算し，その後移動距離を求める\n",
    "        self.mouse_angle_rad += mouse_rad_vel * self.delta_t #マウスの角速度はパルスの左右差で求められるので，現在の角度は\n",
    "        # print(\"関数内は：\", mouse_angle_rad)\n",
    "        self.mouse_xpos += mouse_vel * math.cos(self.mouse_angle_rad) * self.delta_t #オドメトリで座標推定\n",
    "        self.mouse_ypos += mouse_vel * math.sin(self.mouse_angle_rad) * self.delta_t\n",
    "        # self.mouse_xpos_graph.append(self.mouse_xpos)\n",
    "        # self.mouse_ypos_graph.append(self.mouse_ypos)\n",
    "        ####オドメトリ####\n",
    "\n",
    "        after_ang = self.quaternion_to_euler_numpy(self.data.qpos[3:7])\n",
    "        # print(\"after_ang\", after_ang, type(after_ang), \"before_ang\", before_ang,  type(before_ang))\n",
    "        self.angsum_obs += after_ang[2] - before_ang[2] #これが，角度の変化量\n",
    "        # print(\"angsum_obs\", self.angsum_obs)\n",
    "        target_ang = 90\n",
    "        ang_reward = 1/(target_ang - self.angsum_obs + 1) #ang_errorが0に近づくほど大きくなる．しかし値は０～１の範囲を取りうる\n",
    "\n",
    "        velocity_after = self.data.sensor(\"Veloci\").data[0] # 今の速度を取る\n",
    "        mouse_vel = velocity_after - velocity_before\n",
    "        # if mouse_vel < 0:\n",
    "        #     3*mouse_vel\n",
    "        self.mouse_vel = mouse_vel\n",
    "        \n",
    "\n",
    "        ls = self.data.sensor('LS').data[0]#sensordata[ls_id]\n",
    "        rs = self.data.sensor('RS').data[0]#sensordata[rs_id]\n",
    "        center_sensor = ls - rs\n",
    "\n",
    "        hit_wall_f = self.data.sensor(\"HB1\").data[0] #フォースセンサの値取得\n",
    "        hit_wall_b = self.data.sensor(\"HB2\").data[0] #フォースセンサの値取得\n",
    "        truncated = False\n",
    "        # print(\"hit wall\", hit_wall_f, hit_wall_b)\n",
    "        if hit_wall_f > 0 or hit_wall_b > 0:\n",
    "            # print(\"hit\")\n",
    "            # self.wall_hit = -10\n",
    "            wall_hit = -1\n",
    "            # print(\"hit wall\", hit_wall_f, hit_wall_b)\n",
    "            truncated = True\n",
    "        # mouse_Zpos = self.data.qpos[2]\n",
    "        # mouse_Ypos = self.data.qpos[1]\n",
    "        # mouse_Xpos = self.data.qpos[0]\n",
    "        # print(\"mouse_Zpos\", mouse_Zpos)\n",
    "        # print(\"mouse_Ypos\", mouse_Ypos)\n",
    "        # print(\"mouse_Xpos\", mouse_Xpos)\n",
    "        # if mouse_Zpos < -0.1:\n",
    "        #     course_out = -1\n",
    "        #     # print(\"course_out\")\n",
    "        #     truncated = True\n",
    "        # if mouse_Ypos < 0.26 or mouse_Ypos > 0.28:\n",
    "        #     course_out = -1\n",
    "        #     # print(\"course_out\")\n",
    "        #     truncated = True\n",
    "        # if mouse_Xpos < 0.26 or mouse_Xpos > 0.28:\n",
    "        #     course_out = -1\n",
    "        #     # print(\"course_out\")\n",
    "        #     truncated = True\n",
    "        \n",
    "        # print(type(self.model.geom_friction))\n",
    "        \n",
    "\n",
    "\n",
    "        \n",
    "        center_x = self.init_qpos[0] #座標を取得\n",
    "        center_y = self.init_qpos[1] #座標を取得\n",
    "        range_center_x = abs(self.data.qpos[0] - center_x)\n",
    "        range_center_y = abs(self.data.qpos[1] - center_y)\n",
    "        range_reward_x = 1/(1 + 1*range_center_x)# range_centerが0に近づくほど大きくなる．しかし値は０～１の範囲を取りうる\n",
    "        range_reward_y = 1/(1 + 1*range_center_y)# range_centerが0に近づくほど大きくなる．しかし値は０～１の範囲を取りうる\n",
    "\n",
    "        # mokuhyou_ang = np.array([1, 0, 0, 0]) ## 目標角度設定　　右向き：[1, 0, 0, 0] 左向き：[6.123233995736766e-17 , 0, 0, 1] #正面：[0.70710678 0.         0.         0.70710678]\n",
    "        \n",
    "        # mokuhyou_angx, mokuhyou_angy, mokuhyou_angz = self.quaternion_to_euler_numpy(mokuhyou_ang)\n",
    "        # z_mokuhyou_ang = mokuhyou_angz\n",
    "        \n",
    "        # genzai_ang = self.quaternion_to_euler_numpy(self.data.qpos[3:7])\n",
    "        # ang_error = np.abs(genzai_ang - z_mokuhyou_ang)\n",
    "        \n",
    "        # ang_reward = 1/(ang_error + 1) #ang_errorが0に近づくほど大きくなる．しかし値は０～１の範囲を取りうる\n",
    "        # print(\"ang_reward\", ang_reward)\n",
    "\n",
    "        observation = self._get_obs(self.angsum_obs)\n",
    "        reward = wall_hit + course_out + ang_reward -1* np.sum(np.square(action)) #self.wall_hitにしないほうが見通しが良い気がする\n",
    "        # print(\"wall_hit:\",wall_hit , \"course_out:\", course_out, \"range_reward:\", range_reward, \"ang_reward:\", ang_reward)\n",
    "        self.reward_graph.append(reward)\n",
    "        info = {}\n",
    "        \n",
    "        \n",
    "            \n",
    "        if self.render_mode == \"human\":\n",
    "            self.render()\n",
    "        # print(\"reward\", reward)\n",
    "        reward = float(reward)\n",
    "        return observation, reward, False, truncated, info\n",
    "    \n",
    "    def quaternion_to_euler_numpy(self, quaternion):\n",
    "        \"\"\"\n",
    "        Converts a quaternion into Euler angles (roll, pitch, yaw) using numpy\n",
    "        :param quaternion: A numpy array or list with the quaternion components [w, x, y, z]\n",
    "        :return: A tuple of three angles: roll, pitch, yaw\n",
    "        \"\"\"\n",
    "        w, x, y, z = quaternion\n",
    "        norm = np.linalg.norm(quaternion)\n",
    "\n",
    "        # 四元数がゼロまたは非常に小さい場合のチェック\n",
    "        if np.isclose(norm, 0):\n",
    "            return 0.0, 0.0, 0.0\n",
    "\n",
    "        w, x, y, z = w / norm, x / norm, y / norm, z / norm\n",
    "\n",
    "        # Roll (x-axis rotation)\n",
    "        sinr_cosp = 2 * (w * x + y * z)\n",
    "        cosr_cosp = 1 - 2 * (x * x + y * y)\n",
    "        roll = np.arctan2(sinr_cosp, cosr_cosp)\n",
    "\n",
    "        # Pitch (y-axis rotation)\n",
    "        sinp = 2 * (w * y - z * x)\n",
    "        if np.abs(sinp) >= 1:\n",
    "            # sinpが-1から1の範囲外の場合\n",
    "            pitch = np.copysign(np.pi / 2, sinp)\n",
    "        else:\n",
    "            pitch = np.arcsin(sinp)\n",
    "\n",
    "        # Yaw (z-axis rotation)\n",
    "        siny_cosp = 2 * (w * z + x * y)\n",
    "        cosy_cosp = 1 - 2 * (y * y + z * z)\n",
    "        yaw = np.arctan2(siny_cosp, cosy_cosp)\n",
    "\n",
    "        # ラジアンを度に変換\n",
    "        deg_roll = np.degrees(roll)\n",
    "        deg_pitch = np.degrees(pitch)\n",
    "        deg_yaw = np.degrees(yaw)\n",
    "\n",
    "        return deg_roll, deg_pitch, deg_yaw\n",
    "\n",
    "\n",
    "    def _get_obs(self, angsum_obs): #状態空間を取得\n",
    "        angsum_obs = np.array([angsum_obs])\n",
    "        # position = self.data.qpos[0:9].flat.copy()\n",
    "        # velocity = self.data.sensor(\"Veloci\").data[0] # 今の速度を取る\n",
    "        lf = np.array([self.data.sensor('LF').data[0]])#sensordata[lf_id]\n",
    "        ls = np.array([self.data.sensor('LS').data[0]])\n",
    "        rs = np.array([self.data.sensor('RS').data[0]])\n",
    "        rf = np.array([self.data.sensor('RF').data[0]])#sensordata[rf_id]\n",
    "        gyro = np.array([self.data.sensor('Gyro').data])\n",
    "        gyro_0 = np.array([gyro[0][0]])\n",
    "        gyro_1 = np.array([gyro[0][1]])\n",
    "        gyro_2 = np.array([gyro[0][2]])\n",
    "        accelerometer = np.array([self.data.sensor('Accel').data])\n",
    "        accelerometer_0 = np.array([accelerometer[0][0]])\n",
    "        accelerometer_1 = np.array([accelerometer[0][1]])\n",
    "        accelerometer_2 = np.array([accelerometer[0][2]])\n",
    "        # mouse_angle_rad = np.array([self.mouse_angle_rad])\n",
    "        # mouse_xpos = np.array([self.mouse_xpos])\n",
    "        # mouse_ypos = np.array([self.mouse_ypos])\n",
    "        # mouse_vel = np.array([self.mouse_vel])\n",
    "        # return np.concatenate((position, mouse_xpos, mouse_ypos, mouse_vel, mouse_angle_rad, lf, ls, rs, rf, gyro_0,gyro_1,gyro_2, accelerometer_0, accelerometer_1, accelerometer_2)) #mouse_angle_rad, mouse_xpos, mouse_ypos, gyro)) #npの値を連結して返す．これが状態空間となる\n",
    "        return np.concatenate((angsum_obs, lf, ls, rs, rf, gyro_0,gyro_1,gyro_2, accelerometer_0, accelerometer_1, accelerometer_2)) #mouse_angle_rad, mouse_xpos, mouse_ypos, gyro)) #npの値を連結して返す．これが状態空間となる\n",
    "\n",
    "    def get_obs(self, angsum_obs): #状態空間を取得\n",
    "        angsum_obs = np.array([angsum_obs])\n",
    "        # position = self.data.qpos[0:9].flat.copy()\n",
    "        # velocity = self.data.sensor(\"Veloci\").data[0] # 今の速度を取る\n",
    "        lf = np.array([self.data.sensor('LF').data[0]])#sensordata[lf_id]\n",
    "        ls = np.array([self.data.sensor('LS').data[0]])\n",
    "        rs = np.array([self.data.sensor('RS').data[0]])\n",
    "        rf = np.array([self.data.sensor('RF').data[0]])#sensordata[rf_id]\n",
    "        gyro = np.array([self.data.sensor('Gyro').data])\n",
    "        gyro_0 = np.array([gyro[0][0]])\n",
    "        gyro_1 = np.array([gyro[0][1]])\n",
    "        gyro_2 = np.array([gyro[0][2]])\n",
    "        accelerometer = np.array([self.data.sensor('Accel').data])\n",
    "        accelerometer_0 = np.array([accelerometer[0][0]])\n",
    "        accelerometer_1 = np.array([accelerometer[0][1]])\n",
    "        accelerometer_2 = np.array([accelerometer[0][2]])\n",
    "        # mouse_angle_rad = np.array([self.mouse_angle_rad])\n",
    "        # mouse_xpos = np.array([self.mouse_xpos])\n",
    "        # mouse_ypos = np.array([self.mouse_ypos])\n",
    "        # mouse_vel = np.array([self.mouse_vel])\n",
    "        # return np.concatenate((position, mouse_xpos, mouse_ypos, mouse_vel, mouse_angle_rad, lf, ls, rs, rf, gyro_0,gyro_1,gyro_2, accelerometer_0, accelerometer_1, accelerometer_2)) #mouse_angle_rad, mouse_xpos, mouse_ypos, gyro)) #npの値を連結して返す．これが状態空間となる\n",
    "        return np.concatenate((angsum_obs, lf, ls, rs, rf, gyro_0,gyro_1,gyro_2, accelerometer_0, accelerometer_1, accelerometer_2)) #mouse_angle_rad, mouse_xpos, mouse_ypos, gyro)) #npの値を連結して返す．これが状態空間となる\n",
    "\n",
    "\n",
    "    def reset_model(self):\n",
    "        qpos = self.init_qpos\n",
    "        # print(\"qpos\", qpos)\n",
    "        qvel = self.init_qvel\n",
    "        self.stepcount = 0\n",
    "\n",
    "        # leftwall_on = np.random.uniform(0, 1)\n",
    "        # rightwall_on = np.random.uniform(0, 1)\n",
    "        # forwardwall_on = np.random.uniform(0, 1)\n",
    "        # backwall_on = np.random.uniform(0, 1)\n",
    "        # if leftwall_on >= 0.5:\n",
    "        #     qpos[-1] = -0.4\n",
    "        # else:\n",
    "        #     qpos[-1] = 0\n",
    "        # if rightwall_on >= 0.5:\n",
    "        #     qpos[-2] = 0.4\n",
    "        # else:\n",
    "        #     qpos[-2] = 0\n",
    "        # if forwardwall_on >= 0.5:\n",
    "        #     qpos[-3] = 0.4\n",
    "        # else:\n",
    "        #     qpos[-3] = 0\n",
    "        # if backwall_on >= 0.5:\n",
    "        #     qpos[-4] = -0.4\n",
    "        # else:\n",
    "        #     qpos[-4] = 0\n",
    "        # x_values = [0.27, 1.07, 1.87]\n",
    "        # mouse_xposition_shuffle = random.choice(x_values)\n",
    "        # x_values = 0.27\n",
    "\n",
    "        # mouse_xposition_shuffle = self.course_list[np.random]\n",
    "        # mouse_yposition_shuffle = self.course_list[np.random]\n",
    "\n",
    "        #両方3のときはやり直しする処理\n",
    "        \n",
    "        # qpos[0] = mouse_xposition_shuffle\n",
    "        # qpos[0] = x_values\n",
    "        # noise = np.random.normal(0, 0.3)  # 平均0、標準偏差0.1のノイズ\n",
    "        # qpos[3] += np.random.normal(0, 0.03)#0.27 1.07\n",
    "        # qpos[1] = mouse_yposition_shuffle\n",
    "        self.set_state(qpos, qvel) #qposとqvelには，すべての位置と速度の値がならんでいるためそれをセットする\n",
    "        self.mouse_angle_rad = 0\n",
    "        self.mouse_xpos = 0\n",
    "        self.mouse_ypos = 0\n",
    "        self.angsum_obs = 0\n",
    "\n",
    "        observation = self._get_obs(self.angsum_obs)\n",
    "\n",
    "        return observation\n",
    "\n",
    "    def _get_reset_info(self):\n",
    "        return {\"works\": True}\n",
    "    \n",
    "    # from typing import Any, Dict, Optional, Tuple, Union\n",
    "    # def reset(\n",
    "    #     self,\n",
    "    #     *,\n",
    "    #     seed: Optional[int] = None,\n",
    "    #     options: Optional[dict] = None,\n",
    "    # ):\n",
    "    #     super().reset(seed=seed) #サブクラスにresetを書くとそちらだけが実行されるように隠蔽されてしまうので，スーパークラスのresetを実行して，前に定義した内容も実行する\n",
    "\n",
    "    #     self._reset_simulation()\n",
    "    #     print(\"リセットメソッドのオーバーライドができているか確認するためのprint文です．\")\n",
    "\n",
    "    #     ob = self.reset_model()\n",
    "    #     info = self._get_reset_info()\n",
    "\n",
    "    #     if self.render_mode == \"human\":\n",
    "    #         self.render()\n",
    "    #     return ob, info\n",
    "\n",
    "\n",
    "CHECK_ENV_IGNORE_WARNINGS = [\n",
    "    f\"\\x1b[33mWARN: {message}\\x1b[0m\"\n",
    "    for message in [\n",
    "        \"A Box observation space minimum value is -infinity. This is probably too low.\",\n",
    "        \"A Box observation space maximum value is infinity. This is probably too high.\",\n",
    "        \"For Box action spaces, we recommend using a symmetric and normalized space (range=[-1, 1] or [0, 1]). See https://stable-baselines3.readthedocs.io/en/master/guide/rl_tips.html for more information.\",\n",
    "    ]\n",
    "]\n",
    "\n",
    "\n",
    "@pytest.mark.parametrize(\"frame_skip\", [1, 2, 3, 4, 5])\n",
    "def test_frame_skip(frame_skip):\n",
    "    \"\"\"verify that custom envs work with different `frame_skip` values\"\"\"\n",
    "    env = MouseEnv(frame_skip=frame_skip)\n",
    "\n",
    "    # Test if env adheres to Gym API\n",
    "    with warnings.catch_warnings(record=True) as w:\n",
    "        check_env(env.unwrapped, skip_render_check=True)\n",
    "        env.close()\n",
    "    for warning in w:\n",
    "        if warning.message.args[0] not in CHECK_ENV_IGNORE_WARNINGS:\n",
    "            raise Error(f\"Unexpected warning: {warning.message}\")\n",
    "\n",
    "\n",
    "def test_xml_file():\n",
    "    \"\"\"Verify that the loading of a custom XML file works\"\"\"\n",
    "    relative_path = \"./tests/envs/mujoco/assets/walker2d_v5_uneven_feet.xml\"\n",
    "    env = MouseEnv(xml_file=relative_path).unwrapped\n",
    "    assert isinstance(env, MujocoEnv)\n",
    "    assert env.data.qpos.size == 9\n",
    "\n",
    "    full_path = os.getcwd() + \"/tests/envs/mujoco/assets/walker2d_v5_uneven_feet.xml\"\n",
    "    env = MouseEnv(xml_file=full_path).unwrapped\n",
    "    assert isinstance(env, MujocoEnv)\n",
    "    assert env.data.qpos.size == 9\n",
    "\n",
    "    # note can not test user home path (with '~') because github CI does not have a home folder\n",
    "\n",
    "\n",
    "def test_reset_info():\n",
    "    \"\"\"Verify that the environment returns info at `reset()`\"\"\"\n",
    "    env = MouseEnv()\n",
    "\n",
    "    _, info = env.reset()\n",
    "    assert info[\"works\"] is True\n",
    "\n",
    "#環境登録\n",
    "import gymnasium as gym\n",
    "gym.envs.registration.register(id='MouseRightEnv-v0',max_episode_steps=600,entry_point=MouseRightEnv)\n",
    "\n",
    "import gymnasium as gym\n",
    "from stable_baselines3 import SAC, PPO\n",
    "from tqdm import trange\n",
    "import matplotlib.pyplot as plt\n",
    "from gymnasium.wrappers import RecordVideo\n",
    "import datetime\n",
    "\n",
    "from stable_baselines3.common.callbacks import BaseCallback\n",
    "\n",
    "start_time = datetime.datetime.now().replace(microsecond=0)\n",
    "\n",
    "env = gym.make(\"MouseRightEnv-v0\", render_mode=\"human\")\n",
    "\n",
    "# model = PPO(\"MlpPolicy\", env, verbose=0)\n",
    "RLmodel = PPO.load('okiro',env)\n",
    "\n",
    "#＃＃＃＃＃＃＃＃＃＃＃＃＃＃＃＃＃＃＃＃＃＃＃＃＃＃＃＃＃＃＃＃＃＃＃＃＃＃＃＃＃＃＃＃＃＃＃＃＃＃＃＃＃＃＃＃＃＃＃＃＃＃＃＃＃＃＃＃＃＃＃＃＃＃＃＃＃＃＃＃＃＃＃＃＃＃＃＃\n",
    "import time\n",
    "import matplotlib.pyplot as plt\n",
    "import mujoco\n",
    "import mujoco.viewer\n",
    "import glfw\n",
    "import keyboard\n",
    "import math\n",
    "\n",
    "def action(model, data, left, right):\n",
    "    data.actuator('right').ctrl[0] = right\n",
    "    data.actuator('left').ctrl[0] = left\n",
    "\n",
    "def get_distance(model, data):\n",
    "    lf = data.sensor('LF').data[0]#sensordata[lf_id]\n",
    "    ls = data.sensor('LS').data[0]#sensordata[ls_id]\n",
    "    rs = data.sensor('RS').data[0]#sensordata[rs_id]\n",
    "    rf = data.sensor('RF').data[0]#sensordata[rf_id]\n",
    "    return lf,ls,rs,rf\n",
    "\n",
    "def get_accel(model, data):\n",
    "  ax = data.sensor('Accel').data[0]\n",
    "  ay = data.sensor('Accel').data[1]\n",
    "  az = data.sensor('Accel').data[2]\n",
    "  return ax,ay,az\n",
    "\n",
    "def get_gyro(model, data):\n",
    "  gx = data.sensor('Gyro').data[0]\n",
    "  gy = data.sensor('Gyro').data[1]\n",
    "  gz = data.sensor('Gyro').data[2]\n",
    "  return gx,gy,gz\n",
    "\n",
    "def get_odom(model, data): #今のタイヤの回転角度と速度（角度と角速度）を求める．\n",
    "  odm_right = data.actuator('right').length[0]/gear # 得た値をgearで割ったもの＝タイヤの角度(rad)\n",
    "  odm_left = data.actuator('left').length[0]/gear # ＝タイヤの角度\n",
    "  vel_left = data.actuator('left').velocity[0]/gear # ＝タイヤの回転角速度\n",
    "  return odm_right, odm_left\n",
    "\n",
    "def get_pulse_count(pre_odm_right, pre_odm_left, odm_right, odm_left): #回転量をパルスにする エンコーダの役割をする関数\n",
    "  \"\"\"\n",
    "    回転量の差から，パルス数を求める． エンコーダの役割をする関数\\\\\n",
    "    Returns:\n",
    "        right_pulse_num = 右タイヤのパルス数 \\\\\n",
    "          left_pulse_num = 左タイヤのパルス数\n",
    "    \"\"\"\n",
    "  global right_rotation_sum\n",
    "  global left_rotation_sum\n",
    "  pre_right_rotation_sum = right_rotation_sum\n",
    "  pre_left_rotation_sum = left_rotation_sum\n",
    "  right_rotation_sum += (odm_right - pre_odm_right)/(2*math.pi) *4096 #1周あたり4096段階で，細かい回転量を計測（分解能ほぼ無限のエンコーダ）\n",
    "  left_rotation_sum += (odm_left - pre_odm_left)/(2*math.pi) *4096 #1周あたり4096段階で，細かい回転量を計測（分解能ほぼ無限のエンコーダ）\n",
    "  right_pulse_num = int(right_rotation_sum) - int(pre_right_rotation_sum)\n",
    "  left_pulse_num = int(left_rotation_sum) - int(pre_left_rotation_sum)\n",
    "  # print(\"回転量をパルス段階に変換　この値の差が，実際に出たパルスとなる：\", right_pulse_num)\n",
    "  return right_pulse_num, left_pulse_num\n",
    "\n",
    "def get_odom_at_pulse(right_pulse_num, left_pulse_num): #今のタイヤの回転角度と速度（角度と角速度）を求める．\n",
    "  right_wheel_move = 2*math.pi * wheel_r * (right_pulse_num/4096) #２πｒ×回転数で移動距離を求める．/delta_t\n",
    "  left_wheel_move = 2*math.pi * wheel_r * (left_pulse_num/4096) #２πｒ×回転数で移動距離を求める．\n",
    "  right_wheel_vel = right_wheel_move/delta_t #移動距離から，速度を求める\n",
    "  left_wheel_vel = left_wheel_move/delta_t #移動距離から，速度を求める\n",
    "  mouse_vel = (right_wheel_vel + left_wheel_vel)/2 #左右平均が並進速度\n",
    "  mouse_radvel = (right_wheel_vel - left_wheel_vel)/tread #これがマウスの旋回角速度（rad/s）\n",
    "  return mouse_vel, mouse_radvel #これで，エンコーダによる各タイヤの推定速度が求められた\n",
    "\n",
    "\n",
    "\n",
    "paused = False\n",
    "def key_callback(keycode): #スペースキーで一時停止\n",
    "  if chr(keycode) == ' ':\n",
    "    global paused #グローバル変数のpausedを使用できるように，この関数のスコープ内に取り込む処理\n",
    "    paused = not paused #pausedの真偽値を逆にする　trueとfalseを反転\n",
    "\n",
    "\n",
    "# def P_straight_control(model, data):#左右の壁による位置補正\n",
    "#     now_speed_left = data.actuator('left').ctrl[0]\n",
    "#     now_speed_right = data.actuator('right').ctrl[0]\n",
    "#     lf, ls, rs, rf = get_distance(model, data)\n",
    "    \n",
    "#     sensor_diff = ls - rs # 目標値との誤差 正の値のときは，右に寄っている→左を下げて，右を早めたい\n",
    "#     # print(sensor_diff)\n",
    "#     left_mot = kp * -sensor_diff + 0.2\n",
    "#     right_mot = kp * sensor_diff + 0.2\n",
    "#     global turn_flag\n",
    "#     if turn_flag==1 or (lf<0.07 and rf <0.07):\n",
    "#         turn_flag = 1\n",
    "#         right_mot =  0.06\n",
    "#         left_mot  = -0.06\n",
    "#         if lf > 0.09 and rf > 0.09:\n",
    "#           turn_flag = 0\n",
    "#     return left_mot, right_mot\n",
    "\n",
    "#関数化で新しく作成した関数\n",
    "\n",
    "def mj_step_loop(model, data, loop_num): #mujocoのシミュレーションを任意の数だけ行う関数 グラフ化するときに不便かもしれないから不必要かも\n",
    "  for i in range(loop_num):\n",
    "    action(model, data, left_mot, right_mot)#なくても変わらない？？\n",
    "    mujoco.mj_step(model, data)\n",
    "    timevals.append(data.time)\n",
    "    #Vizualize\n",
    "    viz_now = data.time\n",
    "    if viz_now-viz_past>0.01:\n",
    "      viz_past = viz_now\n",
    "      viewer.sync()\n",
    "\n",
    "def straight(model, data, mouse_xpos, mouse_ypos, mouse_vel, mouse_angle_rad, pre_odm_right, pre_odm_left, kp=16.9, ki=1,):#前進0.5マス\n",
    "  #最初の前進\n",
    "  straight_kp = kp #デフォルトのゲインにして，変更があったらそれを使う\n",
    "  straight_ki = ki\n",
    "  \n",
    "  I_err_sum = 0 #これは関数ごとでいいのか，引数と戻り値にして引き継いでいくべきなのか？\n",
    "  target_vel = 0\n",
    "  past_time = data.time\n",
    "  # mouse_xpos = 0 #globalにして，引数で受け取ったものに足して言って，戻り値として座標を返すようにすべき？？\n",
    "  # mouse_ypos = 0\n",
    "  viz_past = 0 #globalにすべき??\n",
    "  # エンコーダを読み取る\n",
    "  pre_odm_right, pre_odm_left = get_odom(model, data)\n",
    "  for kagennsoku in range(3):\n",
    "    target_add_num = [0.15,0,-0.15] #各区間での目標速度を入れておくリスト\n",
    "    print(\"目標速度：\",target_add_num[kagennsoku], \"＃＃＃＃＃＃＃＃\")\n",
    "    for mokuhyou_zahyou_kousin in range(30):\n",
    "      target_vel += target_add_num[kagennsoku]/30 #0から始まって，\n",
    "      err_vel = target_vel - mouse_vel # 目標との速度誤差を計算\n",
    "      # print(\"原因説err_vel：\", err_vel)\n",
    "      I_err_sum += err_vel\n",
    "      left_mot = straight_kp * err_vel + straight_ki * I_err_sum\n",
    "      right_mot = straight_kp * err_vel + straight_ki * I_err_sum\n",
    "      action(model, data, left_mot, right_mot)\n",
    "      # 制御周期を遅くするため，シミュレーションを100回繰り返す\n",
    "      for seigyosyuuki_delay in range(100):\n",
    "        mujoco.mj_step(model, data)#################################################################\n",
    "        # lf, ls, rs, rf = get_distance(model, data) #各センサ値を取得\n",
    "      #Vizualize　あんまり細かく描画しすぎないように，0.01秒以上経ってたら描画するようにする\n",
    "      viz_now = data.time\n",
    "      if viz_now-viz_past>0.1:\n",
    "        viz_past = viz_now\n",
    "        viewer.sync()\n",
    "      \n",
    "      now_time = data.time\n",
    "      delta_t = now_time - past_time #シミュレーションが1ステップ終わった後の時間を取得\n",
    "      past_time = now_time\n",
    "      # エンコーダをもう一度読み取る　（行動後の値を取得）\n",
    "      odm_right, odm_left = get_odom(model, data)\n",
    "      # エンコーダ値から，この一瞬に出たパルス数を算出し，\n",
    "      right_pulse_num, left_pulse_num = get_pulse_count(pre_odm_right, pre_odm_left, odm_right, odm_left)\n",
    "      right_pulse_num_graph.append(right_pulse_num)\n",
    "      # パルス数から，移動速度と角速度を求める\n",
    "      mouse_vel, mouse_rad_vel = get_odom_at_pulse(right_pulse_num, left_pulse_num) #これで，エンコーダによるマウスの速度・角速度が推定できた\n",
    "      # 速度に時間を掛けて，移動距離を計算 まず向きを計算し，その後移動距離を求める\n",
    "      mouse_angle_rad += mouse_rad_vel * delta_t #マウスの角速度はパルスの左右差で求められるので，現在の角度は\n",
    "      # print(\"関数内は：\", mouse_angle_rad)\n",
    "      mouse_xpos += mouse_vel * math.cos(mouse_angle_rad) * delta_t #オドメトリで座標推定\n",
    "      mouse_ypos += mouse_vel * math.sin(mouse_angle_rad) * delta_t\n",
    "      # 一つ前のodom値を更新\n",
    "      pre_odm_right = odm_right\n",
    "      pre_odm_left = odm_left \n",
    "      #Vizualize\n",
    "      viz_now = data.time\n",
    "      if viz_now-viz_past>0.01:\n",
    "        viz_past = viz_now\n",
    "        viewer.sync()\n",
    "\n",
    "  return model, data, mouse_xpos, mouse_ypos, mouse_vel, mouse_angle_rad, pre_odm_right, pre_odm_left\n",
    "\n",
    "def right_curve(model, data, mouse_xpos, mouse_ypos, mouse_rad_vel, mouse_angle_rad, pre_odm_right, pre_odm_left, kp=0.57, ki=0,):\n",
    "  r_turn_kp = kp\n",
    "  r_turn_ki = ki\n",
    "  # エンコーダを読み取る\n",
    "  pre_odm_right, pre_odm_left = get_odom(model, data)\n",
    "  target_rad_vel = 0\n",
    "  I_err_rad_vel_sum = 0 #これは関数ごとでいいのか，引数と戻り値にして引き継いでいくべきなのか？\n",
    "  past_time = data.time\n",
    "  viz_past = 0 #globalにすべき??\n",
    "  for kasoku in range(3):\n",
    "    target_add_rad_vel = [(math.pi*5/6),0,(-math.pi*5/6)]\n",
    "    print(target_add_rad_vel[kasoku], \"＃＃＃＃＃＃＃＃＃＃＃＃＃＃＃＃＃＃＃＃＃＃＃＃\")\n",
    "    for kukan in range(30):\n",
    "      target_rad_vel += target_add_rad_vel[kasoku]/30 #目標回転角速度を15度/秒にすると\n",
    "      err_rad_vel = target_rad_vel - mouse_rad_vel # 目標との角速度誤差を計算\n",
    "      I_err_rad_vel_sum += err_rad_vel # 目標との角速度誤差を積算\n",
    "      left_mot = -r_turn_kp * err_rad_vel - r_turn_ki * I_err_rad_vel_sum\n",
    "      right_mot = r_turn_kp * err_rad_vel + r_turn_ki * I_err_rad_vel_sum\n",
    "      action(model, data, left_mot, right_mot)\n",
    "      for seigyosyuuki in range(100):\n",
    "        mujoco.mj_step(model, data)\n",
    "      #Vizualize\n",
    "      viz_now = data.time\n",
    "      if viz_now-viz_past>0.01:\n",
    "        viz_past = viz_now\n",
    "        viewer.sync()\n",
    "      now_time = data.time\n",
    "      delta_t = now_time - past_time\n",
    "      past_time = now_time\n",
    "      # エンコーダをもう一度読み取る\n",
    "      odm_right, odm_left = get_odom(model, data)\n",
    "      # この一瞬に出たパルス数を算出し，\n",
    "      right_pulse_num, left_pulse_num = get_pulse_count(pre_odm_right, pre_odm_left, odm_right, odm_left)\n",
    "      right_pulse_num_graph.append(right_pulse_num)\n",
    "      # パルス数から，移動速度と角速度を求める\n",
    "      mouse_vel, mouse_rad_vel = get_odom_at_pulse(right_pulse_num, left_pulse_num) #これで，エンコーダによるマウスの速度・角速度が推定できた\n",
    "      # mouse_vel_graph.append(mouse_vel)\n",
    "      # 速度に時間を掛けて，移動距離を計算 まず向きを計算し，その後移動距離を求める\n",
    "      mouse_angle_rad += mouse_rad_vel * delta_t\n",
    "      mouse_xpos += mouse_vel * math.cos(mouse_angle_rad) * delta_t\n",
    "      mouse_ypos += mouse_vel * math.sin(mouse_angle_rad) * delta_t\n",
    "      mouse_xpos_graph.append(mouse_xpos)\n",
    "      mouse_ypos_graph.append(mouse_ypos)\n",
    "      # 一つ前のodom値を更新\n",
    "      pre_odm_right = odm_right\n",
    "      pre_odm_left = odm_left\n",
    "      viz_now = data.time\n",
    "      if viz_now-viz_past>0.01:\n",
    "        viz_past = viz_now\n",
    "        viewer.sync()\n",
    "\n",
    "  return model, data, mouse_xpos, mouse_ypos, mouse_rad_vel, mouse_angle_rad, pre_odm_right, pre_odm_left\n",
    "\n",
    "\n",
    "def left_curve(model, data, mouse_xpos, mouse_ypos, mouse_rad_vel, mouse_angle_rad, pre_odm_right, pre_odm_left, kp=0.57, ki=0,):\n",
    "  r_turn_kp = kp\n",
    "  r_turn_ki = ki\n",
    "  # エンコーダを読み取る\n",
    "  pre_odm_right, pre_odm_left = get_odom(model, data)\n",
    "  target_rad_vel = 0\n",
    "  I_err_rad_vel_sum = 0 #これは関数ごとでいいのか，引数と戻り値にして引き継いでいくべきなのか？\n",
    "  past_time = data.time\n",
    "  viz_past = 0 #globalにすべき??\n",
    "  for kasoku in range(3):\n",
    "    target_add_rad_vel = [(-math.pi*5/6),0,(math.pi*5/6)]\n",
    "    print(target_add_rad_vel[kasoku], \"＃＃＃＃＃＃＃＃＃＃＃＃＃＃＃＃＃＃＃＃＃＃＃＃\")\n",
    "    for kukan in range(30):\n",
    "      target_rad_vel += target_add_rad_vel[kasoku]/30 #目標回転角速度を15度/秒にすると\n",
    "      err_rad_vel = target_rad_vel - mouse_rad_vel # 目標との角速度誤差を計算\n",
    "      I_err_rad_vel_sum += err_rad_vel # 目標との角速度誤差を積算\n",
    "      left_mot = -r_turn_kp * err_rad_vel - r_turn_ki * I_err_rad_vel_sum\n",
    "      right_mot = r_turn_kp * err_rad_vel + r_turn_ki * I_err_rad_vel_sum\n",
    "      action(model, data, left_mot, right_mot)\n",
    "      for seigyosyuuki in range(100):\n",
    "        mujoco.mj_step(model, data)\n",
    "      #Vizualize\n",
    "      viz_now = data.time\n",
    "      if viz_now-viz_past>0.01:\n",
    "        viz_past = viz_now\n",
    "        viewer.sync()\n",
    "      now_time = data.time\n",
    "      delta_t = now_time - past_time\n",
    "      past_time = now_time\n",
    "      # エンコーダをもう一度読み取る\n",
    "      odm_right, odm_left = get_odom(model, data)\n",
    "      # この一瞬に出たパルス数を算出し，\n",
    "      right_pulse_num, left_pulse_num = get_pulse_count(pre_odm_right, pre_odm_left, odm_right, odm_left)\n",
    "      right_pulse_num_graph.append(right_pulse_num)\n",
    "      # パルス数から，移動速度と角速度を求める\n",
    "      mouse_vel, mouse_rad_vel = get_odom_at_pulse(right_pulse_num, left_pulse_num) #これで，エンコーダによるマウスの速度・角速度が推定できた\n",
    "      # mouse_vel_graph.append(mouse_vel)\n",
    "      # 速度に時間を掛けて，移動距離を計算 まず向きを計算し，その後移動距離を求める\n",
    "      mouse_angle_rad += mouse_rad_vel * delta_t\n",
    "      mouse_xpos += mouse_vel * math.cos(mouse_angle_rad) * delta_t\n",
    "      mouse_ypos += mouse_vel * math.sin(mouse_angle_rad) * delta_t\n",
    "      mouse_xpos_graph.append(mouse_xpos)\n",
    "      mouse_ypos_graph.append(mouse_ypos)\n",
    "      # 一つ前のodom値を更新\n",
    "      pre_odm_right = odm_right\n",
    "      pre_odm_left = odm_left\n",
    "      viz_now = data.time\n",
    "      if viz_now-viz_past>0.01:\n",
    "        viz_past = viz_now\n",
    "        viewer.sync()\n",
    "\n",
    "  return model, data, mouse_xpos, mouse_ypos, mouse_rad_vel, mouse_angle_rad, pre_odm_right, pre_odm_left\n",
    "\n",
    "\n",
    "\n",
    "\n",
    "\n",
    "\n",
    "#Create model\n",
    "# model = mujoco.MjModel.from_xml_path('../mouse_in_maze.xml')\n",
    "# data = mujoco.MjData(model)\n",
    "model = env.model\n",
    "data = env.data\n",
    "\n",
    "odom_right_graph = []\n",
    "mouse_correct_vel_graph = []\n",
    "\n",
    "gear = 9.0e-3\n",
    "wheel_r = 0.0135\n",
    "tread = 0.072\n",
    "mx = 0.0\n",
    "my = 0.0\n",
    "psi = 0.0\n",
    "past_odom_right = 0.0\n",
    "past_odom_left = 0.0\n",
    "# kp = 100\n",
    "# st_Kp = 1.55 #ダンピング3.6e-6のときの最適なゲイン\n",
    "st_Kp = 8.4\n",
    "rad_Kp = 0.15\n",
    "rad_vel_Kp = 2\n",
    "\n",
    "rad_Kd = 0.00001\n",
    "\n",
    "ki6 = 0.02\n",
    "kd = 0.09\n",
    "I_err_sum = 0\n",
    "d_grad = 0\n",
    "prev_err_rad = 0\n",
    "target_vel = 0\n",
    "target_rad = math.pi/2\n",
    "target_rad_vel = 0\n",
    "mjstep_count = 0\n",
    "\n",
    "right_pulse_num = 0\n",
    "right_pulse_num_graph = []\n",
    "left_pulse_num = 0\n",
    "left_pulse_num_graph = []\n",
    "\n",
    "right_rotation_sum = 0\n",
    "left_rotation_sum = 0\n",
    "\n",
    "mouse_vel = 0\n",
    "mouse_rad_vel = 0\n",
    "mouse_xpos = 0\n",
    "mouse_xpos_graph = []\n",
    "mouse_ypos = 0\n",
    "mouse_ypos_graph = []\n",
    "target_vel_graph = []\n",
    "err_vel_graph = []\n",
    "mouse_vel_graph = []\n",
    "\n",
    "viz_now = 0.0\n",
    "viz_past = 0.0\n",
    "now_time = 0\n",
    "past_time = 0\n",
    "turn_flag = 0\n",
    "x_vel = 0\n",
    "y_vel = 0\n",
    "z_vel = 0\n",
    "err = 0\n",
    "delta_t = 0.01\n",
    "mouse_now_rad_xy = math.pi/2 #y軸方向を向いている\n",
    "I_err_rad_vel_sum = 0\n",
    "mouse_angle_rad = (math.pi/2)\n",
    "right_mot = 0\n",
    "left_mot = 0 #最初は0\n",
    "\n",
    "#デバッグ用グラフのためのリスト\n",
    "LRF_lf_graph = []\n",
    "LRF_ls_graph = []\n",
    "LRF_rs_graph = []\n",
    "LRF_rf_graph = []\n",
    "left_mot_graph = []\n",
    "x_vel_graph = []\n",
    "velocimeter_graph = []\n",
    "err_graph = []\n",
    "err_rad_graph = []\n",
    "gyro_graph = []\n",
    "yzahyou = []\n",
    "timevals = []\n",
    "timevals5 = []\n",
    "timevals6 = []\n",
    "mouse_angle_rad_graph = []\n",
    "mouse_correct_rad_vel_graph = []\n",
    "mouse_rad_vel_graph = []\n",
    "err_rad_vel_graph = []\n",
    "target_rad_vel_graph = []\n",
    "with mujoco.viewer.launch_passive(model, data, key_callback=key_callback) as viewer:\n",
    "    pass"
   ]
  },
  {
   "cell_type": "code",
   "execution_count": 2,
   "metadata": {},
   "outputs": [
    {
     "name": "stdout",
     "output_type": "stream",
     "text": [
      "環境ID:  MouseRightEnv-v0\n",
      "行動空間:  Box(-0.2, 0.2, (2,), float32)\n",
      "    最小値:  [-0.2 -0.2]\n",
      "    最大値:  [0.2 0.2]\n",
      "状態空間:  Box(-inf, inf, (11,), float64)\n",
      "    最小値:  [-inf -inf -inf -inf -inf -inf -inf -inf -inf -inf -inf]\n",
      "    最大値:  [inf inf inf inf inf inf inf inf inf inf inf]\n"
     ]
    }
   ],
   "source": [
    "import gymnasium as gym\n",
    "from gymnasium.spaces import *\n",
    "\n",
    "# 環境ID\n",
    "ENV_ID = 'MouseRightEnv-v0'\n",
    "\n",
    "# 空間の出力\n",
    "def print_spaces(label, space):\n",
    "    # 空間の出力\n",
    "    print(label, space)\n",
    "\n",
    "    # Box/Discreteの場合は最大値と最小値も表示\n",
    "    if isinstance(space, Box):\n",
    "        print('    最小値: ', space.low)\n",
    "        print('    最大値: ', space.high)\n",
    "    if isinstance(space, Discrete):\n",
    "        print('    最小値: ', 0)\n",
    "        print('    最大値: ', space.n-1)\n",
    "\n",
    "# 学習環境の準備\n",
    "env = gym.make(ENV_ID)\n",
    "\n",
    "# 行動空間と状態空間の型の出力\n",
    "print('環境ID: ', ENV_ID)\n",
    "print_spaces('行動空間: ', env.action_space)\n",
    "print_spaces('状態空間: ', env.observation_space)"
   ]
  },
  {
   "cell_type": "code",
   "execution_count": 2,
   "metadata": {},
   "outputs": [],
   "source": [
    "def RL_right_curve(model, data, mouse_xpos, mouse_ypos, mouse_rad_vel, mouse_angle_rad, pre_odm_right, pre_odm_left, kp=0.57, ki=0,):\n",
    "    r_turn_kp = kp\n",
    "    r_turn_ki = ki\n",
    "    mouse_xpos = 0\n",
    "    mouse_ypos = 0\n",
    "    env.angsum_obs = 0\n",
    "    \n",
    "    for _ in range(600):\n",
    "        past_time = data.time\n",
    "        # エンコーダを読み取る\n",
    "        pre_odm_right, pre_odm_left = get_odom(model, data)\n",
    "        before_ang = env.quaternion_to_euler_numpy(data.qpos[3:7])\n",
    "        obs = env.get_obs(env.angsum_obs) #今の[状態]を得る\n",
    "        # print(\"obs:\",obs)\n",
    "        # obs = get_obs_for_predict(model, data, env.angsum_obs) #今の[状態]を得る\n",
    "        # print(obs)\n",
    "        Action, _ = RLmodel.predict(obs) #推論して，行動を受け取る\n",
    "        # print(\"推論時に渡したobs！:\",obs, \"推論結果の行動:\",Action)\n",
    "        left_mot = Action[0] #その行動司令を変数に渡して，\n",
    "        right_mot = Action[1]\n",
    "        action(model, data, left_mot, right_mot) #行動司令を正式にセットする\n",
    "        for seigyosyuuki in range(100):\n",
    "            mujoco.mj_step(model, data) #その行動でなんステップかシミュレーションする\n",
    "            mujoco.mj_rnePostConstraint(model, data) #力学計算を厳密に行う処理？バグの対処のようだ\n",
    "            viewer.sync()\n",
    "        after_ang = env.quaternion_to_euler_numpy(data.qpos[3:7])\n",
    "        env.angsum_obs += after_ang[2] - before_ang[2]\n",
    "        now_time = data.time# ΔTを求める\n",
    "        delta_t = now_time - past_time\n",
    "        past_time = now_time\n",
    "        ####オドメトリ####\n",
    "        odm_right, odm_left = get_odom(model, data) # エンコーダをもう一度読み取る\n",
    "        right_pulse_num, left_pulse_num = get_pulse_count(pre_odm_right, pre_odm_left, odm_right, odm_left)# この一瞬に出たパルス数を算出し，\n",
    "        mouse_vel, mouse_rad_vel = get_odom_at_pulse(right_pulse_num, left_pulse_num) # パルス数から，移動速度と角速度を求める#これで，エンコーダによるマウスの速度・角速度が推定できた\n",
    "        mouse_angle_rad += mouse_rad_vel * delta_t # 速度に時間を掛けて，移動距離を計算 まず向きを計算し，その後移動距離を求める\n",
    "        mouse_xpos += mouse_vel * math.cos(mouse_angle_rad) * delta_t\n",
    "        mouse_ypos += mouse_vel * math.sin(mouse_angle_rad) * delta_t\n",
    "        pre_odm_right = odm_right# 一つ前のodom値を更新\n",
    "        pre_odm_left = odm_left\n",
    "        ####オドメトリ####\n",
    "    env.angsum_obs = 0\n",
    "    return model, data, mouse_xpos, mouse_ypos, mouse_rad_vel, mouse_angle_rad, pre_odm_right, pre_odm_left\n",
    "\n",
    "def RLstep_right_curve(model, data, mouse_xpos, mouse_ypos, mouse_rad_vel, mouse_angle_rad, pre_odm_right, pre_odm_left, kp=0.57, ki=0,):\n",
    "    r_turn_kp = kp\n",
    "    r_turn_ki = ki\n",
    "    mouse_xpos = 0\n",
    "    mouse_ypos = 0\n",
    "    env.angsum_obs = 0\n",
    "    \n",
    "    for _ in range(600):\n",
    "        past_time = data.time\n",
    "        # エンコーダを読み取る\n",
    "        pre_odm_right, pre_odm_left = get_odom(model, data)\n",
    "        before_ang = env.quaternion_to_euler_numpy(data.qpos[3:7])\n",
    "        obs = env.get_obs(env.angsum_obs) #今の[状態]を得る\n",
    "        # print(\"obs:\",obs)\n",
    "        # obs = get_obs_for_predict(model, data, env.angsum_obs) #今の[状態]を得る\n",
    "        # print(obs)\n",
    "        Action, _ = RLmodel.predict(obs) #推論して，行動を受け取る\n",
    "        # print(\"推論時に渡したobs！:\",obs, \"推論結果の行動:\",Action)\n",
    "        left_mot = Action[0] #その行動司令を変数に渡して，\n",
    "        right_mot = Action[1]\n",
    "        env.step(Action)\n",
    "        viewer.sync()\n",
    "        after_ang = env.quaternion_to_euler_numpy(data.qpos[3:7])\n",
    "        env.angsum_obs += after_ang[2] - before_ang[2]\n",
    "        now_time = data.time# ΔTを求める\n",
    "        delta_t = now_time - past_time\n",
    "        past_time = now_time\n",
    "        ####オドメトリ####\n",
    "        odm_right, odm_left = get_odom(model, data) # エンコーダをもう一度読み取る\n",
    "        right_pulse_num, left_pulse_num = get_pulse_count(pre_odm_right, pre_odm_left, odm_right, odm_left)# この一瞬に出たパルス数を算出し，\n",
    "        mouse_vel, mouse_rad_vel = get_odom_at_pulse(right_pulse_num, left_pulse_num) # パルス数から，移動速度と角速度を求める#これで，エンコーダによるマウスの速度・角速度が推定できた\n",
    "        mouse_angle_rad += mouse_rad_vel * delta_t # 速度に時間を掛けて，移動距離を計算 まず向きを計算し，その後移動距離を求める\n",
    "        mouse_xpos += mouse_vel * math.cos(mouse_angle_rad) * delta_t\n",
    "        mouse_ypos += mouse_vel * math.sin(mouse_angle_rad) * delta_t\n",
    "        pre_odm_right = odm_right# 一つ前のodom値を更新\n",
    "        pre_odm_left = odm_left\n",
    "        ####オドメトリ####\n",
    "    env.angsum_obs = 0\n",
    "    return model, data, mouse_xpos, mouse_ypos, mouse_rad_vel, mouse_angle_rad, pre_odm_right, pre_odm_left\n",
    "\n",
    "\n",
    "\n",
    "def reload_xy_by_odometly(pre_odm_right, pre_odm_left, mouse_angle_rad, mouse_xpos, mouse_ypos):\n",
    "    odm_right, odm_left = get_odom(model, data) # エンコーダをもう一度読み取る\n",
    "    right_pulse_num, left_pulse_num = get_pulse_count(pre_odm_right, pre_odm_left, odm_right, odm_left)# この一瞬に出たパルス数を算出し，\n",
    "    mouse_vel, mouse_rad_vel = get_odom_at_pulse(right_pulse_num, left_pulse_num) # パルス数から，移動速度と角速度を求める#これで，エンコーダによるマウスの速度・角速度が推定できた\n",
    "    mouse_angle_rad += mouse_rad_vel * delta_t # 速度に時間を掛けて，移動距離を計算 まず向きを計算し，その後移動距離を求める\n",
    "    mouse_xpos += mouse_vel * math.cos(mouse_angle_rad) * delta_t\n",
    "    mouse_ypos += mouse_vel * math.sin(mouse_angle_rad) * delta_t\n",
    "    pre_odm_right = odm_right# 一つ前のodom値を更新\n",
    "    pre_odm_left = odm_left\n",
    "    return mouse_angle_rad, mouse_xpos, mouse_ypos\n",
    "\n",
    "def get_obs_for_predict(model, data, angsum_obs): #状態空間を取得\n",
    "        angsum_obs = np.array([angsum_obs])\n",
    "        # position = self.data.qpos[0:9].flat.copy()\n",
    "        # velocity = self.data.sensor(\"Veloci\").data[0] # 今の速度を取る\n",
    "        lf = np.array([data.sensor('LF').data[0]])#sensordata[lf_id]\n",
    "        ls = np.array([data.sensor('LS').data[0]])\n",
    "        rs = np.array([data.sensor('RS').data[0]])\n",
    "        rf = np.array([data.sensor('RF').data[0]])#sensordata[rf_id]\n",
    "        gyro = np.array([data.sensor('Gyro').data])\n",
    "        gyro_0 = np.array([gyro[0][0]])\n",
    "        gyro_1 = np.array([gyro[0][1]])\n",
    "        gyro_2 = np.array([gyro[0][2]])\n",
    "        accelerometer = np.array([data.sensor('Accel').data])\n",
    "        accelerometer_0 = np.array([accelerometer[0][0]])\n",
    "        accelerometer_1 = np.array([accelerometer[0][1]])\n",
    "        accelerometer_2 = np.array([accelerometer[0][2]])\n",
    "        # mouse_angle_rad = np.array([self.mouse_angle_rad])\n",
    "        # mouse_xpos = np.array([self.mouse_xpos])\n",
    "        # mouse_ypos = np.array([self.mouse_ypos])\n",
    "        # mouse_vel = np.array([self.mouse_vel])\n",
    "        # return np.concatenate((position, mouse_xpos, mouse_ypos, mouse_vel, mouse_angle_rad, lf, ls, rs, rf, gyro_0,gyro_1,gyro_2, accelerometer_0, accelerometer_1, accelerometer_2)) #mouse_angle_rad, mouse_xpos, mouse_ypos, gyro)) #npの値を連結して返す．これが状態空間となる\n",
    "        return np.concatenate((angsum_obs, lf, ls, rs, rf, gyro_0,gyro_1,gyro_2, accelerometer_0, accelerometer_1, accelerometer_2)) #mouse_angle_rad, mouse_xpos, mouse_ypos, gyro)) #npの値を連結して返す．これが状態空間となる\n",
    "    \n",
    "\n"
   ]
  },
  {
   "cell_type": "code",
   "execution_count": 3,
   "metadata": {},
   "outputs": [
    {
     "name": "stderr",
     "output_type": "stream",
     "text": [
      "c:\\Users\\atusi\\anaconda3\\envs\\gymenv\\Lib\\site-packages\\gymnasium\\core.py:311: UserWarning: \u001b[33mWARN: env.quaternion_to_euler_numpy to get variables from other wrappers is deprecated and will be removed in v1.0, to get this variable you can do `env.unwrapped.quaternion_to_euler_numpy` for environment variables or `env.get_wrapper_attr('quaternion_to_euler_numpy')` that will search the reminding wrappers.\u001b[0m\n",
      "  logger.warn(\n",
      "c:\\Users\\atusi\\anaconda3\\envs\\gymenv\\Lib\\site-packages\\gymnasium\\core.py:311: UserWarning: \u001b[33mWARN: env.get_obs to get variables from other wrappers is deprecated and will be removed in v1.0, to get this variable you can do `env.unwrapped.get_obs` for environment variables or `env.get_wrapper_attr('get_obs')` that will search the reminding wrappers.\u001b[0m\n",
      "  logger.warn(\n"
     ]
    },
    {
     "name": "stdout",
     "output_type": "stream",
     "text": [
      "最初の１マス進む処理\n",
      "左に壁がないとき\n",
      "xpos: -0.037338136273374296\n",
      "ypos: -0.04047036959173425\n",
      "xpos: 0.0686148325155681\n",
      "ypos: -0.00911550526236437\n",
      "xpos: -0.04053852870925618\n",
      "ypos: -0.007242254067669669\n",
      "左に壁がないとき\n",
      "xpos: -0.027659345138788156\n",
      "ypos: 0.0761394663566855\n",
      "xpos: -0.005486426253709232\n",
      "ypos: -0.005181829877622816\n",
      "xpos: 0.09727003273964567\n",
      "ypos: -0.02394906346106499\n",
      "左に壁がないとき\n",
      "xpos: -0.027767261789759527\n",
      "ypos: -0.008419334858030628\n",
      "xpos: -0.027237556117202844\n",
      "ypos: 0.04474607757167718\n",
      "xpos: -0.03236171381432652\n",
      "ypos: -0.03383145504213084\n",
      "右に壁がないとき -0.14381069886427886\n",
      "xpos: 0.08776965329084226\n",
      "ypos: -0.020374982635308233\n",
      "xpos: -0.0582012698596376\n",
      "ypos: -0.026467487745312913\n",
      "xpos: -0.006944108679248272\n",
      "ypos: -0.0035999776779175423\n",
      "その他の場合\n",
      "xpos: -0.003321748028956479\n",
      "ypos: -0.0017329363482603275\n",
      "xpos: 0.0035867599425171513\n",
      "ypos: 0.0014764386778542819\n",
      "右に壁がないとき -0.2588592579557019\n",
      "xpos: -0.009649190691002816\n",
      "ypos: -0.005380381286105694\n",
      "xpos: -0.04138211414152708\n",
      "ypos: 0.06400954274765833\n",
      "xpos: 0.008298150808238926\n",
      "ypos: -0.006988567526871033\n",
      "右に壁がないとき -0.28762139772855766\n",
      "xpos: 0.09701707352876275\n",
      "ypos: 0.008839267526542467\n",
      "xpos: -0.024939181971622627\n",
      "ypos: -0.023338528243480056\n",
      "xpos: -0.050890229985890066\n",
      "ypos: 0.040392286098149294\n",
      "左に壁がないとき\n",
      "xpos: -0.01541956344614242\n",
      "ypos: -0.03158122206153443\n",
      "xpos: 0.09085618069676364\n",
      "ypos: 0.026256750590505983\n",
      "xpos: -0.02728688575428335\n",
      "ypos: -0.03471663016405953\n",
      "左に壁がないとき\n",
      "xpos: -0.013736606308750841\n",
      "ypos: -0.022578272135295247\n",
      "xpos: -0.05782193059867577\n",
      "ypos: 0.013672245943299063\n",
      "xpos: -0.005616133513855241\n",
      "ypos: 0.0004994264329473948\n",
      "左に壁がないとき\n",
      "xpos: 0.007851776137067619\n",
      "ypos: -0.004416872124790101\n",
      "xpos: 0.037779106498501656\n",
      "ypos: 0.13390066490628777\n",
      "xpos: -0.0013871828529040586\n",
      "ypos: -0.031092498200250798\n",
      "左に壁がないとき\n",
      "xpos: -0.040492843288211657\n",
      "ypos: -0.005822372317564705\n",
      "xpos: 0.054972742715343775\n",
      "ypos: -0.08940451354059738\n",
      "xpos: 0.0402622341761558\n",
      "ypos: 0.042203927905760164\n",
      "右に壁がないとき -0.20133497840999046\n",
      "xpos: 0.0011168834687743205\n",
      "ypos: -0.012076109482453582\n",
      "xpos: 0.00021098506896685093\n",
      "ypos: 0.0011984328539594597\n",
      "xpos: -0.0002531529906332152\n",
      "ypos: 0.009074523893748274\n",
      "左に壁がないとき\n",
      "xpos: -0.06754452633419586\n",
      "ypos: -0.030745637565412993\n",
      "xpos: 0.0016890408507249316\n",
      "ypos: -0.0189143423577456\n",
      "xpos: 0.031206014477511153\n",
      "ypos: 0.053678827113125584\n",
      "左に壁がないとき\n",
      "xpos: 0.005251494778728506\n",
      "ypos: -0.03542683661182612\n",
      "xpos: 0.00010728358527730978\n",
      "ypos: 0.0004423166758728647\n",
      "xpos: -0.0016952171673160336\n",
      "ypos: 0.012674959492897668\n",
      "左に壁がないとき\n",
      "xpos: 0.0022005998811269164\n",
      "ypos: -0.031205118176224133\n",
      "xpos: -0.01635179577392737\n",
      "ypos: -0.03894942710381185\n",
      "xpos: -0.002684949871356244\n",
      "ypos: 0.003493985690706919\n",
      "左に壁がないとき\n",
      "xpos: 0.012958703020004337\n",
      "ypos: -0.005607903186744941\n",
      "xpos: 0.005470333459713172\n",
      "ypos: 0.0012173289159926179\n",
      "xpos: 0.006743303142279154\n",
      "ypos: -0.004903803177016231\n",
      "左に壁がないとき\n",
      "xpos: 0.0036125933303985487\n",
      "ypos: 0.014296748387664706\n",
      "xpos: -0.009192260935851541\n",
      "ypos: 0.005292750554661814\n",
      "xpos: -0.012452097055232581\n",
      "ypos: 0.010632940489798112\n",
      "左に壁がないとき\n",
      "xpos: 0.008175030628317096\n",
      "ypos: -0.021426253128371694\n",
      "xpos: 0.001870048091314743\n",
      "ypos: -0.006180596685684546\n"
     ]
    },
    {
     "name": "stderr",
     "output_type": "stream",
     "text": [
      "c:\\Users\\atusi\\anaconda3\\envs\\gymenv\\Lib\\site-packages\\glfw\\__init__.py:916: GLFWError: (65537) b'The GLFW library is not initialized'\n",
      "  warnings.warn(message, GLFWError)\n"
     ]
    },
    {
     "name": "stdout",
     "output_type": "stream",
     "text": [
      "xpos: -0.007353682854637991\n",
      "ypos: -0.019518746906009236\n",
      "左に壁がないとき\n",
      "xpos: 0.0007340342131452942\n",
      "ypos: -0.004229042791409114\n",
      "xpos: 0.011334899673525614\n",
      "ypos: -0.009116068254208194\n",
      "xpos: 0.00314456521678406\n",
      "ypos: -0.014352041173352703\n",
      "左に壁がないとき\n",
      "xpos: -0.010901827935250921\n",
      "ypos: -0.009232025515768016\n"
     ]
    }
   ],
   "source": [
    "#Main Loop\n",
    "with mujoco.viewer.launch_passive(model, data, key_callback=key_callback) as viewer: #キーイベントが発生すると、登録されたコールバック関数であるkey_callbackが自動的に呼び出され、キーコードやその他のイベント情報が引数keycodeとして渡されます。\n",
    "  # 最初の準備 わずかに浮いているせいで最初だけ推測速度が大きくなるので，一度地面につかせる\n",
    "  time.sleep(5) #3秒待ってからスタート ウインドウを出すために待ってもらう\n",
    "  left_mot = 0\n",
    "  right_mot = 0\n",
    "  obs, _ = env.reset()\n",
    "  for seigyosyuuki2 in range(1000): #マウスを地面につけるために，1000回シミュレーションを回す　空中でタイヤを回し始めないようにするため\n",
    "    action(model, data, left_mot, right_mot)\n",
    "    mujoco.mj_step(model, data)\n",
    "  past_time = data.time #最初の時間を取得\n",
    "  # env.model.opt.timestep = 0.01  # タイムステップを設定 RecordVideoする場合はそれ以降に書かないとerrorが出る\n",
    "  pre_odm_right, pre_odm_left = get_odom(model, data)# エンコーダを読み取る\n",
    "  model, data, mouse_xpos, mouse_ypos, mouse_rad_vel, mouse_angle_rad, pre_odm_right, pre_odm_left = RLstep_right_curve(model, data, mouse_xpos, mouse_ypos, mouse_vel, mouse_angle_rad, pre_odm_right, pre_odm_left, kp=0.57, ki=0.05,) #右にカーブ\n",
    "  print(\"最初の１マス進む処理\")\n",
    "  target_vel = 0\n",
    "  pre_odm_right, pre_odm_left = get_odom(model, data)# エンコーダを読み取る\n",
    "  model, data, mouse_xpos, mouse_ypos, mouse_vel, mouse_angle_rad, pre_odm_right, pre_odm_left = RLstep_right_curve(model, data, mouse_xpos, mouse_ypos, mouse_vel, mouse_angle_rad, pre_odm_right, pre_odm_left, kp=16.9, ki=1,) #最初の前進\n",
    "  \n",
    "  while viewer.is_running():\n",
    "    \n",
    "    if not paused:\n",
    "      before_ax, before_ay, before_az = get_accel(model, data)\n",
    "      gx, gy, gz = get_gyro(model, data)\n",
    "      lf, ls, rs, rf = get_distance(model, data) #各センサ値を取得\n",
    "      \n",
    "      \n",
    "      if ls > 0.09:\n",
    "        print(\"左に壁がないとき\")\n",
    "        # pre_odm_right, pre_odm_left = get_odom(model, data)# エンコーダを読み取る\n",
    "        model, data, mouse_xpos, mouse_ypos, mouse_vel, mouse_angle_rad, pre_odm_right, pre_odm_left = RLstep_right_curve(model, data, mouse_xpos, mouse_ypos, mouse_vel, mouse_angle_rad, pre_odm_right, pre_odm_left, kp=16.9, ki=0,) #0.5マス前進\n",
    "        print(\"xpos:\",mouse_xpos)\n",
    "        print(\"ypos:\",mouse_ypos)\n",
    "        model, data, mouse_xpos, mouse_ypos, mouse_rad_vel, mouse_angle_rad, pre_odm_right, pre_odm_left = RLstep_right_curve(model, data, mouse_xpos, mouse_ypos, mouse_vel, mouse_angle_rad, pre_odm_right, pre_odm_left, kp=0.57, ki=0.05,) #右にカーブ\n",
    "        print(\"xpos:\",mouse_xpos)\n",
    "        print(\"ypos:\",mouse_ypos)\n",
    "        model, data, mouse_xpos, mouse_ypos, mouse_vel, mouse_angle_rad, pre_odm_right, pre_odm_left = RLstep_right_curve(model, data, mouse_xpos, mouse_ypos, mouse_vel, mouse_angle_rad, pre_odm_right, pre_odm_left, kp=16.9, ki=1,) #0.5マス前進\n",
    "        print(\"xpos:\",mouse_xpos)\n",
    "        print(\"ypos:\",mouse_ypos)\n",
    "      elif lf > 0.18 and rf > 0.18:\n",
    "        print(\"前壁に壁がないとき\")\n",
    "        model, data, mouse_xpos, mouse_ypos, mouse_vel, mouse_angle_rad, pre_odm_right, pre_odm_left = RLstep_right_curve(model, data, mouse_xpos, mouse_ypos, mouse_vel, mouse_angle_rad, pre_odm_right, pre_odm_left, kp=16.9, ki=1,) #0.5マス前進\n",
    "        print(\"xpos:\",mouse_xpos)\n",
    "        print(\"ypos:\",mouse_ypos)\n",
    "        model, data, mouse_xpos, mouse_ypos, mouse_vel, mouse_angle_rad, pre_odm_right, pre_odm_left = RLstep_right_curve(model, data, mouse_xpos, mouse_ypos, mouse_vel, mouse_angle_rad, pre_odm_right, pre_odm_left, kp=16.9, ki=1,) #0.5マス前進\n",
    "        print(\"xpos:\",mouse_xpos)\n",
    "        print(\"ypos:\",mouse_ypos)\n",
    "      elif rs > 0.09:\n",
    "        print(\"右に壁がないとき\", mouse_vel)\n",
    "        model, data, mouse_xpos, mouse_ypos, mouse_vel, mouse_angle_rad, pre_odm_right, pre_odm_left = RLstep_right_curve(model, data, mouse_xpos, mouse_ypos, mouse_vel, mouse_angle_rad, pre_odm_right, pre_odm_left, kp=16.9, ki=1,) #0.5マス前進\n",
    "        print(\"xpos:\",mouse_xpos)\n",
    "        print(\"ypos:\",mouse_ypos)\n",
    "        model, data, mouse_xpos, mouse_ypos, mouse_rad_vel, mouse_angle_rad, pre_odm_right, pre_odm_left = RLstep_right_curve(model, data, mouse_xpos, mouse_ypos, mouse_vel, mouse_angle_rad, pre_odm_right, pre_odm_left, kp=0.57, ki=0.05) #左にカーブ\n",
    "        print(\"xpos:\",mouse_xpos)\n",
    "        print(\"ypos:\",mouse_ypos)\n",
    "        model, data, mouse_xpos, mouse_ypos, mouse_vel, mouse_angle_rad, pre_odm_right, pre_odm_left = RLstep_right_curve(model, data, mouse_xpos, mouse_ypos, mouse_vel, mouse_angle_rad, pre_odm_right, pre_odm_left, kp=16.9, ki=1,) #0.5マス前進\n",
    "        print(\"xpos:\",mouse_xpos)\n",
    "        print(\"ypos:\",mouse_ypos)\n",
    "      \n",
    "      else:\n",
    "        print(\"その他の場合\")\n",
    "        model, data, mouse_xpos, mouse_ypos, mouse_rad_vel, mouse_angle_rad, pre_odm_right, pre_odm_left = RLstep_right_curve(model, data, mouse_xpos, mouse_ypos, mouse_vel, mouse_angle_rad, pre_odm_right, pre_odm_left, kp=0.57, ki=0.05) #右にカーブ\n",
    "        print(\"xpos:\",mouse_xpos)\n",
    "        print(\"ypos:\",mouse_ypos)\n",
    "        model, data, mouse_xpos, mouse_ypos, mouse_rad_vel, mouse_angle_rad, pre_odm_right, pre_odm_left = RLstep_right_curve(model, data, mouse_xpos, mouse_ypos, mouse_vel, mouse_angle_rad, pre_odm_right, pre_odm_left, kp=0.57, ki=0.05) #右にカーブ\n",
    "        print(\"xpos:\",mouse_xpos)\n",
    "        print(\"ypos:\",mouse_ypos)\n",
    "\n",
    "\n",
    "      \n",
    "      \n",
    "      left_mot = 0\n",
    "      right_mot = 0\n",
    "      # mouse_xpos_graph.append(mouse_xpos)\n",
    "      # mouse_ypos_graph.append(mouse_ypos)\n",
    "      for seigyosyuuki2 in range(100):\n",
    "        action(model, data, left_mot, right_mot)\n",
    "        mujoco.mj_step(model, data)\n",
    "      if keyboard.is_pressed('9'):#PI制御モード\n",
    "        print(\"breakした\")\n",
    "        break\n",
    "      #Vizualize\n",
    "      viz_now = data.time\n",
    "      if viz_now-viz_past>0.01:\n",
    "        viz_past = viz_now\n",
    "        viewer.sync()"
   ]
  },
  {
   "cell_type": "markdown",
   "metadata": {},
   "source": [
    "## LINE BOTに接続"
   ]
  },
  {
   "cell_type": "code",
   "execution_count": null,
   "metadata": {},
   "outputs": [],
   "source": [
    "#LINE BOT  ON\n",
    "\n",
    "import requests\n",
    "\n",
    "class LINENotifyBot(object):\n",
    "    API_URL = 'https://notify-api.line.me/api/notify'\n",
    "    def __init__(self, access_token):\n",
    "        self.__headers = {'Authorization': 'Bearer ' + access_token}\n",
    "\n",
    "    def send(\n",
    "        self,\n",
    "        message,\n",
    "        image=None,\n",
    "        sticker_package_id=None,\n",
    "        sticker_id=None,\n",
    "    ):\n",
    "        payload = {\n",
    "            'message': message,\n",
    "            'stickerPackageId': sticker_package_id,\n",
    "            'stickerId': sticker_id,\n",
    "        }\n",
    "        files = {}\n",
    "        if image != None:\n",
    "            files = {'imageFile': open(image, 'rb')}\n",
    "        r = requests.post(\n",
    "            LINENotifyBot.API_URL,\n",
    "            headers=self.__headers,\n",
    "            data=payload,\n",
    "            files=files,\n",
    "        )\n",
    "\n",
    "\n",
    "bot = LINENotifyBot(access_token='UuzEJNM69oW7g0suO2FsWygFKvSK4vj7HnEBFLyi0mc')\n",
    "bot.send(\n",
    "message=\"LINE BOTを起動します。 \\n 大量の通知が行きます\",\n",
    "#image='picf' + str(i) + '.png',  # png or jpg\n",
    "sticker_package_id=1,\n",
    "sticker_id=6,\n",
    ")\n",
    "# print(\"LINE BOTを起動します。 \\n 大量の通知が行きます\")\n"
   ]
  },
  {
   "cell_type": "code",
   "execution_count": 3,
   "metadata": {},
   "outputs": [
    {
     "name": "stderr",
     "output_type": "stream",
     "text": [
      "c:\\Users\\atusi\\anaconda3\\envs\\gymenv\\Lib\\site-packages\\gymnasium\\core.py:311: UserWarning: \u001b[33mWARN: env.reward_graph to get variables from other wrappers is deprecated and will be removed in v1.0, to get this variable you can do `env.unwrapped.reward_graph` for environment variables or `env.get_wrapper_attr('reward_graph')` that will search the reminding wrappers.\u001b[0m\n",
      "  logger.warn(\n",
      "c:\\Users\\atusi\\anaconda3\\envs\\gymenv\\Lib\\site-packages\\IPython\\core\\events.py:82: UserWarning: Glyph 22577 (\\N{CJK UNIFIED IDEOGRAPH-5831}) missing from current font.\n",
      "  func(*args, **kwargs)\n",
      "c:\\Users\\atusi\\anaconda3\\envs\\gymenv\\Lib\\site-packages\\IPython\\core\\events.py:82: UserWarning: Glyph 37228 (\\N{CJK UNIFIED IDEOGRAPH-916C}) missing from current font.\n",
      "  func(*args, **kwargs)\n",
      "c:\\Users\\atusi\\anaconda3\\envs\\gymenv\\Lib\\site-packages\\IPython\\core\\pylabtools.py:152: UserWarning: Glyph 22577 (\\N{CJK UNIFIED IDEOGRAPH-5831}) missing from current font.\n",
      "  fig.canvas.print_figure(bytes_io, **kw)\n",
      "c:\\Users\\atusi\\anaconda3\\envs\\gymenv\\Lib\\site-packages\\IPython\\core\\pylabtools.py:152: UserWarning: Glyph 37228 (\\N{CJK UNIFIED IDEOGRAPH-916C}) missing from current font.\n",
      "  fig.canvas.print_figure(bytes_io, **kw)\n"
     ]
    },
    {
     "data": {
      "image/png": "[encoded data removed]",
      "text/plain": [
       "<Figure size 640x480 with 1 Axes>"
      ]
     },
     "metadata": {},
     "output_type": "display_data"
    }
   ],
   "source": [
    "import gymnasium as gym\n",
    "from stable_baselines3 import SAC, PPO\n",
    "from tqdm import trange\n",
    "import matplotlib.pyplot as plt\n",
    "from gymnasium.wrappers import RecordVideo\n",
    "import datetime\n",
    "\n",
    "# env = gym.make(\"ALE/Breakout-v5\",  render_mode=\"human\")\n",
    "# env = gym.make(\"CartPole-v1\",  render_mode=\"human\")\n",
    "# # env = Monitor(env, \"./gym-results\", force=True, video_callable=lambda episode: True)　こんな感じで，\n",
    "# model = SAC(\"MlpPolicy\", env, verbose=1)\n",
    "# model.learn(total_timesteps=200)\n",
    "\n",
    "from stable_baselines3.common.callbacks import BaseCallback\n",
    "\n",
    "start_time = datetime.datetime.now().replace(microsecond=0)\n",
    "\n",
    "env = gym.make(\"MouseRightEnv-v0\", render_mode=\"human\")\n",
    "# video_path = \"./\"  # 保存先のpath\n",
    "# env = RecordVideo(env, video_path, video_length=500)\n",
    "# env.model.opt.timestep = 0.01  # タイムステップを設定 RecordVideoする場合はそれ以降に書かないとerrorが出る\n",
    "\n",
    "model = PPO(\"MlpPolicy\", env, verbose=0)\n",
    "# model = PPO.load('test',env)\n",
    "# render_freq = 1000  # 1000ステップごとにレンダリング\n",
    "# callback = CustomCallback(render_freq)\n",
    "for i in range(1):\n",
    "    model.learn(total_timesteps=1000)#progress_bar = True, callback=callback)\n",
    "\n",
    "    # # モデルのテスト\n",
    "    # obs, _ = env.reset()  # ここを修正\n",
    "    # for unk in trange(1000):\n",
    "    #     # 環境の描画\n",
    "    #     env.render()\n",
    "\n",
    "    #     # モデルの推論\n",
    "        # action, _ = model.predict(obs)\n",
    "\n",
    "    #     # 1ステップ実行\n",
    "    #     obs, reward, terminated, truncated, info = env.step(action) #以前の4要素のタプルから5要素のタプルに変更され，`observation, reward, terminated, truncated, info`という形式になった。\n",
    "\n",
    "\n",
    "\n",
    "    #     # エピソード完了（終了または切り捨て）のチェック terminated(終了した)は目的を達成してエピソードを終了したことを表す，truncated(切り捨てられた)は，達成できずにエピソードが終了したことを表す\n",
    "    #     if terminated or truncated:\n",
    "    #         state, _ = env.reset() # エピソードが終了したら、環境をリセット\n",
    "    #モデルの保存 (1)\n",
    "    model.save('test')\n",
    "    # model.save('hidarimawari_housyuu_godsight_onlyxy_notight')\n",
    "    end_time = datetime.datetime.now().replace(microsecond=0)\n",
    "    total_time = end_time - start_time\n",
    "    # bot = LINENotifyBot(access_token='UuzEJNM69oW7g0suO2FsWygFKvSK4vj7HnEBFLyi0mc')\n",
    "    # bot.send(\n",
    "    # message=\"今\"+str(i+1)+\"回目の学習が終了しました\\nかかった時間：\"+str(total_time)+\"秒かかりました\",\n",
    "    # #image='picf' + str(i) + '.png',  # png or jpg\n",
    "    # # sticker_package_id=1,\n",
    "    # # sticker_id=6,\n",
    "    # )\n",
    "\n",
    "# print(video_path)\n",
    "plt.title(\"1マス前進\", fontname=\"MS Gothic\")\n",
    "plt.grid()\n",
    "plt.xlabel(\"step(s)\", fontname=\"MS Gothic\")\n",
    "plt.ylabel(\"速度[m/s]\", fontname=\"MS Gothic\")\n",
    "\n",
    "#前進関係のプロット\n",
    "t = list(range(len(env.reward_graph)))  # 0から始まるインデックスのリストを作成\n",
    "plt.plot(t, env.reward_graph, linestyle='solid', label=\"報酬\")\n",
    "plt.legend()\n",
    "# 環境のクローズ\n",
    "env.close()"
   ]
  },
  {
   "cell_type": "code",
   "execution_count": 6,
   "metadata": {},
   "outputs": [
    {
     "name": "stderr",
     "output_type": "stream",
     "text": [
      "c:\\Users\\atusi\\anaconda3\\envs\\gymenv\\Lib\\site-packages\\gymnasium\\core.py:311: UserWarning: \u001b[33mWARN: env.model to get variables from other wrappers is deprecated and will be removed in v1.0, to get this variable you can do `env.unwrapped.model` for environment variables or `env.get_wrapper_attr('model')` that will search the reminding wrappers.\u001b[0m\n",
      "  logger.warn(\n",
      "c:\\Users\\atusi\\anaconda3\\envs\\gymenv\\Lib\\site-packages\\gymnasium\\core.py:311: UserWarning: \u001b[33mWARN: env.data to get variables from other wrappers is deprecated and will be removed in v1.0, to get this variable you can do `env.unwrapped.data` for environment variables or `env.get_wrapper_attr('data')` that will search the reminding wrappers.\u001b[0m\n",
      "  logger.warn(\n",
      "c:\\Users\\atusi\\anaconda3\\envs\\gymenv\\Lib\\site-packages\\gymnasium\\core.py:311: UserWarning: \u001b[33mWARN: env.get_obs to get variables from other wrappers is deprecated and will be removed in v1.0, to get this variable you can do `env.unwrapped.get_obs` for environment variables or `env.get_wrapper_attr('get_obs')` that will search the reminding wrappers.\u001b[0m\n",
      "  logger.warn(\n"
     ]
    },
    {
     "name": "stdout",
     "output_type": "stream",
     "text": [
      "[0.00000000e+00 0.00000000e+00 0.00000000e+00 1.57079633e+00\n",
      " 3.00000000e-01 7.00927956e-02 7.00927956e-02 3.00000000e-01\n",
      " 1.79716873e-18 0.00000000e+00 0.00000000e+00 0.00000000e+00\n",
      " 1.71731622e-17 9.81000000e+00]\n",
      "[ 0.00000000e+00  0.00000000e+00  0.00000000e+00  1.57079633e+00\n",
      "  3.00000000e-01  6.96397387e-02  7.05522344e-02  3.00000000e-01\n",
      " -4.35327437e-03 -6.32206036e-01  1.44648173e+00  2.72693105e+00\n",
      "  2.07901521e-02  9.88399356e+00]\n",
      "[ 0.          0.          0.          1.57079633  0.3         0.06777785\n",
      "  0.07258193  0.3        -0.4628672  -2.10659568  4.66457189  0.18993622\n",
      "  1.40593876  3.65738617]\n",
      "[ 0.          0.          0.          1.57079633  0.3         0.06514793\n",
      "  0.0759136   0.3         0.56808352 -0.36684363  4.50798428 -5.68213045\n",
      " -0.05226861 11.08407883]\n",
      "[ 0.          0.          0.          1.57079633  0.3         0.06271894\n",
      "  0.07960057  0.3         0.2860454  -0.06780252  4.99237175  6.66600898\n",
      "  0.25310528 10.27569104]\n",
      "[ 0.          0.          0.          1.57079633  0.21506879  0.05970298\n",
      "  0.08524183  0.3         0.13074144 -0.11011773  7.89850056  4.1564118\n",
      "  0.10904012 10.90792705]\n",
      "[ 0.          0.          0.          1.57079633  0.15018996  0.05660584\n",
      "  0.3         0.3        -0.01394184  0.71097782  7.07994082 -1.86428846\n",
      "  1.73435007  4.40740936]\n",
      "[ 0.          0.          0.          1.57079633  0.11055665  0.05362266\n",
      "  0.3         0.3        -0.06287038  1.11973248  9.88135628  0.59570302\n",
      "  1.20702363 11.54017288]\n",
      "[ 0.          0.          0.          1.57079633  0.0837274   0.05073167\n",
      "  0.3         0.23015461  0.07373941  0.19413151  9.96504545  3.10259792\n",
      " -0.54112287  4.43518274]\n",
      "[ 0.          0.          0.          1.57079633  0.06804882  0.04843094\n",
      "  0.29483052  0.18624135  0.23967653 -1.04523726  8.09140399  1.33273792\n",
      "  0.51261147  4.3234908 ]\n",
      "[ 0.          0.          0.          1.57079633  0.05897154  0.04677513\n",
      "  0.27495443  0.1600303   0.14090382  0.31181382  6.34084541 -4.64937534\n",
      "  1.52556723 10.09886083]\n",
      "[ 0.          0.          0.          1.57079633  0.05278284  0.04556403\n",
      "  0.26075009  0.14121566  0.1269476   0.95324547  6.5056777  -2.3070893\n",
      "  1.12446224 10.0696468 ]\n",
      "[ 0.          0.          0.          1.57079633  0.04862637  0.04462995\n",
      "  0.25119399  0.1283605  -0.05984666  1.04122204  3.61271589 -0.44008114\n",
      "  0.87457734 10.87049625]\n",
      "[ 0.          0.          0.          1.57079633  0.04527343  0.04384424\n",
      "  0.24346215  0.11761257 -0.0206318   1.84912651  6.12637366 -3.28626871\n",
      "  1.01254435 15.15909262]\n",
      "[ 0.          0.          0.          1.57079633  0.04249374  0.04323388\n",
      "  0.2369571   0.10816133  0.06882045  1.23075255  3.44720359 -0.17450668\n",
      "  0.68127617 12.0811324 ]\n",
      "[ 0.          0.          0.          1.57079633  0.04063424  0.0424057\n",
      "  0.3         0.10315248 -0.01723602  0.18589158  1.47981908  1.38281755\n",
      "  0.55515753  9.88786924]\n",
      "[ 0.          0.          0.          1.57079633  0.03911604  0.04155863\n",
      "  0.3         0.09951055 -0.0864975  -0.16092598  1.93020333 -3.53949418\n",
      "  0.3038674   9.83340874]\n",
      "[ 0.          0.          0.          1.57079633  0.03786483  0.04119777\n",
      "  0.3         0.0951181  -0.27074379 -0.7417551   2.65678063  0.93004503\n",
      "  0.0736451   5.35581737]\n",
      "[ 0.          0.          0.          1.57079633  0.03680454  0.04078352\n",
      "  0.3         0.09169335 -0.4239849  -1.8362287   1.17165603  1.16032393\n",
      "  0.43415295 11.13310992]\n",
      "[ 0.          0.          0.          1.57079633  0.0360881   0.03992573\n",
      "  0.3         0.09144539 -0.02996468 -2.17300167 -1.9052333   0.79613506\n",
      "  0.01882426 10.61364608]\n",
      "[ 0.          0.          0.          1.57079633  0.03594432  0.03873079\n",
      "  0.3         0.09553548 -0.02765264 -1.61318523 -4.95056389  3.00420382\n",
      "  1.54600844  5.5157915 ]\n",
      "[ 0.          0.          0.          1.57079633  0.03613998  0.03797906\n",
      "  0.3         0.09991375 -0.10581113  0.09080313 -1.93021255  6.55848384\n",
      " -0.76294673  7.66966018]\n",
      "[ 0.          0.          0.          1.57079633  0.03589155  0.03720239\n",
      "  0.24002962  0.1023929  -0.56759282  0.94290977 -2.10289614 -0.27062758\n",
      "  0.05601805  0.01317112]\n",
      "[ 0.          0.          0.          1.57079633  0.03549031  0.03643153\n",
      "  0.23367016  0.10423517 -0.16950447  0.26983947 -1.17610012  1.22908226\n",
      " -0.02348856 12.68407215]\n",
      "[ 0.          0.          0.          1.57079633  0.03510925  0.03548477\n",
      "  0.23566474  0.1074723   0.77279869 -0.13763666 -3.90713102  5.07599458\n",
      " -0.20530905 13.86933063]\n",
      "[ 0.          0.          0.          1.57079633  0.0346491   0.03438779\n",
      "  0.23836644  0.11172381 -0.25257324 -0.14548898 -2.48304836  2.5907885\n",
      " -0.8950925   3.916681  ]\n",
      "[ 0.          0.          0.          1.57079633  0.03392797  0.03327926\n",
      "  0.24062552  0.1151037  -0.32606303  0.06882341 -2.64710262 -0.8454853\n",
      " -0.27376895 10.30858022]\n",
      "[ 0.          0.          0.          1.57079633  0.03413253  0.03267285\n",
      "  0.24542337  0.12159135 -0.55937235  3.11310609 -3.85164504 -2.83031254\n",
      "  0.19588581  3.76342534]\n",
      "[ 0.          0.          0.          1.57079633  0.03525758  0.03245932\n",
      "  0.2526615   0.13168609  2.06234663  1.94781557 -5.36864002  1.47897079\n",
      "  0.24931587  0.08750653]\n",
      "[ 0.          0.          0.          1.57079633  0.03673399  0.03231467\n",
      "  0.26147661  0.1439383   0.02947269 -0.44379096 -4.71295218  0.32607418\n",
      " -0.60000097 13.97131367]\n",
      "[ 0.          0.          0.          1.57079633  0.0387211   0.0321989\n",
      "  0.27256201  0.15987641  0.6031295  -3.5537493  -6.37424143 11.19894811\n",
      " -1.46351101 14.17790185]\n",
      "[ 0.          0.          0.          1.57079633  0.04296011  0.03256645\n",
      "  0.29046021  0.1861261  -0.83875752 -2.10997724 -7.59757493 -6.16119986\n",
      " -1.07315086 12.04831932]\n",
      "[ 0.          0.          0.          1.57079633  0.04972519  0.03341334\n",
      "  0.3         0.22145139 -0.49506167 -0.69291957 -6.15428348 -2.19935259\n",
      " -1.36053994 10.14531722]\n",
      "[ 0.          0.          0.          1.57079633  0.05867452  0.03438599\n",
      "  0.3         0.26523248 -0.33772061 -0.12573439 -6.16978227  5.42259275\n",
      " -1.37564937  9.70732857]\n",
      "[ 0.          0.          0.          1.57079633  0.073829    0.03581107\n",
      "  0.3         0.3        -0.27707313  1.44459323 -6.79785569 -6.26479459\n",
      " -1.02029264  9.99344755]\n",
      "[ 0.          0.          0.          1.57079633  0.10303542  0.03787537\n",
      "  0.3         0.3        -0.11598955  1.79880635 -6.98770494 -0.26474734\n",
      "  0.50430159  3.77958831]\n",
      "[ 0.          0.          0.          1.57079633  0.15945268  0.04023178\n",
      "  0.29780249  0.3         0.1003805   3.00343512 -5.94430654 -5.3791002\n",
      " -1.1308495   9.83877092]\n",
      "[ 0.          0.          0.          1.57079633  0.25584335  0.04219114\n",
      "  0.29053318 -1.          0.05780166  0.99223806 -3.93507946  3.30848306\n",
      " -0.2096509   6.06709881]\n",
      "[ 0.          0.          0.          1.57079633  0.3         0.04415769\n",
      "  0.28470323  0.3         0.18473557  0.05997891 -4.98213504  0.88304098\n",
      " -0.56526175  7.52918638]\n",
      "[ 0.          0.          0.          1.57079633  0.3         0.04680697\n",
      "  0.27860372  0.3         0.2671855  -0.26362205 -5.47939919 -4.61200206\n",
      " -0.70332849  9.99249261]\n",
      "[ 0.          0.          0.          1.57079633  0.3         0.05108077\n",
      "  0.27143708  0.3        -0.07224541 -1.68975036 -8.36237931  6.66683687\n",
      "  4.65144401  7.19561192]\n",
      "[ 0.          0.          0.          1.57079633  0.3         0.05649097\n",
      "  0.08473389  0.3         0.08256662 -2.53124895 -7.51511417  6.42642447\n",
      " -1.09785811 10.86592977]\n",
      "[ 0.          0.          0.          1.57079633  0.3         0.06053804\n",
      "  0.08233458  0.3         0.36970822 -2.73541755 -3.76681424 -8.08292183\n",
      " -0.35729695  7.46670126]\n",
      "[ 0.          0.          0.          1.57079633  0.3         0.06470237\n",
      "  0.08032425  0.3        -0.75895582  0.24919413 -6.17173525 -7.02528401\n",
      " -1.25545477 12.8811862 ]\n",
      "[ 0.          0.          0.          1.57079633  0.3         0.07158037\n",
      "  0.07779405  0.20981259 -0.07997375  1.42619844 -7.67330052 -2.35734177\n",
      " -1.9221022   5.70391339]\n",
      "[ 0.          0.          0.          1.57079633  0.3         0.07941403\n",
      "  0.07565561  0.21675583  0.06394943 -0.13044381 -6.66388102  5.15988897\n",
      "  0.43153939  4.75757413]\n",
      "[ 0.00000000e+00  0.00000000e+00  0.00000000e+00  1.57079633e+00\n",
      "  3.00000000e-01  8.87671238e-02  7.36881880e-02  2.24844415e-01\n",
      "  6.76442141e-03 -1.66404499e-01 -6.75620850e+00  3.34989009e+00\n",
      " -1.85462918e+00  1.05200484e+01]\n",
      "[ 0.          0.          0.          1.57079633  0.3         0.09716071\n",
      "  0.07214296  0.2312128  -0.34022557  0.27031398 -3.24609078 -0.86236321\n",
      " -1.23548369 11.23993598]\n",
      "[ 0.          0.          0.          1.57079633  0.3         0.10231968\n",
      "  0.07101363  0.233795   -0.08034303  1.5157077  -1.74505559 -5.4976847\n",
      " -0.87288961  9.66821041]\n",
      "[ 0.          0.          0.          1.57079633  0.3         0.10429422\n",
      "  0.07014295  0.23304376  0.0334239   1.95564511  0.68108562 -2.0051193\n",
      " -0.41675682  9.76401929]\n",
      "[ 0.          0.          0.          1.57079633  0.3         0.1040225\n",
      "  0.06957898  0.23066817  0.22112188  2.915517    0.6081335  -1.68835511\n",
      " -1.28918194 11.21396093]\n",
      "[ 0.          0.          0.          1.57079633  0.23984799  0.10268078\n",
      "  0.06919708  0.24060923 -0.04653776 -0.18033716  1.84014488 -0.45655638\n",
      " -0.1738323  11.56568956]\n",
      "[ 0.          0.          0.          1.57079633  0.26572545  0.09989064\n",
      "  0.06896669  0.26604101 -0.09777408 -0.44604276  2.5988236  -1.20928869\n",
      "  0.09204966 10.5533369 ]\n",
      "[ 0.          0.          0.          1.57079633 -1.          0.09661293\n",
      "  0.06877362  0.21689991 -0.10160277 -1.88487116  2.81211454  5.62326617\n",
      "  0.26432193 10.30034459]\n",
      "[ 0.          0.          0.          1.57079633  0.3         0.09271762\n",
      "  0.06872288  0.21032684 -0.08940373 -1.48292701  3.89932842 -1.96783411\n",
      "  0.43333658 10.13220308]\n",
      "[ 0.          0.          0.          1.57079633  0.3         0.08830384\n",
      "  0.0690716   0.20389287 -0.04427017 -0.09934963  3.77079577 -5.95187348\n",
      "  0.44282418  9.78763233]\n",
      "[ 0.          0.          0.          1.57079633  0.3         0.08615257\n",
      "  0.06925063  0.20041816  0.02214399 -0.12862366  0.45326956  0.09119995\n",
      "  0.29623807  9.77160667]\n",
      "[ 0.          0.          0.          1.57079633  0.3         0.08699504\n",
      "  0.06885305  0.20018786  0.02514577 -0.25603709 -1.18471672  0.50284155\n",
      "  0.0647681   9.59717064]\n",
      "[ 0.          0.          0.          1.57079633  0.3         0.08736988\n",
      "  0.06850852  0.19911891 -0.01405362 -1.71395766  0.96050148  0.43458273\n",
      "  0.33649903  3.61740778]\n",
      "[ 0.          0.          0.          1.57079633  0.3         0.08806751\n",
      "  0.06805874  0.19828819 -0.08388672 -0.6855668  -1.58084115 -3.85066219\n",
      " -0.5479022  11.23589308]\n",
      "[ 0.          0.          0.          1.57079633  0.3         0.09037699\n",
      "  0.06736965  0.19950511 -0.03518543 -0.14352546 -1.48707979 -2.20214183\n",
      " -0.06188669  9.62714578]\n",
      "[ 0.          0.          0.          1.57079633  0.3         0.09485293\n",
      "  0.06633149  0.20277982 -0.35032561 -0.18265387 -3.63315495 -1.37857951\n",
      " -0.88691082  1.50226718]\n",
      "[ 0.          0.          0.          1.57079633  0.3         0.1003569\n",
      "  0.06527055  0.20691692 -0.44959852  0.67537841 -3.42541128  4.37926368\n",
      " -0.36239099 11.9516575 ]\n",
      "[ 0.          0.          0.          1.57079633  0.3         0.10485842\n",
      "  0.06424627  0.20920082 -0.44462583  0.16944676 -1.50403627  6.73272851\n",
      " -0.32986756 11.70890152]\n",
      "[ 0.          0.          0.          1.57079633  0.3         0.10836445\n",
      "  0.06311904  0.20960545  0.18639094  0.01479609 -1.26626772  4.07434787\n",
      " -0.58906076 10.45299078]\n",
      "[ 0.          0.          0.          1.57079633  0.3         0.11081982\n",
      "  0.06189293  0.20826571  0.15555551 -0.06138224  0.10218753  3.70173483\n",
      " -0.28543245 10.06876889]\n",
      "[ 0.          0.          0.          1.57079633  0.3         0.11230522\n",
      "  0.06084861  0.20641397  0.27018806  3.26378409  0.08066385 -7.44062339\n",
      "  0.25584899  5.12019057]\n",
      "[0.         0.         0.         1.57079633 0.3        0.11227461\n",
      " 0.06016149 0.20430205 0.60250195 3.01684383 0.32829765 0.34564768\n",
      " 0.63265769 8.88828752]\n",
      "[ 0.          0.          0.          1.57079633  0.20382491  0.11342773\n",
      "  0.05958299  0.19162335 -0.22174686 -0.04601219 -0.86839537 -1.20712379\n",
      "  0.4199217   8.19771072]\n",
      "[ 0.          0.          0.          1.57079633  0.3         0.11347664\n",
      "  0.05909783  0.20197301 -1.32873877 -2.79165859  1.52883071  7.48219448\n",
      "  0.38768067 13.69898795]\n",
      "[ 0.          0.          0.          1.57079633  0.3         0.11129056\n",
      "  0.05872714  0.19744004  0.39393364 -2.51928797  2.15321272 -1.31603628\n",
      " -0.21215479 12.5565193 ]\n",
      "[ 0.          0.          0.          1.57079633  0.3         0.11023378\n",
      "  0.06788728  0.19387113  0.49742524 -3.05264056  0.52784689  2.86234174\n",
      "  0.43835477 11.86653159]\n",
      "[ 0.          0.          0.          1.57079633  0.3         0.11226014\n",
      "  0.3         0.19306589  0.09517552 -0.85914098 -1.62055611 -3.10265577\n",
      " -0.23525465  9.9299861 ]\n",
      "[ 0.          0.          0.          1.57079633  0.3         0.11441063\n",
      "  0.3         0.19244512  0.0412247   0.08387172  0.23958634 -0.62646927\n",
      "  0.01237177  9.67490999]\n",
      "[ 0.          0.          0.          1.57079633  0.3         0.11564267\n",
      "  0.3         0.19039021  0.02987386  0.18860268 -0.23792859  7.06803677\n",
      "  0.22463193 10.10263047]\n",
      "[ 0.          0.          0.          1.57079633  0.3         0.11820336\n",
      "  0.3         0.18948983 -0.40846499  2.74792278 -1.00958868 -4.05107361\n",
      "  1.16530469  2.98651264]\n",
      "[ 0.          0.          0.          1.57079633  0.3         0.12035475\n",
      "  0.3         0.18875017  0.43320741  2.7426195  -0.18355493 -1.29632672\n",
      " -0.14387809 11.52409127]\n",
      "[ 0.00000000e+00  0.00000000e+00  0.00000000e+00  1.57079633e+00\n",
      "  3.00000000e-01  1.21297586e-01  3.00000000e-01  1.87477946e-01\n",
      "  8.83739370e-02  2.22471468e+00  1.00430324e-01 -9.42816756e-01\n",
      " -4.61172522e-03  1.07213569e+01]\n",
      "[ 0.          0.          0.          1.57079633  0.28241648  0.12119777\n",
      " -1.          0.18560572 -0.07387212  0.51101138  0.85557537  0.31415388\n",
      "  0.03236315 10.20478384]\n",
      "[ 0.          0.          0.          1.57079633  0.26939184  0.1194868\n",
      "  0.3         0.18258927 -0.15777384 -0.1345682   1.85385793 -4.04469284\n",
      "  0.08275066  9.88316386]\n",
      "[ 0.          0.          0.          1.57079633  0.27702889  0.12063537\n",
      "  0.3         0.18286526 -0.84698586 -0.0667597  -1.91372265  2.89404498\n",
      "  2.00261967  4.59387267]\n",
      "[ 0.          0.          0.          1.57079633  0.3         0.12339502\n",
      "  0.3         0.1847904   0.03101325 -0.94251074 -1.29801586  1.35033427\n",
      "  0.51308759  1.63829493]\n",
      "[ 0.          0.          0.          1.57079633  0.3         0.1263211\n",
      "  0.3         0.186733    1.49057026 -2.19127246 -1.54366504 -0.44934096\n",
      " -0.07288155 15.8866126 ]\n",
      "[ 0.          0.          0.          1.57079633  0.3         0.13286029\n",
      "  0.3         0.19215508  0.26565361 -1.49837292 -5.04175251 -5.28513388\n",
      " -0.4951552  14.85467942]\n",
      "[ 0.          0.          0.          1.57079633  0.3         0.1442244\n",
      "  0.3         0.20197972 -0.14581111 -1.37045744 -5.52375492  0.41489405\n",
      "  0.0718553  10.79231423]\n",
      "[ 0.          0.          0.          1.57079633  0.1573775   0.15625523\n",
      "  0.0530089   0.21221808 -0.27412941 -0.54508561 -4.24555024 -1.95424291\n",
      "  0.08207776  9.71097637]\n",
      "[ 0.          0.          0.          1.57079633  0.16023304  0.16379263\n",
      "  0.04870008  0.21824325 -1.17089395 -0.24422515 -1.26075203  4.35003581\n",
      "  0.24572302 12.29466641]\n",
      "[ 0.00000000e+00  0.00000000e+00  0.00000000e+00  1.57079633e+00\n",
      "  1.60262400e-01  1.64717644e-01  4.85983722e-02  2.18583933e-01\n",
      "  7.19501196e-02  7.99890921e-01 -3.56645117e-02 -4.93334732e-01\n",
      "  6.35107518e-04  7.01380620e-03]\n",
      "[ 0.          0.          0.          1.57079633  0.15991618  0.16460288\n",
      "  0.0484731   0.21810717  0.24575618  0.11870821  0.54835238  3.06437607\n",
      " -0.2463696  13.21517541]\n",
      "[ 0.          0.          0.          1.57079633  0.15875837  0.16157542\n",
      "  0.0501967   0.21570221  0.4496259   2.4969838   1.54963054 -9.38984822\n",
      " -0.23029781 12.9174377 ]\n",
      "[ 0.          0.          0.          1.57079633  0.15751067  0.1570399\n",
      "  0.0524959   0.21271264  0.04859368  2.0423056   1.46049597  2.81450746\n",
      " -0.05880431  9.8727541 ]\n",
      "[ 0.          0.          0.          1.57079633  0.15944774  0.15169099\n",
      "  0.05608529  0.2089425  -0.1477768   0.68951462  2.34796385  1.06557601\n",
      " -0.07852121  9.87909969]\n",
      "[ 0.          0.          0.          1.57079633  0.16377703  0.148098\n",
      "  0.05852531  0.2065615  -0.1317595   0.06718673  0.29887344 -0.379749\n",
      "  0.06575213  9.69147301]\n",
      "[ 0.          0.          0.          1.57079633  0.16485144  0.14719294\n",
      "  0.05791066  0.20667021 -0.11947452 -0.16449483  0.08455342 -2.53477471\n",
      "  0.01766781  9.60648039]\n",
      "[ 0.          0.          0.          1.57079633  0.3         0.14245281\n",
      "  0.06086639  0.203812   -0.33472452 -0.64745068  2.7441358   4.4884837\n",
      " -0.51034582  5.15975562]\n",
      "[ 0.          0.          0.          1.57079633  0.3         0.13683233\n",
      "  0.3         0.2001929  -0.57581115 -1.00199112  1.77021347 -4.2902232\n",
      "  0.2562036  10.65169207]\n",
      "[ 0.          0.          0.          1.57079633  0.3         0.13447356\n",
      "  0.3         0.19893369  0.63026683 -3.78949042  0.16352139 10.5763521\n",
      "  0.62413821 12.31717051]\n",
      "[ 0.          0.          0.          1.57079633  0.3         0.13342113\n",
      "  0.3         0.1980385  -0.12575078 -2.44248744  0.71914555 -3.88458926\n",
      "  0.18547345  5.85905189]\n",
      "[ 0.          0.          0.          1.57079633  0.3         0.13203883\n",
      "  0.3         0.19651849 -0.02262887  1.04252407  0.70066257 -7.15973349\n",
      " -0.63479502 13.18395482]\n",
      "[ 0.          0.          0.          1.57079633  0.3         0.13159841\n",
      "  0.3         0.19523392  0.14084985  0.35678404  0.03792292  9.86837867\n",
      "  0.38271125 13.03376235]\n",
      "最初の１マス進む処理\n",
      "目標速度： 0.15 ＃＃＃＃＃＃＃＃\n",
      "目標速度： 0 ＃＃＃＃＃＃＃＃\n",
      "目標速度： -0.15 ＃＃＃＃＃＃＃＃\n"
     ]
    },
    {
     "ename": "KeyboardInterrupt",
     "evalue": "",
     "output_type": "error",
     "traceback": [
      "\u001b[1;31m---------------------------------------------------------------------------\u001b[0m",
      "\u001b[1;31mKeyboardInterrupt\u001b[0m                         Traceback (most recent call last)",
      "Cell \u001b[1;32mIn[6], line 426\u001b[0m\n\u001b[0;32m    424\u001b[0m before_ax, before_ay, before_az \u001b[38;5;241m=\u001b[39m get_accel(model, data)\n\u001b[0;32m    425\u001b[0m gx, gy, gz \u001b[38;5;241m=\u001b[39m get_gyro(model, data)\n\u001b[1;32m--> 426\u001b[0m lf, ls, rs, rf \u001b[38;5;241m=\u001b[39m \u001b[43mget_distance\u001b[49m\u001b[43m(\u001b[49m\u001b[43mmodel\u001b[49m\u001b[43m,\u001b[49m\u001b[43m \u001b[49m\u001b[43mdata\u001b[49m\u001b[43m)\u001b[49m \u001b[38;5;66;03m#各センサ値を取得\u001b[39;00m\n\u001b[0;32m    429\u001b[0m \u001b[38;5;28;01mif\u001b[39;00m ls \u001b[38;5;241m>\u001b[39m \u001b[38;5;241m0.09\u001b[39m:\n\u001b[0;32m    430\u001b[0m   \u001b[38;5;28mprint\u001b[39m(\u001b[38;5;124m\"\u001b[39m\u001b[38;5;124m左に壁がないとき\u001b[39m\u001b[38;5;124m\"\u001b[39m)\n",
      "Cell \u001b[1;32mIn[6], line 41\u001b[0m, in \u001b[0;36mget_distance\u001b[1;34m(model, data)\u001b[0m\n\u001b[0;32m     38\u001b[0m     data\u001b[38;5;241m.\u001b[39mactuator(\u001b[38;5;124m'\u001b[39m\u001b[38;5;124mright\u001b[39m\u001b[38;5;124m'\u001b[39m)\u001b[38;5;241m.\u001b[39mctrl[\u001b[38;5;241m0\u001b[39m] \u001b[38;5;241m=\u001b[39m right\n\u001b[0;32m     39\u001b[0m     data\u001b[38;5;241m.\u001b[39mactuator(\u001b[38;5;124m'\u001b[39m\u001b[38;5;124mleft\u001b[39m\u001b[38;5;124m'\u001b[39m)\u001b[38;5;241m.\u001b[39mctrl[\u001b[38;5;241m0\u001b[39m] \u001b[38;5;241m=\u001b[39m left\n\u001b[1;32m---> 41\u001b[0m \u001b[38;5;28;01mdef\u001b[39;00m \u001b[38;5;21mget_distance\u001b[39m(model, data):\n\u001b[0;32m     42\u001b[0m     lf \u001b[38;5;241m=\u001b[39m data\u001b[38;5;241m.\u001b[39msensor(\u001b[38;5;124m'\u001b[39m\u001b[38;5;124mLF\u001b[39m\u001b[38;5;124m'\u001b[39m)\u001b[38;5;241m.\u001b[39mdata[\u001b[38;5;241m0\u001b[39m]\u001b[38;5;66;03m#sensordata[lf_id]\u001b[39;00m\n\u001b[0;32m     43\u001b[0m     ls \u001b[38;5;241m=\u001b[39m data\u001b[38;5;241m.\u001b[39msensor(\u001b[38;5;124m'\u001b[39m\u001b[38;5;124mLS\u001b[39m\u001b[38;5;124m'\u001b[39m)\u001b[38;5;241m.\u001b[39mdata[\u001b[38;5;241m0\u001b[39m]\u001b[38;5;66;03m#sensordata[ls_id]\u001b[39;00m\n",
      "\u001b[1;31mKeyboardInterrupt\u001b[0m: "
     ]
    }
   ],
   "source": [
    "import gymnasium as gym\n",
    "from stable_baselines3 import SAC, PPO\n",
    "from tqdm import trange\n",
    "import matplotlib.pyplot as plt\n",
    "from gymnasium.wrappers import RecordVideo\n",
    "import datetime\n",
    "\n",
    "# env = gym.make(\"ALE/Breakout-v5\",  render_mode=\"human\")\n",
    "# env = gym.make(\"CartPole-v1\",  render_mode=\"human\")\n",
    "# # env = Monitor(env, \"./gym-results\", force=True, video_callable=lambda episode: True)　こんな感じで，\n",
    "# model = SAC(\"MlpPolicy\", env, verbose=1)\n",
    "# model.learn(total_timesteps=200)\n",
    "\n",
    "from stable_baselines3.common.callbacks import BaseCallback\n",
    "\n",
    "start_time = datetime.datetime.now().replace(microsecond=0)\n",
    "\n",
    "env = gym.make(\"MouseRightEnv-v0\", render_mode=\"human\")\n",
    "# video_path = \"./\"  # 保存先のpath\n",
    "# env = RecordVideo(env, video_path, video_length=500)\n",
    "# env.model.opt.timestep = 0.01  # タイムステップを設定 RecordVideoする場合はそれ以降に書かないとerrorが出る\n",
    "\n",
    "# model = PPO(\"MlpPolicy\", env, verbose=0)\n",
    "RLmodel = PPO.load('test',env)\n",
    "\n",
    "\n",
    "\n",
    "\n",
    "import time\n",
    "import matplotlib.pyplot as plt\n",
    "import mujoco\n",
    "import mujoco.viewer\n",
    "import glfw\n",
    "import keyboard\n",
    "import math\n",
    "\n",
    "def action(model, data, left, right):\n",
    "    data.actuator('right').ctrl[0] = right\n",
    "    data.actuator('left').ctrl[0] = left\n",
    "\n",
    "def get_distance(model, data):\n",
    "    lf = data.sensor('LF').data[0]#sensordata[lf_id]\n",
    "    ls = data.sensor('LS').data[0]#sensordata[ls_id]\n",
    "    rs = data.sensor('RS').data[0]#sensordata[rs_id]\n",
    "    rf = data.sensor('RF').data[0]#sensordata[rf_id]\n",
    "    return lf,ls,rs,rf\n",
    "\n",
    "def get_accel(model, data):\n",
    "  ax = data.sensor('Accel').data[0]\n",
    "  ay = data.sensor('Accel').data[1]\n",
    "  az = data.sensor('Accel').data[2]\n",
    "  return ax,ay,az\n",
    "\n",
    "def get_gyro(model, data):\n",
    "  gx = data.sensor('Gyro').data[0]\n",
    "  gy = data.sensor('Gyro').data[1]\n",
    "  gz = data.sensor('Gyro').data[2]\n",
    "  return gx,gy,gz\n",
    "\n",
    "def get_odom(model, data): #今のタイヤの回転角度と速度（角度と角速度）を求める．\n",
    "  odm_right = data.actuator('right').length[0]/gear # 得た値をgearで割ったもの＝タイヤの角度(rad)\n",
    "  odm_left = data.actuator('left').length[0]/gear # ＝タイヤの角度\n",
    "  vel_left = data.actuator('left').velocity[0]/gear # ＝タイヤの回転角速度\n",
    "  return odm_right, odm_left\n",
    "\n",
    "def get_pulse_count(pre_odm_right, pre_odm_left, odm_right, odm_left): #回転量をパルスにする エンコーダの役割をする関数\n",
    "  \"\"\"\n",
    "    回転量の差から，パルス数を求める． エンコーダの役割をする関数\\\\\n",
    "    Returns:\n",
    "        right_pulse_num = 右タイヤのパルス数 \\\\\n",
    "          left_pulse_num = 左タイヤのパルス数\n",
    "    \"\"\"\n",
    "  global right_rotation_sum\n",
    "  global left_rotation_sum\n",
    "  pre_right_rotation_sum = right_rotation_sum\n",
    "  pre_left_rotation_sum = left_rotation_sum\n",
    "  right_rotation_sum += (odm_right - pre_odm_right)/(2*math.pi) *4096 #1周あたり4096段階で，細かい回転量を計測（分解能ほぼ無限のエンコーダ）\n",
    "  left_rotation_sum += (odm_left - pre_odm_left)/(2*math.pi) *4096 #1周あたり4096段階で，細かい回転量を計測（分解能ほぼ無限のエンコーダ）\n",
    "  right_pulse_num = int(right_rotation_sum) - int(pre_right_rotation_sum)\n",
    "  left_pulse_num = int(left_rotation_sum) - int(pre_left_rotation_sum)\n",
    "  # print(\"回転量をパルス段階に変換　この値の差が，実際に出たパルスとなる：\", right_pulse_num)\n",
    "  return right_pulse_num, left_pulse_num\n",
    "\n",
    "def get_odom_at_pulse(right_pulse_num, left_pulse_num): #今のタイヤの回転角度と速度（角度と角速度）を求める．\n",
    "  right_wheel_move = 2*math.pi * wheel_r * (right_pulse_num/4096) #２πｒ×回転数で移動距離を求める．/delta_t\n",
    "  left_wheel_move = 2*math.pi * wheel_r * (left_pulse_num/4096) #２πｒ×回転数で移動距離を求める．\n",
    "  right_wheel_vel = right_wheel_move/delta_t #移動距離から，速度を求める\n",
    "  left_wheel_vel = left_wheel_move/delta_t #移動距離から，速度を求める\n",
    "  mouse_vel = (right_wheel_vel + left_wheel_vel)/2 #左右平均が並進速度\n",
    "  mouse_radvel = (right_wheel_vel - left_wheel_vel)/tread #これがマウスの旋回角速度（rad/s）\n",
    "  return mouse_vel, mouse_radvel #これで，エンコーダによる各タイヤの推定速度が求められた\n",
    "\n",
    "\n",
    "\n",
    "paused = False\n",
    "def key_callback(keycode): #スペースキーで一時停止\n",
    "  if chr(keycode) == ' ':\n",
    "    global paused #グローバル変数のpausedを使用できるように，この関数のスコープ内に取り込む処理\n",
    "    paused = not paused #pausedの真偽値を逆にする　trueとfalseを反転\n",
    "\n",
    "\n",
    "# def P_straight_control(model, data):#左右の壁による位置補正\n",
    "#     now_speed_left = data.actuator('left').ctrl[0]\n",
    "#     now_speed_right = data.actuator('right').ctrl[0]\n",
    "#     lf, ls, rs, rf = get_distance(model, data)\n",
    "    \n",
    "#     sensor_diff = ls - rs # 目標値との誤差 正の値のときは，右に寄っている→左を下げて，右を早めたい\n",
    "#     # print(sensor_diff)\n",
    "#     left_mot = kp * -sensor_diff + 0.2\n",
    "#     right_mot = kp * sensor_diff + 0.2\n",
    "#     global turn_flag\n",
    "#     if turn_flag==1 or (lf<0.07 and rf <0.07):\n",
    "#         turn_flag = 1\n",
    "#         right_mot =  0.06\n",
    "#         left_mot  = -0.06\n",
    "#         if lf > 0.09 and rf > 0.09:\n",
    "#           turn_flag = 0\n",
    "#     return left_mot, right_mot\n",
    "\n",
    "#関数化で新しく作成した関数\n",
    "\n",
    "def mj_step_loop(model, data, loop_num): #mujocoのシミュレーションを任意の数だけ行う関数 グラフ化するときに不便かもしれないから不必要かも\n",
    "  for i in range(loop_num):\n",
    "    action(model, data, left_mot, right_mot)#なくても変わらない？？\n",
    "    mujoco.mj_step(model, data)\n",
    "    timevals.append(data.time)\n",
    "    #Vizualize\n",
    "    viz_now = data.time\n",
    "    if viz_now-viz_past>0.01:\n",
    "      viz_past = viz_now\n",
    "      viewer.sync()\n",
    "\n",
    "def straight(model, data, mouse_xpos, mouse_ypos, mouse_vel, mouse_angle_rad, pre_odm_right, pre_odm_left, kp=16.9, ki=1,):#前進0.5マス\n",
    "  #最初の前進\n",
    "  straight_kp = kp #デフォルトのゲインにして，変更があったらそれを使う\n",
    "  straight_ki = ki\n",
    "  \n",
    "  I_err_sum = 0 #これは関数ごとでいいのか，引数と戻り値にして引き継いでいくべきなのか？\n",
    "  target_vel = 0\n",
    "  past_time = data.time\n",
    "  # mouse_xpos = 0 #globalにして，引数で受け取ったものに足して言って，戻り値として座標を返すようにすべき？？\n",
    "  # mouse_ypos = 0\n",
    "  viz_past = 0 #globalにすべき??\n",
    "  # エンコーダを読み取る\n",
    "  pre_odm_right, pre_odm_left = get_odom(model, data)\n",
    "  for kagennsoku in range(3):\n",
    "    target_add_num = [0.15,0,-0.15] #各区間での目標速度を入れておくリスト\n",
    "    print(\"目標速度：\",target_add_num[kagennsoku], \"＃＃＃＃＃＃＃＃\")\n",
    "    for mokuhyou_zahyou_kousin in range(30):\n",
    "      target_vel += target_add_num[kagennsoku]/30 #0から始まって，\n",
    "      err_vel = target_vel - mouse_vel # 目標との速度誤差を計算\n",
    "      # print(\"原因説err_vel：\", err_vel)\n",
    "      I_err_sum += err_vel\n",
    "      left_mot = straight_kp * err_vel + straight_ki * I_err_sum\n",
    "      right_mot = straight_kp * err_vel + straight_ki * I_err_sum\n",
    "      action(model, data, left_mot, right_mot)\n",
    "      # 制御周期を遅くするため，シミュレーションを100回繰り返す\n",
    "      for seigyosyuuki_delay in range(100):\n",
    "        mujoco.mj_step(model, data)#################################################################\n",
    "        # lf, ls, rs, rf = get_distance(model, data) #各センサ値を取得\n",
    "      #Vizualize　あんまり細かく描画しすぎないように，0.01秒以上経ってたら描画するようにする\n",
    "      viz_now = data.time\n",
    "      if viz_now-viz_past>0.1:\n",
    "        viz_past = viz_now\n",
    "        viewer.sync()\n",
    "      \n",
    "      now_time = data.time\n",
    "      delta_t = now_time - past_time #シミュレーションが1ステップ終わった後の時間を取得\n",
    "      past_time = now_time\n",
    "      # エンコーダをもう一度読み取る　（行動後の値を取得）\n",
    "      odm_right, odm_left = get_odom(model, data)\n",
    "      # エンコーダ値から，この一瞬に出たパルス数を算出し，\n",
    "      right_pulse_num, left_pulse_num = get_pulse_count(pre_odm_right, pre_odm_left, odm_right, odm_left)\n",
    "      right_pulse_num_graph.append(right_pulse_num)\n",
    "      # パルス数から，移動速度と角速度を求める\n",
    "      mouse_vel, mouse_rad_vel = get_odom_at_pulse(right_pulse_num, left_pulse_num) #これで，エンコーダによるマウスの速度・角速度が推定できた\n",
    "      # 速度に時間を掛けて，移動距離を計算 まず向きを計算し，その後移動距離を求める\n",
    "      mouse_angle_rad += mouse_rad_vel * delta_t #マウスの角速度はパルスの左右差で求められるので，現在の角度は\n",
    "      # print(\"関数内は：\", mouse_angle_rad)\n",
    "      mouse_xpos += mouse_vel * math.cos(mouse_angle_rad) * delta_t #オドメトリで座標推定\n",
    "      mouse_ypos += mouse_vel * math.sin(mouse_angle_rad) * delta_t\n",
    "      # 一つ前のodom値を更新\n",
    "      pre_odm_right = odm_right\n",
    "      pre_odm_left = odm_left \n",
    "      #Vizualize\n",
    "      viz_now = data.time\n",
    "      if viz_now-viz_past>0.01:\n",
    "        viz_past = viz_now\n",
    "        viewer.sync()\n",
    "\n",
    "  return model, data, mouse_xpos, mouse_ypos, mouse_vel, mouse_angle_rad, pre_odm_right, pre_odm_left\n",
    "\n",
    "def right_curve(model, data, mouse_xpos, mouse_ypos, mouse_rad_vel, mouse_angle_rad, pre_odm_right, pre_odm_left, kp=0.57, ki=0,):\n",
    "  r_turn_kp = kp\n",
    "  r_turn_ki = ki\n",
    "  # エンコーダを読み取る\n",
    "  pre_odm_right, pre_odm_left = get_odom(model, data)\n",
    "  target_rad_vel = 0\n",
    "  I_err_rad_vel_sum = 0 #これは関数ごとでいいのか，引数と戻り値にして引き継いでいくべきなのか？\n",
    "  past_time = data.time\n",
    "  viz_past = 0 #globalにすべき??\n",
    "  for kasoku in range(3):\n",
    "    target_add_rad_vel = [(math.pi*5/6),0,(-math.pi*5/6)]\n",
    "    print(target_add_rad_vel[kasoku], \"＃＃＃＃＃＃＃＃＃＃＃＃＃＃＃＃＃＃＃＃＃＃＃＃\")\n",
    "    for kukan in range(30):\n",
    "      target_rad_vel += target_add_rad_vel[kasoku]/30 #目標回転角速度を15度/秒にすると\n",
    "      err_rad_vel = target_rad_vel - mouse_rad_vel # 目標との角速度誤差を計算\n",
    "      I_err_rad_vel_sum += err_rad_vel # 目標との角速度誤差を積算\n",
    "      left_mot = -r_turn_kp * err_rad_vel - r_turn_ki * I_err_rad_vel_sum\n",
    "      right_mot = r_turn_kp * err_rad_vel + r_turn_ki * I_err_rad_vel_sum\n",
    "      action(model, data, left_mot, right_mot)\n",
    "      for seigyosyuuki in range(100):\n",
    "        mujoco.mj_step(model, data)\n",
    "      #Vizualize\n",
    "      viz_now = data.time\n",
    "      if viz_now-viz_past>0.01:\n",
    "        viz_past = viz_now\n",
    "        viewer.sync()\n",
    "      now_time = data.time\n",
    "      delta_t = now_time - past_time\n",
    "      past_time = now_time\n",
    "      # エンコーダをもう一度読み取る\n",
    "      odm_right, odm_left = get_odom(model, data)\n",
    "      # この一瞬に出たパルス数を算出し，\n",
    "      right_pulse_num, left_pulse_num = get_pulse_count(pre_odm_right, pre_odm_left, odm_right, odm_left)\n",
    "      right_pulse_num_graph.append(right_pulse_num)\n",
    "      # パルス数から，移動速度と角速度を求める\n",
    "      mouse_vel, mouse_rad_vel = get_odom_at_pulse(right_pulse_num, left_pulse_num) #これで，エンコーダによるマウスの速度・角速度が推定できた\n",
    "      # mouse_vel_graph.append(mouse_vel)\n",
    "      # 速度に時間を掛けて，移動距離を計算 まず向きを計算し，その後移動距離を求める\n",
    "      mouse_angle_rad += mouse_rad_vel * delta_t\n",
    "      mouse_xpos += mouse_vel * math.cos(mouse_angle_rad) * delta_t\n",
    "      mouse_ypos += mouse_vel * math.sin(mouse_angle_rad) * delta_t\n",
    "      mouse_xpos_graph.append(mouse_xpos)\n",
    "      mouse_ypos_graph.append(mouse_ypos)\n",
    "      # 一つ前のodom値を更新\n",
    "      pre_odm_right = odm_right\n",
    "      pre_odm_left = odm_left\n",
    "      viz_now = data.time\n",
    "      if viz_now-viz_past>0.01:\n",
    "        viz_past = viz_now\n",
    "        viewer.sync()\n",
    "\n",
    "  return model, data, mouse_xpos, mouse_ypos, mouse_rad_vel, mouse_angle_rad, pre_odm_right, pre_odm_left\n",
    "\n",
    "\n",
    "def left_curve(model, data, mouse_xpos, mouse_ypos, mouse_rad_vel, mouse_angle_rad, pre_odm_right, pre_odm_left, kp=0.57, ki=0,):\n",
    "  r_turn_kp = kp\n",
    "  r_turn_ki = ki\n",
    "  # エンコーダを読み取る\n",
    "  pre_odm_right, pre_odm_left = get_odom(model, data)\n",
    "  target_rad_vel = 0\n",
    "  I_err_rad_vel_sum = 0 #これは関数ごとでいいのか，引数と戻り値にして引き継いでいくべきなのか？\n",
    "  past_time = data.time\n",
    "  viz_past = 0 #globalにすべき??\n",
    "  for kasoku in range(3):\n",
    "    target_add_rad_vel = [(-math.pi*5/6),0,(math.pi*5/6)]\n",
    "    print(target_add_rad_vel[kasoku], \"＃＃＃＃＃＃＃＃＃＃＃＃＃＃＃＃＃＃＃＃＃＃＃＃\")\n",
    "    for kukan in range(30):\n",
    "      target_rad_vel += target_add_rad_vel[kasoku]/30 #目標回転角速度を15度/秒にすると\n",
    "      err_rad_vel = target_rad_vel - mouse_rad_vel # 目標との角速度誤差を計算\n",
    "      I_err_rad_vel_sum += err_rad_vel # 目標との角速度誤差を積算\n",
    "      left_mot = -r_turn_kp * err_rad_vel - r_turn_ki * I_err_rad_vel_sum\n",
    "      right_mot = r_turn_kp * err_rad_vel + r_turn_ki * I_err_rad_vel_sum\n",
    "      action(model, data, left_mot, right_mot)\n",
    "      for seigyosyuuki in range(100):\n",
    "        mujoco.mj_step(model, data)\n",
    "      #Vizualize\n",
    "      viz_now = data.time\n",
    "      if viz_now-viz_past>0.01:\n",
    "        viz_past = viz_now\n",
    "        viewer.sync()\n",
    "      now_time = data.time\n",
    "      delta_t = now_time - past_time\n",
    "      past_time = now_time\n",
    "      # エンコーダをもう一度読み取る\n",
    "      odm_right, odm_left = get_odom(model, data)\n",
    "      # この一瞬に出たパルス数を算出し，\n",
    "      right_pulse_num, left_pulse_num = get_pulse_count(pre_odm_right, pre_odm_left, odm_right, odm_left)\n",
    "      right_pulse_num_graph.append(right_pulse_num)\n",
    "      # パルス数から，移動速度と角速度を求める\n",
    "      mouse_vel, mouse_rad_vel = get_odom_at_pulse(right_pulse_num, left_pulse_num) #これで，エンコーダによるマウスの速度・角速度が推定できた\n",
    "      # mouse_vel_graph.append(mouse_vel)\n",
    "      # 速度に時間を掛けて，移動距離を計算 まず向きを計算し，その後移動距離を求める\n",
    "      mouse_angle_rad += mouse_rad_vel * delta_t\n",
    "      mouse_xpos += mouse_vel * math.cos(mouse_angle_rad) * delta_t\n",
    "      mouse_ypos += mouse_vel * math.sin(mouse_angle_rad) * delta_t\n",
    "      mouse_xpos_graph.append(mouse_xpos)\n",
    "      mouse_ypos_graph.append(mouse_ypos)\n",
    "      # 一つ前のodom値を更新\n",
    "      pre_odm_right = odm_right\n",
    "      pre_odm_left = odm_left\n",
    "      viz_now = data.time\n",
    "      if viz_now-viz_past>0.01:\n",
    "        viz_past = viz_now\n",
    "        viewer.sync()\n",
    "\n",
    "  return model, data, mouse_xpos, mouse_ypos, mouse_rad_vel, mouse_angle_rad, pre_odm_right, pre_odm_left\n",
    "\n",
    "\n",
    "\n",
    "\n",
    "\n",
    "\n",
    "#Create model\n",
    "# model = mujoco.MjModel.from_xml_path('../mouse_in_maze.xml')\n",
    "# data = mujoco.MjData(model)\n",
    "model = env.model\n",
    "data = env.data\n",
    "\n",
    "odom_right_graph = []\n",
    "mouse_correct_vel_graph = []\n",
    "\n",
    "gear = 9.0e-3\n",
    "wheel_r = 0.0135\n",
    "tread = 0.072\n",
    "mx = 0.0\n",
    "my = 0.0\n",
    "psi = 0.0\n",
    "past_odom_right = 0.0\n",
    "past_odom_left = 0.0\n",
    "# kp = 100\n",
    "# st_Kp = 1.55 #ダンピング3.6e-6のときの最適なゲイン\n",
    "st_Kp = 8.4\n",
    "rad_Kp = 0.15\n",
    "rad_vel_Kp = 2\n",
    "\n",
    "rad_Kd = 0.00001\n",
    "\n",
    "ki6 = 0.02\n",
    "kd = 0.09\n",
    "I_err_sum = 0\n",
    "d_grad = 0\n",
    "prev_err_rad = 0\n",
    "target_vel = 0\n",
    "target_rad = math.pi/2\n",
    "target_rad_vel = 0\n",
    "mjstep_count = 0\n",
    "\n",
    "right_pulse_num = 0\n",
    "right_pulse_num_graph = []\n",
    "left_pulse_num = 0\n",
    "left_pulse_num_graph = []\n",
    "\n",
    "right_rotation_sum = 0\n",
    "left_rotation_sum = 0\n",
    "\n",
    "mouse_vel = 0\n",
    "mouse_rad_vel = 0\n",
    "mouse_xpos = 0\n",
    "mouse_xpos_graph = []\n",
    "mouse_ypos = 0\n",
    "mouse_ypos_graph = []\n",
    "target_vel_graph = []\n",
    "err_vel_graph = []\n",
    "mouse_vel_graph = []\n",
    "\n",
    "viz_now = 0.0\n",
    "viz_past = 0.0\n",
    "now_time = 0\n",
    "past_time = 0\n",
    "turn_flag = 0\n",
    "x_vel = 0\n",
    "y_vel = 0\n",
    "z_vel = 0\n",
    "err = 0\n",
    "delta_t = 0.01\n",
    "mouse_now_rad_xy = math.pi/2 #y軸方向を向いている\n",
    "I_err_rad_vel_sum = 0\n",
    "mouse_angle_rad = (math.pi/2)\n",
    "right_mot = 0\n",
    "left_mot = 0 #最初は0\n",
    "\n",
    "#デバッグ用グラフのためのリスト\n",
    "LRF_lf_graph = []\n",
    "LRF_ls_graph = []\n",
    "LRF_rs_graph = []\n",
    "LRF_rf_graph = []\n",
    "left_mot_graph = []\n",
    "x_vel_graph = []\n",
    "velocimeter_graph = []\n",
    "err_graph = []\n",
    "err_rad_graph = []\n",
    "gyro_graph = []\n",
    "yzahyou = []\n",
    "timevals = []\n",
    "timevals5 = []\n",
    "timevals6 = []\n",
    "mouse_angle_rad_graph = []\n",
    "mouse_correct_rad_vel_graph = []\n",
    "mouse_rad_vel_graph = []\n",
    "err_rad_vel_graph = []\n",
    "target_rad_vel_graph = []\n",
    "\n",
    "with mujoco.viewer.launch_passive(model, data, key_callback=key_callback) as viewer: #キーイベントが発生すると、登録されたコールバック関数であるkey_callbackが自動的に呼び出され、キーコードやその他のイベント情報が引数keycodeとして渡されます。\n",
    "  # 最初の準備 わずかに浮いているせいで最初だけ推測速度が大きくなるので，一度地面につかせる\n",
    "  time.sleep(3) #3秒待ってからスタート ウインドウを出すために待ってもらう\n",
    "  left_mot = 0\n",
    "  right_mot = 0\n",
    "  for seigyosyuuki2 in range(10000): #マウスを地面につけるために，100回シミュレーションを回す　空中でタイヤを回し始めないようにするため\n",
    "    action(model, data, left_mot, right_mot)\n",
    "    mujoco.mj_step(model, data)\n",
    "  past_time = data.time #最初の時間を取得\n",
    "  for ip in range(100):\n",
    "    obs = env.get_obs()\n",
    "    print(obs)\n",
    "    Action, _ = RLmodel.predict(obs)\n",
    "    left_mot = Action[0]\n",
    "    right_mot = Action[1]\n",
    "    action(model, data, left_mot, right_mot)\n",
    "    # 制御周期を遅くするため，シミュレーションを100回繰り返す\n",
    "    for ip in range(100):\n",
    "      mujoco.mj_step(model, data)#################################################################\n",
    "    # lf, ls, rs, rf = get_distance(model, data) #各センサ値を取得\n",
    "      #Vizualize　あんまり細かく描画しすぎないように，0.01秒以上経ってたら描画するようにする\n",
    "  print(\"最初の１マス進む処理\")\n",
    "  target_vel = 0\n",
    "  pre_odm_right, pre_odm_left = get_odom(model, data)# エンコーダを読み取る\n",
    "  model, data, mouse_xpos, mouse_ypos, mouse_vel, mouse_angle_rad, pre_odm_right, pre_odm_left = straight(model, data, mouse_xpos, mouse_ypos, mouse_vel, mouse_angle_rad, pre_odm_right, pre_odm_left, kp=4.9, ki=0,) #最初の前進\n",
    "  \n",
    "  while viewer.is_running():\n",
    "    \n",
    "    if not paused:\n",
    "      before_ax, before_ay, before_az = get_accel(model, data)\n",
    "      gx, gy, gz = get_gyro(model, data)\n",
    "      lf, ls, rs, rf = get_distance(model, data) #各センサ値を取得\n",
    "      \n",
    "\n",
    "      if ls > 0.09:\n",
    "        print(\"左に壁がないとき\")\n",
    "        # pre_odm_right, pre_odm_left = get_odom(model, data)# エンコーダを読み取る\n",
    "        model, data, mouse_xpos, mouse_ypos, mouse_vel, mouse_angle_rad, pre_odm_right, pre_odm_left = straight(model, data, mouse_xpos, mouse_ypos, mouse_vel, mouse_angle_rad, pre_odm_right, pre_odm_left, kp=4.9, ki=0,) #0.5マス前進\n",
    "        print(\"xpos:\",mouse_xpos)\n",
    "        print(\"ypos:\",mouse_ypos)\n",
    "        model, data, mouse_xpos, mouse_ypos, mouse_rad_vel, mouse_angle_rad, pre_odm_right, pre_odm_left = right_curve(model, data, mouse_xpos, mouse_ypos, mouse_vel, mouse_angle_rad, pre_odm_right, pre_odm_left, kp=0.57, ki=0.05,) #右にカーブ\n",
    "        print(\"xpos:\",mouse_xpos)\n",
    "        print(\"ypos:\",mouse_ypos)"
   ]
  },
  {
   "cell_type": "code",
   "execution_count": null,
   "metadata": {},
   "outputs": [],
   "source": [
    "def RLaction(obs, model):\n",
    "    import gymnasium as gym\n",
    "    from stable_baselines3 import SAC, PPO\n",
    "    from tqdm import trange\n",
    "    import matplotlib.pyplot as plt\n",
    "    from gymnasium.wrappers import RecordVideo\n",
    "    import datetime\n",
    "\n",
    "    # env = gym.make(\"ALE/Breakout-v5\",  render_mode=\"human\")\n",
    "    # env = gym.make(\"CartPole-v1\",  render_mode=\"human\")\n",
    "    # # env = Monitor(env, \"./gym-results\", force=True, video_callable=lambda episode: True)　こんな感じで，\n",
    "    # model = SAC(\"MlpPolicy\", env, verbose=1)\n",
    "    # model.learn(total_timesteps=200)\n",
    "\n",
    "    from stable_baselines3.common.callbacks import BaseCallback\n",
    "\n",
    "    start_time = datetime.datetime.now().replace(microsecond=0)\n",
    "\n",
    "    env = gym.make(\"MouseRightEnv-v0\", render_mode=\"human\")\n",
    "    # video_path = \"./\"  # 保存先のpath\n",
    "    # env = RecordVideo(env, video_path, video_length=500)\n",
    "    env.model.opt.timestep = 0.01  # タイムステップを設定 RecordVideoする場合はそれ以降に書かないとerrorが出る\n",
    "\n",
    "    # model = PPO(\"MlpPolicy\", env, verbose=0)\n",
    "    model = PPO.load('caricu_hidari',env)\n",
    "    # render_freq = 1000  # 1000ステップごとにレンダリング\n",
    "    # callback = CustomCallback(render_freq)\n",
    "    for i in range(200):\n",
    "        model.learn(total_timesteps=10000)#progress_bar = True, callback=callback)\n",
    "\n",
    "        for unk in trange(1000):\n",
    "            # 環境の描画\n",
    "            env.render()\n",
    "\n",
    "            # モデルの推論\n",
    "            action, _ = model.predict(obs)\n",
    "            obs, _, _, _  = env.step(action)\n",
    "    return obs"
   ]
  },
  {
   "cell_type": "code",
   "execution_count": 5,
   "metadata": {},
   "outputs": [
    {
     "name": "stderr",
     "output_type": "stream",
     "text": [
      "c:\\Users\\atusi\\anaconda3\\envs\\gymenv\\Lib\\site-packages\\gymnasium\\core.py:311: UserWarning: \u001b[33mWARN: env.model to get variables from other wrappers is deprecated and will be removed in v1.0, to get this variable you can do `env.unwrapped.model` for environment variables or `env.get_wrapper_attr('model')` that will search the reminding wrappers.\u001b[0m\n",
      "  logger.warn(\n"
     ]
    },
    {
     "name": "stdout",
     "output_type": "stream",
     "text": [
      "Wrapping the env with a `Monitor` wrapper\n",
      "Wrapping the env in a DummyVecEnv.\n"
     ]
    },
    {
     "name": "stderr",
     "output_type": "stream",
     "text": [
      "  0%|          | 0/1000 [00:00<?, ?it/s]"
     ]
    },
    {
     "name": "stderr",
     "output_type": "stream",
     "text": [
      "  0%|          | 3/1000 [00:00<00:38, 26.04it/s]"
     ]
    },
    {
     "name": "stdout",
     "output_type": "stream",
     "text": [
      "[ 0.2 -0.2]\n",
      "[ 0.2 -0.2]\n",
      "[ 0.2 -0.2]\n",
      "[ 0.2 -0.2]\n",
      "[ 0.2 -0.2]\n",
      "[ 0.2 -0.2]\n"
     ]
    },
    {
     "name": "stderr",
     "output_type": "stream",
     "text": [
      "  1%|▏         | 13/1000 [00:00<00:23, 41.23it/s]"
     ]
    },
    {
     "name": "stdout",
     "output_type": "stream",
     "text": [
      "[ 0.2 -0.2]\n",
      "[ 0.2 -0.2]\n",
      "[ 0.2 -0.2]\n",
      "[ 0.2 -0.2]\n",
      "[ 0.2 -0.2]\n",
      "[ 0.2 -0.2]\n",
      "[ 0.2 -0.2]\n",
      "[ 0.2 -0.2]\n",
      "[ 0.2 -0.2]\n",
      "[ 0.2 -0.2]\n"
     ]
    },
    {
     "name": "stderr",
     "output_type": "stream",
     "text": [
      "  2%|▏         | 24/1000 [00:00<00:21, 45.45it/s]"
     ]
    },
    {
     "name": "stdout",
     "output_type": "stream",
     "text": [
      "[ 0.2 -0.2]\n",
      "[ 0.2 -0.2]\n",
      "[ 0.2 -0.2]\n",
      "[ 0.2 -0.2]\n",
      "[ 0.2 -0.2]\n",
      "[ 0.2 -0.2]\n",
      "[ 0.2 -0.2]\n",
      "[ 0.2 -0.2]\n",
      "[ 0.2 -0.2]\n",
      "[ 0.2 -0.2]\n",
      "[ 0.2 -0.2]\n",
      "[ 0.2 -0.2]\n"
     ]
    },
    {
     "name": "stderr",
     "output_type": "stream",
     "text": [
      "  4%|▎         | 37/1000 [00:00<00:18, 53.43it/s]"
     ]
    },
    {
     "name": "stdout",
     "output_type": "stream",
     "text": [
      "[ 0.2 -0.2]\n",
      "[ 0.2 -0.2]\n",
      "[ 0.2 -0.2]\n",
      "[ 0.2 -0.2]\n",
      "[ 0.2 -0.2]\n",
      "[ 0.2 -0.2]\n",
      "[ 0.2 -0.2]\n",
      "[ 0.2 -0.2]\n",
      "[ 0.2 -0.2]\n",
      "[ 0.2 -0.2]\n",
      "[ 0.2 -0.2]\n",
      "[ 0.2 -0.2]\n",
      "[ 0.2 -0.2]\n"
     ]
    },
    {
     "name": "stderr",
     "output_type": "stream",
     "text": [
      "  5%|▍         | 49/1000 [00:01<00:17, 55.11it/s]"
     ]
    },
    {
     "name": "stdout",
     "output_type": "stream",
     "text": [
      "[ 0.2 -0.2]\n",
      "[ 0.2 -0.2]\n",
      "[ 0.2 -0.2]\n",
      "[ 0.2 -0.2]\n",
      "[ 0.2 -0.2]\n",
      "[ 0.2 -0.2]\n",
      "[ 0.2 -0.2]\n",
      "[ 0.2 -0.2]\n",
      "[ 0.2 -0.2]\n",
      "[ 0.2 -0.2]\n",
      "[ 0.2 -0.2]\n",
      "[ 0.2 -0.2]\n"
     ]
    },
    {
     "name": "stderr",
     "output_type": "stream",
     "text": [
      "  6%|▌         | 62/1000 [00:01<00:16, 56.67it/s]"
     ]
    },
    {
     "name": "stdout",
     "output_type": "stream",
     "text": [
      "[ 0.2 -0.2]\n",
      "[ 0.2 -0.2]\n",
      "[ 0.2 -0.2]\n",
      "[ 0.2 -0.2]\n",
      "[ 0.2 -0.2]\n",
      "[ 0.2 -0.2]\n",
      "[ 0.2 -0.2]\n",
      "[ 0.2 -0.2]\n",
      "[ 0.2 -0.2]\n",
      "[ 0.2 -0.2]\n",
      "[ 0.2 -0.2]\n",
      "[ 0.2 -0.2]\n"
     ]
    },
    {
     "name": "stderr",
     "output_type": "stream",
     "text": [
      "  7%|▋         | 74/1000 [00:01<00:16, 55.49it/s]"
     ]
    },
    {
     "name": "stdout",
     "output_type": "stream",
     "text": [
      "[ 0.2 -0.2]\n",
      "[ 0.2 -0.2]\n",
      "[ 0.2 -0.2]\n",
      "[ 0.2 -0.2]\n",
      "[ 0.2 -0.2]\n",
      "[ 0.2 -0.2]\n",
      "[ 0.2 -0.2]\n",
      "[ 0.2 -0.2]\n",
      "[ 0.2 -0.2]\n",
      "[ 0.2 -0.2]\n",
      "[ 0.2 -0.2]\n"
     ]
    },
    {
     "name": "stderr",
     "output_type": "stream",
     "text": [
      "  9%|▊         | 87/1000 [00:01<00:16, 55.76it/s]"
     ]
    },
    {
     "name": "stdout",
     "output_type": "stream",
     "text": [
      "[ 0.2 -0.2]\n",
      "[ 0.2 -0.2]\n",
      "[ 0.2 -0.2]\n",
      "[ 0.2 -0.2]\n",
      "[ 0.2 -0.2]\n",
      "[ 0.2 -0.2]\n",
      "[ 0.2 -0.2]\n",
      "[ 0.2 -0.2]\n",
      "[ 0.2 -0.2]\n",
      "[ 0.2 -0.2]\n",
      "[ 0.2 -0.2]\n"
     ]
    },
    {
     "name": "stderr",
     "output_type": "stream",
     "text": [
      "  9%|▉         | 93/1000 [00:01<00:17, 52.47it/s]"
     ]
    },
    {
     "name": "stdout",
     "output_type": "stream",
     "text": [
      "[ 0.2 -0.2]\n",
      "[ 0.2 -0.2]\n",
      "[ 0.2 -0.2]\n",
      "[ 0.2 -0.2]\n",
      "[ 0.2 -0.2]\n",
      "[ 0.2 -0.2]\n",
      "[ 0.2 -0.2]\n",
      "[ 0.2 -0.2]\n",
      "[ 0.2 -0.2]\n",
      "[ 0.2 -0.2]\n"
     ]
    },
    {
     "name": "stderr",
     "output_type": "stream",
     "text": [
      " 10%|█         | 105/1000 [00:02<00:16, 53.18it/s]"
     ]
    },
    {
     "name": "stdout",
     "output_type": "stream",
     "text": [
      "[ 0.2 -0.2]\n",
      "[ 0.2 -0.2]\n",
      "[ 0.2 -0.2]\n",
      "[ 0.2 -0.2]\n",
      "[ 0.2 -0.2]\n",
      "[ 0.2 -0.2]\n",
      "[ 0.2 -0.2]\n",
      "[ 0.2 -0.2]\n",
      "[ 0.2 -0.2]\n",
      "[ 0.2 -0.2]\n",
      "[ 0.2 -0.2]\n"
     ]
    },
    {
     "name": "stderr",
     "output_type": "stream",
     "text": [
      " 12%|█▏        | 118/1000 [00:02<00:16, 53.64it/s]"
     ]
    },
    {
     "name": "stdout",
     "output_type": "stream",
     "text": [
      "[ 0.2 -0.2]\n",
      "[ 0.2 -0.2]\n",
      "[ 0.2 -0.2]\n",
      "[ 0.2 -0.2]\n",
      "[ 0.2 -0.2]\n",
      "[ 0.2 -0.2]\n",
      "[ 0.2 -0.2]\n",
      "[ 0.2 -0.2]\n",
      "[ 0.2 -0.2]\n",
      "[ 0.2 -0.2]\n",
      "[ 0.2 -0.2]\n",
      "[ 0.2 -0.2]\n"
     ]
    },
    {
     "name": "stderr",
     "output_type": "stream",
     "text": [
      " 13%|█▎        | 131/1000 [00:02<00:15, 57.45it/s]"
     ]
    },
    {
     "name": "stdout",
     "output_type": "stream",
     "text": [
      "[ 0.2 -0.2]\n",
      "[ 0.2 -0.2]\n",
      "[ 0.2 -0.2]\n",
      "[ 0.2 -0.2]\n",
      "[ 0.2 -0.2]\n",
      "[ 0.2 -0.2]\n",
      "[ 0.2 -0.2]\n",
      "[ 0.2 -0.2]\n",
      "[ 0.2 -0.2]\n",
      "[ 0.2 -0.2]\n",
      "[ 0.2 -0.2]\n"
     ]
    },
    {
     "name": "stderr",
     "output_type": "stream",
     "text": [
      " 14%|█▎        | 137/1000 [00:02<00:15, 57.31it/s]"
     ]
    },
    {
     "name": "stdout",
     "output_type": "stream",
     "text": [
      "[ 0.2 -0.2]\n",
      "[ 0.2 -0.2]\n",
      "[ 0.2 -0.2]\n",
      "[ 0.2 -0.2]\n",
      "[ 0.2 -0.2]\n",
      "[ 0.2 -0.2]\n",
      "[ 0.2 -0.2]\n",
      "[ 0.2 -0.2]\n",
      "[ 0.2 -0.2]\n",
      "[ 0.2 -0.2]\n",
      "[ 0.2 -0.2]\n"
     ]
    },
    {
     "name": "stderr",
     "output_type": "stream",
     "text": [
      " 15%|█▌        | 150/1000 [00:02<00:14, 60.04it/s]"
     ]
    },
    {
     "name": "stdout",
     "output_type": "stream",
     "text": [
      "[ 0.2 -0.2]\n",
      "[ 0.2 -0.2]\n",
      "[ 0.2 -0.2]\n",
      "[ 0.2 -0.2]\n",
      "[ 0.2 -0.2]\n",
      "[ 0.2 -0.2]\n",
      "[ 0.2 -0.2]\n",
      "[ 0.2 -0.2]\n",
      "[ 0.2 -0.2]\n",
      "[ 0.2 -0.2]\n",
      "[ 0.2 -0.2]\n",
      "[ 0.2 -0.2]\n"
     ]
    },
    {
     "name": "stderr",
     "output_type": "stream",
     "text": [
      " 16%|█▋        | 163/1000 [00:03<00:14, 57.86it/s]"
     ]
    },
    {
     "name": "stdout",
     "output_type": "stream",
     "text": [
      "[ 0.2 -0.2]\n",
      "[ 0.2 -0.2]\n",
      "[ 0.2 -0.2]\n",
      "[ 0.2 -0.2]\n",
      "[ 0.2 -0.2]\n",
      "[ 0.2 -0.2]\n",
      "[ 0.2 -0.2]\n",
      "[ 0.2 -0.2]\n",
      "[ 0.2 -0.2]\n",
      "[ 0.2 -0.2]\n",
      "[ 0.2 -0.2]\n",
      "[ 0.2 -0.2]\n",
      "[ 0.2 -0.2]\n"
     ]
    },
    {
     "name": "stderr",
     "output_type": "stream",
     "text": [
      " 18%|█▊        | 175/1000 [00:03<00:16, 51.35it/s]"
     ]
    },
    {
     "name": "stdout",
     "output_type": "stream",
     "text": [
      "[ 0.2 -0.2]\n",
      "[ 0.2 -0.2]\n",
      "[ 0.2 -0.2]\n",
      "[ 0.2 -0.2]\n",
      "[ 0.2 -0.2]\n",
      "[ 0.2 -0.2]\n",
      "[ 0.2 -0.2]\n",
      "[ 0.2 -0.2]\n",
      "[ 0.2 -0.2]\n"
     ]
    },
    {
     "name": "stderr",
     "output_type": "stream",
     "text": [
      " 19%|█▊        | 187/1000 [00:03<00:15, 54.20it/s]"
     ]
    },
    {
     "name": "stdout",
     "output_type": "stream",
     "text": [
      "[ 0.2 -0.2]\n",
      "[ 0.2 -0.2]\n",
      "[ 0.2 -0.2]\n",
      "[ 0.2 -0.2]\n",
      "[ 0.2 -0.2]\n",
      "[ 0.2 -0.2]\n",
      "[ 0.2 -0.2]\n",
      "[ 0.2 -0.2]\n",
      "[ 0.2        -0.07892303]\n",
      "[0.2 0.2]\n",
      "[0.2 0.2]\n",
      "[ 0.01041871 -0.185366  ]\n",
      "[ 0.2       -0.1870716]\n"
     ]
    },
    {
     "name": "stderr",
     "output_type": "stream",
     "text": [
      " 19%|█▉        | 194/1000 [00:03<00:14, 56.02it/s]"
     ]
    },
    {
     "name": "stdout",
     "output_type": "stream",
     "text": [
      "[0.2        0.13940558]\n",
      "[-0.02868083 -0.2       ]\n",
      "[0.12967509 0.18499751]\n",
      "[0.2 0.2]\n",
      "[ 0.2       -0.1388307]\n",
      "[ 0.2        -0.04173266]\n",
      "[-0.16017163 -0.04337896]\n",
      "[ 0.2        -0.17509389]\n",
      "[ 0.2        -0.10611042]\n",
      "[ 0.2        -0.06384066]\n",
      "[ 0.2        -0.14520432]\n"
     ]
    },
    {
     "name": "stderr",
     "output_type": "stream",
     "text": [
      " 21%|██        | 208/1000 [00:03<00:13, 58.35it/s]"
     ]
    },
    {
     "name": "stdout",
     "output_type": "stream",
     "text": [
      "[ 0.2        -0.00930537]\n",
      "[ 0.2        -0.17931773]\n",
      "[0.2 0.2]\n",
      "[ 0.2        -0.01892159]\n",
      "[ 0.2        -0.06805708]\n",
      "[ 0.2        -0.03993582]\n",
      "[0.2 0.2]\n",
      "[ 0.2        -0.08214275]\n",
      "[ 0.2        -0.14345141]\n",
      "[0.2        0.13590309]\n",
      "[0.2 0.2]\n",
      "[ 0.2       -0.1160067]\n",
      "[0.2 0.2]\n"
     ]
    },
    {
     "name": "stderr",
     "output_type": "stream",
     "text": [
      " 22%|██▏       | 222/1000 [00:04<00:12, 60.44it/s]"
     ]
    },
    {
     "name": "stdout",
     "output_type": "stream",
     "text": [
      "[ 0.2 -0.2]\n",
      "[0.2        0.07390149]\n",
      "[0.2        0.09901986]\n",
      "[ 0.2        -0.08183586]\n",
      "[ 0.2        -0.01452869]\n",
      "[ 0.2       -0.0732442]\n",
      "[0.19746193 0.13282825]\n",
      "[0.2 0.2]\n",
      "[0.2 0.2]\n",
      "[0.2       0.1182022]\n",
      "[0.2        0.11298104]\n",
      "[0.2       0.0311581]\n",
      "[ 0.2        -0.09001231]\n"
     ]
    },
    {
     "name": "stderr",
     "output_type": "stream",
     "text": [
      " 24%|██▎       | 236/1000 [00:04<00:12, 60.64it/s]"
     ]
    },
    {
     "name": "stdout",
     "output_type": "stream",
     "text": [
      "[ 0.2        -0.08322192]\n",
      "[0.2        0.10834829]\n",
      "[ 0.2        -0.02212514]\n",
      "[0.2       0.0763331]\n",
      "[0.2        0.10438855]\n",
      "[0.2 0.2]\n",
      "[0.2       0.1915949]\n",
      "[ 0.07364827 -0.01238235]\n",
      "[0.2 0.2]\n",
      "[-0.06767142  0.2       ]\n",
      "[ 0.2        -0.03087075]\n",
      "[0.2 0.2]\n"
     ]
    },
    {
     "name": "stderr",
     "output_type": "stream",
     "text": [
      " 25%|██▍       | 249/1000 [00:04<00:12, 59.19it/s]"
     ]
    },
    {
     "name": "stdout",
     "output_type": "stream",
     "text": [
      "[0.00906023 0.2       ]\n",
      "[0.16670153 0.04257594]\n",
      "[0.2        0.02108528]\n",
      "[0.2 0.2]\n",
      "[-0.01278029  0.2       ]\n",
      "[0.2        0.01355353]\n",
      "[0.2 0.2]\n",
      "[0.2        0.17805016]\n",
      "[0.2 0.2]\n",
      "[0.19968534 0.18009315]\n",
      "[0.09442036 0.13825922]\n",
      "[-0.0494771  0.2      ]\n",
      "[0.2        0.15988564]\n"
     ]
    },
    {
     "name": "stderr",
     "output_type": "stream",
     "text": [
      " 26%|██▌       | 262/1000 [00:04<00:12, 59.78it/s]"
     ]
    },
    {
     "name": "stdout",
     "output_type": "stream",
     "text": [
      "[0.2 0.2]\n",
      "[0.2       0.1814923]\n",
      "[ 0.10658294 -0.01282498]\n",
      "[0.2 0.2]\n",
      "[0.2        0.10988859]\n",
      "[0.2        0.14681345]\n",
      "[0.2 0.2]\n",
      "[0.2       0.0418653]\n",
      "[ 0.2        -0.15540531]\n",
      "[0.2 0.2]\n",
      "[0.13201268 0.02088362]\n",
      "[0.2 0.2]\n",
      "[0.2        0.05231992]\n"
     ]
    },
    {
     "name": "stderr",
     "output_type": "stream",
     "text": [
      " 28%|██▊       | 275/1000 [00:04<00:12, 59.68it/s]"
     ]
    },
    {
     "name": "stdout",
     "output_type": "stream",
     "text": [
      "[0.2        0.13582349]\n",
      "[ 0.2       -0.0534247]\n",
      "[0.2        0.09843197]\n",
      "[ 0.2        -0.03272942]\n",
      "[ 0.2       -0.1571159]\n",
      "[ 0.2 -0.2]\n",
      "[ 0.2        -0.04906735]\n",
      "[ 0.2       -0.0606434]\n",
      "[0.2        0.12539408]\n",
      "[0.2        0.10721735]\n",
      "[0.2 0.2]\n"
     ]
    },
    {
     "name": "stderr",
     "output_type": "stream",
     "text": [
      " 28%|██▊       | 282/1000 [00:05<00:11, 59.95it/s]"
     ]
    },
    {
     "name": "stdout",
     "output_type": "stream",
     "text": [
      "[0.2        0.11767266]\n",
      "[0.2        0.05002556]\n",
      "[ 0.2        -0.11015487]\n",
      "[ 0.2 -0.2]\n",
      "[0.2        0.05688142]\n",
      "[0.2        0.11873234]\n",
      "[ 0.2        -0.18651909]\n",
      "[0.2        0.00189596]\n",
      "[0.01638371 0.17214371]\n",
      "[0.18276654 0.2       ]\n",
      "[ 0.2        -0.11564719]\n",
      "[0.2 0.2]\n",
      "[0.2 0.2]\n"
     ]
    },
    {
     "name": "stderr",
     "output_type": "stream",
     "text": [
      " 30%|██▉       | 295/1000 [00:05<00:11, 59.74it/s]"
     ]
    },
    {
     "name": "stdout",
     "output_type": "stream",
     "text": [
      "[0.12000445 0.17797302]\n",
      "[0.2        0.05836886]\n",
      "[0.2        0.08755478]\n",
      "[0.2 0.2]\n",
      "[0.2        0.16221058]\n",
      "[-0.13785975  0.15196542]\n",
      "[ 0.2        -0.08375481]\n",
      "[0.2 0.2]\n",
      "[0.2 0.2]\n",
      "[0.19020021 0.2       ]\n",
      "[ 0.05398194 -0.01801406]\n",
      "[0.2        0.13634568]\n",
      "[0.2        0.05219708]\n"
     ]
    },
    {
     "name": "stderr",
     "output_type": "stream",
     "text": [
      " 31%|███       | 309/1000 [00:05<00:11, 59.85it/s]"
     ]
    },
    {
     "name": "stdout",
     "output_type": "stream",
     "text": [
      "[0.04334418 0.1348891 ]\n",
      "[-0.08889173  0.2       ]\n",
      "[0.2 0.2]\n",
      "[0.2 0.2]\n",
      "[0.2        0.02021384]\n",
      "[0.2 0.2]\n",
      "[0.2        0.03426226]\n",
      "[0.2        0.11062206]\n",
      "[ 0.2        -0.04372848]\n",
      "[0.2 0.2]\n",
      "[0.2 0.2]\n",
      "[0.2       0.0104008]\n",
      "[ 0.2 -0.2]\n"
     ]
    },
    {
     "name": "stderr",
     "output_type": "stream",
     "text": [
      " 32%|███▏      | 322/1000 [00:05<00:11, 59.94it/s]"
     ]
    },
    {
     "name": "stdout",
     "output_type": "stream",
     "text": [
      "[ 0.2 -0.2]\n",
      "[0.2 0.2]\n",
      "[0.2        0.16791934]\n",
      "[0.2 0.2]\n",
      "[ 0.2        -0.00783699]\n",
      "[ 0.2 -0.2]\n",
      "[ 0.2        -0.16923213]\n",
      "[ 0.2 -0.2]\n",
      "[ 0.2        -0.08462227]\n",
      "[ 0.2 -0.2]\n",
      "[ 0.2 -0.2]\n",
      "[0.2        0.06665923]\n",
      "[ 0.2        -0.19071881]\n"
     ]
    },
    {
     "name": "stderr",
     "output_type": "stream",
     "text": [
      " 33%|███▎      | 334/1000 [00:05<00:11, 59.66it/s]"
     ]
    },
    {
     "name": "stdout",
     "output_type": "stream",
     "text": [
      "[ 0.2       -0.1783561]\n",
      "[ 0.2        -0.17357719]\n",
      "[ 0.2 -0.2]\n",
      "[ 0.2        -0.16435374]\n",
      "[ 0.2        -0.11479905]\n",
      "[ 0.2 -0.2]\n",
      "[ 0.2      -0.065193]\n",
      "[0.2        0.05978441]\n",
      "[ 0.2 -0.2]\n",
      "[ 0.2 -0.2]\n",
      "[ 0.2 -0.2]\n",
      "[0.2        0.06764738]\n"
     ]
    },
    {
     "name": "stderr",
     "output_type": "stream",
     "text": [
      " 35%|███▍      | 348/1000 [00:06<00:10, 61.60it/s]"
     ]
    },
    {
     "name": "stdout",
     "output_type": "stream",
     "text": [
      "[ 0.2 -0.2]\n",
      "[0.2 0.2]\n",
      "[ 0.2 -0.2]\n",
      "[ 0.2 -0.2]\n",
      "[ 0.2        -0.01744599]\n",
      "[0.2        0.16332096]\n",
      "[ 0.2        -0.08346613]\n",
      "[0.01513654 0.2       ]\n",
      "[0.2        0.14877477]\n",
      "[ 0.16306297 -0.00345576]\n",
      "[0.2 0.2]\n",
      "[ 0.2 -0.2]\n"
     ]
    },
    {
     "name": "stderr",
     "output_type": "stream",
     "text": [
      " 36%|███▌      | 362/1000 [00:06<00:10, 61.31it/s]"
     ]
    },
    {
     "name": "stdout",
     "output_type": "stream",
     "text": [
      "[0.2        0.18477212]\n",
      "[0.0542123  0.09686832]\n",
      "[0.2        0.19441935]\n",
      "[0.2 0.2]\n",
      "[0.2 0.2]\n",
      "[0.0172729 0.2      ]\n",
      "[0.2       0.0885065]\n",
      "[0.2        0.19431798]\n",
      "[0.09567718 0.02418357]\n",
      "[-0.2  0.2]\n",
      "[0.18903902 0.2       ]\n",
      "[ 0.1626372  -0.13994467]\n"
     ]
    },
    {
     "name": "stderr",
     "output_type": "stream",
     "text": [
      " 37%|███▋      | 369/1000 [00:06<00:10, 59.19it/s]"
     ]
    },
    {
     "name": "stdout",
     "output_type": "stream",
     "text": [
      "[0.15012498 0.2       ]\n",
      "[0.1421049  0.19989622]\n",
      "[0.2 0.2]\n",
      "[0.2 0.2]\n",
      "[-0.0195417  0.2      ]\n",
      "[0.2 0.2]\n",
      "[0.2 0.2]\n",
      "[0.2        0.17599513]\n",
      "[ 0.2        -0.02883799]\n",
      "[0.2 0.2]\n",
      "[ 0.2        -0.13307327]\n",
      "[ 0.2        -0.17489716]\n",
      "[ 0.2        -0.03360665]\n"
     ]
    },
    {
     "name": "stderr",
     "output_type": "stream",
     "text": [
      " 38%|███▊      | 383/1000 [00:06<00:10, 59.26it/s]"
     ]
    },
    {
     "name": "stdout",
     "output_type": "stream",
     "text": [
      "[ 0.2        -0.19540066]\n",
      "[ 0.2        -0.00537555]\n",
      "[ 0.2        -0.09761338]\n",
      "[0.2        0.09041162]\n",
      "[ 0.2       -0.0982286]\n",
      "[ 0.2        -0.18052664]\n",
      "[ 0.2 -0.2]\n",
      "[ 0.2 -0.2]\n",
      "[ 0.2 -0.2]\n",
      "[ 0.2 -0.2]\n",
      "[ 0.2 -0.2]\n",
      "[ 0.2        -0.16703151]\n"
     ]
    },
    {
     "name": "stderr",
     "output_type": "stream",
     "text": [
      " 40%|███▉      | 397/1000 [00:06<00:10, 59.72it/s]"
     ]
    },
    {
     "name": "stdout",
     "output_type": "stream",
     "text": [
      "[ 0.2        -0.15468594]\n",
      "[0.2        0.00487319]\n",
      "[ 0.2 -0.2]\n",
      "[ 0.2        -0.14263521]\n",
      "[ 0.2       -0.0773395]\n",
      "[ 0.2        -0.06043215]\n",
      "[ 0.2        -0.09810732]\n",
      "[ 0.2 -0.2]\n",
      "[ 0.2        -0.19169891]\n",
      "[0.2        0.02990784]\n",
      "[ 0.2        -0.00368603]\n",
      "[0.2 0.2]\n",
      "[0.2        0.19553143]\n"
     ]
    },
    {
     "name": "stderr",
     "output_type": "stream",
     "text": [
      " 41%|████      | 410/1000 [00:07<00:09, 59.74it/s]"
     ]
    },
    {
     "name": "stdout",
     "output_type": "stream",
     "text": [
      "[0.2 0.2]\n",
      "[ 0.04721235 -0.19440272]\n",
      "[0.2        0.18306966]\n",
      "[-0.06434321  0.2       ]\n",
      "[ 0.2 -0.2]\n",
      "[-0.2  0.2]\n",
      "[-0.1538021  0.2      ]\n",
      "[0.2 0.2]\n",
      "[0.09146967 0.2       ]\n",
      "[0.09061992 0.2       ]\n",
      "[0.10123345 0.2       ]\n",
      "[-0.06218973  0.2       ]\n",
      "[-0.0143971   0.12952566]\n"
     ]
    },
    {
     "name": "stderr",
     "output_type": "stream",
     "text": [
      " 42%|████▏     | 424/1000 [00:07<00:09, 59.82it/s]"
     ]
    },
    {
     "name": "stdout",
     "output_type": "stream",
     "text": [
      "[-0.2  0.2]\n",
      "[-0.19479096  0.2       ]\n",
      "[-0.13431564  0.2       ]\n",
      "[-0.18457578  0.2       ]\n",
      "[-0.2  0.2]\n",
      "[0.03936279 0.00501823]\n",
      "[-0.15391716  0.2       ]\n",
      "[-0.00322905  0.17926767]\n",
      "[0.0449395 0.2      ]\n",
      "[-0.10696675  0.2       ]\n",
      "[0.03262912 0.2       ]\n",
      "[0.00223695 0.2       ]\n",
      "[0.17929569 0.14095819]\n"
     ]
    },
    {
     "name": "stderr",
     "output_type": "stream",
     "text": [
      " 44%|████▎     | 437/1000 [00:07<00:09, 59.84it/s]"
     ]
    },
    {
     "name": "stdout",
     "output_type": "stream",
     "text": [
      "[-0.01668145  0.2       ]\n",
      "[0.2        0.11265192]\n",
      "[ 0.16347831 -0.01312049]\n",
      "[0.2       0.1580066]\n",
      "[ 0.2 -0.2]\n",
      "[ 0.2        -0.09277172]\n",
      "[ 0.2        -0.10921545]\n",
      "[0.2        0.02428793]\n",
      "[ 0.2        -0.12621848]\n",
      "[ 0.2        -0.08878198]\n",
      "[ 0.2 -0.2]\n",
      "[ 0.2 -0.2]\n",
      "[ 0.2 -0.2]\n"
     ]
    },
    {
     "name": "stderr",
     "output_type": "stream",
     "text": [
      " 45%|████▌     | 451/1000 [00:07<00:09, 60.48it/s]"
     ]
    },
    {
     "name": "stdout",
     "output_type": "stream",
     "text": [
      "[ 0.2 -0.2]\n",
      "[ 0.2        -0.04036732]\n",
      "[ 0.2 -0.2]\n",
      "[ 0.2 -0.2]\n",
      "[ 0.2 -0.2]\n",
      "[ 0.2 -0.2]\n",
      "[ 0.2        -0.11498742]\n",
      "[ 0.2 -0.2]\n",
      "[ 0.2 -0.2]\n",
      "[ 0.2 -0.2]\n",
      "[ 0.2 -0.2]\n",
      "[ 0.2        -0.04823947]\n",
      "[0.2        0.04001647]\n"
     ]
    },
    {
     "name": "stderr",
     "output_type": "stream",
     "text": [
      " 46%|████▋     | 465/1000 [00:08<00:08, 59.77it/s]"
     ]
    },
    {
     "name": "stdout",
     "output_type": "stream",
     "text": [
      "[ 0.2 -0.2]\n",
      "[ 0.2        -0.15847242]\n",
      "[ 0.2 -0.2]\n",
      "[ 0.2       -0.1313035]\n",
      "[ 0.2       -0.0160853]\n",
      "[0.2        0.07621703]\n",
      "[0.03939581 0.1029212 ]\n",
      "[ 0.2 -0.2]\n",
      "[0.2        0.04198451]\n",
      "[0.2 0.2]\n",
      "[0.2        0.02748839]\n",
      "[0.2 0.2]\n"
     ]
    },
    {
     "name": "stderr",
     "output_type": "stream",
     "text": [
      " 47%|████▋     | 472/1000 [00:08<00:08, 61.17it/s]"
     ]
    },
    {
     "name": "stdout",
     "output_type": "stream",
     "text": [
      "[-0.2  0.2]\n",
      "[0.01921213 0.2       ]\n",
      "[-0.04532796  0.15137987]\n",
      "[0.1568537 0.1495192]\n",
      "[0.2 0.2]\n",
      "[-0.2  0.2]\n",
      "[-0.2  0.2]\n",
      "[-0.18860176  0.2       ]\n",
      "[0.02451195 0.2       ]\n",
      "[-0.07859498  0.2       ]\n",
      "[-0.01325272  0.2       ]\n",
      "[-0.07749162  0.2       ]\n",
      "[-0.06511135  0.2       ]\n"
     ]
    },
    {
     "name": "stderr",
     "output_type": "stream",
     "text": [
      " 48%|████▊     | 485/1000 [00:08<00:08, 59.40it/s]"
     ]
    },
    {
     "name": "stdout",
     "output_type": "stream",
     "text": [
      "[-0.2  0.2]\n",
      "[-0.03727052  0.2       ]\n",
      "[-0.06790604  0.2       ]\n",
      "[0.00706734 0.12790975]\n",
      "[0.02155093 0.09973344]\n",
      "[0.15076025 0.01185086]\n",
      "[0.08219945 0.03047274]\n",
      "[-0.0156942   0.14489086]\n",
      "[0.2 0.2]\n",
      "[0.2        0.05936166]\n",
      "[0.2        0.14857309]\n",
      "[0.2       0.0137903]\n",
      "[ 0.2        -0.09908268]\n"
     ]
    },
    {
     "name": "stderr",
     "output_type": "stream",
     "text": [
      " 50%|████▉     | 498/1000 [00:08<00:08, 59.67it/s]"
     ]
    },
    {
     "name": "stdout",
     "output_type": "stream",
     "text": [
      "[0.2        0.07847077]\n",
      "[ 0.2 -0.2]\n",
      "[ 0.2        -0.17147763]\n",
      "[ 0.2        -0.08560831]\n",
      "[ 0.2       -0.1568524]\n",
      "[ 0.2 -0.2]\n",
      "[ 0.2 -0.2]\n",
      "[ 0.2 -0.2]\n",
      "[ 0.2        -0.16000535]\n",
      "[ 0.2 -0.2]\n",
      "[ 0.2 -0.2]\n",
      "[ 0.2 -0.2]\n"
     ]
    },
    {
     "name": "stderr",
     "output_type": "stream",
     "text": [
      " 51%|█████     | 512/1000 [00:08<00:08, 59.11it/s]"
     ]
    },
    {
     "name": "stdout",
     "output_type": "stream",
     "text": [
      "[ 0.2 -0.2]\n",
      "[ 0.2        -0.11188558]\n",
      "[ 0.2 -0.2]\n",
      "[ 0.2 -0.2]\n",
      "[ 0.2 -0.2]\n",
      "[ 0.2        -0.09314381]\n",
      "[0.2        0.07681489]\n",
      "[ 0.2 -0.2]\n",
      "[ 0.2 -0.2]\n",
      "[ 0.2        -0.19696328]\n",
      "[ 0.2        -0.10749008]\n",
      "[ 0.2        -0.07922347]\n"
     ]
    },
    {
     "name": "stderr",
     "output_type": "stream",
     "text": [
      " 52%|█████▎    | 525/1000 [00:09<00:07, 60.39it/s]"
     ]
    },
    {
     "name": "stdout",
     "output_type": "stream",
     "text": [
      "[ 0.2        -0.18941814]\n",
      "[ 0.2 -0.2]\n",
      "[ 0.2        -0.17477895]\n",
      "[0.2 0.2]\n",
      "[0.2        0.09204029]\n",
      "[0.11158551 0.2       ]\n",
      "[0.2        0.15458867]\n",
      "[0.03834596 0.08912458]\n",
      "[0.10765651 0.2       ]\n",
      "[-0.2  0.2]\n",
      "[-0.18882617  0.2       ]\n",
      "[-0.07920553  0.2       ]\n"
     ]
    },
    {
     "name": "stderr",
     "output_type": "stream",
     "text": [
      " 54%|█████▍    | 539/1000 [00:09<00:07, 59.53it/s]"
     ]
    },
    {
     "name": "stdout",
     "output_type": "stream",
     "text": [
      "[-0.2  0.2]\n",
      "[-0.14269608  0.2       ]\n",
      "[-0.2  0.2]\n",
      "[-0.2  0.2]\n",
      "[-0.2  0.2]\n",
      "[-0.2  0.2]\n",
      "[-0.2  0.2]\n",
      "[-0.2  0.2]\n",
      "[-0.2  0.2]\n",
      "[-0.2  0.2]\n",
      "[-0.2  0.2]\n",
      "[-0.2  0.2]\n"
     ]
    },
    {
     "name": "stderr",
     "output_type": "stream",
     "text": [
      " 55%|█████▍    | 546/1000 [00:09<00:07, 60.09it/s]"
     ]
    },
    {
     "name": "stdout",
     "output_type": "stream",
     "text": [
      "[-0.2  0.2]\n",
      "[-0.2  0.2]\n",
      "[-0.2  0.2]\n",
      "[-0.03497124  0.2       ]\n",
      "[-0.02668874  0.2       ]\n",
      "[0.110444 0.2     ]\n",
      "[-0.01334995  0.02850416]\n",
      "[-0.0285136  0.2      ]\n",
      "[0.2 0.2]\n",
      "[0.15944402 0.2       ]\n",
      "[0.2 0.2]\n",
      "[ 0.2        -0.10383058]\n",
      "[ 0.2 -0.2]\n"
     ]
    },
    {
     "name": "stderr",
     "output_type": "stream",
     "text": [
      " 56%|█████▌    | 560/1000 [00:09<00:07, 59.34it/s]"
     ]
    },
    {
     "name": "stdout",
     "output_type": "stream",
     "text": [
      "[ 0.2 -0.2]\n",
      "[ 0.2       -0.0242096]\n",
      "[ 0.2 -0.2]\n",
      "[ 0.2 -0.2]\n",
      "[ 0.2 -0.2]\n",
      "[ 0.2        -0.13306287]\n",
      "[ 0.2 -0.2]\n",
      "[ 0.2 -0.2]\n",
      "[ 0.2 -0.2]\n",
      "[ 0.2 -0.2]\n",
      "[ 0.2 -0.2]\n",
      "[ 0.2 -0.2]\n"
     ]
    },
    {
     "name": "stderr",
     "output_type": "stream",
     "text": [
      " 58%|█████▊    | 578/1000 [00:10<00:07, 59.66it/s]"
     ]
    },
    {
     "name": "stdout",
     "output_type": "stream",
     "text": [
      "[ 0.2 -0.2]\n",
      "[ 0.2 -0.2]\n",
      "[ 0.2        -0.19133487]\n",
      "[ 0.2 -0.2]\n",
      "[ 0.2        -0.02800554]\n",
      "[ 0.2 -0.2]\n",
      "[ 0.2 -0.2]\n",
      "[ 0.2        -0.09385863]\n",
      "[ 0.2        -0.05448449]\n",
      "[ 0.2        -0.16304897]\n",
      "[0.2        0.17063507]\n",
      "[0.2        0.01724426]\n",
      "[0.2        0.02422574]\n",
      "[0.2        0.10100883]\n"
     ]
    },
    {
     "name": "stderr",
     "output_type": "stream",
     "text": [
      " 58%|█████▊    | 585/1000 [00:10<00:06, 59.81it/s]"
     ]
    },
    {
     "name": "stdout",
     "output_type": "stream",
     "text": [
      "[0.2 0.2]\n",
      "[ 0.2        -0.09020236]\n",
      "[0.2 0.2]\n",
      "[-0.00338688  0.12243178]\n",
      "[0.2 0.2]\n",
      "[-0.12321745  0.2       ]\n",
      "[0.04163189 0.2       ]\n",
      "[-0.2  0.2]\n",
      "[0.13216552 0.2       ]\n",
      "[-0.2  0.2]\n",
      "[-0.2  0.2]\n",
      "[-0.2  0.2]\n",
      "[-0.10268646  0.2       ]\n"
     ]
    },
    {
     "name": "stderr",
     "output_type": "stream",
     "text": [
      " 60%|█████▉    | 599/1000 [00:10<00:06, 61.15it/s]"
     ]
    },
    {
     "name": "stdout",
     "output_type": "stream",
     "text": [
      "[-0.2  0.2]\n",
      "[-0.2  0.2]\n",
      "[-0.2  0.2]\n",
      "[-0.2  0.2]\n",
      "[-0.2  0.2]\n",
      "[-0.2  0.2]\n",
      "[-0.2  0.2]\n",
      "[-0.2  0.2]\n",
      "[0.07370955 0.2       ]\n",
      "[0.1205973 0.2      ]\n",
      "[ 0.2 -0.2]\n"
     ]
    },
    {
     "name": "stderr",
     "output_type": "stream",
     "text": [
      " 61%|██████    | 612/1000 [00:10<00:06, 58.59it/s]"
     ]
    },
    {
     "name": "stdout",
     "output_type": "stream",
     "text": [
      "[ 0.2 -0.2]\n",
      "[ 0.2 -0.2]\n",
      "[ 0.2 -0.2]\n",
      "[ 0.2 -0.2]\n",
      "[ 0.2 -0.2]\n",
      "[ 0.2 -0.2]\n",
      "[ 0.2 -0.2]\n",
      "[ 0.2 -0.2]\n",
      "[ 0.2 -0.2]\n",
      "[ 0.2 -0.2]\n",
      "[ 0.2 -0.2]\n",
      "[ 0.2 -0.2]\n",
      "[ 0.2 -0.2]\n"
     ]
    },
    {
     "name": "stderr",
     "output_type": "stream",
     "text": [
      " 63%|██████▎   | 626/1000 [00:10<00:06, 59.29it/s]"
     ]
    },
    {
     "name": "stdout",
     "output_type": "stream",
     "text": [
      "[ 0.2 -0.2]\n",
      "[ 0.2 -0.2]\n",
      "[ 0.2 -0.2]\n",
      "[ 0.2 -0.2]\n",
      "[ 0.2 -0.2]\n",
      "[ 0.2 -0.2]\n",
      "[ 0.2 -0.2]\n",
      "[ 0.2 -0.2]\n",
      "[ 0.2 -0.2]\n",
      "[ 0.2 -0.2]\n",
      "[ 0.2 -0.2]\n",
      "[ 0.2 -0.2]\n",
      "[ 0.2 -0.2]\n"
     ]
    },
    {
     "name": "stderr",
     "output_type": "stream",
     "text": [
      " 64%|██████▍   | 640/1000 [00:11<00:06, 59.62it/s]"
     ]
    },
    {
     "name": "stdout",
     "output_type": "stream",
     "text": [
      "[ 0.2 -0.2]\n",
      "[ 0.2 -0.2]\n",
      "[ 0.2 -0.2]\n",
      "[ 0.2 -0.2]\n",
      "[ 0.2 -0.2]\n",
      "[ 0.2 -0.2]\n",
      "[ 0.2 -0.2]\n",
      "[ 0.2 -0.2]\n",
      "[ 0.2 -0.2]\n",
      "[ 0.2 -0.2]\n",
      "[ 0.2 -0.2]\n",
      "[ 0.2 -0.2]\n"
     ]
    },
    {
     "name": "stderr",
     "output_type": "stream",
     "text": [
      " 65%|██████▍   | 646/1000 [00:11<00:06, 58.47it/s]"
     ]
    },
    {
     "name": "stdout",
     "output_type": "stream",
     "text": [
      "[ 0.2 -0.2]\n",
      "[ 0.2 -0.2]\n",
      "[ 0.2 -0.2]\n",
      "[ 0.2 -0.2]\n",
      "[ 0.2 -0.2]\n",
      "[ 0.2 -0.2]\n",
      "[ 0.2 -0.2]\n",
      "[ 0.2 -0.2]\n",
      "[ 0.2 -0.2]\n",
      "[ 0.2 -0.2]\n",
      "[ 0.2 -0.2]\n"
     ]
    },
    {
     "name": "stderr",
     "output_type": "stream",
     "text": [
      " 66%|██████▌   | 658/1000 [00:11<00:05, 59.13it/s]"
     ]
    },
    {
     "name": "stdout",
     "output_type": "stream",
     "text": [
      "[ 0.2 -0.2]\n",
      "[ 0.2 -0.2]\n",
      "[ 0.2 -0.2]\n",
      "[ 0.2 -0.2]\n",
      "[ 0.2 -0.2]\n",
      "[ 0.2 -0.2]\n",
      "[ 0.2 -0.2]\n",
      "[ 0.2 -0.2]\n",
      "[ 0.2 -0.2]\n",
      "[ 0.2 -0.2]\n",
      "[ 0.2 -0.2]\n",
      "[ 0.2 -0.2]\n",
      "[ 0.2 -0.2]\n"
     ]
    },
    {
     "name": "stderr",
     "output_type": "stream",
     "text": [
      " 67%|██████▋   | 670/1000 [00:11<00:05, 59.51it/s]"
     ]
    },
    {
     "name": "stdout",
     "output_type": "stream",
     "text": [
      "[ 0.2 -0.2]\n",
      "[ 0.2 -0.2]\n",
      "[ 0.2 -0.2]\n",
      "[ 0.2 -0.2]\n",
      "[ 0.2 -0.2]\n",
      "[ 0.2 -0.2]\n",
      "[ 0.2 -0.2]\n",
      "[ 0.2 -0.2]\n",
      "[ 0.2 -0.2]\n",
      "[ 0.2 -0.2]\n",
      "[ 0.2 -0.2]\n",
      "[ 0.2 -0.2]\n"
     ]
    },
    {
     "name": "stderr",
     "output_type": "stream",
     "text": [
      " 68%|██████▊   | 684/1000 [00:11<00:05, 59.80it/s]"
     ]
    },
    {
     "name": "stdout",
     "output_type": "stream",
     "text": [
      "[ 0.2 -0.2]\n",
      "[ 0.2 -0.2]\n",
      "[ 0.2 -0.2]\n",
      "[ 0.2 -0.2]\n",
      "[ 0.2 -0.2]\n",
      "[ 0.2 -0.2]\n",
      "[ 0.2 -0.2]\n",
      "[ 0.2 -0.2]\n",
      "[ 0.2 -0.2]\n",
      "[ 0.2 -0.2]\n",
      "[ 0.2 -0.2]\n",
      "[ 0.2 -0.2]\n",
      "[ 0.2 -0.2]\n"
     ]
    },
    {
     "name": "stderr",
     "output_type": "stream",
     "text": [
      " 70%|██████▉   | 696/1000 [00:12<00:05, 59.73it/s]"
     ]
    },
    {
     "name": "stdout",
     "output_type": "stream",
     "text": [
      "[ 0.2 -0.2]\n",
      "[ 0.2 -0.2]\n",
      "[ 0.2 -0.2]\n",
      "[ 0.2 -0.2]\n",
      "[ 0.2 -0.2]\n",
      "[ 0.2 -0.2]\n",
      "[ 0.2 -0.2]\n",
      "[ 0.2 -0.2]\n",
      "[ 0.2 -0.2]\n",
      "[ 0.2 -0.2]\n",
      "[ 0.2 -0.2]\n",
      "[ 0.2 -0.2]\n"
     ]
    },
    {
     "name": "stderr",
     "output_type": "stream",
     "text": [
      " 71%|███████   | 709/1000 [00:12<00:04, 59.94it/s]"
     ]
    },
    {
     "name": "stdout",
     "output_type": "stream",
     "text": [
      "[ 0.2 -0.2]\n",
      "[ 0.2 -0.2]\n",
      "[ 0.2 -0.2]\n",
      "[ 0.2 -0.2]\n",
      "[ 0.2 -0.2]\n",
      "[ 0.2 -0.2]\n",
      "[ 0.2 -0.2]\n",
      "[ 0.2 -0.2]\n",
      "[ 0.2 -0.2]\n",
      "[ 0.2 -0.2]\n",
      "[ 0.2 -0.2]\n",
      "[ 0.2 -0.2]\n",
      "[ 0.2 -0.2]\n"
     ]
    },
    {
     "name": "stderr",
     "output_type": "stream",
     "text": [
      " 72%|███████▏  | 722/1000 [00:12<00:04, 59.92it/s]"
     ]
    },
    {
     "name": "stdout",
     "output_type": "stream",
     "text": [
      "[ 0.2 -0.2]\n",
      "[ 0.2 -0.2]\n",
      "[ 0.2 -0.2]\n",
      "[ 0.2 -0.2]\n",
      "[ 0.2 -0.2]\n",
      "[ 0.2 -0.2]\n",
      "[ 0.2 -0.2]\n",
      "[ 0.2 -0.2]\n",
      "[ 0.2 -0.2]\n",
      "[ 0.2 -0.2]\n",
      "[ 0.2 -0.2]\n",
      "[ 0.2 -0.2]\n",
      "[ 0.2 -0.2]\n"
     ]
    },
    {
     "name": "stderr",
     "output_type": "stream",
     "text": [
      " 73%|███████▎  | 734/1000 [00:12<00:04, 59.75it/s]"
     ]
    },
    {
     "name": "stdout",
     "output_type": "stream",
     "text": [
      "[ 0.2 -0.2]\n",
      "[ 0.2 -0.2]\n",
      "[ 0.2 -0.2]\n",
      "[ 0.2 -0.2]\n",
      "[ 0.2 -0.2]\n",
      "[ 0.2 -0.2]\n",
      "[ 0.2 -0.2]\n",
      "[ 0.2 -0.2]\n",
      "[ 0.2 -0.2]\n",
      "[ 0.2 -0.2]\n",
      "[ 0.2 -0.2]\n",
      "[ 0.2 -0.2]\n",
      "[ 0.2 -0.2]\n"
     ]
    },
    {
     "name": "stderr",
     "output_type": "stream",
     "text": [
      " 75%|███████▍  | 748/1000 [00:12<00:04, 59.86it/s]"
     ]
    },
    {
     "name": "stdout",
     "output_type": "stream",
     "text": [
      "[ 0.2 -0.2]\n",
      "[ 0.2 -0.2]\n",
      "[ 0.2 -0.2]\n",
      "[ 0.2 -0.2]\n",
      "[ 0.2 -0.2]\n",
      "[ 0.2 -0.2]\n",
      "[ 0.2 -0.2]\n",
      "[ 0.2 -0.2]\n",
      "[ 0.2 -0.2]\n",
      "[ 0.2 -0.2]\n",
      "[ 0.2 -0.2]\n",
      "[ 0.2 -0.2]\n"
     ]
    },
    {
     "name": "stderr",
     "output_type": "stream",
     "text": [
      " 76%|███████▌  | 761/1000 [00:13<00:03, 59.88it/s]"
     ]
    },
    {
     "name": "stdout",
     "output_type": "stream",
     "text": [
      "[ 0.2 -0.2]\n",
      "[ 0.2 -0.2]\n",
      "[ 0.2 -0.2]\n",
      "[ 0.2 -0.2]\n",
      "[ 0.2 -0.2]\n",
      "[ 0.2 -0.2]\n",
      "[ 0.2 -0.2]\n",
      "[ 0.2 -0.2]\n",
      "[ 0.2 -0.2]\n",
      "[ 0.2 -0.2]\n",
      "[ 0.2 -0.2]\n",
      "[ 0.2 -0.2]\n",
      "[ 0.2 -0.2]\n"
     ]
    },
    {
     "name": "stderr",
     "output_type": "stream",
     "text": [
      " 78%|███████▊  | 775/1000 [00:13<00:03, 60.03it/s]"
     ]
    },
    {
     "name": "stdout",
     "output_type": "stream",
     "text": [
      "[ 0.2 -0.2]\n",
      "[ 0.2 -0.2]\n",
      "[ 0.2 -0.2]\n",
      "[ 0.2 -0.2]\n",
      "[ 0.2 -0.2]\n",
      "[ 0.2 -0.2]\n",
      "[ 0.2 -0.2]\n",
      "[ 0.2 -0.2]\n",
      "[ 0.2 -0.2]\n",
      "[ 0.2 -0.2]\n",
      "[ 0.2 -0.2]\n",
      "[ 0.2 -0.2]\n",
      "[ 0.2 -0.2]\n"
     ]
    },
    {
     "name": "stderr",
     "output_type": "stream",
     "text": [
      " 79%|███████▉  | 788/1000 [00:13<00:03, 59.71it/s]"
     ]
    },
    {
     "name": "stdout",
     "output_type": "stream",
     "text": [
      "[ 0.2 -0.2]\n",
      "[ 0.2 -0.2]\n",
      "[ 0.2 -0.2]\n",
      "[ 0.2 -0.2]\n",
      "[ 0.2 -0.2]\n",
      "[ 0.2 -0.2]\n",
      "[ 0.2 -0.2]\n",
      "[ 0.2 -0.2]\n",
      "[ 0.2 -0.2]\n",
      "[ 0.2 -0.2]\n",
      "[ 0.2 -0.2]\n",
      "[ 0.2 -0.2]\n",
      "[ 0.2 -0.2]\n"
     ]
    },
    {
     "name": "stderr",
     "output_type": "stream",
     "text": [
      " 80%|████████  | 801/1000 [00:13<00:03, 59.87it/s]"
     ]
    },
    {
     "name": "stdout",
     "output_type": "stream",
     "text": [
      "[ 0.2 -0.2]\n",
      "[ 0.2 -0.2]\n",
      "[ 0.2 -0.2]\n",
      "[ 0.2 -0.2]\n",
      "[ 0.2 -0.2]\n",
      "[ 0.2 -0.2]\n",
      "[ 0.2 -0.2]\n",
      "[ 0.2 -0.2]\n",
      "[ 0.2 -0.2]\n",
      "[ 0.2 -0.2]\n",
      "[ 0.2 -0.2]\n",
      "[ 0.2 -0.2]\n",
      "[ 0.2 -0.2]\n"
     ]
    },
    {
     "name": "stderr",
     "output_type": "stream",
     "text": [
      " 82%|████████▏ | 815/1000 [00:13<00:03, 59.78it/s]"
     ]
    },
    {
     "name": "stdout",
     "output_type": "stream",
     "text": [
      "[ 0.2 -0.2]\n",
      "[ 0.2 -0.2]\n",
      "[ 0.2 -0.2]\n",
      "[ 0.2 -0.2]\n",
      "[ 0.2 -0.2]\n",
      "[ 0.2 -0.2]\n",
      "[ 0.2 -0.2]\n",
      "[ 0.2 -0.2]\n",
      "[ 0.2 -0.2]\n",
      "[ 0.2 -0.2]\n",
      "[ 0.2 -0.2]\n",
      "[ 0.2 -0.2]\n",
      "[ 0.2 -0.2]\n"
     ]
    },
    {
     "name": "stderr",
     "output_type": "stream",
     "text": [
      " 83%|████████▎ | 828/1000 [00:14<00:02, 59.73it/s]"
     ]
    },
    {
     "name": "stdout",
     "output_type": "stream",
     "text": [
      "[ 0.2 -0.2]\n",
      "[ 0.2 -0.2]\n",
      "[ 0.2 -0.2]\n",
      "[ 0.2 -0.2]\n",
      "[ 0.2 -0.2]\n",
      "[ 0.2 -0.2]\n",
      "[ 0.2 -0.2]\n",
      "[ 0.2 -0.2]\n",
      "[ 0.2 -0.2]\n",
      "[ 0.2        -0.12118493]\n",
      "[0.2        0.18433139]\n",
      "[0.2        0.04058107]\n",
      "[0.2        0.01228493]\n"
     ]
    },
    {
     "name": "stderr",
     "output_type": "stream",
     "text": [
      " 84%|████████▍ | 841/1000 [00:14<00:02, 59.85it/s]"
     ]
    },
    {
     "name": "stdout",
     "output_type": "stream",
     "text": [
      "[ 0.2        -0.15751699]\n",
      "[0.2        0.08243991]\n",
      "[0.2        0.04662722]\n",
      "[ 0.2        -0.04164323]\n",
      "[0.2 0.2]\n",
      "[ 0.2        -0.05095857]\n",
      "[0.2        0.02505369]\n",
      "[ 0.2        -0.13823077]\n",
      "[ 0.2        -0.09850618]\n",
      "[0.2        0.02831706]\n",
      "[0.2        0.00061689]\n",
      "[ 0.2        -0.12383503]\n",
      "[0.2        0.06548226]\n"
     ]
    },
    {
     "name": "stderr",
     "output_type": "stream",
     "text": [
      " 85%|████████▌ | 854/1000 [00:14<00:02, 59.92it/s]"
     ]
    },
    {
     "name": "stdout",
     "output_type": "stream",
     "text": [
      "[ 0.2        -0.14625406]\n",
      "[0.2       0.1211845]\n",
      "[0.2       0.1963593]\n",
      "[ 0.2 -0.2]\n",
      "[ 0.2       -0.0893397]\n",
      "[0.2        0.15025032]\n",
      "[ 0.2        -0.09381163]\n",
      "[ 0.2        -0.06987032]\n",
      "[ 0.2        -0.00957716]\n",
      "[ 0.2        -0.10777932]\n",
      "[ 0.2        -0.08259801]\n"
     ]
    },
    {
     "name": "stderr",
     "output_type": "stream",
     "text": [
      " 86%|████████▌ | 860/1000 [00:14<00:02, 59.80it/s]"
     ]
    },
    {
     "name": "stdout",
     "output_type": "stream",
     "text": [
      "[0.2        0.06606938]\n",
      "[0.2 0.2]\n",
      "[ 0.2        -0.19359548]\n",
      "[0.2        0.05306104]\n",
      "[ 0.2 -0.2]\n",
      "[0.2        0.03717538]\n",
      "[ 0.2        -0.10181606]\n",
      "[0.2        0.06933491]\n",
      "[0.2 0.2]\n",
      "[0.2        0.00860354]\n",
      "[0.2        0.09472305]\n",
      "[0.2        0.10041912]\n"
     ]
    },
    {
     "name": "stderr",
     "output_type": "stream",
     "text": [
      " 87%|████████▋ | 873/1000 [00:14<00:02, 59.74it/s]"
     ]
    },
    {
     "name": "stdout",
     "output_type": "stream",
     "text": [
      "[0.2        0.07662422]\n",
      "[ 0.2 -0.2]\n",
      "[0.2 0.2]\n",
      "[ 0.2        -0.01309001]\n",
      "[ 0.2 -0.2]\n",
      "[ 0.2        -0.00549264]\n",
      "[0.2       0.1397216]\n",
      "[0.2        0.19904613]\n",
      "[ 0.05998194 -0.13079011]\n",
      "[ 0.1529798  -0.00305475]\n",
      "[0.2        0.08737929]\n",
      "[ 0.08963493 -0.02066408]\n"
     ]
    },
    {
     "name": "stderr",
     "output_type": "stream",
     "text": [
      " 89%|████████▊ | 887/1000 [00:15<00:01, 59.92it/s]"
     ]
    },
    {
     "name": "stdout",
     "output_type": "stream",
     "text": [
      "[ 0.2        -0.06095393]\n",
      "[-0.01716676 -0.01979408]\n",
      "[0.01300031 0.12606785]\n",
      "[-0.2  0.2]\n",
      "[0.08723886 0.16036518]\n",
      "[-0.02280898  0.2       ]\n",
      "[0.2        0.00449464]\n",
      "[-0.12045711  0.2       ]\n",
      "[ 0.2        -0.04285005]\n",
      "[0.02494185 0.0520775 ]\n",
      "[ 0.2 -0.2]\n",
      "[ 0.2        -0.02030288]\n",
      "[0.04204167 0.2       ]\n"
     ]
    },
    {
     "name": "stderr",
     "output_type": "stream",
     "text": [
      " 90%|█████████ | 900/1000 [00:15<00:01, 59.82it/s]"
     ]
    },
    {
     "name": "stdout",
     "output_type": "stream",
     "text": [
      "[0.05835634 0.2       ]\n",
      "[0.17653447 0.2       ]\n",
      "[0.2        0.15588911]\n",
      "[0.2 0.2]\n",
      "[0.2        0.00409599]\n",
      "[0.2 0.2]\n",
      "[0.06124623 0.1037434 ]\n",
      "[ 0.1887503  -0.03495141]\n",
      "[ 0.2        -0.05031901]\n",
      "[0.2 0.2]\n",
      "[0.2 0.2]\n",
      "[ 0.2        -0.08810995]\n",
      "[0.2        0.15990394]\n"
     ]
    },
    {
     "name": "stderr",
     "output_type": "stream",
     "text": [
      " 91%|█████████▏| 914/1000 [00:15<00:01, 60.12it/s]"
     ]
    },
    {
     "name": "stdout",
     "output_type": "stream",
     "text": [
      "[0.17539799 0.05384401]\n",
      "[0.2        0.06955715]\n",
      "[0.2 0.2]\n",
      "[0.2 0.2]\n",
      "[0.2        0.00801857]\n",
      "[0.2 0.2]\n",
      "[0.2        0.17890039]\n",
      "[ 0.2 -0.2]\n",
      "[ 0.2        -0.16763788]\n",
      "[ 0.07318065 -0.2       ]\n",
      "[ 0.2        -0.03237139]\n",
      "[ 0.2        -0.10566466]\n",
      "[0.1000599  0.12542763]\n"
     ]
    },
    {
     "name": "stderr",
     "output_type": "stream",
     "text": [
      " 93%|█████████▎| 928/1000 [00:15<00:01, 60.02it/s]"
     ]
    },
    {
     "name": "stdout",
     "output_type": "stream",
     "text": [
      "[ 0.2 -0.2]\n",
      "[0.2 0.2]\n",
      "[ 0.2       -0.1687336]\n",
      "[0.2       0.1785441]\n",
      "[0.2       0.0164523]\n",
      "[ 0.2 -0.2]\n",
      "[0.2       0.0945081]\n",
      "[ 0.2        -0.11428706]\n",
      "[ 0.2        -0.01163257]\n",
      "[0.2 0.2]\n",
      "[0.03760272 0.1265355 ]\n",
      "[0.2 0.2]\n",
      "[0.2 0.2]\n"
     ]
    },
    {
     "name": "stderr",
     "output_type": "stream",
     "text": [
      " 94%|█████████▍| 941/1000 [00:16<00:00, 59.89it/s]"
     ]
    },
    {
     "name": "stdout",
     "output_type": "stream",
     "text": [
      "[0.2        0.02025934]\n",
      "[0.2 0.2]\n",
      "[ 0.2       -0.0199904]\n",
      "[0.2 0.2]\n",
      "[-0.09129767 -0.05041379]\n",
      "[0.2 0.2]\n",
      "[0.1254655  0.14414042]\n",
      "[0.00256738 0.2       ]\n",
      "[0.2        0.07748865]\n",
      "[0.01445195 0.2       ]\n",
      "[-0.05265884  0.03523083]\n"
     ]
    },
    {
     "name": "stderr",
     "output_type": "stream",
     "text": [
      " 95%|█████████▍| 948/1000 [00:16<00:00, 60.01it/s]"
     ]
    },
    {
     "name": "stdout",
     "output_type": "stream",
     "text": [
      "[0.2        0.17139089]\n",
      "[0.16756566 0.2       ]\n",
      "[0.2        0.13385768]\n",
      "[0.2 0.2]\n",
      "[0.2        0.05126473]\n",
      "[0.2        0.06524188]\n",
      "[0.16308518 0.2       ]\n",
      "[0.13890663 0.14666325]\n",
      "[0.2 0.2]\n",
      "[0.2        0.06792469]\n",
      "[ 0.2        -0.05821247]\n",
      "[0.2       0.0136605]\n"
     ]
    },
    {
     "name": "stderr",
     "output_type": "stream",
     "text": [
      " 96%|█████████▌| 962/1000 [00:16<00:00, 59.75it/s]"
     ]
    },
    {
     "name": "stdout",
     "output_type": "stream",
     "text": [
      "[0.2        0.03857109]\n",
      "[0.2        0.05062305]\n",
      "[0.2 0.2]\n",
      "[0.1197072  0.11018543]\n",
      "[ 0.2        -0.05154904]\n",
      "[0.2        0.05572956]\n",
      "[0.2 0.2]\n",
      "[0.2       0.0850554]\n",
      "[ 0.2        -0.18830284]\n",
      "[ 0.2 -0.2]\n",
      "[ 0.2        -0.02444769]\n",
      "[0.2        0.02746053]\n",
      "[ 0.2 -0.2]\n"
     ]
    },
    {
     "name": "stderr",
     "output_type": "stream",
     "text": [
      " 98%|█████████▊| 976/1000 [00:16<00:00, 59.75it/s]"
     ]
    },
    {
     "name": "stdout",
     "output_type": "stream",
     "text": [
      "[0.2 0.2]\n",
      "[ 0.2        -0.06916728]\n",
      "[0.2        0.08534631]\n",
      "[ 0.2        -0.02762766]\n",
      "[ 0.2 -0.2]\n",
      "[ 0.2 -0.2]\n",
      "[ 0.2 -0.2]\n",
      "[0.2       0.0370211]\n",
      "[ 0.2        -0.18295011]\n",
      "[ 0.2 -0.2]\n",
      "[ 0.2       -0.1849369]\n",
      "[ 0.2        -0.06086673]\n",
      "[ 0.2 -0.2]\n"
     ]
    },
    {
     "name": "stderr",
     "output_type": "stream",
     "text": [
      " 99%|█████████▉| 990/1000 [00:16<00:00, 59.91it/s]"
     ]
    },
    {
     "name": "stdout",
     "output_type": "stream",
     "text": [
      "[ 0.2        -0.06694901]\n",
      "[0.2 0.2]\n",
      "[ 0.2        -0.17753127]\n",
      "[ 0.2 -0.2]\n",
      "[ 0.2        -0.01977619]\n",
      "[0.2       0.1188834]\n",
      "[ 0.2 -0.2]\n",
      "[0.2        0.10920438]\n",
      "[0.15249982 0.03352592]\n",
      "[0.10547289 0.06235101]\n",
      "[0.2 0.2]\n",
      "[0.2        0.18151578]\n",
      "[0.2 0.2]\n"
     ]
    },
    {
     "name": "stderr",
     "output_type": "stream",
     "text": [
      "100%|██████████| 1000/1000 [00:17<00:00, 58.53it/s]\n"
     ]
    },
    {
     "name": "stdout",
     "output_type": "stream",
     "text": [
      "[0.2       0.1567676]\n",
      "[0.2 0.2]\n",
      "[ 0.2 -0.2]\n",
      "[0.2        0.15708613]\n",
      "[ 0.12579364 -0.00926533]\n",
      "[0.2 0.2]\n",
      "[0.0556517  0.10939892]\n",
      "[-0.01687526  0.2       ]\n"
     ]
    },
    {
     "name": "stderr",
     "output_type": "stream",
     "text": [
      "  1%|          | 7/1000 [00:00<00:16, 61.05it/s]"
     ]
    },
    {
     "name": "stdout",
     "output_type": "stream",
     "text": [
      "[ 0.2 -0.2]\n",
      "[ 0.2 -0.2]\n",
      "[ 0.2 -0.2]\n",
      "[ 0.2 -0.2]\n",
      "[ 0.2 -0.2]\n",
      "[ 0.2 -0.2]\n",
      "[ 0.2 -0.2]\n",
      "[ 0.2 -0.2]\n",
      "[ 0.2 -0.2]\n",
      "[ 0.2 -0.2]\n",
      "[ 0.2 -0.2]\n",
      "[ 0.2 -0.2]\n",
      "[ 0.2 -0.2]\n"
     ]
    },
    {
     "name": "stderr",
     "output_type": "stream",
     "text": [
      "  2%|▏         | 21/1000 [00:00<00:16, 60.14it/s]"
     ]
    },
    {
     "name": "stdout",
     "output_type": "stream",
     "text": [
      "[ 0.2 -0.2]\n",
      "[ 0.2 -0.2]\n",
      "[ 0.2 -0.2]\n",
      "[ 0.2 -0.2]\n",
      "[ 0.2 -0.2]\n",
      "[ 0.2 -0.2]\n",
      "[ 0.2 -0.2]\n",
      "[ 0.2 -0.2]\n",
      "[ 0.2 -0.2]\n",
      "[ 0.2 -0.2]\n",
      "[ 0.2 -0.2]\n",
      "[ 0.2 -0.2]\n",
      "[ 0.2 -0.2]\n"
     ]
    },
    {
     "name": "stderr",
     "output_type": "stream",
     "text": [
      "  4%|▎         | 35/1000 [00:00<00:16, 59.68it/s]"
     ]
    },
    {
     "name": "stdout",
     "output_type": "stream",
     "text": [
      "[ 0.2 -0.2]\n",
      "[ 0.2 -0.2]\n",
      "[ 0.2 -0.2]\n",
      "[ 0.2 -0.2]\n",
      "[ 0.2 -0.2]\n",
      "[ 0.2 -0.2]\n",
      "[ 0.2 -0.2]\n",
      "[ 0.2 -0.2]\n",
      "[ 0.2 -0.2]\n",
      "[ 0.2 -0.2]\n",
      "[ 0.2 -0.2]\n",
      "[ 0.2 -0.2]\n",
      "[ 0.2 -0.2]\n"
     ]
    },
    {
     "name": "stderr",
     "output_type": "stream",
     "text": [
      "  5%|▍         | 48/1000 [00:00<00:16, 58.74it/s]"
     ]
    },
    {
     "name": "stdout",
     "output_type": "stream",
     "text": [
      "[ 0.2 -0.2]\n",
      "[ 0.2 -0.2]\n",
      "[ 0.2 -0.2]\n",
      "[ 0.2 -0.2]\n",
      "[ 0.2 -0.2]\n",
      "[ 0.2 -0.2]\n",
      "[ 0.2 -0.2]\n",
      "[ 0.2 -0.2]\n",
      "[ 0.2 -0.2]\n",
      "[ 0.2 -0.2]\n",
      "[ 0.2 -0.2]\n",
      "[ 0.2 -0.2]\n",
      "[ 0.2 -0.2]\n"
     ]
    },
    {
     "name": "stderr",
     "output_type": "stream",
     "text": [
      "  6%|▌         | 61/1000 [00:01<00:15, 59.74it/s]"
     ]
    },
    {
     "name": "stdout",
     "output_type": "stream",
     "text": [
      "[ 0.2 -0.2]\n",
      "[ 0.2 -0.2]\n",
      "[ 0.2 -0.2]\n",
      "[ 0.2 -0.2]\n",
      "[ 0.2 -0.2]\n",
      "[ 0.2 -0.2]\n",
      "[ 0.2 -0.2]\n",
      "[ 0.2 -0.2]\n",
      "[ 0.2 -0.2]\n",
      "[ 0.2 -0.2]\n",
      "[ 0.2 -0.2]\n",
      "[ 0.2 -0.2]\n",
      "[ 0.2 -0.2]\n"
     ]
    },
    {
     "name": "stderr",
     "output_type": "stream",
     "text": [
      "  7%|▋         | 74/1000 [00:01<00:15, 59.53it/s]"
     ]
    },
    {
     "name": "stdout",
     "output_type": "stream",
     "text": [
      "[ 0.2 -0.2]\n",
      "[ 0.2 -0.2]\n",
      "[ 0.2 -0.2]\n",
      "[ 0.2 -0.2]\n",
      "[ 0.2 -0.2]\n",
      "[ 0.2 -0.2]\n",
      "[ 0.2 -0.2]\n",
      "[ 0.2 -0.2]\n",
      "[ 0.2 -0.2]\n",
      "[ 0.2 -0.2]\n",
      "[ 0.2 -0.2]\n",
      "[ 0.2 -0.2]\n",
      "[ 0.2 -0.2]\n"
     ]
    },
    {
     "name": "stderr",
     "output_type": "stream",
     "text": [
      "  9%|▊         | 87/1000 [00:01<00:15, 58.40it/s]"
     ]
    },
    {
     "name": "stdout",
     "output_type": "stream",
     "text": [
      "[ 0.2 -0.2]\n",
      "[ 0.2 -0.2]\n",
      "[ 0.2 -0.2]\n",
      "[ 0.2 -0.2]\n",
      "[ 0.2 -0.2]\n",
      "[ 0.2 -0.2]\n",
      "[ 0.2 -0.2]\n",
      "[ 0.2 -0.2]\n",
      "[ 0.2 -0.2]\n",
      "[ 0.2 -0.2]\n",
      "[ 0.2 -0.2]\n",
      "[ 0.2 -0.2]\n",
      "[ 0.2 -0.2]\n"
     ]
    },
    {
     "name": "stderr",
     "output_type": "stream",
     "text": [
      " 10%|█         | 100/1000 [00:01<00:15, 59.81it/s]"
     ]
    },
    {
     "name": "stdout",
     "output_type": "stream",
     "text": [
      "[ 0.2 -0.2]\n",
      "[ 0.2 -0.2]\n",
      "[ 0.2 -0.2]\n",
      "[ 0.2 -0.2]\n",
      "[ 0.2 -0.2]\n",
      "[ 0.2 -0.2]\n",
      "[ 0.2 -0.2]\n",
      "[ 0.2 -0.2]\n",
      "[ 0.2 -0.2]\n",
      "[ 0.2 -0.2]\n",
      "[ 0.2 -0.2]\n",
      "[ 0.2 -0.2]\n",
      "[ 0.2 -0.2]\n"
     ]
    },
    {
     "name": "stderr",
     "output_type": "stream",
     "text": [
      " 11%|█▏        | 113/1000 [00:01<00:14, 59.62it/s]"
     ]
    },
    {
     "name": "stdout",
     "output_type": "stream",
     "text": [
      "[ 0.2 -0.2]\n",
      "[ 0.2 -0.2]\n",
      "[ 0.2 -0.2]\n",
      "[ 0.2 -0.2]\n",
      "[ 0.2 -0.2]\n",
      "[ 0.2 -0.2]\n",
      "[ 0.2 -0.2]\n",
      "[ 0.2 -0.2]\n",
      "[ 0.2 -0.2]\n",
      "[ 0.2 -0.2]\n",
      "[ 0.2 -0.2]\n",
      "[ 0.2 -0.2]\n",
      "[ 0.2 -0.2]\n"
     ]
    },
    {
     "name": "stderr",
     "output_type": "stream",
     "text": [
      " 13%|█▎        | 126/1000 [00:02<00:14, 59.75it/s]"
     ]
    },
    {
     "name": "stdout",
     "output_type": "stream",
     "text": [
      "[ 0.2 -0.2]\n",
      "[ 0.2 -0.2]\n",
      "[ 0.2 -0.2]\n",
      "[ 0.2 -0.2]\n",
      "[ 0.2 -0.2]\n",
      "[ 0.2 -0.2]\n",
      "[ 0.2 -0.2]\n",
      "[ 0.2 -0.2]\n",
      "[ 0.2 -0.2]\n",
      "[ 0.2 -0.2]\n",
      "[ 0.2 -0.2]\n",
      "[ 0.2 -0.2]\n",
      "[ 0.2 -0.2]\n"
     ]
    },
    {
     "name": "stderr",
     "output_type": "stream",
     "text": [
      " 14%|█▍        | 138/1000 [00:02<00:14, 58.45it/s]"
     ]
    },
    {
     "name": "stdout",
     "output_type": "stream",
     "text": [
      "[ 0.2 -0.2]\n",
      "[ 0.2 -0.2]\n",
      "[ 0.2 -0.2]\n",
      "[ 0.2 -0.2]\n",
      "[ 0.2 -0.2]\n",
      "[ 0.2 -0.2]\n",
      "[ 0.2 -0.2]\n",
      "[ 0.2 -0.2]\n",
      "[ 0.2 -0.2]\n",
      "[ 0.2 -0.2]\n",
      "[ 0.2 -0.2]\n",
      "[ 0.2 -0.2]\n",
      "[ 0.2 -0.2]\n"
     ]
    },
    {
     "name": "stderr",
     "output_type": "stream",
     "text": [
      " 15%|█▌        | 151/1000 [00:02<00:14, 58.97it/s]"
     ]
    },
    {
     "name": "stdout",
     "output_type": "stream",
     "text": [
      "[ 0.2 -0.2]\n",
      "[ 0.2 -0.2]\n",
      "[ 0.2 -0.2]\n",
      "[ 0.2 -0.2]\n",
      "[ 0.2 -0.2]\n",
      "[ 0.2 -0.2]\n",
      "[ 0.2 -0.2]\n",
      "[ 0.2 -0.2]\n",
      "[ 0.2 -0.2]\n",
      "[ 0.2 -0.2]\n",
      "[ 0.2 -0.2]\n",
      "[ 0.2 -0.2]\n",
      "[ 0.2 -0.2]\n"
     ]
    },
    {
     "name": "stderr",
     "output_type": "stream",
     "text": [
      " 16%|█▋        | 165/1000 [00:02<00:14, 59.60it/s]"
     ]
    },
    {
     "name": "stdout",
     "output_type": "stream",
     "text": [
      "[ 0.2 -0.2]\n",
      "[ 0.2 -0.2]\n",
      "[ 0.2 -0.2]\n",
      "[ 0.2 -0.2]\n",
      "[ 0.2 -0.2]\n",
      "[ 0.2 -0.2]\n",
      "[ 0.2 -0.2]\n",
      "[ 0.2 -0.2]\n",
      "[ 0.2 -0.2]\n",
      "[ 0.2 -0.2]\n",
      "[ 0.2 -0.2]\n",
      "[ 0.2 -0.2]\n",
      "[ 0.2 -0.2]\n"
     ]
    },
    {
     "name": "stderr",
     "output_type": "stream",
     "text": [
      " 18%|█▊        | 179/1000 [00:03<00:13, 59.70it/s]"
     ]
    },
    {
     "name": "stdout",
     "output_type": "stream",
     "text": [
      "[ 0.2 -0.2]\n",
      "[ 0.2 -0.2]\n",
      "[ 0.2 -0.2]\n",
      "[ 0.2 -0.2]\n",
      "[ 0.2 -0.2]\n",
      "[ 0.2 -0.2]\n",
      "[ 0.2 -0.2]\n",
      "[ 0.2 -0.2]\n",
      "[ 0.2 -0.2]\n",
      "[ 0.2 -0.2]\n",
      "[ 0.2 -0.2]\n",
      "[ 0.2 -0.2]\n",
      "[ 0.2 -0.2]\n"
     ]
    },
    {
     "name": "stderr",
     "output_type": "stream",
     "text": [
      " 19%|█▉        | 192/1000 [00:03<00:13, 59.86it/s]"
     ]
    },
    {
     "name": "stdout",
     "output_type": "stream",
     "text": [
      "[ 0.2 -0.2]\n",
      "[ 0.2 -0.2]\n",
      "[ 0.2 -0.2]\n",
      "[ 0.2 -0.2]\n",
      "[ 0.2 -0.2]\n",
      "[ 0.2 -0.2]\n",
      "[ 0.2 -0.2]\n",
      "[ 0.2 -0.2]\n",
      "[ 0.2 -0.2]\n",
      "[ 0.2 -0.2]\n",
      "[ 0.2 -0.2]\n",
      "[ 0.2 -0.2]\n",
      "[ 0.2 -0.2]\n"
     ]
    },
    {
     "name": "stderr",
     "output_type": "stream",
     "text": [
      " 20%|██        | 205/1000 [00:03<00:13, 59.96it/s]"
     ]
    },
    {
     "name": "stdout",
     "output_type": "stream",
     "text": [
      "[ 0.2 -0.2]\n",
      "[ 0.2 -0.2]\n",
      "[ 0.2 -0.2]\n",
      "[ 0.2 -0.2]\n",
      "[ 0.2 -0.2]\n",
      "[ 0.2 -0.2]\n",
      "[ 0.2 -0.2]\n",
      "[ 0.2 -0.2]\n",
      "[ 0.2 -0.2]\n",
      "[ 0.2 -0.2]\n",
      "[ 0.2 -0.2]\n",
      "[ 0.2 -0.2]\n",
      "[ 0.2 -0.2]\n"
     ]
    },
    {
     "name": "stderr",
     "output_type": "stream",
     "text": [
      " 22%|██▏       | 219/1000 [00:03<00:12, 60.60it/s]"
     ]
    },
    {
     "name": "stdout",
     "output_type": "stream",
     "text": [
      "[ 0.2 -0.2]\n",
      "[ 0.2 -0.2]\n",
      "[ 0.2 -0.2]\n",
      "[ 0.2 -0.2]\n",
      "[ 0.2 -0.2]\n",
      "[ 0.2 -0.2]\n",
      "[ 0.2 -0.2]\n",
      "[ 0.2 -0.2]\n",
      "[ 0.2 -0.2]\n",
      "[ 0.2 -0.2]\n",
      "[ 0.2 -0.2]\n",
      "[ 0.2 -0.2]\n",
      "[ 0.2 -0.2]\n"
     ]
    },
    {
     "name": "stderr",
     "output_type": "stream",
     "text": [
      " 23%|██▎       | 232/1000 [00:03<00:13, 55.75it/s]"
     ]
    },
    {
     "name": "stdout",
     "output_type": "stream",
     "text": [
      "[ 0.2 -0.2]\n",
      "[ 0.2 -0.2]\n",
      "[ 0.2 -0.2]\n",
      "[ 0.2 -0.2]\n",
      "[ 0.2 -0.2]\n",
      "[ 0.2 -0.2]\n",
      "[ 0.2 -0.2]\n",
      "[ 0.2 -0.2]\n",
      "[ 0.2 -0.2]\n",
      "[ 0.2 -0.2]\n",
      "[ 0.2 -0.2]\n"
     ]
    },
    {
     "name": "stderr",
     "output_type": "stream",
     "text": [
      " 24%|██▍       | 238/1000 [00:04<00:16, 45.53it/s]"
     ]
    },
    {
     "name": "stdout",
     "output_type": "stream",
     "text": [
      "[ 0.2 -0.2]\n",
      "[ 0.2 -0.2]\n",
      "[ 0.2 -0.2]\n",
      "[ 0.2 -0.2]\n",
      "[ 0.2 -0.2]\n",
      "[ 0.2 -0.2]\n",
      "[ 0.2 -0.2]\n",
      "[ 0.2 -0.2]\n",
      "[ 0.2 -0.2]\n",
      "[ 0.2 -0.2]\n"
     ]
    },
    {
     "name": "stderr",
     "output_type": "stream",
     "text": [
      " 24%|██▍       | 243/1000 [00:04<00:45, 16.75it/s]"
     ]
    },
    {
     "name": "stdout",
     "output_type": "stream",
     "text": [
      "[ 0.2 -0.2]\n",
      "[ 0.2 -0.2]\n",
      "[ 0.2 -0.2]\n",
      "[ 0.2 -0.2]\n"
     ]
    },
    {
     "name": "stderr",
     "output_type": "stream",
     "text": [
      " 25%|██▍       | 247/1000 [00:06<01:29,  8.38it/s]"
     ]
    },
    {
     "name": "stdout",
     "output_type": "stream",
     "text": [
      "[ 0.2 -0.2]\n",
      "[ 0.2 -0.2]\n",
      "[ 0.2 -0.2]\n"
     ]
    },
    {
     "name": "stderr",
     "output_type": "stream",
     "text": [
      " 25%|██▌       | 250/1000 [00:07<02:00,  6.22it/s]"
     ]
    },
    {
     "name": "stdout",
     "output_type": "stream",
     "text": [
      "[ 0.2 -0.2]\n",
      "[ 0.2 -0.2]\n"
     ]
    },
    {
     "name": "stderr",
     "output_type": "stream",
     "text": [
      " 25%|██▌       | 252/1000 [00:07<02:20,  5.32it/s]"
     ]
    },
    {
     "name": "stdout",
     "output_type": "stream",
     "text": [
      "[ 0.2 -0.2]\n",
      "[ 0.2 -0.2]\n"
     ]
    },
    {
     "name": "stderr",
     "output_type": "stream",
     "text": [
      " 25%|██▌       | 254/1000 [00:08<02:38,  4.70it/s]"
     ]
    },
    {
     "name": "stdout",
     "output_type": "stream",
     "text": [
      "[ 0.2 -0.2]\n",
      "[ 0.2 -0.2]\n"
     ]
    },
    {
     "name": "stderr",
     "output_type": "stream",
     "text": [
      " 26%|██▌       | 256/1000 [00:09<02:57,  4.19it/s]"
     ]
    },
    {
     "name": "stdout",
     "output_type": "stream",
     "text": [
      "[ 0.2 -0.2]\n"
     ]
    },
    {
     "name": "stderr",
     "output_type": "stream",
     "text": [
      " 26%|██▌       | 257/1000 [00:09<03:04,  4.02it/s]"
     ]
    },
    {
     "name": "stdout",
     "output_type": "stream",
     "text": [
      "[ 0.2 -0.2]\n"
     ]
    },
    {
     "name": "stderr",
     "output_type": "stream",
     "text": [
      " 26%|██▌       | 258/1000 [00:09<03:11,  3.87it/s]"
     ]
    },
    {
     "name": "stdout",
     "output_type": "stream",
     "text": [
      "[ 0.2 -0.2]\n"
     ]
    },
    {
     "name": "stderr",
     "output_type": "stream",
     "text": [
      " 26%|██▌       | 259/1000 [00:10<03:22,  3.66it/s]"
     ]
    },
    {
     "name": "stdout",
     "output_type": "stream",
     "text": [
      "[ 0.2 -0.2]\n"
     ]
    },
    {
     "name": "stderr",
     "output_type": "stream",
     "text": [
      " 26%|██▌       | 260/1000 [00:10<03:27,  3.57it/s]"
     ]
    },
    {
     "name": "stdout",
     "output_type": "stream",
     "text": [
      "[ 0.2 -0.2]\n"
     ]
    },
    {
     "name": "stderr",
     "output_type": "stream",
     "text": [
      " 26%|██▌       | 261/1000 [00:10<03:39,  3.37it/s]"
     ]
    },
    {
     "name": "stdout",
     "output_type": "stream",
     "text": [
      "[ 0.2 -0.2]\n"
     ]
    },
    {
     "name": "stderr",
     "output_type": "stream",
     "text": [
      " 26%|██▌       | 262/1000 [00:11<03:42,  3.32it/s]"
     ]
    },
    {
     "name": "stdout",
     "output_type": "stream",
     "text": [
      "[ 0.2 -0.2]\n"
     ]
    },
    {
     "name": "stderr",
     "output_type": "stream",
     "text": [
      " 26%|██▋       | 263/1000 [00:11<03:47,  3.24it/s]"
     ]
    },
    {
     "name": "stdout",
     "output_type": "stream",
     "text": [
      "[ 0.2 -0.2]\n"
     ]
    },
    {
     "name": "stderr",
     "output_type": "stream",
     "text": [
      " 26%|██▋       | 264/1000 [00:11<03:50,  3.19it/s]"
     ]
    },
    {
     "name": "stdout",
     "output_type": "stream",
     "text": [
      "[ 0.2 -0.2]\n"
     ]
    },
    {
     "name": "stderr",
     "output_type": "stream",
     "text": [
      " 26%|██▋       | 265/1000 [00:12<04:00,  3.06it/s]"
     ]
    },
    {
     "name": "stdout",
     "output_type": "stream",
     "text": [
      "[ 0.2 -0.2]\n"
     ]
    },
    {
     "name": "stderr",
     "output_type": "stream",
     "text": [
      " 27%|██▋       | 266/1000 [00:12<04:00,  3.05it/s]"
     ]
    },
    {
     "name": "stdout",
     "output_type": "stream",
     "text": [
      "[ 0.2 -0.2]\n"
     ]
    },
    {
     "name": "stderr",
     "output_type": "stream",
     "text": [
      " 27%|██▋       | 267/1000 [00:12<03:58,  3.07it/s]"
     ]
    },
    {
     "name": "stdout",
     "output_type": "stream",
     "text": [
      "[ 0.2 -0.2]\n"
     ]
    },
    {
     "name": "stderr",
     "output_type": "stream",
     "text": [
      " 27%|██▋       | 268/1000 [00:13<03:56,  3.10it/s]"
     ]
    },
    {
     "name": "stdout",
     "output_type": "stream",
     "text": [
      "[ 0.2 -0.2]\n"
     ]
    },
    {
     "name": "stderr",
     "output_type": "stream",
     "text": [
      " 27%|██▋       | 269/1000 [00:13<03:56,  3.09it/s]"
     ]
    },
    {
     "name": "stdout",
     "output_type": "stream",
     "text": [
      "[0.2        0.05447526]\n"
     ]
    },
    {
     "name": "stderr",
     "output_type": "stream",
     "text": [
      " 27%|██▋       | 270/1000 [00:13<03:52,  3.13it/s]"
     ]
    },
    {
     "name": "stdout",
     "output_type": "stream",
     "text": [
      "[0.2        0.13202854]\n"
     ]
    },
    {
     "name": "stderr",
     "output_type": "stream",
     "text": [
      " 27%|██▋       | 271/1000 [00:14<03:57,  3.07it/s]"
     ]
    },
    {
     "name": "stdout",
     "output_type": "stream",
     "text": [
      "[0.2        0.08124773]\n"
     ]
    },
    {
     "name": "stderr",
     "output_type": "stream",
     "text": [
      " 27%|██▋       | 272/1000 [00:14<04:03,  3.00it/s]"
     ]
    },
    {
     "name": "stdout",
     "output_type": "stream",
     "text": [
      "[ 0.2        -0.01140538]\n"
     ]
    },
    {
     "name": "stderr",
     "output_type": "stream",
     "text": [
      " 27%|██▋       | 273/1000 [00:14<03:58,  3.05it/s]"
     ]
    },
    {
     "name": "stdout",
     "output_type": "stream",
     "text": [
      "[ 0.2        -0.17799379]\n"
     ]
    },
    {
     "name": "stderr",
     "output_type": "stream",
     "text": [
      " 27%|██▋       | 274/1000 [00:15<03:53,  3.11it/s]"
     ]
    },
    {
     "name": "stdout",
     "output_type": "stream",
     "text": [
      "[0.2 0.2]\n"
     ]
    },
    {
     "name": "stderr",
     "output_type": "stream",
     "text": [
      " 28%|██▊       | 275/1000 [00:15<03:55,  3.08it/s]"
     ]
    },
    {
     "name": "stdout",
     "output_type": "stream",
     "text": [
      "[ 0.2        -0.03591977]\n"
     ]
    },
    {
     "name": "stderr",
     "output_type": "stream",
     "text": [
      " 28%|██▊       | 276/1000 [00:15<03:52,  3.11it/s]"
     ]
    },
    {
     "name": "stdout",
     "output_type": "stream",
     "text": [
      "[ 0.2        -0.09409152]\n"
     ]
    },
    {
     "name": "stderr",
     "output_type": "stream",
     "text": [
      " 28%|██▊       | 277/1000 [00:16<03:51,  3.12it/s]"
     ]
    },
    {
     "name": "stdout",
     "output_type": "stream",
     "text": [
      "[ 0.2        -0.06887302]\n"
     ]
    },
    {
     "name": "stderr",
     "output_type": "stream",
     "text": [
      " 28%|██▊       | 278/1000 [00:16<03:57,  3.03it/s]"
     ]
    },
    {
     "name": "stdout",
     "output_type": "stream",
     "text": [
      "[0.2 0.2]\n"
     ]
    },
    {
     "name": "stderr",
     "output_type": "stream",
     "text": [
      " 28%|██▊       | 279/1000 [00:16<03:52,  3.10it/s]"
     ]
    },
    {
     "name": "stdout",
     "output_type": "stream",
     "text": [
      "[ 0.2        -0.08317839]\n"
     ]
    },
    {
     "name": "stderr",
     "output_type": "stream",
     "text": [
      " 28%|██▊       | 280/1000 [00:17<04:02,  2.97it/s]"
     ]
    },
    {
     "name": "stdout",
     "output_type": "stream",
     "text": [
      "[0.2 0.2]\n"
     ]
    },
    {
     "name": "stderr",
     "output_type": "stream",
     "text": [
      " 28%|██▊       | 281/1000 [00:17<03:59,  3.00it/s]"
     ]
    },
    {
     "name": "stdout",
     "output_type": "stream",
     "text": [
      "[0.2        0.11650962]\n"
     ]
    },
    {
     "name": "stderr",
     "output_type": "stream",
     "text": [
      " 28%|██▊       | 282/1000 [00:17<03:59,  3.00it/s]"
     ]
    },
    {
     "name": "stdout",
     "output_type": "stream",
     "text": [
      "[ 0.2 -0.2]\n"
     ]
    },
    {
     "name": "stderr",
     "output_type": "stream",
     "text": [
      " 28%|██▊       | 283/1000 [00:18<04:01,  2.97it/s]"
     ]
    },
    {
     "name": "stdout",
     "output_type": "stream",
     "text": [
      "[0.2        0.00873641]\n"
     ]
    },
    {
     "name": "stderr",
     "output_type": "stream",
     "text": [
      " 28%|██▊       | 284/1000 [00:18<03:58,  3.00it/s]"
     ]
    },
    {
     "name": "stdout",
     "output_type": "stream",
     "text": [
      "[0.2 0.2]\n"
     ]
    },
    {
     "name": "stderr",
     "output_type": "stream",
     "text": [
      " 28%|██▊       | 285/1000 [00:18<03:54,  3.05it/s]"
     ]
    },
    {
     "name": "stdout",
     "output_type": "stream",
     "text": [
      "[ 0.2        -0.15842807]\n"
     ]
    },
    {
     "name": "stderr",
     "output_type": "stream",
     "text": [
      " 29%|██▊       | 286/1000 [00:19<03:51,  3.08it/s]"
     ]
    },
    {
     "name": "stdout",
     "output_type": "stream",
     "text": [
      "[ 0.2        -0.16893718]\n"
     ]
    },
    {
     "name": "stderr",
     "output_type": "stream",
     "text": [
      " 29%|██▊       | 287/1000 [00:19<03:49,  3.10it/s]"
     ]
    },
    {
     "name": "stdout",
     "output_type": "stream",
     "text": [
      "[ 0.2        -0.06489343]\n"
     ]
    },
    {
     "name": "stderr",
     "output_type": "stream",
     "text": [
      " 29%|██▉       | 288/1000 [00:19<03:50,  3.09it/s]"
     ]
    },
    {
     "name": "stdout",
     "output_type": "stream",
     "text": [
      "[ 0.2        -0.03765079]\n"
     ]
    },
    {
     "name": "stderr",
     "output_type": "stream",
     "text": [
      " 29%|██▉       | 289/1000 [00:20<03:47,  3.12it/s]"
     ]
    },
    {
     "name": "stdout",
     "output_type": "stream",
     "text": [
      "[0.2        0.06565204]\n"
     ]
    },
    {
     "name": "stderr",
     "output_type": "stream",
     "text": [
      " 29%|██▉       | 290/1000 [00:20<03:47,  3.12it/s]"
     ]
    },
    {
     "name": "stdout",
     "output_type": "stream",
     "text": [
      "[ 0.13660157 -0.02181235]\n"
     ]
    },
    {
     "name": "stderr",
     "output_type": "stream",
     "text": [
      " 29%|██▉       | 291/1000 [00:20<03:44,  3.16it/s]"
     ]
    },
    {
     "name": "stdout",
     "output_type": "stream",
     "text": [
      "[0.2       0.1319534]\n"
     ]
    },
    {
     "name": "stderr",
     "output_type": "stream",
     "text": [
      " 29%|██▉       | 292/1000 [00:21<03:51,  3.06it/s]"
     ]
    },
    {
     "name": "stdout",
     "output_type": "stream",
     "text": [
      "[ 0.2       -0.0277152]\n"
     ]
    },
    {
     "name": "stderr",
     "output_type": "stream",
     "text": [
      " 29%|██▉       | 293/1000 [00:21<03:49,  3.09it/s]"
     ]
    },
    {
     "name": "stdout",
     "output_type": "stream",
     "text": [
      "[0.2        0.19406842]\n"
     ]
    },
    {
     "name": "stderr",
     "output_type": "stream",
     "text": [
      " 29%|██▉       | 294/1000 [00:21<03:54,  3.01it/s]"
     ]
    },
    {
     "name": "stdout",
     "output_type": "stream",
     "text": [
      "[0.2 0.2]\n"
     ]
    },
    {
     "name": "stderr",
     "output_type": "stream",
     "text": [
      " 30%|██▉       | 295/1000 [00:22<03:50,  3.05it/s]"
     ]
    },
    {
     "name": "stdout",
     "output_type": "stream",
     "text": [
      "[ 0.2        -0.16899866]\n"
     ]
    },
    {
     "name": "stderr",
     "output_type": "stream",
     "text": [
      " 30%|██▉       | 296/1000 [00:22<03:46,  3.11it/s]"
     ]
    },
    {
     "name": "stdout",
     "output_type": "stream",
     "text": [
      "[ 0.2 -0.2]\n"
     ]
    },
    {
     "name": "stderr",
     "output_type": "stream",
     "text": [
      " 30%|██▉       | 297/1000 [00:22<03:50,  3.06it/s]"
     ]
    },
    {
     "name": "stdout",
     "output_type": "stream",
     "text": [
      "[ 0.2        -0.07428925]\n"
     ]
    },
    {
     "name": "stderr",
     "output_type": "stream",
     "text": [
      " 30%|██▉       | 298/1000 [00:23<03:53,  3.01it/s]"
     ]
    },
    {
     "name": "stdout",
     "output_type": "stream",
     "text": [
      "[0.2 0.2]\n"
     ]
    },
    {
     "name": "stderr",
     "output_type": "stream",
     "text": [
      " 30%|██▉       | 299/1000 [00:23<03:51,  3.03it/s]"
     ]
    },
    {
     "name": "stdout",
     "output_type": "stream",
     "text": [
      "[ 0.2       -0.0446119]\n"
     ]
    },
    {
     "name": "stderr",
     "output_type": "stream",
     "text": [
      " 30%|███       | 302/1000 [00:23<02:00,  5.81it/s]"
     ]
    },
    {
     "name": "stdout",
     "output_type": "stream",
     "text": [
      "[ 0.2 -0.2]\n",
      "[ 0.2        -0.06254189]\n",
      "[ 0.2        -0.03006297]\n",
      "[ 0.2        -0.06385231]\n"
     ]
    },
    {
     "name": "stderr",
     "output_type": "stream",
     "text": [
      " 31%|███       | 310/1000 [00:23<00:41, 16.44it/s]"
     ]
    },
    {
     "name": "stdout",
     "output_type": "stream",
     "text": [
      "[ 0.18685544 -0.09538617]\n",
      "[ 0.2       -0.0406981]\n",
      "[0.2 0.2]\n",
      "[0.11843845 0.2       ]\n",
      "[0.18841188 0.02037282]\n",
      "[0.2 0.2]\n",
      "[0.2        0.07215317]\n"
     ]
    },
    {
     "name": "stderr",
     "output_type": "stream",
     "text": [
      " 32%|███▏      | 316/1000 [00:23<00:28, 24.07it/s]"
     ]
    },
    {
     "name": "stdout",
     "output_type": "stream",
     "text": [
      "[ 0.2        -0.00315748]\n",
      "[0.2 0.2]\n",
      "[0.2 0.2]\n",
      "[ 0.2        -0.05074748]\n",
      "[ 0.2        -0.16993138]\n",
      "[0.2        0.03092196]\n",
      "[ 0.2 -0.2]\n",
      "[0.2        0.17050919]\n",
      "[0.10477574 0.2       ]\n"
     ]
    },
    {
     "name": "stderr",
     "output_type": "stream",
     "text": [
      " 33%|███▎      | 328/1000 [00:24<00:19, 34.97it/s]"
     ]
    },
    {
     "name": "stdout",
     "output_type": "stream",
     "text": [
      "[0.2 0.2]\n",
      "[0.2        0.11772438]\n",
      "[ 0.1741929  -0.01984344]\n",
      "[0.2       0.0570913]\n",
      "[0.15748364 0.2       ]\n",
      "[0.2 0.2]\n",
      "[0.2        0.16036704]\n",
      "[0.2 0.2]\n",
      "[0.2 0.2]\n",
      "[0.2 0.2]\n",
      "[ 0.2        -0.02099685]\n"
     ]
    },
    {
     "name": "stderr",
     "output_type": "stream",
     "text": [
      " 34%|███▍      | 338/1000 [00:24<00:16, 40.44it/s]"
     ]
    },
    {
     "name": "stdout",
     "output_type": "stream",
     "text": [
      "[0.2 0.2]\n",
      "[0.2        0.08156308]\n",
      "[0.09401198 0.2       ]\n",
      "[-0.00413822  0.2       ]\n",
      "[ 0.2        -0.16079247]\n",
      "[0.2        0.14067544]\n",
      "[0.2       0.0250822]\n",
      "[0.2        0.15508546]\n",
      "[0.07586901 0.2       ]\n",
      "[0.10261869 0.06689876]\n"
     ]
    },
    {
     "name": "stderr",
     "output_type": "stream",
     "text": [
      " 35%|███▍      | 348/1000 [00:24<00:14, 43.85it/s]"
     ]
    },
    {
     "name": "stdout",
     "output_type": "stream",
     "text": [
      "[ 0.2      -0.184712]\n",
      "[ 0.2       -0.1778908]\n",
      "[ 0.2        -0.05019496]\n",
      "[0.2        0.16510135]\n",
      "[0.2        0.11566475]\n",
      "[0.2 0.2]\n",
      "[0.2 0.2]\n",
      "[0.2        0.13051963]\n",
      "[0.2        0.01303253]\n",
      "[-0.07593462 -0.08489789]\n",
      "[0.2 0.2]\n"
     ]
    },
    {
     "name": "stderr",
     "output_type": "stream",
     "text": [
      " 36%|███▌      | 358/1000 [00:24<00:13, 45.98it/s]"
     ]
    },
    {
     "name": "stdout",
     "output_type": "stream",
     "text": [
      "[ 0.2        -0.00616541]\n",
      "[ 0.2        -0.16197549]\n",
      "[ 0.2 -0.2]\n",
      "[0.2        0.17981699]\n",
      "[ 0.2        -0.09048767]\n",
      "[ 0.2 -0.2]\n",
      "[0.2        0.13929817]\n",
      "[0.2 0.2]\n",
      "[ 0.2 -0.2]\n",
      "[ 0.2        -0.09747759]\n"
     ]
    },
    {
     "name": "stderr",
     "output_type": "stream",
     "text": [
      " 37%|███▋      | 368/1000 [00:25<00:13, 47.12it/s]"
     ]
    },
    {
     "name": "stdout",
     "output_type": "stream",
     "text": [
      "[0.2       0.0905209]\n",
      "[0.2 0.2]\n",
      "[0.2        0.10962219]\n",
      "[0.2 0.2]\n",
      "[0.1562507 0.2      ]\n",
      "[0.2        0.05141962]\n",
      "[ 0.2        -0.14411294]\n",
      "[ 0.2 -0.2]\n",
      "[0.1746199 0.0999088]\n",
      "[ 0.2        -0.07864106]\n"
     ]
    },
    {
     "name": "stderr",
     "output_type": "stream",
     "text": [
      " 38%|███▊      | 378/1000 [00:25<00:13, 47.75it/s]"
     ]
    },
    {
     "name": "stdout",
     "output_type": "stream",
     "text": [
      "[0.2        0.01645296]\n",
      "[ 0.2        -0.10056159]\n",
      "[-0.11388257  0.14041701]\n",
      "[-0.01550385  0.16188465]\n",
      "[0.08250678 0.2       ]\n",
      "[0.2        0.12112004]\n",
      "[ 0.2        -0.13875982]\n",
      "[0.09060563 0.0882811 ]\n",
      "[0.2 0.2]\n",
      "[0.0836785  0.10239991]\n",
      "[0.15585348 0.04741167]\n"
     ]
    },
    {
     "name": "stderr",
     "output_type": "stream",
     "text": [
      " 39%|███▉      | 388/1000 [00:25<00:13, 46.71it/s]"
     ]
    },
    {
     "name": "stdout",
     "output_type": "stream",
     "text": [
      "[0.2        0.00106542]\n",
      "[0.11910754 0.2       ]\n",
      "[0.06109357 0.2       ]\n",
      "[0.19582693 0.12637001]\n",
      "[-0.00206131  0.05132978]\n",
      "[0.17145471 0.03617714]\n",
      "[0.2 0.2]\n",
      "[0.14229944 0.1742102 ]\n",
      "[0.2       0.1831259]\n",
      "[ 0.2 -0.2]\n"
     ]
    },
    {
     "name": "stderr",
     "output_type": "stream",
     "text": [
      " 40%|███▉      | 398/1000 [00:25<00:12, 47.38it/s]"
     ]
    },
    {
     "name": "stdout",
     "output_type": "stream",
     "text": [
      "[0.2        0.12283807]\n",
      "[0.2 0.2]\n",
      "[0.16338481 0.12512697]\n",
      "[0.2 0.2]\n",
      "[ 0.2        -0.07034854]\n",
      "[ 0.2 -0.2]\n",
      "[ 0.2        -0.16441339]\n",
      "[0.2 0.2]\n",
      "[ 0.2        -0.08521897]\n",
      "[ 0.2 -0.2]\n",
      "[ 0.2 -0.2]\n"
     ]
    },
    {
     "name": "stderr",
     "output_type": "stream",
     "text": [
      " 41%|████      | 409/1000 [00:25<00:12, 47.84it/s]"
     ]
    },
    {
     "name": "stdout",
     "output_type": "stream",
     "text": [
      "[ 0.2        -0.00153984]\n",
      "[0.2        0.15497768]\n",
      "[ 0.2        -0.12228338]\n",
      "[ 0.2        -0.11356588]\n",
      "[ 0.2        -0.17508385]\n",
      "[ 0.2 -0.2]\n",
      "[ 0.2        -0.05143887]\n",
      "[ 0.2 -0.2]\n",
      "[0.2        0.07313401]\n",
      "[ 0.2 -0.2]\n"
     ]
    },
    {
     "name": "stderr",
     "output_type": "stream",
     "text": [
      " 42%|████▏     | 420/1000 [00:26<00:12, 46.85it/s]"
     ]
    },
    {
     "name": "stdout",
     "output_type": "stream",
     "text": [
      "[ 0.2        -0.16235664]\n",
      "[0.2        0.03571482]\n",
      "[ 0.2 -0.2]\n",
      "[ 0.2       -0.0961798]\n",
      "[ 0.2 -0.2]\n",
      "[ 0.2        -0.11867066]\n",
      "[ 0.2        -0.04936539]\n",
      "[ 0.2 -0.2]\n",
      "[0.2        0.04822974]\n",
      "[ 0.2        -0.02463354]\n"
     ]
    },
    {
     "name": "stderr",
     "output_type": "stream",
     "text": [
      " 43%|████▎     | 432/1000 [00:26<00:11, 47.65it/s]"
     ]
    },
    {
     "name": "stdout",
     "output_type": "stream",
     "text": [
      "[ 0.2 -0.2]\n",
      "[ 0.2 -0.2]\n",
      "[ 0.2       -0.1405376]\n",
      "[ 0.2        -0.17751236]\n",
      "[0.2        0.13025844]\n",
      "[ 0.2       -0.0844857]\n",
      "[ 0.2        -0.01090079]\n",
      "[0.2 0.2]\n",
      "[ 0.2 -0.2]\n",
      "[0.08852576 0.2       ]\n",
      "[0.2 0.2]\n"
     ]
    },
    {
     "name": "stderr",
     "output_type": "stream",
     "text": [
      " 44%|████▍     | 442/1000 [00:26<00:11, 48.45it/s]"
     ]
    },
    {
     "name": "stdout",
     "output_type": "stream",
     "text": [
      "[0.2       0.1930449]\n",
      "[0.12055738 0.2       ]\n",
      "[ 0.18313079 -0.2       ]\n",
      "[0.2 0.2]\n",
      "[0.18037604 0.2       ]\n",
      "[-0.01398057  0.2       ]\n",
      "[0.04885471 0.2       ]\n",
      "[0.2 0.2]\n",
      "[ 0.02408367 -0.2       ]\n",
      "[0.2        0.09875445]\n",
      "[0.01323052 0.2       ]\n"
     ]
    },
    {
     "name": "stderr",
     "output_type": "stream",
     "text": [
      " 45%|████▌     | 452/1000 [00:26<00:11, 48.41it/s]"
     ]
    },
    {
     "name": "stdout",
     "output_type": "stream",
     "text": [
      "[0.2 0.2]\n",
      "[0.07712007 0.2       ]\n",
      "[0.2 0.2]\n",
      "[0.2 0.2]\n",
      "[0.10211588 0.2       ]\n",
      "[0.2 0.2]\n",
      "[ 0.13012654 -0.13243777]\n",
      "[0.2 0.2]\n",
      "[0.17346528 0.2       ]\n",
      "[0.2 0.2]\n"
     ]
    },
    {
     "name": "stderr",
     "output_type": "stream",
     "text": [
      " 46%|████▋     | 463/1000 [00:27<00:11, 48.57it/s]"
     ]
    },
    {
     "name": "stdout",
     "output_type": "stream",
     "text": [
      "[ 0.2       -0.0890077]\n",
      "[0.2        0.15103832]\n",
      "[ 0.2        -0.01418934]\n",
      "[0.2        0.08296953]\n",
      "[0.2 0.2]\n",
      "[0.2        0.12968951]\n",
      "[ 0.2 -0.2]\n",
      "[0.2       0.0645712]\n",
      "[0.2 0.2]\n",
      "[0.2        0.03821638]\n"
     ]
    },
    {
     "name": "stderr",
     "output_type": "stream",
     "text": [
      " 47%|████▋     | 473/1000 [00:27<00:11, 47.42it/s]"
     ]
    },
    {
     "name": "stdout",
     "output_type": "stream",
     "text": [
      "[ 0.2 -0.2]\n",
      "[ 0.2 -0.2]\n",
      "[ 0.2        -0.16206811]\n",
      "[0.2 0.2]\n",
      "[ 0.2        -0.00177303]\n",
      "[ 0.2        -0.18246396]\n",
      "[0.2        0.00921637]\n",
      "[ 0.2        -0.10892246]\n",
      "[ 0.2 -0.2]\n",
      "[ 0.2        -0.08948724]\n"
     ]
    },
    {
     "name": "stderr",
     "output_type": "stream",
     "text": [
      " 48%|████▊     | 483/1000 [00:27<00:10, 47.57it/s]"
     ]
    },
    {
     "name": "stdout",
     "output_type": "stream",
     "text": [
      "[0.2        0.01336792]\n",
      "[ 0.2        -0.12842914]\n",
      "[ 0.2        -0.01707743]\n",
      "[0.2        0.15410094]\n",
      "[ 0.2        -0.10254404]\n",
      "[0.2        0.01235944]\n",
      "[0.2        0.00374914]\n",
      "[0.2 0.2]\n",
      "[ 0.12274298 -0.2       ]\n",
      "[ 0.2        -0.14290905]\n"
     ]
    },
    {
     "name": "stderr",
     "output_type": "stream",
     "text": [
      " 49%|████▉     | 494/1000 [00:27<00:10, 48.03it/s]"
     ]
    },
    {
     "name": "stdout",
     "output_type": "stream",
     "text": [
      "[0.14647189 0.07679927]\n",
      "[0.2 0.2]\n",
      "[0.2 0.2]\n",
      "[ 0.2        -0.03546304]\n",
      "[0.2 0.2]\n",
      "[-0.10643972 -0.03051156]\n",
      "[-0.05941424  0.2       ]\n",
      "[0.2 0.2]\n",
      "[0.02193877 0.2       ]\n",
      "[0.05978183 0.2       ]\n",
      "[-0.2         0.18878451]\n"
     ]
    },
    {
     "name": "stderr",
     "output_type": "stream",
     "text": [
      " 50%|█████     | 505/1000 [00:27<00:10, 48.45it/s]"
     ]
    },
    {
     "name": "stdout",
     "output_type": "stream",
     "text": [
      "[-0.2  0.2]\n",
      "[-0.03444188  0.2       ]\n",
      "[-0.2  0.2]\n",
      "[-0.2  0.2]\n",
      "[-0.05032261  0.2       ]\n",
      "[0.13648164 0.2       ]\n",
      "[-0.19737546  0.17379266]\n",
      "[-0.2  0.2]\n",
      "[-0.2  0.2]\n",
      "[0.2 0.2]\n"
     ]
    },
    {
     "name": "stderr",
     "output_type": "stream",
     "text": [
      " 52%|█████▏    | 515/1000 [00:28<00:10, 47.99it/s]"
     ]
    },
    {
     "name": "stdout",
     "output_type": "stream",
     "text": [
      "[-0.03630053  0.2       ]\n",
      "[-0.0297155  0.2      ]\n",
      "[-0.04073454  0.2       ]\n",
      "[0.2        0.08774751]\n",
      "[0.2 0.2]\n",
      "[ 0.2        -0.08313382]\n",
      "[ 0.2        -0.03822091]\n",
      "[ 0.2 -0.2]\n",
      "[0.2 0.2]\n"
     ]
    },
    {
     "name": "stderr",
     "output_type": "stream",
     "text": [
      " 52%|█████▏    | 521/1000 [00:28<00:09, 49.05it/s]"
     ]
    },
    {
     "name": "stdout",
     "output_type": "stream",
     "text": [
      "[0.2        0.18651758]\n",
      "[0.2        0.15596244]\n",
      "[ 0.10244319 -0.2       ]\n",
      "[ 0.2 -0.2]\n",
      "[ 0.2 -0.2]\n",
      "[ 0.2 -0.2]\n",
      "[0.2        0.09303284]\n",
      "[ 0.2        -0.14339414]\n",
      "[ 0.2 -0.2]\n",
      "[ 0.2 -0.2]\n"
     ]
    },
    {
     "name": "stderr",
     "output_type": "stream",
     "text": [
      " 53%|█████▎    | 532/1000 [00:28<00:09, 47.99it/s]"
     ]
    },
    {
     "name": "stdout",
     "output_type": "stream",
     "text": [
      "[ 0.2 -0.2]\n",
      "[ 0.2 -0.2]\n",
      "[ 0.2        -0.14576335]\n",
      "[ 0.2 -0.2]\n",
      "[ 0.2 -0.2]\n",
      "[ 0.2        -0.12465075]\n",
      "[ 0.2 -0.2]\n",
      "[ 0.2 -0.2]\n",
      "[ 0.2 -0.2]\n",
      "[ 0.2 -0.2]\n",
      "[0.2       0.0109131]\n"
     ]
    },
    {
     "name": "stderr",
     "output_type": "stream",
     "text": [
      " 54%|█████▍    | 542/1000 [00:28<00:09, 46.78it/s]"
     ]
    },
    {
     "name": "stdout",
     "output_type": "stream",
     "text": [
      "[ 0.2        -0.15652351]\n",
      "[0.2        0.03861791]\n",
      "[0.2 0.2]\n",
      "[ 0.2 -0.2]\n",
      "[ 0.2        -0.08606469]\n",
      "[0.2 0.2]\n",
      "[ 0.2        -0.05211798]\n",
      "[ 0.2        -0.07203612]\n",
      "[ 0.2        -0.07857981]\n"
     ]
    },
    {
     "name": "stderr",
     "output_type": "stream",
     "text": [
      " 55%|█████▌    | 552/1000 [00:28<00:09, 46.42it/s]"
     ]
    },
    {
     "name": "stdout",
     "output_type": "stream",
     "text": [
      "[ 0.2        -0.16252707]\n",
      "[ 0.2        -0.14796588]\n",
      "[0.2        0.04393578]\n",
      "[0.2       0.0047695]\n",
      "[0.06745146 0.07924028]\n",
      "[-0.05377425  0.2       ]\n",
      "[0.2 0.2]\n",
      "[-0.0183714  0.2      ]\n",
      "[0.2 0.2]\n",
      "[0.00566408 0.2       ]\n",
      "[-0.06697673  0.2       ]\n"
     ]
    },
    {
     "name": "stderr",
     "output_type": "stream",
     "text": [
      " 56%|█████▋    | 563/1000 [00:29<00:09, 47.90it/s]"
     ]
    },
    {
     "name": "stdout",
     "output_type": "stream",
     "text": [
      "[-0.07635763  0.2       ]\n",
      "[0.0666316 0.2      ]\n",
      "[0.1104573 0.2      ]\n",
      "[0.18180048 0.2       ]\n",
      "[0.2 0.2]\n",
      "[-0.08248156  0.2       ]\n",
      "[-0.2  0.2]\n",
      "[-0.2  0.2]\n",
      "[0.2 0.2]\n",
      "[0.18159461 0.2       ]\n",
      "[0.07824679 0.14337622]\n"
     ]
    },
    {
     "name": "stderr",
     "output_type": "stream",
     "text": [
      " 57%|█████▋    | 574/1000 [00:29<00:08, 47.90it/s]"
     ]
    },
    {
     "name": "stdout",
     "output_type": "stream",
     "text": [
      "[-0.2         0.16324781]\n",
      "[0.2        0.15217397]\n",
      "[0.2 0.2]\n",
      "[ 0.2        -0.08467881]\n",
      "[0.2 0.2]\n",
      "[0.2        0.10869677]\n",
      "[ 0.2        -0.15844512]\n",
      "[ 0.2        -0.14364904]\n",
      "[0.18695936 0.17995262]\n",
      "[ 0.2 -0.2]\n"
     ]
    },
    {
     "name": "stderr",
     "output_type": "stream",
     "text": [
      " 58%|█████▊    | 584/1000 [00:29<00:08, 47.72it/s]"
     ]
    },
    {
     "name": "stdout",
     "output_type": "stream",
     "text": [
      "[ 0.2        -0.05204982]\n",
      "[ 0.2        -0.11806431]\n",
      "[ 0.2 -0.2]\n",
      "[ 0.2 -0.2]\n",
      "[ 0.2 -0.2]\n",
      "[ 0.2 -0.2]\n",
      "[ 0.2 -0.2]\n",
      "[ 0.2        -0.13412037]\n",
      "[ 0.2 -0.2]\n",
      "[ 0.2 -0.2]\n"
     ]
    },
    {
     "name": "stderr",
     "output_type": "stream",
     "text": [
      " 60%|█████▉    | 596/1000 [00:29<00:08, 47.93it/s]"
     ]
    },
    {
     "name": "stdout",
     "output_type": "stream",
     "text": [
      "[ 0.2 -0.2]\n",
      "[ 0.2 -0.2]\n",
      "[ 0.2 -0.2]\n",
      "[ 0.2 -0.2]\n",
      "[ 0.2        -0.08891603]\n",
      "[ 0.2 -0.2]\n",
      "[ 0.2 -0.2]\n",
      "[ 0.2 -0.2]\n",
      "[ 0.2 -0.2]\n"
     ]
    },
    {
     "name": "stderr",
     "output_type": "stream",
     "text": [
      " 60%|██████    | 601/1000 [00:29<00:08, 47.29it/s]"
     ]
    },
    {
     "name": "stdout",
     "output_type": "stream",
     "text": [
      "[ 0.2        -0.07073633]\n",
      "[ 0.2        -0.01643267]\n",
      "[ 0.2 -0.2]\n",
      "[0.2 0.2]\n",
      "[ 0.2 -0.2]\n",
      "[0.2        0.10885457]\n",
      "[0.2 0.2]\n",
      "[0.2 0.2]\n",
      "[0.2        0.05408189]\n",
      "[0.08937325 0.2       ]\n"
     ]
    },
    {
     "name": "stderr",
     "output_type": "stream",
     "text": [
      " 61%|██████    | 612/1000 [00:30<00:08, 48.05it/s]"
     ]
    },
    {
     "name": "stdout",
     "output_type": "stream",
     "text": [
      "[ 0.16046427 -0.04316619]\n",
      "[-0.12477681  0.2       ]\n",
      "[0.03769742 0.2       ]\n",
      "[-0.17597167  0.2       ]\n",
      "[-0.2  0.2]\n",
      "[0.2 0.2]\n",
      "[-0.2  0.2]\n",
      "[-0.2  0.2]\n",
      "[-0.2  0.2]\n",
      "[-0.2  0.2]\n"
     ]
    },
    {
     "name": "stderr",
     "output_type": "stream",
     "text": [
      " 62%|██████▏   | 623/1000 [00:30<00:07, 47.40it/s]"
     ]
    },
    {
     "name": "stdout",
     "output_type": "stream",
     "text": [
      "[-0.2  0.2]\n",
      "[-0.2  0.2]\n",
      "[-0.2  0.2]\n",
      "[-0.2  0.2]\n",
      "[-0.2  0.2]\n",
      "[-0.2  0.2]\n",
      "[-0.2  0.2]\n",
      "[-0.2  0.2]\n",
      "[-0.2  0.2]\n",
      "[-0.14926387  0.2       ]\n"
     ]
    },
    {
     "name": "stderr",
     "output_type": "stream",
     "text": [
      " 63%|██████▎   | 633/1000 [00:30<00:07, 47.86it/s]"
     ]
    },
    {
     "name": "stdout",
     "output_type": "stream",
     "text": [
      "[-0.06635882  0.2       ]\n",
      "[0.00353343 0.2       ]\n",
      "[0.08555239 0.2       ]\n",
      "[0.14119697 0.2       ]\n",
      "[-0.04332003  0.17389435]\n",
      "[0.2        0.15363902]\n",
      "[ 0.2        -0.04775239]\n",
      "[0.2        0.00680818]\n",
      "[ 0.2        -0.06202673]\n"
     ]
    },
    {
     "name": "stderr",
     "output_type": "stream",
     "text": [
      " 64%|██████▍   | 643/1000 [00:30<00:07, 47.91it/s]"
     ]
    },
    {
     "name": "stdout",
     "output_type": "stream",
     "text": [
      "[0.2       0.1757792]\n",
      "[ 0.2        -0.13242295]\n",
      "[ 0.2        -0.14210768]\n",
      "[ 0.2 -0.2]\n",
      "[ 0.2 -0.2]\n",
      "[ 0.2        -0.09948464]\n",
      "[ 0.2 -0.2]\n",
      "[ 0.2        -0.16644578]\n",
      "[ 0.2 -0.2]\n",
      "[ 0.2 -0.2]\n",
      "[ 0.2 -0.2]\n"
     ]
    },
    {
     "name": "stderr",
     "output_type": "stream",
     "text": [
      " 66%|██████▌   | 661/1000 [00:31<00:04, 69.25it/s]"
     ]
    },
    {
     "name": "stdout",
     "output_type": "stream",
     "text": [
      "[ 0.2 -0.2]\n",
      "[ 0.2 -0.2]\n",
      "[ 0.2 -0.2]\n",
      "[ 0.2 -0.2]\n",
      "[ 0.2 -0.2]\n",
      "[ 0.2 -0.2]\n",
      "[ 0.2 -0.2]\n",
      "[ 0.2 -0.2]\n",
      "[ 0.2 -0.2]\n",
      "[ 0.2 -0.2]\n",
      "[ 0.2 -0.2]\n",
      "[0.2       0.0757522]\n",
      "[ 0.2        -0.01366112]\n",
      "[ 0.2        -0.06929715]\n",
      "[ 0.2 -0.2]\n",
      "[0.2        0.04673344]\n",
      "[0.11250028 0.2       ]\n",
      "[0.0751687 0.2      ]\n",
      "[0.18806586 0.14922895]\n"
     ]
    },
    {
     "name": "stderr",
     "output_type": "stream",
     "text": [
      " 68%|██████▊   | 681/1000 [00:31<00:03, 81.03it/s]"
     ]
    },
    {
     "name": "stdout",
     "output_type": "stream",
     "text": [
      "[0.18584974 0.03738315]\n",
      "[0.2 0.2]\n",
      "[-0.2  0.2]\n",
      "[-0.2  0.2]\n",
      "[-0.2  0.2]\n",
      "[-0.2  0.2]\n",
      "[-0.13603882  0.2       ]\n",
      "[-0.2  0.2]\n",
      "[-0.1590918  0.2      ]\n",
      "[-0.2  0.2]\n",
      "[-0.2  0.2]\n",
      "[-0.2  0.2]\n",
      "[-0.2  0.2]\n",
      "[-0.2  0.2]\n",
      "[-0.2  0.2]\n",
      "[-0.2  0.2]\n",
      "[-0.2  0.2]\n",
      "[-0.00362292  0.2       ]\n",
      "[-0.06880434  0.2       ]\n"
     ]
    },
    {
     "name": "stderr",
     "output_type": "stream",
     "text": [
      " 70%|███████   | 701/1000 [00:31<00:03, 86.88it/s]"
     ]
    },
    {
     "name": "stdout",
     "output_type": "stream",
     "text": [
      "[0.04890585 0.2       ]\n",
      "[ 0.2 -0.2]\n",
      "[ 0.2 -0.2]\n",
      "[ 0.2 -0.2]\n",
      "[ 0.2 -0.2]\n",
      "[ 0.2 -0.2]\n",
      "[ 0.2 -0.2]\n",
      "[ 0.2 -0.2]\n",
      "[ 0.2 -0.2]\n",
      "[ 0.2 -0.2]\n",
      "[ 0.2 -0.2]\n",
      "[ 0.2 -0.2]\n",
      "[ 0.2 -0.2]\n",
      "[ 0.2 -0.2]\n",
      "[ 0.2 -0.2]\n",
      "[ 0.2 -0.2]\n",
      "[ 0.2 -0.2]\n"
     ]
    },
    {
     "name": "stderr",
     "output_type": "stream",
     "text": [
      " 71%|███████   | 711/1000 [00:31<00:03, 88.42it/s]"
     ]
    },
    {
     "name": "stdout",
     "output_type": "stream",
     "text": [
      "[ 0.2 -0.2]\n",
      "[ 0.2 -0.2]\n",
      "[ 0.2 -0.2]\n",
      "[ 0.2 -0.2]\n",
      "[ 0.2 -0.2]\n",
      "[ 0.2 -0.2]\n",
      "[ 0.2 -0.2]\n",
      "[ 0.2 -0.2]\n",
      "[ 0.2 -0.2]\n",
      "[ 0.2 -0.2]\n",
      "[ 0.2 -0.2]\n",
      "[ 0.2 -0.2]\n",
      "[ 0.2 -0.2]\n",
      "[ 0.2 -0.2]\n",
      "[ 0.2 -0.2]\n",
      "[ 0.2 -0.2]\n",
      "[ 0.2 -0.2]\n",
      "[ 0.2 -0.2]\n",
      "[ 0.2 -0.2]\n"
     ]
    },
    {
     "name": "stderr",
     "output_type": "stream",
     "text": [
      " 73%|███████▎  | 731/1000 [00:31<00:02, 90.12it/s]"
     ]
    },
    {
     "name": "stdout",
     "output_type": "stream",
     "text": [
      "[ 0.2 -0.2]\n",
      "[ 0.2 -0.2]\n",
      "[ 0.2 -0.2]\n",
      "[ 0.2 -0.2]\n",
      "[ 0.2 -0.2]\n",
      "[ 0.2 -0.2]\n",
      "[ 0.2 -0.2]\n",
      "[ 0.2 -0.2]\n",
      "[ 0.2 -0.2]\n",
      "[ 0.2 -0.2]\n",
      "[ 0.2 -0.2]\n",
      "[ 0.2 -0.2]\n",
      "[ 0.2 -0.2]\n",
      "[ 0.2 -0.2]\n",
      "[ 0.2 -0.2]\n",
      "[ 0.2 -0.2]\n",
      "[ 0.2 -0.2]\n",
      "[ 0.2 -0.2]\n",
      "[ 0.2 -0.2]\n",
      "[ 0.2 -0.2]\n"
     ]
    },
    {
     "name": "stderr",
     "output_type": "stream",
     "text": [
      " 75%|███████▌  | 751/1000 [00:31<00:02, 89.54it/s]"
     ]
    },
    {
     "name": "stdout",
     "output_type": "stream",
     "text": [
      "[ 0.2 -0.2]\n",
      "[ 0.2 -0.2]\n",
      "[ 0.2 -0.2]\n",
      "[ 0.2 -0.2]\n",
      "[ 0.2 -0.2]\n",
      "[ 0.2 -0.2]\n",
      "[ 0.2 -0.2]\n",
      "[ 0.2 -0.2]\n",
      "[ 0.2 -0.2]\n",
      "[ 0.2 -0.2]\n",
      "[ 0.2 -0.2]\n",
      "[ 0.2 -0.2]\n",
      "[ 0.2 -0.2]\n",
      "[ 0.2 -0.2]\n",
      "[ 0.2 -0.2]\n",
      "[ 0.2 -0.2]\n",
      "[ 0.2 -0.2]\n",
      "[ 0.2 -0.2]\n",
      "[ 0.2 -0.2]\n"
     ]
    },
    {
     "name": "stderr",
     "output_type": "stream",
     "text": [
      " 77%|███████▋  | 771/1000 [00:32<00:02, 91.14it/s]"
     ]
    },
    {
     "name": "stdout",
     "output_type": "stream",
     "text": [
      "[ 0.2 -0.2]\n",
      "[ 0.2 -0.2]\n",
      "[ 0.2 -0.2]\n",
      "[ 0.2 -0.2]\n",
      "[ 0.2 -0.2]\n",
      "[ 0.2 -0.2]\n",
      "[ 0.2 -0.2]\n",
      "[ 0.2 -0.2]\n",
      "[ 0.2 -0.2]\n",
      "[ 0.2 -0.2]\n",
      "[ 0.2 -0.2]\n",
      "[ 0.2 -0.2]\n",
      "[ 0.2 -0.2]\n",
      "[ 0.2 -0.2]\n",
      "[ 0.2 -0.2]\n",
      "[ 0.2 -0.2]\n",
      "[ 0.2 -0.2]\n",
      "[ 0.2 -0.2]\n"
     ]
    },
    {
     "name": "stderr",
     "output_type": "stream",
     "text": [
      " 79%|███████▉  | 791/1000 [00:32<00:02, 89.85it/s]"
     ]
    },
    {
     "name": "stdout",
     "output_type": "stream",
     "text": [
      "[ 0.2 -0.2]\n",
      "[ 0.2 -0.2]\n",
      "[ 0.2 -0.2]\n",
      "[ 0.2 -0.2]\n",
      "[ 0.2 -0.2]\n",
      "[ 0.2 -0.2]\n",
      "[ 0.2 -0.2]\n",
      "[ 0.2 -0.2]\n",
      "[ 0.2 -0.2]\n",
      "[ 0.2 -0.2]\n",
      "[ 0.2 -0.2]\n",
      "[ 0.2 -0.2]\n",
      "[ 0.2 -0.2]\n",
      "[ 0.2 -0.2]\n",
      "[ 0.2 -0.2]\n",
      "[ 0.2 -0.2]\n",
      "[ 0.2 -0.2]\n",
      "[ 0.2 -0.2]\n",
      "[ 0.2 -0.2]\n",
      "[ 0.2 -0.2]\n"
     ]
    },
    {
     "name": "stderr",
     "output_type": "stream",
     "text": [
      " 81%|████████  | 811/1000 [00:32<00:02, 90.77it/s]"
     ]
    },
    {
     "name": "stdout",
     "output_type": "stream",
     "text": [
      "[ 0.2 -0.2]\n",
      "[ 0.2 -0.2]\n",
      "[ 0.2 -0.2]\n",
      "[ 0.2 -0.2]\n",
      "[ 0.2 -0.2]\n",
      "[ 0.2 -0.2]\n",
      "[ 0.2 -0.2]\n",
      "[ 0.2 -0.2]\n",
      "[ 0.2 -0.2]\n",
      "[ 0.2 -0.2]\n",
      "[ 0.2 -0.2]\n",
      "[ 0.2 -0.2]\n",
      "[ 0.2 -0.2]\n",
      "[ 0.2 -0.2]\n",
      "[ 0.2 -0.2]\n",
      "[ 0.2 -0.2]\n",
      "[ 0.2 -0.2]\n"
     ]
    },
    {
     "name": "stderr",
     "output_type": "stream",
     "text": [
      " 83%|████████▎ | 830/1000 [00:32<00:01, 88.12it/s]"
     ]
    },
    {
     "name": "stdout",
     "output_type": "stream",
     "text": [
      "[ 0.2 -0.2]\n",
      "[ 0.2 -0.2]\n",
      "[ 0.2 -0.2]\n",
      "[ 0.2 -0.2]\n",
      "[ 0.2 -0.2]\n",
      "[ 0.2 -0.2]\n",
      "[ 0.2 -0.2]\n",
      "[ 0.2 -0.2]\n",
      "[ 0.2 -0.2]\n",
      "[ 0.2 -0.2]\n",
      "[ 0.2 -0.2]\n",
      "[ 0.2 -0.2]\n",
      "[ 0.2 -0.2]\n",
      "[ 0.2 -0.2]\n",
      "[ 0.2 -0.2]\n",
      "[ 0.2 -0.2]\n",
      "[ 0.2 -0.2]\n",
      "[ 0.2 -0.2]\n",
      "[ 0.2 -0.2]\n",
      "[ 0.2 -0.2]\n"
     ]
    },
    {
     "name": "stderr",
     "output_type": "stream",
     "text": [
      " 85%|████████▌ | 850/1000 [00:33<00:01, 92.09it/s]"
     ]
    },
    {
     "name": "stdout",
     "output_type": "stream",
     "text": [
      "[ 0.2 -0.2]\n",
      "[ 0.2 -0.2]\n",
      "[ 0.2 -0.2]\n",
      "[ 0.2 -0.2]\n",
      "[ 0.2 -0.2]\n",
      "[ 0.2 -0.2]\n",
      "[ 0.2 -0.2]\n",
      "[ 0.2 -0.2]\n",
      "[ 0.2 -0.2]\n",
      "[ 0.2 -0.2]\n",
      "[ 0.2 -0.2]\n",
      "[ 0.2 -0.2]\n",
      "[ 0.2 -0.2]\n",
      "[ 0.2 -0.2]\n",
      "[ 0.2 -0.2]\n",
      "[ 0.2 -0.2]\n",
      "[ 0.2 -0.2]\n",
      "[ 0.2 -0.2]\n",
      "[ 0.2 -0.2]\n",
      "[ 0.2 -0.2]\n"
     ]
    },
    {
     "name": "stderr",
     "output_type": "stream",
     "text": [
      " 87%|████████▋ | 870/1000 [00:33<00:01, 92.24it/s]"
     ]
    },
    {
     "name": "stdout",
     "output_type": "stream",
     "text": [
      "[ 0.2 -0.2]\n",
      "[ 0.2 -0.2]\n",
      "[ 0.2 -0.2]\n",
      "[-0.00504959 -0.2       ]\n",
      "[ 0.2 -0.2]\n",
      "[ 0.2 -0.2]\n",
      "[ 0.2 -0.2]\n",
      "[ 0.2 -0.2]\n",
      "[ 0.2 -0.2]\n",
      "[ 0.2 -0.2]\n",
      "[ 0.2 -0.2]\n",
      "[ 0.2 -0.2]\n",
      "[ 0.2 -0.2]\n",
      "[ 0.2 -0.2]\n",
      "[0.2        0.05808522]\n",
      "[ 0.2       -0.1585446]\n",
      "[ 0.2        -0.12408546]\n",
      "[ 0.2        -0.06162733]\n"
     ]
    },
    {
     "name": "stderr",
     "output_type": "stream",
     "text": [
      " 89%|████████▉ | 890/1000 [00:33<00:01, 92.48it/s]"
     ]
    },
    {
     "name": "stdout",
     "output_type": "stream",
     "text": [
      "[0.2 0.2]\n",
      "[ 0.2 -0.2]\n",
      "[ 0.2 -0.2]\n",
      "[ 0.2 -0.2]\n",
      "[0.2 0.2]\n",
      "[0.2        0.03134261]\n",
      "[ 0.2 -0.2]\n",
      "[0.2        0.19035086]\n",
      "[0.2        0.13577542]\n",
      "[ 0.2 -0.2]\n",
      "[ 0.2        -0.14702764]\n",
      "[0.2 0.2]\n",
      "[ 0.2       -0.1865515]\n",
      "[0.2        0.16229638]\n",
      "[ 2.0000000e-01 -1.3040937e-04]\n",
      "[ 0.2        -0.12423365]\n",
      "[ 0.2 -0.2]\n",
      "[0.2 0.2]\n",
      "[0.2        0.02724345]\n",
      "[ 0.2        -0.13762647]\n",
      "[ 0.2        -0.06919882]\n"
     ]
    },
    {
     "name": "stderr",
     "output_type": "stream",
     "text": [
      " 91%|█████████ | 910/1000 [00:33<00:00, 92.57it/s]"
     ]
    },
    {
     "name": "stdout",
     "output_type": "stream",
     "text": [
      "[0.2 0.2]\n",
      "[0.2 0.2]\n",
      "[ 0.2 -0.2]\n",
      "[ 0.2 -0.2]\n",
      "[0.2        0.19459018]\n",
      "[ 0.2 -0.2]\n",
      "[0.2        0.04509149]\n",
      "[ 0.2        -0.16614237]\n",
      "[0.2        0.15327191]\n",
      "[0.2        0.07246454]\n",
      "[0.2 0.2]\n",
      "[0.2 0.2]\n",
      "[0.2        0.06093922]\n",
      "[0.15942335 0.1372178 ]\n",
      "[ 0.2        -0.15019023]\n",
      "[0.2        0.11417407]\n",
      "[ 0.2        -0.01270105]\n",
      "[0.18553221 0.2       ]\n",
      "[0.2 0.2]\n",
      "[0.17901339 0.2       ]\n"
     ]
    },
    {
     "name": "stderr",
     "output_type": "stream",
     "text": [
      " 93%|█████████▎| 930/1000 [00:33<00:00, 92.06it/s]"
     ]
    },
    {
     "name": "stdout",
     "output_type": "stream",
     "text": [
      "[ 0.2 -0.2]\n",
      "[ 0.2        -0.07215189]\n",
      "[ 0.2        -0.00409206]\n",
      "[0.2        0.02590095]\n",
      "[0.2 0.2]\n",
      "[0.2 0.2]\n",
      "[ 0.2        -0.16179487]\n",
      "[0.2        0.06715519]\n",
      "[0.2 0.2]\n",
      "[0.2 0.2]\n",
      "[0.2 0.2]\n",
      "[0.2 0.2]\n",
      "[-0.04624063  0.2       ]\n",
      "[0.2        0.00271071]\n",
      "[ 0.2        -0.01431048]\n",
      "[0.2 0.2]\n",
      "[0.2        0.07056358]\n",
      "[0.2       0.0917875]\n",
      "[0.2        0.04052188]\n"
     ]
    },
    {
     "name": "stderr",
     "output_type": "stream",
     "text": [
      " 94%|█████████▍| 940/1000 [00:34<00:00, 92.62it/s]"
     ]
    },
    {
     "name": "stdout",
     "output_type": "stream",
     "text": [
      "[0.2 0.2]\n",
      "[0.2        0.17114174]\n",
      "[0.15416744 0.17284203]\n",
      "[ 0.2        -0.05555944]\n",
      "[ 0.1206805 -0.0145919]\n",
      "[0.2 0.2]\n",
      "[0.10449198 0.19126642]\n",
      "[0.2 0.2]\n",
      "[0.15059192 0.08148529]\n",
      "[ 0.02752861 -0.2       ]\n",
      "[0.2        0.19700396]\n",
      "[ 0.2        -0.01169323]\n",
      "[0.2        0.02017522]\n",
      "[0.2 0.2]\n",
      "[ 0.2        -0.03854879]\n",
      "[ 0.2        -0.12817165]\n",
      "[0.2        0.15072596]\n"
     ]
    },
    {
     "name": "stderr",
     "output_type": "stream",
     "text": [
      " 96%|█████████▌| 960/1000 [00:34<00:00, 93.01it/s]"
     ]
    },
    {
     "name": "stdout",
     "output_type": "stream",
     "text": [
      "[0.2 0.2]\n",
      "[ 0.2        -0.02728949]\n",
      "[0.2 0.2]\n",
      "[0.2        0.09337835]\n",
      "[0.2 0.2]\n",
      "[0.2 0.2]\n",
      "[ 0.2 -0.2]\n",
      "[ 0.2        -0.07117009]\n",
      "[ 0.2 -0.2]\n",
      "[0.19468582 0.03784068]\n",
      "[0.2        0.17604451]\n",
      "[0.2        0.15832868]\n",
      "[0.2 0.2]\n",
      "[ 0.2        -0.00046304]\n",
      "[0.2        0.18785235]\n",
      "[ 0.2        -0.13524072]\n",
      "[ 0.2        -0.00840561]\n",
      "[0.2 0.2]\n",
      "[0.2        0.13734107]\n"
     ]
    },
    {
     "name": "stderr",
     "output_type": "stream",
     "text": [
      " 98%|█████████▊| 980/1000 [00:34<00:00, 90.88it/s]"
     ]
    },
    {
     "name": "stdout",
     "output_type": "stream",
     "text": [
      "[0.2 0.2]\n",
      "[0.2        0.14840646]\n",
      "[0.00128874 0.2       ]\n",
      "[ 0.2        -0.15115705]\n",
      "[0.0432606 0.1011198]\n",
      "[ 0.2        -0.09106274]\n",
      "[0.17440757 0.06022285]\n",
      "[-0.18967429  0.2       ]\n",
      "[0.2        0.17606254]\n",
      "[ 0.10589562 -0.0822584 ]\n",
      "[0.0811052 0.2      ]\n",
      "[0.18669501 0.2       ]\n",
      "[0.2        0.12515669]\n",
      "[0.02281728 0.2       ]\n",
      "[ 0.11450991 -0.03268367]\n",
      "[0.2 0.2]\n",
      "[0.14995214 0.2       ]\n",
      "[-0.01955993  0.2       ]\n",
      "[0.0914562  0.13843904]\n",
      "[0.14025354 0.2       ]\n"
     ]
    },
    {
     "name": "stderr",
     "output_type": "stream",
     "text": [
      "100%|██████████| 1000/1000 [00:34<00:00, 28.81it/s]"
     ]
    },
    {
     "name": "stdout",
     "output_type": "stream",
     "text": [
      "[0.2        0.08011908]\n",
      "[0.2        0.08632871]\n",
      "[0.2        0.13765034]\n",
      "[0.2        0.06245091]\n",
      "[0.2        0.11928187]\n",
      "[0.2       0.1567426]\n",
      "[0.2 0.2]\n",
      "[0.2 0.2]\n",
      "[ 0.2        -0.01522883]\n",
      "[0.2        0.07287446]\n",
      "[ 0.2        -0.15437925]\n",
      "[0.2        0.09032588]\n"
     ]
    },
    {
     "name": "stderr",
     "output_type": "stream",
     "text": [
      "\n",
      "  1%|          | 9/1000 [00:00<00:11, 82.96it/s]"
     ]
    },
    {
     "name": "stdout",
     "output_type": "stream",
     "text": [
      "[ 0.2 -0.2]\n",
      "[ 0.2 -0.2]\n",
      "[ 0.2 -0.2]\n",
      "[ 0.2 -0.2]\n",
      "[ 0.2 -0.2]\n",
      "[ 0.2 -0.2]\n",
      "[ 0.2 -0.2]\n",
      "[ 0.2 -0.2]\n",
      "[ 0.2 -0.2]\n",
      "[ 0.2 -0.2]\n",
      "[ 0.2 -0.2]\n",
      "[ 0.2 -0.2]\n",
      "[ 0.2 -0.2]\n",
      "[ 0.2 -0.2]\n",
      "[ 0.2 -0.2]\n",
      "[ 0.2 -0.2]\n",
      "[ 0.2 -0.2]\n"
     ]
    },
    {
     "name": "stderr",
     "output_type": "stream",
     "text": [
      "  3%|▎         | 28/1000 [00:00<00:11, 87.31it/s]"
     ]
    },
    {
     "name": "stdout",
     "output_type": "stream",
     "text": [
      "[ 0.2 -0.2]\n",
      "[ 0.2 -0.2]\n",
      "[ 0.2 -0.2]\n",
      "[ 0.2 -0.2]\n",
      "[ 0.2 -0.2]\n",
      "[ 0.2 -0.2]\n",
      "[ 0.2 -0.2]\n",
      "[ 0.2 -0.2]\n",
      "[ 0.2 -0.2]\n",
      "[ 0.2 -0.2]\n",
      "[ 0.2 -0.2]\n",
      "[ 0.2 -0.2]\n",
      "[ 0.2 -0.2]\n",
      "[ 0.2 -0.2]\n",
      "[ 0.2 -0.2]\n",
      "[ 0.2 -0.2]\n",
      "[ 0.2 -0.2]\n",
      "[ 0.2 -0.2]\n",
      "[ 0.2 -0.2]\n"
     ]
    },
    {
     "name": "stderr",
     "output_type": "stream",
     "text": [
      "  5%|▍         | 47/1000 [00:00<00:10, 88.68it/s]"
     ]
    },
    {
     "name": "stdout",
     "output_type": "stream",
     "text": [
      "[ 0.2 -0.2]\n",
      "[ 0.2 -0.2]\n",
      "[ 0.2 -0.2]\n",
      "[ 0.2 -0.2]\n",
      "[ 0.2 -0.2]\n",
      "[ 0.2 -0.2]\n",
      "[ 0.2 -0.2]\n",
      "[ 0.2 -0.2]\n",
      "[ 0.2 -0.2]\n",
      "[ 0.2 -0.2]\n",
      "[ 0.2 -0.2]\n",
      "[ 0.2 -0.2]\n",
      "[ 0.2 -0.2]\n",
      "[ 0.2 -0.2]\n",
      "[ 0.2 -0.2]\n",
      "[ 0.2 -0.2]\n",
      "[ 0.2 -0.2]\n",
      "[ 0.2 -0.2]\n",
      "[ 0.2 -0.2]\n"
     ]
    },
    {
     "name": "stderr",
     "output_type": "stream",
     "text": [
      "  7%|▋         | 67/1000 [00:00<00:10, 89.17it/s]"
     ]
    },
    {
     "name": "stdout",
     "output_type": "stream",
     "text": [
      "[ 0.2 -0.2]\n",
      "[ 0.2 -0.2]\n",
      "[ 0.2 -0.2]\n",
      "[ 0.2 -0.2]\n",
      "[ 0.2 -0.2]\n",
      "[ 0.2 -0.2]\n",
      "[ 0.2 -0.2]\n",
      "[ 0.2 -0.2]\n",
      "[ 0.2 -0.2]\n",
      "[ 0.2 -0.2]\n",
      "[ 0.2 -0.2]\n",
      "[ 0.2 -0.2]\n",
      "[ 0.2 -0.2]\n",
      "[ 0.2 -0.2]\n",
      "[ 0.2 -0.2]\n",
      "[ 0.2 -0.2]\n",
      "[ 0.2 -0.2]\n",
      "[ 0.2 -0.2]\n"
     ]
    },
    {
     "name": "stderr",
     "output_type": "stream",
     "text": [
      "  8%|▊         | 85/1000 [00:00<00:10, 84.47it/s]"
     ]
    },
    {
     "name": "stdout",
     "output_type": "stream",
     "text": [
      "[ 0.2 -0.2]\n",
      "[ 0.2 -0.2]\n",
      "[ 0.2 -0.2]\n",
      "[ 0.2 -0.2]\n",
      "[ 0.2 -0.2]\n",
      "[ 0.2 -0.2]\n",
      "[ 0.2 -0.2]\n",
      "[ 0.2 -0.2]\n",
      "[ 0.2 -0.2]\n",
      "[ 0.2 -0.2]\n",
      "[ 0.2 -0.2]\n",
      "[ 0.2 -0.2]\n",
      "[ 0.2 -0.2]\n",
      "[ 0.2 -0.2]\n",
      "[ 0.2 -0.2]\n",
      "[ 0.2 -0.2]\n",
      "[ 0.2 -0.2]\n",
      "[ 0.2 -0.2]\n",
      "[ 0.2 -0.2]\n"
     ]
    },
    {
     "name": "stderr",
     "output_type": "stream",
     "text": [
      " 10%|█         | 103/1000 [00:01<00:11, 81.02it/s]"
     ]
    },
    {
     "name": "stdout",
     "output_type": "stream",
     "text": [
      "[ 0.2 -0.2]\n",
      "[ 0.2 -0.2]\n",
      "[ 0.2 -0.2]\n",
      "[ 0.2 -0.2]\n",
      "[ 0.2 -0.2]\n",
      "[ 0.2 -0.2]\n",
      "[ 0.2 -0.2]\n",
      "[ 0.2 -0.2]\n",
      "[ 0.2 -0.2]\n",
      "[ 0.2 -0.2]\n",
      "[ 0.2 -0.2]\n",
      "[ 0.2 -0.2]\n",
      "[ 0.2 -0.2]\n",
      "[ 0.2 -0.2]\n"
     ]
    },
    {
     "name": "stderr",
     "output_type": "stream",
     "text": [
      " 11%|█         | 112/1000 [00:01<00:13, 66.56it/s]"
     ]
    },
    {
     "name": "stdout",
     "output_type": "stream",
     "text": [
      "[ 0.2 -0.2]\n",
      "[ 0.2 -0.2]\n",
      "[ 0.2 -0.2]\n",
      "[ 0.2 -0.2]\n",
      "[ 0.2 -0.2]\n",
      "[ 0.2 -0.2]\n",
      "[ 0.2 -0.2]\n",
      "[ 0.2 -0.2]\n",
      "[ 0.2 -0.2]\n",
      "[ 0.2 -0.2]\n"
     ]
    },
    {
     "name": "stderr",
     "output_type": "stream",
     "text": [
      " 12%|█▏        | 120/1000 [00:01<00:14, 60.22it/s]"
     ]
    },
    {
     "name": "stdout",
     "output_type": "stream",
     "text": [
      "[ 0.2 -0.2]\n",
      "[ 0.2 -0.2]\n",
      "[ 0.2 -0.2]\n",
      "[ 0.2 -0.2]\n",
      "[ 0.2 -0.2]\n",
      "[ 0.2 -0.2]\n",
      "[ 0.2 -0.2]\n",
      "[ 0.2 -0.2]\n",
      "[ 0.2 -0.2]\n"
     ]
    },
    {
     "name": "stderr",
     "output_type": "stream",
     "text": [
      " 13%|█▎        | 133/1000 [00:01<00:15, 54.52it/s]"
     ]
    },
    {
     "name": "stdout",
     "output_type": "stream",
     "text": [
      "[ 0.2 -0.2]\n",
      "[ 0.2 -0.2]\n",
      "[ 0.2 -0.2]\n",
      "[ 0.2 -0.2]\n",
      "[ 0.2 -0.2]\n",
      "[ 0.2 -0.2]\n",
      "[ 0.2 -0.2]\n",
      "[ 0.2 -0.2]\n",
      "[ 0.2 -0.2]\n",
      "[ 0.2 -0.2]\n",
      "[ 0.2 -0.2]\n"
     ]
    },
    {
     "name": "stderr",
     "output_type": "stream",
     "text": [
      " 14%|█▍        | 145/1000 [00:02<00:16, 50.64it/s]"
     ]
    },
    {
     "name": "stdout",
     "output_type": "stream",
     "text": [
      "[ 0.2 -0.2]\n",
      "[ 0.2 -0.2]\n",
      "[ 0.2 -0.2]\n",
      "[ 0.2 -0.2]\n",
      "[ 0.2 -0.2]\n",
      "[ 0.2 -0.2]\n",
      "[ 0.2 -0.2]\n",
      "[ 0.2 -0.2]\n",
      "[ 0.2 -0.2]\n"
     ]
    },
    {
     "name": "stderr",
     "output_type": "stream",
     "text": [
      " 15%|█▌        | 151/1000 [00:02<00:17, 49.02it/s]"
     ]
    },
    {
     "name": "stdout",
     "output_type": "stream",
     "text": [
      "[ 0.2 -0.2]\n",
      "[ 0.2 -0.2]\n",
      "[ 0.2 -0.2]\n",
      "[ 0.2 -0.2]\n",
      "[ 0.2 -0.2]\n",
      "[ 0.2 -0.2]\n",
      "[ 0.2 -0.2]\n",
      "[ 0.2 -0.2]\n",
      "[ 0.2 -0.2]\n",
      "[ 0.2 -0.2]\n"
     ]
    },
    {
     "name": "stderr",
     "output_type": "stream",
     "text": [
      " 16%|█▌        | 162/1000 [00:02<00:17, 48.09it/s]"
     ]
    },
    {
     "name": "stdout",
     "output_type": "stream",
     "text": [
      "[ 0.2 -0.2]\n",
      "[ 0.2 -0.2]\n",
      "[ 0.2 -0.2]\n",
      "[ 0.2 -0.2]\n",
      "[ 0.2 -0.2]\n",
      "[ 0.2 -0.2]\n",
      "[ 0.2 -0.2]\n",
      "[ 0.2 -0.2]\n",
      "[ 0.2 -0.2]\n",
      "[ 0.2 -0.2]\n"
     ]
    },
    {
     "name": "stderr",
     "output_type": "stream",
     "text": [
      " 17%|█▋        | 173/1000 [00:02<00:17, 47.64it/s]"
     ]
    },
    {
     "name": "stdout",
     "output_type": "stream",
     "text": [
      "[ 0.2 -0.2]\n",
      "[ 0.2 -0.2]\n",
      "[ 0.2 -0.2]\n",
      "[ 0.2 -0.2]\n",
      "[ 0.2 -0.2]\n",
      "[ 0.2 -0.2]\n",
      "[ 0.2 -0.2]\n",
      "[ 0.2 -0.2]\n",
      "[ 0.2 -0.2]\n",
      "[ 0.2 -0.2]\n"
     ]
    },
    {
     "name": "stderr",
     "output_type": "stream",
     "text": [
      " 18%|█▊        | 183/1000 [00:02<00:17, 46.99it/s]"
     ]
    },
    {
     "name": "stdout",
     "output_type": "stream",
     "text": [
      "[ 0.2 -0.2]\n",
      "[ 0.2 -0.2]\n",
      "[ 0.2 -0.2]\n",
      "[ 0.2 -0.2]\n",
      "[ 0.2 -0.2]\n",
      "[ 0.2 -0.2]\n",
      "[ 0.2 -0.2]\n",
      "[ 0.2 -0.2]\n",
      "[ 0.2 -0.2]\n",
      "[ 0.2 -0.2]\n"
     ]
    },
    {
     "name": "stderr",
     "output_type": "stream",
     "text": [
      " 19%|█▉        | 193/1000 [00:03<00:17, 47.39it/s]"
     ]
    },
    {
     "name": "stdout",
     "output_type": "stream",
     "text": [
      "[ 0.2 -0.2]\n",
      "[ 0.2 -0.2]\n",
      "[ 0.2 -0.2]\n",
      "[ 0.2 -0.2]\n",
      "[ 0.2 -0.2]\n",
      "[ 0.2 -0.2]\n",
      "[ 0.2 -0.2]\n",
      "[ 0.2 -0.2]\n",
      "[ 0.2 -0.2]\n",
      "[ 0.2 -0.2]\n"
     ]
    },
    {
     "name": "stderr",
     "output_type": "stream",
     "text": [
      " 20%|██        | 204/1000 [00:03<00:16, 48.01it/s]"
     ]
    },
    {
     "name": "stdout",
     "output_type": "stream",
     "text": [
      "[ 0.2 -0.2]\n",
      "[ 0.2 -0.2]\n",
      "[ 0.2 -0.2]\n",
      "[ 0.2 -0.2]\n",
      "[ 0.2 -0.2]\n",
      "[ 0.2 -0.2]\n",
      "[ 0.2 -0.2]\n",
      "[ 0.2 -0.2]\n",
      "[ 0.2 -0.2]\n",
      "[ 0.2 -0.2]\n",
      "[ 0.2 -0.2]\n"
     ]
    },
    {
     "name": "stderr",
     "output_type": "stream",
     "text": [
      " 21%|██▏       | 214/1000 [00:03<00:16, 47.68it/s]"
     ]
    },
    {
     "name": "stdout",
     "output_type": "stream",
     "text": [
      "[ 0.2 -0.2]\n",
      "[ 0.2 -0.2]\n",
      "[ 0.2 -0.2]\n",
      "[ 0.2 -0.2]\n",
      "[ 0.2 -0.2]\n",
      "[ 0.2 -0.2]\n",
      "[ 0.2 -0.2]\n",
      "[ 0.2 -0.2]\n",
      "[ 0.2 -0.2]\n",
      "[ 0.2 -0.2]\n",
      "[ 0.2 -0.2]\n"
     ]
    },
    {
     "name": "stderr",
     "output_type": "stream",
     "text": [
      " 22%|██▎       | 225/1000 [00:03<00:16, 47.32it/s]"
     ]
    },
    {
     "name": "stdout",
     "output_type": "stream",
     "text": [
      "[ 0.2 -0.2]\n",
      "[ 0.2 -0.2]\n",
      "[ 0.2 -0.2]\n",
      "[ 0.2 -0.2]\n",
      "[ 0.2 -0.2]\n",
      "[ 0.2 -0.2]\n",
      "[ 0.2 -0.2]\n",
      "[ 0.2 -0.2]\n",
      "[ 0.2 -0.2]\n",
      "[ 0.2 -0.2]\n",
      "[ 0.2 -0.2]\n"
     ]
    },
    {
     "name": "stderr",
     "output_type": "stream",
     "text": [
      " 24%|██▎       | 236/1000 [00:04<00:15, 47.79it/s]"
     ]
    },
    {
     "name": "stdout",
     "output_type": "stream",
     "text": [
      "[ 0.2 -0.2]\n",
      "[ 0.2 -0.2]\n",
      "[ 0.2 -0.2]\n",
      "[ 0.2 -0.2]\n",
      "[ 0.2 -0.2]\n",
      "[ 0.2 -0.2]\n",
      "[ 0.2 -0.2]\n",
      "[ 0.2 -0.2]\n",
      "[ 0.2 -0.2]\n",
      "[ 0.2 -0.2]\n"
     ]
    },
    {
     "name": "stderr",
     "output_type": "stream",
     "text": [
      " 25%|██▍       | 247/1000 [00:04<00:15, 47.40it/s]"
     ]
    },
    {
     "name": "stdout",
     "output_type": "stream",
     "text": [
      "[ 0.2 -0.2]\n",
      "[ 0.2 -0.2]\n",
      "[ 0.2 -0.2]\n",
      "[ 0.2 -0.2]\n",
      "[ 0.2 -0.2]\n",
      "[ 0.2 -0.2]\n",
      "[ 0.2 -0.2]\n",
      "[ 0.2 -0.2]\n",
      "[ 0.2 -0.2]\n"
     ]
    },
    {
     "name": "stderr",
     "output_type": "stream",
     "text": [
      " 25%|██▌       | 253/1000 [00:04<00:15, 47.44it/s]"
     ]
    },
    {
     "name": "stdout",
     "output_type": "stream",
     "text": [
      "[ 0.2 -0.2]\n",
      "[ 0.2 -0.2]\n",
      "[ 0.2 -0.2]\n",
      "[ 0.2 -0.2]\n",
      "[ 0.2 -0.2]\n",
      "[ 0.2 -0.2]\n",
      "[ 0.2 -0.2]\n",
      "[ 0.2 -0.2]\n",
      "[ 0.2 -0.2]\n",
      "[ 0.2 -0.2]\n"
     ]
    },
    {
     "name": "stderr",
     "output_type": "stream",
     "text": [
      " 26%|██▋       | 263/1000 [00:04<00:15, 47.92it/s]"
     ]
    },
    {
     "name": "stdout",
     "output_type": "stream",
     "text": [
      "[ 0.2 -0.2]\n",
      "[ 0.2 -0.2]\n",
      "[ 0.2 -0.2]\n",
      "[ 0.2 -0.2]\n",
      "[ 0.2 -0.2]\n",
      "[ 0.2 -0.2]\n",
      "[ 0.2 -0.2]\n",
      "[ 0.2 -0.2]\n",
      "[ 0.2 -0.2]\n",
      "[ 0.2 -0.2]\n"
     ]
    },
    {
     "name": "stderr",
     "output_type": "stream",
     "text": [
      " 27%|██▋       | 273/1000 [00:04<00:15, 46.26it/s]"
     ]
    },
    {
     "name": "stdout",
     "output_type": "stream",
     "text": [
      "[ 0.2 -0.2]\n",
      "[ 0.2        -0.15507255]\n",
      "[0.2        0.05966356]\n",
      "[0.2        0.00216842]\n",
      "[0.2 0.2]\n",
      "[ 0.17549303 -0.02836046]\n",
      "[0.2        0.01139706]\n",
      "[0.2       0.1680039]\n",
      "[ 0.2        -0.00798231]\n",
      "[ 0.2        -0.18544546]\n",
      "[0.2        0.04814793]\n"
     ]
    },
    {
     "name": "stderr",
     "output_type": "stream",
     "text": [
      " 28%|██▊       | 283/1000 [00:05<00:15, 46.97it/s]"
     ]
    },
    {
     "name": "stdout",
     "output_type": "stream",
     "text": [
      "[0.2 0.2]\n",
      "[0.2 0.2]\n",
      "[0.2        0.11078166]\n",
      "[0.2        0.09452507]\n",
      "[0.2        0.03382293]\n",
      "[ 0.2        -0.08701727]\n",
      "[0.2 0.2]\n",
      "[0.2       0.1597611]\n",
      "[0.2        0.05574519]\n",
      "[0.2        0.05705944]\n"
     ]
    },
    {
     "name": "stderr",
     "output_type": "stream",
     "text": [
      " 30%|██▉       | 298/1000 [00:05<00:14, 48.65it/s]"
     ]
    },
    {
     "name": "stdout",
     "output_type": "stream",
     "text": [
      "[0.2        0.05627939]\n",
      "[0.2 0.2]\n",
      "[0.2        0.19030395]\n",
      "[ 0.2        -0.06270474]\n",
      "[0.2 0.2]\n",
      "[ 0.2        -0.10647413]\n",
      "[ 0.2 -0.2]\n",
      "[0.2 0.2]\n",
      "[0.2        0.05113344]\n",
      "[ 0.2        -0.01565867]\n"
     ]
    },
    {
     "name": "stderr",
     "output_type": "stream",
     "text": [
      " 30%|███       | 304/1000 [00:05<00:14, 48.65it/s]"
     ]
    },
    {
     "name": "stdout",
     "output_type": "stream",
     "text": [
      "[ 0.2       -0.0707936]\n",
      "[ 0.2        -0.15219313]\n",
      "[ 0.2        -0.00904673]\n",
      "[0.2        0.12919861]\n",
      "[0.2        0.13966084]\n",
      "[0.2 0.2]\n",
      "[0.1256055 0.145322 ]\n",
      "[0.2 0.2]\n",
      "[0.2        0.00086908]\n",
      "[0.2 0.2]\n"
     ]
    },
    {
     "name": "stderr",
     "output_type": "stream",
     "text": [
      " 31%|███▏      | 314/1000 [00:05<00:14, 48.12it/s]"
     ]
    },
    {
     "name": "stdout",
     "output_type": "stream",
     "text": [
      "[ 0.10534465 -0.2       ]\n",
      "[ 0.2        -0.01330114]\n",
      "[0.06843361 0.04019212]\n",
      "[0.2 0.2]\n",
      "[0.2 0.2]\n",
      "[0.2        0.06814539]\n",
      "[0.00866026 0.10980909]\n",
      "[ 0.17931767 -0.08935905]\n",
      "[0.10165848 0.2       ]\n",
      "[ 0.2 -0.2]\n",
      "[0.2 0.2]\n"
     ]
    },
    {
     "name": "stderr",
     "output_type": "stream",
     "text": [
      " 32%|███▎      | 325/1000 [00:05<00:14, 47.56it/s]"
     ]
    },
    {
     "name": "stdout",
     "output_type": "stream",
     "text": [
      "[0.2        0.06440467]\n",
      "[ 0.2        -0.05292092]\n",
      "[0.2        0.16028075]\n",
      "[0.10665131 0.2       ]\n",
      "[ 0.2 -0.2]\n",
      "[ 0.14904317 -0.00086091]\n",
      "[0.13486451 0.2       ]\n",
      "[0.2 0.2]\n",
      "[0.2 0.2]\n",
      "[0.2 0.2]\n"
     ]
    },
    {
     "name": "stderr",
     "output_type": "stream",
     "text": [
      " 34%|███▎      | 335/1000 [00:06<00:13, 47.88it/s]"
     ]
    },
    {
     "name": "stdout",
     "output_type": "stream",
     "text": [
      "[0.2        0.08228774]\n",
      "[0.2        0.05085652]\n",
      "[0.18907747 0.17273317]\n",
      "[ 0.13464361 -0.09089273]\n",
      "[0.2        0.13640967]\n",
      "[0.2        0.17079493]\n",
      "[0.09990461 0.08760288]\n",
      "[0.2 0.2]\n",
      "[ 0.2        -0.04781522]\n",
      "[0.11151013 0.12681973]\n"
     ]
    },
    {
     "name": "stderr",
     "output_type": "stream",
     "text": [
      " 34%|███▍      | 345/1000 [00:06<00:14, 46.48it/s]"
     ]
    },
    {
     "name": "stdout",
     "output_type": "stream",
     "text": [
      "[0.2        0.13792467]\n",
      "[0.2        0.06186569]\n",
      "[0.01918542 0.1333214 ]\n",
      "[0.03220698 0.08968505]\n",
      "[0.2        0.08304893]\n",
      "[0.2        0.07363454]\n",
      "[ 0.2        -0.04556767]\n",
      "[0.2 0.2]\n",
      "[ 0.2        -0.10765325]\n"
     ]
    },
    {
     "name": "stderr",
     "output_type": "stream",
     "text": [
      " 36%|███▌      | 355/1000 [00:06<00:13, 47.45it/s]"
     ]
    },
    {
     "name": "stdout",
     "output_type": "stream",
     "text": [
      "[0.08882102 0.2       ]\n",
      "[ 0.2        -0.11204854]\n",
      "[ 0.2 -0.2]\n",
      "[0.2       0.1754142]\n",
      "[0.2        0.08941557]\n",
      "[ 0.2 -0.2]\n",
      "[0.2 0.2]\n",
      "[0.2        0.13772771]\n",
      "[ 0.2 -0.2]\n"
     ]
    },
    {
     "name": "stderr",
     "output_type": "stream",
     "text": [
      " 36%|███▋      | 365/1000 [00:06<00:13, 47.65it/s]"
     ]
    },
    {
     "name": "stdout",
     "output_type": "stream",
     "text": [
      "[0.2        0.10168363]\n",
      "[0.2        0.06756474]\n",
      "[ 0.2 -0.2]\n",
      "[0.2        0.09957939]\n",
      "[ 0.2        -0.08438008]\n",
      "[0.2       0.1525762]\n",
      "[ 0.2        -0.14866261]\n",
      "[ 0.2 -0.2]\n",
      "[0.2        0.14642006]\n",
      "[0.2        0.02842767]\n",
      "[0.2        0.10620474]\n"
     ]
    },
    {
     "name": "stderr",
     "output_type": "stream",
     "text": [
      " 38%|███▊      | 375/1000 [00:06<00:13, 47.51it/s]"
     ]
    },
    {
     "name": "stdout",
     "output_type": "stream",
     "text": [
      "[0.2        0.07913179]\n",
      "[0.2 0.2]\n",
      "[0.2 0.2]\n",
      "[0.2        0.13272966]\n",
      "[0.2 0.2]\n",
      "[0.2        0.14198102]\n",
      "[0.17866123 0.19353747]\n",
      "[ 0.19362143 -0.07915244]\n",
      "[0.2 0.2]\n",
      "[ 0.19221166 -0.16487604]\n"
     ]
    },
    {
     "name": "stderr",
     "output_type": "stream",
     "text": [
      " 38%|███▊      | 385/1000 [00:07<00:12, 47.94it/s]"
     ]
    },
    {
     "name": "stdout",
     "output_type": "stream",
     "text": [
      "[ 0.05838703 -0.12947059]\n",
      "[-0.14836814  0.19106491]\n",
      "[0.18037836 0.2       ]\n",
      "[0.19092415 0.2       ]\n",
      "[0.05115768 0.2       ]\n",
      "[0.11899506 0.2       ]\n",
      "[ 0.2 -0.2]\n",
      "[0.2 0.2]\n",
      "[0.2        0.13268402]\n",
      "[0.2 0.2]\n"
     ]
    },
    {
     "name": "stderr",
     "output_type": "stream",
     "text": [
      " 40%|███▉      | 396/1000 [00:07<00:12, 47.79it/s]"
     ]
    },
    {
     "name": "stdout",
     "output_type": "stream",
     "text": [
      "[ 0.2        -0.05148126]\n",
      "[0.2        0.17306384]\n",
      "[0.2      0.122948]\n",
      "[ 0.11609831 -0.15655541]\n",
      "[ 0.2        -0.10620273]\n",
      "[0.0394989  0.17798519]\n",
      "[0.2 0.2]\n",
      "[0.2       0.1575102]\n",
      "[ 0.2        -0.09590045]\n",
      "[0.2        0.13013682]\n",
      "[0.2        0.06433868]\n"
     ]
    },
    {
     "name": "stderr",
     "output_type": "stream",
     "text": [
      " 41%|████      | 406/1000 [00:07<00:12, 47.73it/s]"
     ]
    },
    {
     "name": "stdout",
     "output_type": "stream",
     "text": [
      "[ 0.2        -0.07535425]\n",
      "[ 0.2 -0.2]\n",
      "[ 0.2 -0.2]\n",
      "[0.2      0.175536]\n",
      "[ 0.2 -0.2]\n",
      "[ 0.17145509 -0.2       ]\n",
      "[ 0.2 -0.2]\n",
      "[ 0.1517421  -0.03996945]\n",
      "[0.2        0.00381961]\n",
      "[ 0.2        -0.12016817]\n",
      "[ 0.2        -0.04800703]\n"
     ]
    },
    {
     "name": "stderr",
     "output_type": "stream",
     "text": [
      " 42%|████▏     | 416/1000 [00:07<00:12, 47.80it/s]"
     ]
    },
    {
     "name": "stdout",
     "output_type": "stream",
     "text": [
      "[ 0.2 -0.2]\n",
      "[ 0.2 -0.2]\n",
      "[ 0.2 -0.2]\n",
      "[ 0.2        -0.04815026]\n",
      "[ 0.2        -0.07877769]\n",
      "[ 0.2 -0.2]\n",
      "[ 0.2        -0.12303124]\n",
      "[ 0.2        -0.09030615]\n",
      "[ 0.2 -0.2]\n",
      "[ 0.2        -0.16862741]\n"
     ]
    },
    {
     "name": "stderr",
     "output_type": "stream",
     "text": [
      " 43%|████▎     | 426/1000 [00:08<00:12, 47.72it/s]"
     ]
    },
    {
     "name": "stdout",
     "output_type": "stream",
     "text": [
      "[ 0.2        -0.04291429]\n",
      "[ 0.2 -0.2]\n",
      "[0.2        0.13670802]\n",
      "[ 0.2        -0.00263638]\n",
      "[0.2        0.06527312]\n",
      "[0.2        0.16064061]\n",
      "[ 0.2 -0.2]\n",
      "[ 0.2        -0.10841264]\n",
      "[0.2        0.12748262]\n",
      "[0.2        0.08202602]\n",
      "[0.16246982 0.08344667]\n"
     ]
    },
    {
     "name": "stderr",
     "output_type": "stream",
     "text": [
      " 44%|████▍     | 438/1000 [00:08<00:11, 47.91it/s]"
     ]
    },
    {
     "name": "stdout",
     "output_type": "stream",
     "text": [
      "[ 0.2        -0.18400195]\n",
      "[ 0.2        -0.06186271]\n",
      "[0.2        0.02039292]\n",
      "[0.2        0.08419235]\n",
      "[-0.02909005  0.2       ]\n",
      "[-0.03647107  0.2       ]\n",
      "[0.11171371 0.2       ]\n",
      "[0.2 0.2]\n",
      "[0.05886427 0.2       ]\n",
      "[0.2        0.15082638]\n"
     ]
    },
    {
     "name": "stderr",
     "output_type": "stream",
     "text": [
      " 45%|████▍     | 448/1000 [00:08<00:11, 47.80it/s]"
     ]
    },
    {
     "name": "stdout",
     "output_type": "stream",
     "text": [
      "[0.10149186 0.2       ]\n",
      "[-0.08378991  0.2       ]\n",
      "[0.2 0.2]\n",
      "[-0.10111007  0.2       ]\n",
      "[0.17160562 0.2       ]\n",
      "[0.10780324 0.19383022]\n",
      "[0.2 0.2]\n",
      "[0.12303981 0.2       ]\n",
      "[0.07490503 0.2       ]\n",
      "[0.2 0.2]\n",
      "[-0.05422656  0.14254725]\n"
     ]
    },
    {
     "name": "stderr",
     "output_type": "stream",
     "text": [
      " 46%|████▌     | 459/1000 [00:08<00:11, 48.59it/s]"
     ]
    },
    {
     "name": "stdout",
     "output_type": "stream",
     "text": [
      "[0.06577867 0.2       ]\n",
      "[ 0.1383182 -0.136632 ]\n",
      "[ 0.2        -0.02580507]\n",
      "[0.12978646 0.15216662]\n",
      "[0.2        0.16283302]\n",
      "[ 0.2        -0.07620937]\n",
      "[0.19729233 0.00622141]\n",
      "[0.2 0.2]\n",
      "[0.2        0.03814952]\n",
      "[ 0.2        -0.07321794]\n"
     ]
    },
    {
     "name": "stderr",
     "output_type": "stream",
     "text": [
      " 47%|████▋     | 469/1000 [00:08<00:10, 48.42it/s]"
     ]
    },
    {
     "name": "stdout",
     "output_type": "stream",
     "text": [
      "[ 0.09913257 -0.2       ]\n",
      "[ 0.2        -0.08270961]\n",
      "[ 0.2 -0.2]\n",
      "[0.2        0.01183014]\n",
      "[0.2        0.08290806]\n",
      "[ 0.2 -0.2]\n",
      "[ 0.2 -0.2]\n",
      "[ 0.2 -0.2]\n",
      "[ 0.2 -0.2]\n",
      "[ 0.2       -0.0434863]\n"
     ]
    },
    {
     "name": "stderr",
     "output_type": "stream",
     "text": [
      " 48%|████▊     | 479/1000 [00:09<00:10, 47.56it/s]"
     ]
    },
    {
     "name": "stdout",
     "output_type": "stream",
     "text": [
      "[ 0.2 -0.2]\n",
      "[ 0.2 -0.2]\n",
      "[ 0.2        -0.05521064]\n",
      "[ 0.2 -0.2]\n",
      "[0.2        0.13909408]\n",
      "[ 0.2 -0.2]\n",
      "[0.2        0.19418915]\n",
      "[ 0.2        -0.09538408]\n",
      "[ 0.2        -0.14904189]\n",
      "[0.2        0.02620948]\n"
     ]
    },
    {
     "name": "stderr",
     "output_type": "stream",
     "text": [
      " 49%|████▉     | 489/1000 [00:09<00:10, 47.08it/s]"
     ]
    },
    {
     "name": "stdout",
     "output_type": "stream",
     "text": [
      "[ 0.2        -0.02308398]\n",
      "[0.2        0.13302344]\n",
      "[ 0.2        -0.01549469]\n",
      "[0.19499165 0.2       ]\n",
      "[0.2        0.16822532]\n",
      "[0.2       0.0058004]\n",
      "[0.2 0.2]\n",
      "[0.2 0.2]\n",
      "[-0.00663991  0.2       ]\n",
      "[-0.16409227  0.2       ]\n"
     ]
    },
    {
     "name": "stderr",
     "output_type": "stream",
     "text": [
      " 50%|████▉     | 499/1000 [00:09<00:10, 46.83it/s]"
     ]
    },
    {
     "name": "stdout",
     "output_type": "stream",
     "text": [
      "[-0.13820434  0.2       ]\n",
      "[-0.12573963  0.2       ]\n",
      "[-0.2  0.2]\n",
      "[-0.14752132  0.2       ]\n",
      "[0.2 0.2]\n",
      "[0.11547917 0.2       ]\n",
      "[-0.14143845  0.2       ]\n",
      "[-0.2  0.2]\n",
      "[-0.03127906  0.2       ]\n",
      "[-0.19724026  0.2       ]\n"
     ]
    },
    {
     "name": "stderr",
     "output_type": "stream",
     "text": [
      " 51%|█████     | 510/1000 [00:09<00:10, 48.05it/s]"
     ]
    },
    {
     "name": "stdout",
     "output_type": "stream",
     "text": [
      "[-0.2  0.2]\n",
      "[0.0214816 0.2      ]\n",
      "[-0.16959316  0.2       ]\n",
      "[-0.2  0.2]\n",
      "[-0.19926941  0.2       ]\n",
      "[-0.05591765  0.2       ]\n",
      "[-0.02600603  0.2       ]\n",
      "[0.16345727 0.2       ]\n",
      "[0.17949444 0.2       ]\n",
      "[0.2 0.2]\n"
     ]
    },
    {
     "name": "stderr",
     "output_type": "stream",
     "text": [
      " 52%|█████▏    | 521/1000 [00:09<00:09, 48.46it/s]"
     ]
    },
    {
     "name": "stdout",
     "output_type": "stream",
     "text": [
      "[0.2 0.2]\n",
      "[ 0.2        -0.03455228]\n",
      "[-0.04958531  0.13321248]\n",
      "[ 0.2 -0.2]\n",
      "[ 0.2        -0.10740539]\n",
      "[0.2        0.07463196]\n",
      "[0.2       0.0146856]\n",
      "[0.2        0.17649776]\n",
      "[0.2 0.2]\n"
     ]
    },
    {
     "name": "stderr",
     "output_type": "stream",
     "text": [
      " 53%|█████▎    | 526/1000 [00:10<00:10, 45.93it/s]"
     ]
    },
    {
     "name": "stdout",
     "output_type": "stream",
     "text": [
      "[ 0.2        -0.07492665]\n",
      "[ 0.2 -0.2]\n",
      "[0.2        0.12496033]\n",
      "[ 0.2        -0.17349438]\n",
      "[ 0.2        -0.19621049]\n",
      "[ 0.2        -0.01583043]\n",
      "[ 0.2 -0.2]\n",
      "[ 0.2 -0.2]\n",
      "[ 0.2        -0.14023359]\n"
     ]
    },
    {
     "name": "stderr",
     "output_type": "stream",
     "text": [
      " 54%|█████▎    | 536/1000 [00:10<00:10, 42.75it/s]"
     ]
    },
    {
     "name": "stdout",
     "output_type": "stream",
     "text": [
      "[ 0.2 -0.2]\n",
      "[ 0.2 -0.2]\n",
      "[0.2        0.05728114]\n",
      "[ 0.2        -0.11211312]\n",
      "[0.2        0.01693445]\n",
      "[ 0.2 -0.2]\n",
      "[0.2 0.2]\n",
      "[0.2       0.1514794]\n",
      "[ 0.2        -0.14124775]\n"
     ]
    },
    {
     "name": "stderr",
     "output_type": "stream",
     "text": [
      " 55%|█████▍    | 547/1000 [00:10<00:09, 45.86it/s]"
     ]
    },
    {
     "name": "stdout",
     "output_type": "stream",
     "text": [
      "[ 0.2 -0.2]\n",
      "[0.2        0.17614886]\n",
      "[0.2       0.1387823]\n",
      "[0.2        0.06707311]\n",
      "[0.2        0.11508444]\n",
      "[ 0.2 -0.2]\n",
      "[0.2        0.13046911]\n",
      "[ 0.2        -0.05909743]\n",
      "[0.2        0.14998667]\n",
      "[ 0.2        -0.08535896]\n",
      "[0.19955075 0.2       ]\n"
     ]
    },
    {
     "name": "stderr",
     "output_type": "stream",
     "text": [
      " 56%|█████▌    | 557/1000 [00:10<00:09, 46.64it/s]"
     ]
    },
    {
     "name": "stdout",
     "output_type": "stream",
     "text": [
      "[0.06579566 0.2       ]\n",
      "[-0.2        -0.02894449]\n",
      "[-0.03211905  0.2       ]\n",
      "[0.14177276 0.2       ]\n",
      "[-0.2  0.2]\n",
      "[-0.12590338  0.2       ]\n",
      "[0.13192448 0.2       ]\n",
      "[-0.05582946  0.2       ]\n",
      "[-0.2  0.2]\n",
      "[-0.11519556  0.2       ]\n",
      "[0.12703791 0.2       ]\n"
     ]
    },
    {
     "name": "stderr",
     "output_type": "stream",
     "text": [
      " 57%|█████▋    | 569/1000 [00:11<00:09, 47.37it/s]"
     ]
    },
    {
     "name": "stdout",
     "output_type": "stream",
     "text": [
      "[-0.2  0.2]\n",
      "[0.06491271 0.2       ]\n",
      "[-0.15441607  0.2       ]\n",
      "[-0.0852216  0.2      ]\n",
      "[-0.2        -0.04871076]\n",
      "[0.18580924 0.00898814]\n",
      "[0.17363474 0.07188177]\n",
      "[0.2 0.2]\n",
      "[0.03120986 0.11843216]\n",
      "[0.03543963 0.1672044 ]\n"
     ]
    },
    {
     "name": "stderr",
     "output_type": "stream",
     "text": [
      " 58%|█████▊    | 579/1000 [00:11<00:08, 46.94it/s]"
     ]
    },
    {
     "name": "stdout",
     "output_type": "stream",
     "text": [
      "[ 0.2        -0.01108941]\n",
      "[ 0.2 -0.2]\n",
      "[0.2        0.03533994]\n",
      "[ 0.2 -0.2]\n",
      "[0.2 0.2]\n",
      "[0.2        0.15661518]\n",
      "[0.2       0.0269545]\n",
      "[ 0.2 -0.2]\n",
      "[ 0.2 -0.2]\n",
      "[ 0.2 -0.2]\n"
     ]
    },
    {
     "name": "stderr",
     "output_type": "stream",
     "text": [
      " 59%|█████▉    | 589/1000 [00:11<00:08, 47.33it/s]"
     ]
    },
    {
     "name": "stdout",
     "output_type": "stream",
     "text": [
      "[ 0.2 -0.2]\n",
      "[ 0.2 -0.2]\n",
      "[ 0.2 -0.2]\n",
      "[ 0.2 -0.2]\n",
      "[ 0.2 -0.2]\n",
      "[ 0.2 -0.2]\n",
      "[ 0.2 -0.2]\n",
      "[ 0.2 -0.2]\n",
      "[ 0.2 -0.2]\n",
      "[ 0.2 -0.2]\n"
     ]
    },
    {
     "name": "stderr",
     "output_type": "stream",
     "text": [
      " 60%|██████    | 600/1000 [00:11<00:08, 47.40it/s]"
     ]
    },
    {
     "name": "stdout",
     "output_type": "stream",
     "text": [
      "[ 0.2        -0.19027801]\n",
      "[ 0.2 -0.2]\n",
      "[ 0.2 -0.2]\n",
      "[ 0.2 -0.2]\n",
      "[ 0.2 -0.2]\n",
      "[ 0.2 -0.2]\n",
      "[ 0.2 -0.2]\n",
      "[ 0.2        -0.11800197]\n",
      "[ 0.2        -0.07868248]\n"
     ]
    },
    {
     "name": "stderr",
     "output_type": "stream",
     "text": [
      " 60%|██████    | 605/1000 [00:11<00:08, 47.89it/s]"
     ]
    },
    {
     "name": "stdout",
     "output_type": "stream",
     "text": [
      "[0.2 0.2]\n",
      "[0.2        0.04579813]\n",
      "[0.2        0.06689988]\n",
      "[0.2 0.2]\n",
      "[ 0.13844246 -0.2       ]\n",
      "[0.04580649 0.2       ]\n",
      "[ 0.08487399 -0.00420666]\n",
      "[0.12811342 0.2       ]\n",
      "[0.2 0.2]\n",
      "[-0.18539733  0.2       ]\n"
     ]
    },
    {
     "name": "stderr",
     "output_type": "stream",
     "text": [
      " 62%|██████▏   | 616/1000 [00:12<00:08, 47.78it/s]"
     ]
    },
    {
     "name": "stdout",
     "output_type": "stream",
     "text": [
      "[-0.2  0.2]\n",
      "[-0.10600547  0.2       ]\n",
      "[-0.2  0.2]\n",
      "[-0.12793033  0.2       ]\n",
      "[-0.2  0.2]\n",
      "[0.04564905 0.2       ]\n",
      "[-0.2  0.2]\n",
      "[-0.2  0.2]\n",
      "[-0.2  0.2]\n",
      "[-0.2  0.2]\n"
     ]
    },
    {
     "name": "stderr",
     "output_type": "stream",
     "text": [
      " 63%|██████▎   | 626/1000 [00:12<00:08, 44.71it/s]"
     ]
    },
    {
     "name": "stdout",
     "output_type": "stream",
     "text": [
      "[-0.2  0.2]\n",
      "[-0.2  0.2]\n",
      "[-0.18202552  0.2       ]\n",
      "[-0.08286728  0.2       ]\n",
      "[-0.18212505  0.2       ]\n",
      "[-0.2  0.2]\n",
      "[-0.15279907  0.2       ]\n",
      "[-0.13782232  0.2       ]\n",
      "[-0.15991464  0.2       ]\n",
      "[0.06698611 0.2       ]\n"
     ]
    },
    {
     "name": "stderr",
     "output_type": "stream",
     "text": [
      " 64%|██████▎   | 637/1000 [00:12<00:07, 47.17it/s]"
     ]
    },
    {
     "name": "stdout",
     "output_type": "stream",
     "text": [
      "[-0.2        0.1416642]\n",
      "[0.2        0.07256525]\n",
      "[0.2        0.02079786]\n",
      "[0.2 0.2]\n",
      "[ 0.2 -0.2]\n",
      "[ 0.2        -0.03990027]\n",
      "[ 0.2        -0.00838362]\n",
      "[ 0.2        -0.17044313]\n",
      "[ 0.2 -0.2]\n",
      "[ 0.2 -0.2]\n"
     ]
    },
    {
     "name": "stderr",
     "output_type": "stream",
     "text": [
      " 65%|██████▍   | 647/1000 [00:12<00:07, 47.70it/s]"
     ]
    },
    {
     "name": "stdout",
     "output_type": "stream",
     "text": [
      "[ 0.2        -0.06204329]\n",
      "[ 0.2 -0.2]\n",
      "[ 0.2 -0.2]\n",
      "[ 0.2        -0.12522534]\n",
      "[ 0.2 -0.2]\n",
      "[ 0.2 -0.2]\n",
      "[ 0.2 -0.2]\n",
      "[ 0.2        -0.15025645]\n",
      "[ 0.2 -0.2]\n",
      "[ 0.2 -0.2]\n",
      "[ 0.2 -0.2]\n"
     ]
    },
    {
     "name": "stderr",
     "output_type": "stream",
     "text": [
      " 66%|██████▌   | 658/1000 [00:12<00:07, 48.33it/s]"
     ]
    },
    {
     "name": "stdout",
     "output_type": "stream",
     "text": [
      "[ 0.2        -0.09224436]\n",
      "[ 0.2 -0.2]\n",
      "[ 0.2       -0.1987873]\n",
      "[ 0.2 -0.2]\n",
      "[ 0.2        -0.05535977]\n",
      "[ 0.2 -0.2]\n",
      "[0.2        0.16239816]\n",
      "[ 0.2        -0.17286015]\n",
      "[ 0.2       -0.1311634]\n",
      "[ 0.2 -0.2]\n"
     ]
    },
    {
     "name": "stderr",
     "output_type": "stream",
     "text": [
      " 67%|██████▋   | 670/1000 [00:13<00:06, 48.25it/s]"
     ]
    },
    {
     "name": "stdout",
     "output_type": "stream",
     "text": [
      "[0.2 0.2]\n",
      "[0.2        0.05525012]\n",
      "[0.2        0.06192005]\n",
      "[-0.16355173  0.2       ]\n",
      "[-0.04274757  0.2       ]\n",
      "[ 0.16607848 -0.1900892 ]\n",
      "[-0.2  0.2]\n",
      "[0.05181071 0.2       ]\n",
      "[-0.0167731  0.2      ]\n"
     ]
    },
    {
     "name": "stderr",
     "output_type": "stream",
     "text": [
      " 68%|██████▊   | 675/1000 [00:13<00:06, 47.70it/s]"
     ]
    },
    {
     "name": "stdout",
     "output_type": "stream",
     "text": [
      "[-0.07742478  0.2       ]\n",
      "[-0.2  0.2]\n",
      "[-0.2  0.2]\n",
      "[-0.2  0.2]\n",
      "[-0.1697478  0.2      ]\n",
      "[-0.2  0.2]\n",
      "[-0.0885168  0.2      ]\n",
      "[-0.2  0.2]\n",
      "[-0.2  0.2]\n"
     ]
    },
    {
     "name": "stderr",
     "output_type": "stream",
     "text": [
      " 68%|██████▊   | 685/1000 [00:13<00:06, 45.95it/s]"
     ]
    },
    {
     "name": "stdout",
     "output_type": "stream",
     "text": [
      "[-0.2  0.2]\n",
      "[-0.2  0.2]\n",
      "[-0.2  0.2]\n",
      "[-0.12669228  0.2       ]\n",
      "[-0.14049006  0.2       ]\n",
      "[-0.2  0.2]\n",
      "[ 0.2 -0.2]\n",
      "[ 0.2 -0.2]\n",
      "[ 0.2 -0.2]\n",
      "[ 0.2 -0.2]\n"
     ]
    },
    {
     "name": "stderr",
     "output_type": "stream",
     "text": [
      " 70%|██████▉   | 696/1000 [00:13<00:06, 45.48it/s]"
     ]
    },
    {
     "name": "stdout",
     "output_type": "stream",
     "text": [
      "[ 0.2 -0.2]\n",
      "[ 0.2 -0.2]\n",
      "[ 0.2 -0.2]\n",
      "[ 0.2 -0.2]\n",
      "[ 0.2 -0.2]\n",
      "[ 0.2 -0.2]\n",
      "[ 0.2 -0.2]\n",
      "[ 0.2 -0.2]\n",
      "[ 0.2 -0.2]\n",
      "[ 0.2 -0.2]\n"
     ]
    },
    {
     "name": "stderr",
     "output_type": "stream",
     "text": [
      " 71%|███████   | 707/1000 [00:13<00:06, 46.58it/s]"
     ]
    },
    {
     "name": "stdout",
     "output_type": "stream",
     "text": [
      "[ 0.2 -0.2]\n",
      "[ 0.2 -0.2]\n",
      "[ 0.2 -0.2]\n",
      "[ 0.2 -0.2]\n",
      "[ 0.2 -0.2]\n",
      "[ 0.2 -0.2]\n",
      "[ 0.2 -0.2]\n",
      "[ 0.2 -0.2]\n",
      "[ 0.2 -0.2]\n",
      "[ 0.2 -0.2]\n"
     ]
    },
    {
     "name": "stderr",
     "output_type": "stream",
     "text": [
      " 72%|███████▏  | 717/1000 [00:14<00:05, 47.53it/s]"
     ]
    },
    {
     "name": "stdout",
     "output_type": "stream",
     "text": [
      "[ 0.2 -0.2]\n",
      "[ 0.2 -0.2]\n",
      "[ 0.2 -0.2]\n",
      "[ 0.2 -0.2]\n",
      "[ 0.2 -0.2]\n",
      "[ 0.2 -0.2]\n",
      "[ 0.2 -0.2]\n",
      "[ 0.2 -0.2]\n",
      "[ 0.2 -0.2]\n",
      "[ 0.2 -0.2]\n",
      "[ 0.2 -0.2]\n"
     ]
    },
    {
     "name": "stderr",
     "output_type": "stream",
     "text": [
      " 73%|███████▎  | 727/1000 [00:14<00:06, 44.86it/s]"
     ]
    },
    {
     "name": "stdout",
     "output_type": "stream",
     "text": [
      "[ 0.2 -0.2]\n",
      "[ 0.2 -0.2]\n",
      "[ 0.2 -0.2]\n",
      "[ 0.2 -0.2]\n",
      "[ 0.2 -0.2]\n",
      "[ 0.2 -0.2]\n",
      "[ 0.2 -0.2]\n",
      "[ 0.2 -0.2]\n",
      "[ 0.2 -0.2]\n",
      "[ 0.2 -0.2]\n"
     ]
    },
    {
     "name": "stderr",
     "output_type": "stream",
     "text": [
      " 74%|███████▍  | 739/1000 [00:14<00:05, 48.95it/s]"
     ]
    },
    {
     "name": "stdout",
     "output_type": "stream",
     "text": [
      "[ 0.2 -0.2]\n",
      "[ 0.2 -0.2]\n",
      "[ 0.2 -0.2]\n",
      "[ 0.2 -0.2]\n",
      "[ 0.2 -0.2]\n",
      "[ 0.2 -0.2]\n",
      "[ 0.2 -0.2]\n",
      "[ 0.2 -0.2]\n",
      "[ 0.2 -0.2]\n",
      "[ 0.2 -0.2]\n"
     ]
    },
    {
     "name": "stderr",
     "output_type": "stream",
     "text": [
      " 75%|███████▍  | 749/1000 [00:14<00:05, 48.36it/s]"
     ]
    },
    {
     "name": "stdout",
     "output_type": "stream",
     "text": [
      "[ 0.2 -0.2]\n",
      "[ 0.2 -0.2]\n",
      "[ 0.2 -0.2]\n",
      "[ 0.2 -0.2]\n",
      "[ 0.2 -0.2]\n",
      "[ 0.2 -0.2]\n",
      "[ 0.2 -0.2]\n",
      "[ 0.2 -0.2]\n",
      "[ 0.2 -0.2]\n",
      "[ 0.2 -0.2]\n",
      "[ 0.2 -0.2]\n"
     ]
    },
    {
     "name": "stderr",
     "output_type": "stream",
     "text": [
      " 76%|███████▌  | 760/1000 [00:15<00:04, 49.29it/s]"
     ]
    },
    {
     "name": "stdout",
     "output_type": "stream",
     "text": [
      "[ 0.2 -0.2]\n",
      "[ 0.2 -0.2]\n",
      "[ 0.2 -0.2]\n",
      "[ 0.2 -0.2]\n",
      "[ 0.2 -0.2]\n",
      "[ 0.2 -0.2]\n",
      "[ 0.2 -0.2]\n",
      "[ 0.2 -0.2]\n",
      "[ 0.2 -0.2]\n",
      "[ 0.2 -0.2]\n",
      "[ 0.2 -0.2]\n"
     ]
    },
    {
     "name": "stderr",
     "output_type": "stream",
     "text": [
      " 77%|███████▋  | 770/1000 [00:15<00:04, 46.74it/s]"
     ]
    },
    {
     "name": "stdout",
     "output_type": "stream",
     "text": [
      "[ 0.2 -0.2]\n",
      "[ 0.2 -0.2]\n",
      "[ 0.2 -0.2]\n",
      "[ 0.2 -0.2]\n",
      "[ 0.2 -0.2]\n",
      "[ 0.2 -0.2]\n",
      "[ 0.2 -0.2]\n",
      "[ 0.2 -0.2]\n",
      "[ 0.2 -0.2]\n",
      "[ 0.2 -0.2]\n"
     ]
    },
    {
     "name": "stderr",
     "output_type": "stream",
     "text": [
      " 78%|███████▊  | 780/1000 [00:15<00:04, 47.48it/s]"
     ]
    },
    {
     "name": "stdout",
     "output_type": "stream",
     "text": [
      "[ 0.2 -0.2]\n",
      "[ 0.2 -0.2]\n",
      "[ 0.2 -0.2]\n",
      "[ 0.2 -0.2]\n",
      "[ 0.2 -0.2]\n",
      "[ 0.2 -0.2]\n",
      "[ 0.2 -0.2]\n",
      "[ 0.2 -0.2]\n",
      "[ 0.2 -0.2]\n",
      "[ 0.2 -0.2]\n"
     ]
    },
    {
     "name": "stderr",
     "output_type": "stream",
     "text": [
      " 79%|███████▉  | 790/1000 [00:15<00:04, 44.89it/s]"
     ]
    },
    {
     "name": "stdout",
     "output_type": "stream",
     "text": [
      "[ 0.2 -0.2]\n",
      "[ 0.2 -0.2]\n",
      "[ 0.2 -0.2]\n",
      "[ 0.2 -0.2]\n",
      "[ 0.2 -0.2]\n",
      "[ 0.2 -0.2]\n",
      "[ 0.2 -0.2]\n",
      "[ 0.2 -0.2]\n",
      "[ 0.2 -0.2]\n"
     ]
    },
    {
     "name": "stderr",
     "output_type": "stream",
     "text": [
      " 80%|███████▉  | 796/1000 [00:15<00:04, 45.88it/s]"
     ]
    },
    {
     "name": "stdout",
     "output_type": "stream",
     "text": [
      "[ 0.2 -0.2]\n",
      "[ 0.2 -0.2]\n",
      "[ 0.2 -0.2]\n",
      "[ 0.2 -0.2]\n",
      "[ 0.2 -0.2]\n",
      "[ 0.2 -0.2]\n",
      "[ 0.2 -0.2]\n",
      "[ 0.2 -0.2]\n",
      "[ 0.2 -0.2]\n",
      "[ 0.2 -0.2]\n",
      "[ 0.2 -0.2]\n"
     ]
    },
    {
     "name": "stderr",
     "output_type": "stream",
     "text": [
      " 81%|████████  | 808/1000 [00:16<00:04, 47.02it/s]"
     ]
    },
    {
     "name": "stdout",
     "output_type": "stream",
     "text": [
      "[ 0.2 -0.2]\n",
      "[ 0.2 -0.2]\n",
      "[ 0.2 -0.2]\n",
      "[ 0.2 -0.2]\n",
      "[ 0.2 -0.2]\n",
      "[ 0.2 -0.2]\n",
      "[ 0.2 -0.2]\n",
      "[ 0.2 -0.2]\n",
      "[ 0.2 -0.2]\n",
      "[ 0.2 -0.2]\n"
     ]
    },
    {
     "name": "stderr",
     "output_type": "stream",
     "text": [
      " 82%|████████▏ | 819/1000 [00:16<00:04, 43.70it/s]"
     ]
    },
    {
     "name": "stdout",
     "output_type": "stream",
     "text": [
      "[ 0.2 -0.2]\n",
      "[ 0.2 -0.2]\n",
      "[ 0.2 -0.2]\n",
      "[ 0.2 -0.2]\n",
      "[ 0.2 -0.2]\n",
      "[ 0.2 -0.2]\n",
      "[ 0.2 -0.2]\n",
      "[ 0.2 -0.2]\n"
     ]
    },
    {
     "name": "stderr",
     "output_type": "stream",
     "text": [
      " 83%|████████▎ | 829/1000 [00:16<00:03, 46.07it/s]"
     ]
    },
    {
     "name": "stdout",
     "output_type": "stream",
     "text": [
      "[ 0.2 -0.2]\n",
      "[ 0.2 -0.2]\n",
      "[ 0.2 -0.2]\n",
      "[ 0.2 -0.2]\n",
      "[ 0.2 -0.2]\n",
      "[ 0.2 -0.2]\n",
      "[ 0.2 -0.2]\n",
      "[ 0.2 -0.2]\n",
      "[ 0.2 -0.2]\n",
      "[ 0.2 -0.2]\n"
     ]
    },
    {
     "name": "stderr",
     "output_type": "stream",
     "text": [
      " 84%|████████▍ | 839/1000 [00:16<00:03, 44.96it/s]"
     ]
    },
    {
     "name": "stdout",
     "output_type": "stream",
     "text": [
      "[ 0.2 -0.2]\n",
      "[ 0.2 -0.2]\n",
      "[ 0.2 -0.2]\n",
      "[ 0.2 -0.2]\n",
      "[ 0.2 -0.2]\n",
      "[ 0.2 -0.2]\n",
      "[ 0.2 -0.2]\n",
      "[ 0.2 -0.2]\n",
      "[ 0.2 -0.2]\n"
     ]
    },
    {
     "name": "stderr",
     "output_type": "stream",
     "text": [
      " 84%|████████▍ | 844/1000 [00:16<00:03, 45.41it/s]"
     ]
    },
    {
     "name": "stdout",
     "output_type": "stream",
     "text": [
      "[ 0.2 -0.2]\n",
      "[ 0.2 -0.2]\n",
      "[ 0.2 -0.2]\n",
      "[ 0.2 -0.2]\n",
      "[ 0.2 -0.2]\n",
      "[ 0.2 -0.2]\n",
      "[ 0.2 -0.2]\n",
      "[ 0.2 -0.2]\n",
      "[ 0.2 -0.2]\n",
      "[ 0.2 -0.2]\n"
     ]
    },
    {
     "name": "stderr",
     "output_type": "stream",
     "text": [
      " 86%|████████▌ | 859/1000 [00:17<00:02, 47.54it/s]"
     ]
    },
    {
     "name": "stdout",
     "output_type": "stream",
     "text": [
      "[ 0.2 -0.2]\n",
      "[ 0.2 -0.2]\n",
      "[ 0.2 -0.2]\n",
      "[ 0.2 -0.2]\n",
      "[ 0.2 -0.2]\n",
      "[ 0.2 -0.2]\n",
      "[ 0.2 -0.2]\n",
      "[ 0.2 -0.2]\n",
      "[ 0.2 -0.2]\n",
      "[ 0.2 -0.2]\n"
     ]
    },
    {
     "name": "stderr",
     "output_type": "stream",
     "text": [
      " 86%|████████▋ | 864/1000 [00:17<00:02, 47.11it/s]"
     ]
    },
    {
     "name": "stdout",
     "output_type": "stream",
     "text": [
      "[ 0.2 -0.2]\n",
      "[ 0.2 -0.2]\n",
      "[ 0.2 -0.2]\n",
      "[ 0.2 -0.2]\n",
      "[ 0.2 -0.2]\n",
      "[ 0.2 -0.2]\n",
      "[ 0.2 -0.2]\n",
      "[ 0.2 -0.2]\n",
      "[ 0.2 -0.2]\n"
     ]
    },
    {
     "name": "stderr",
     "output_type": "stream",
     "text": [
      " 88%|████████▊ | 875/1000 [00:17<00:02, 48.41it/s]"
     ]
    },
    {
     "name": "stdout",
     "output_type": "stream",
     "text": [
      "[0.2        0.19287041]\n",
      "[0.2        0.01737524]\n",
      "[0.2        0.01101344]\n",
      "[ 0.2 -0.2]\n",
      "[ 0.2        -0.06228558]\n",
      "[0.2        0.18211451]\n",
      "[0.2        0.00072643]\n",
      "[0.2        0.10209721]\n",
      "[0.2        0.14306238]\n",
      "[0.2       0.1599355]\n"
     ]
    },
    {
     "name": "stderr",
     "output_type": "stream",
     "text": [
      " 88%|████████▊ | 885/1000 [00:17<00:02, 45.39it/s]"
     ]
    },
    {
     "name": "stdout",
     "output_type": "stream",
     "text": [
      "[0.2 0.2]\n",
      "[ 0.2       -0.1197571]\n",
      "[0.2        0.14651135]\n",
      "[ 0.2        -0.05974504]\n",
      "[ 0.1048606 -0.2      ]\n",
      "[ 0.2        -0.01159358]\n",
      "[0.2        0.01966181]\n",
      "[ 0.2 -0.2]\n",
      "[ 0.2 -0.2]\n",
      "[0.2        0.12711841]\n"
     ]
    },
    {
     "name": "stderr",
     "output_type": "stream",
     "text": [
      " 90%|████████▉ | 895/1000 [00:18<00:02, 45.92it/s]"
     ]
    },
    {
     "name": "stdout",
     "output_type": "stream",
     "text": [
      "[ 0.2 -0.2]\n",
      "[0.2        0.01314529]\n",
      "[0.2        0.05186105]\n",
      "[0.2 0.2]\n",
      "[ 0.2        -0.06623922]\n",
      "[0.2        0.18519339]\n",
      "[0.2        0.04799388]\n",
      "[ 0.2        -0.03190469]\n",
      "[ 0.2        -0.08024018]\n"
     ]
    },
    {
     "name": "stderr",
     "output_type": "stream",
     "text": [
      " 90%|█████████ | 905/1000 [00:18<00:02, 41.26it/s]"
     ]
    },
    {
     "name": "stdout",
     "output_type": "stream",
     "text": [
      "[0.2        0.08840688]\n",
      "[ 0.2        -0.09646756]\n",
      "[0.2        0.01971688]\n",
      "[0.2 0.2]\n",
      "[ 0.2        -0.01017184]\n",
      "[ 0.2 -0.2]\n",
      "[0.2       0.1423793]\n",
      "[0.2 0.2]\n"
     ]
    },
    {
     "name": "stderr",
     "output_type": "stream",
     "text": [
      " 91%|█████████ | 911/1000 [00:18<00:02, 44.20it/s]"
     ]
    },
    {
     "name": "stdout",
     "output_type": "stream",
     "text": [
      "[0.2        0.15511236]\n",
      "[0.2        0.01130079]\n",
      "[0.19727865 0.2       ]\n",
      "[ 0.2        -0.06940791]\n",
      "[ 0.2        -0.11032719]\n",
      "[ 0.2        -0.10829278]\n",
      "[0.06823    0.07384301]\n",
      "[0.2        0.14952968]\n",
      "[0.2 0.2]\n",
      "[0.2       0.1019526]\n"
     ]
    },
    {
     "name": "stderr",
     "output_type": "stream",
     "text": [
      " 92%|█████████▏| 922/1000 [00:18<00:01, 46.18it/s]"
     ]
    },
    {
     "name": "stdout",
     "output_type": "stream",
     "text": [
      "[0.2 0.2]\n",
      "[0.2 0.2]\n",
      "[0.18161793 0.2       ]\n",
      "[ 0.2        -0.13123798]\n",
      "[ 0.060387  -0.1300568]\n",
      "[ 0.2        -0.06352004]\n",
      "[ 0.13833207 -0.2       ]\n",
      "[ 0.048162   -0.16724432]\n",
      "[0.09922242 0.2       ]\n",
      "[-0.01705182  0.18423405]\n",
      "[ 0.2        -0.04699679]\n"
     ]
    },
    {
     "name": "stderr",
     "output_type": "stream",
     "text": [
      " 93%|█████████▎| 933/1000 [00:18<00:01, 46.76it/s]"
     ]
    },
    {
     "name": "stdout",
     "output_type": "stream",
     "text": [
      "[0.2        0.16303067]\n",
      "[0.00078654 0.2       ]\n",
      "[0.04070999 0.2       ]\n",
      "[0.2 0.2]\n",
      "[0.2        0.04075287]\n",
      "[0.13958344 0.13720694]\n",
      "[ 0.15219666 -0.03237987]\n",
      "[0.12135738 0.2       ]\n",
      "[0.2        0.07986778]\n",
      "[0.2 0.2]\n"
     ]
    },
    {
     "name": "stderr",
     "output_type": "stream",
     "text": [
      " 94%|█████████▍| 943/1000 [00:19<00:01, 47.25it/s]"
     ]
    },
    {
     "name": "stdout",
     "output_type": "stream",
     "text": [
      "[ 0.2 -0.2]\n",
      "[0.13473187 0.1617487 ]\n",
      "[0.2 0.2]\n",
      "[0.1542906  0.11499923]\n",
      "[ 0.2 -0.2]\n",
      "[0.2        0.03082462]\n",
      "[0.2 0.2]\n",
      "[ 0.2        -0.03775627]\n",
      "[0.2        0.09051394]\n",
      "[0.2        0.13028112]\n"
     ]
    },
    {
     "name": "stderr",
     "output_type": "stream",
     "text": [
      " 95%|█████████▌| 953/1000 [00:19<00:00, 47.66it/s]"
     ]
    },
    {
     "name": "stdout",
     "output_type": "stream",
     "text": [
      "[0.2       0.0834517]\n",
      "[0.2        0.17539456]\n",
      "[ 0.2        -0.01176231]\n",
      "[ 0.2        -0.19490764]\n",
      "[0.2 0.2]\n",
      "[0.2        0.12832084]\n",
      "[ 0.2        -0.08720493]\n",
      "[0.2        0.16560659]\n",
      "[0.2 0.2]\n",
      "[0.2        0.15355909]\n",
      "[ 0.2        -0.09159203]\n"
     ]
    },
    {
     "name": "stderr",
     "output_type": "stream",
     "text": [
      " 96%|█████████▋| 963/1000 [00:19<00:00, 47.02it/s]"
     ]
    },
    {
     "name": "stdout",
     "output_type": "stream",
     "text": [
      "[ 0.0554533  -0.12272378]\n",
      "[0.2        0.16103664]\n",
      "[0.2        0.13691367]\n",
      "[0.2        0.13370234]\n",
      "[0.2 0.2]\n",
      "[ 0.2        -0.13502899]\n",
      "[0.2        0.03992231]\n",
      "[ 0.2        -0.18651727]\n",
      "[ 0.2        -0.04063094]\n"
     ]
    },
    {
     "name": "stderr",
     "output_type": "stream",
     "text": [
      " 97%|█████████▋| 973/1000 [00:19<00:00, 47.10it/s]"
     ]
    },
    {
     "name": "stdout",
     "output_type": "stream",
     "text": [
      "[0.2 0.2]\n",
      "[0.2       0.0235805]\n",
      "[0.2        0.07713035]\n",
      "[ 0.2        -0.01952623]\n",
      "[0.2        0.13252741]\n",
      "[ 0.09076564 -0.14549941]\n",
      "[0.2 0.2]\n",
      "[ 0.2        -0.05794342]\n",
      "[0.2        0.01605785]\n",
      "[0.2        0.19018722]\n"
     ]
    },
    {
     "name": "stderr",
     "output_type": "stream",
     "text": [
      " 98%|█████████▊| 983/1000 [00:19<00:00, 44.77it/s]"
     ]
    },
    {
     "name": "stdout",
     "output_type": "stream",
     "text": [
      "[0.2        0.16404772]\n",
      "[0.18144183 0.1620127 ]\n",
      "[ 0.2        -0.01301673]\n",
      "[ 0.2        -0.09384102]\n",
      "[0.2 0.2]\n",
      "[0.2 0.2]\n",
      "[0.2        0.03201637]\n",
      "[-0.08649112  0.05829288]\n",
      "[0.2 0.2]\n",
      "[0.04711692 0.19631898]\n"
     ]
    },
    {
     "name": "stderr",
     "output_type": "stream",
     "text": [
      " 99%|█████████▉| 993/1000 [00:20<00:00, 40.31it/s]"
     ]
    },
    {
     "name": "stdout",
     "output_type": "stream",
     "text": [
      "[0.2        0.06446475]\n",
      "[0.2        0.15349118]\n",
      "[0.17352358 0.2       ]\n",
      "[0.2        0.11917524]\n",
      "[ 0.00519922 -0.13259655]\n",
      "[0.2 0.2]\n",
      "[ 0.2        -0.02705469]\n"
     ]
    },
    {
     "name": "stderr",
     "output_type": "stream",
     "text": [
      "100%|██████████| 1000/1000 [00:20<00:00, 49.21it/s]\n"
     ]
    },
    {
     "name": "stdout",
     "output_type": "stream",
     "text": [
      "[0.2 0.2]\n",
      "[ 0.2        -0.04051269]\n",
      "[ 0.2        -0.02738509]\n",
      "[0.2 0.2]\n",
      "[0.2        0.04750498]\n",
      "[0.2 0.2]\n",
      "[0.2       0.0885874]\n"
     ]
    },
    {
     "name": "stderr",
     "output_type": "stream",
     "text": [
      "  1%|          | 6/1000 [00:00<00:19, 51.99it/s]"
     ]
    },
    {
     "name": "stdout",
     "output_type": "stream",
     "text": [
      "[ 0.2 -0.2]\n",
      "[ 0.2 -0.2]\n",
      "[ 0.2 -0.2]\n",
      "[ 0.2 -0.2]\n",
      "[ 0.2 -0.2]\n",
      "[ 0.2 -0.2]\n",
      "[ 0.2 -0.2]\n",
      "[ 0.2 -0.2]\n",
      "[ 0.2 -0.2]\n",
      "[ 0.2 -0.2]\n"
     ]
    },
    {
     "name": "stderr",
     "output_type": "stream",
     "text": [
      "  2%|▏         | 17/1000 [00:00<00:20, 47.90it/s]"
     ]
    },
    {
     "name": "stdout",
     "output_type": "stream",
     "text": [
      "[ 0.2 -0.2]\n",
      "[ 0.2 -0.2]\n",
      "[ 0.2 -0.2]\n",
      "[ 0.2 -0.2]\n",
      "[ 0.2 -0.2]\n",
      "[ 0.2 -0.2]\n",
      "[ 0.2 -0.2]\n",
      "[ 0.2 -0.2]\n",
      "[ 0.2 -0.2]\n",
      "[ 0.2 -0.2]\n",
      "[ 0.2 -0.2]\n"
     ]
    },
    {
     "name": "stderr",
     "output_type": "stream",
     "text": [
      "  3%|▎         | 28/1000 [00:00<00:20, 47.13it/s]"
     ]
    },
    {
     "name": "stdout",
     "output_type": "stream",
     "text": [
      "[ 0.2 -0.2]\n",
      "[ 0.2 -0.2]\n",
      "[ 0.2 -0.2]\n",
      "[ 0.2 -0.2]\n",
      "[ 0.2 -0.2]\n",
      "[ 0.2 -0.2]\n",
      "[ 0.2 -0.2]\n",
      "[ 0.2 -0.2]\n",
      "[ 0.2 -0.2]\n",
      "[ 0.2 -0.2]\n"
     ]
    },
    {
     "name": "stderr",
     "output_type": "stream",
     "text": [
      "  4%|▍         | 38/1000 [00:00<00:20, 46.86it/s]"
     ]
    },
    {
     "name": "stdout",
     "output_type": "stream",
     "text": [
      "[ 0.2 -0.2]\n",
      "[ 0.2 -0.2]\n",
      "[ 0.2 -0.2]\n",
      "[ 0.2 -0.2]\n",
      "[ 0.2 -0.2]\n",
      "[ 0.2 -0.2]\n",
      "[ 0.2 -0.2]\n",
      "[ 0.2 -0.2]\n",
      "[ 0.2 -0.2]\n",
      "[ 0.2 -0.2]\n"
     ]
    },
    {
     "name": "stderr",
     "output_type": "stream",
     "text": [
      "  5%|▍         | 49/1000 [00:01<00:19, 48.19it/s]"
     ]
    },
    {
     "name": "stdout",
     "output_type": "stream",
     "text": [
      "[ 0.2 -0.2]\n",
      "[ 0.2 -0.2]\n",
      "[ 0.2 -0.2]\n",
      "[ 0.2 -0.2]\n",
      "[ 0.2 -0.2]\n",
      "[ 0.2 -0.2]\n",
      "[ 0.2 -0.2]\n",
      "[ 0.2 -0.2]\n",
      "[ 0.2 -0.2]\n",
      "[ 0.2 -0.2]\n"
     ]
    },
    {
     "name": "stderr",
     "output_type": "stream",
     "text": [
      "  6%|▌         | 59/1000 [00:01<00:19, 47.87it/s]"
     ]
    },
    {
     "name": "stdout",
     "output_type": "stream",
     "text": [
      "[ 0.2 -0.2]\n",
      "[ 0.2 -0.2]\n",
      "[ 0.2 -0.2]\n",
      "[ 0.2 -0.2]\n",
      "[ 0.2 -0.2]\n",
      "[ 0.2 -0.2]\n",
      "[ 0.2 -0.2]\n",
      "[ 0.2 -0.2]\n",
      "[ 0.2 -0.2]\n",
      "[ 0.2 -0.2]\n"
     ]
    },
    {
     "name": "stderr",
     "output_type": "stream",
     "text": [
      "  7%|▋         | 69/1000 [00:01<00:21, 43.67it/s]"
     ]
    },
    {
     "name": "stdout",
     "output_type": "stream",
     "text": [
      "[ 0.2 -0.2]\n",
      "[ 0.2 -0.2]\n",
      "[ 0.2 -0.2]\n",
      "[ 0.2 -0.2]\n",
      "[ 0.2 -0.2]\n",
      "[ 0.2 -0.2]\n",
      "[ 0.2 -0.2]\n",
      "[ 0.2 -0.2]\n"
     ]
    },
    {
     "name": "stderr",
     "output_type": "stream",
     "text": [
      "  8%|▊         | 75/1000 [00:01<00:20, 45.72it/s]"
     ]
    },
    {
     "name": "stdout",
     "output_type": "stream",
     "text": [
      "[ 0.2 -0.2]\n",
      "[ 0.2 -0.2]\n",
      "[ 0.2 -0.2]\n",
      "[ 0.2 -0.2]\n",
      "[ 0.2 -0.2]\n",
      "[ 0.2 -0.2]\n",
      "[ 0.2 -0.2]\n",
      "[ 0.2 -0.2]\n",
      "[ 0.2 -0.2]\n",
      "[ 0.2 -0.2]\n"
     ]
    },
    {
     "name": "stderr",
     "output_type": "stream",
     "text": [
      "  8%|▊         | 85/1000 [00:01<00:19, 47.72it/s]"
     ]
    },
    {
     "name": "stdout",
     "output_type": "stream",
     "text": [
      "[ 0.2 -0.2]\n",
      "[ 0.2 -0.2]\n",
      "[ 0.2 -0.2]\n",
      "[ 0.2 -0.2]\n",
      "[ 0.2 -0.2]\n",
      "[ 0.2 -0.2]\n",
      "[ 0.2 -0.2]\n",
      "[ 0.2 -0.2]\n",
      "[ 0.2 -0.2]\n",
      "[ 0.2 -0.2]\n"
     ]
    },
    {
     "name": "stderr",
     "output_type": "stream",
     "text": [
      " 10%|▉         | 95/1000 [00:02<00:19, 47.35it/s]"
     ]
    },
    {
     "name": "stdout",
     "output_type": "stream",
     "text": [
      "[ 0.2 -0.2]\n",
      "[ 0.2 -0.2]\n",
      "[ 0.2 -0.2]\n",
      "[ 0.2 -0.2]\n",
      "[ 0.2 -0.2]\n",
      "[ 0.2 -0.2]\n",
      "[ 0.2 -0.2]\n",
      "[ 0.2 -0.2]\n",
      "[ 0.2 -0.2]\n",
      "[ 0.2 -0.2]\n"
     ]
    },
    {
     "name": "stderr",
     "output_type": "stream",
     "text": [
      " 11%|█         | 106/1000 [00:02<00:18, 48.15it/s]"
     ]
    },
    {
     "name": "stdout",
     "output_type": "stream",
     "text": [
      "[ 0.2 -0.2]\n",
      "[ 0.2 -0.2]\n",
      "[ 0.2 -0.2]\n",
      "[ 0.2 -0.2]\n",
      "[ 0.2 -0.2]\n",
      "[ 0.2 -0.2]\n",
      "[ 0.2 -0.2]\n",
      "[ 0.2 -0.2]\n",
      "[ 0.2 -0.2]\n",
      "[ 0.2 -0.2]\n",
      "[ 0.2 -0.2]\n"
     ]
    },
    {
     "name": "stderr",
     "output_type": "stream",
     "text": [
      " 12%|█▏        | 116/1000 [00:02<00:19, 46.35it/s]"
     ]
    },
    {
     "name": "stdout",
     "output_type": "stream",
     "text": [
      "[ 0.2 -0.2]\n",
      "[ 0.2 -0.2]\n",
      "[ 0.2 -0.2]\n",
      "[ 0.2 -0.2]\n",
      "[ 0.2 -0.2]\n",
      "[ 0.2 -0.2]\n",
      "[ 0.2 -0.2]\n",
      "[ 0.2 -0.2]\n",
      "[ 0.2 -0.2]\n"
     ]
    },
    {
     "name": "stderr",
     "output_type": "stream",
     "text": [
      " 13%|█▎        | 126/1000 [00:02<00:19, 45.99it/s]"
     ]
    },
    {
     "name": "stdout",
     "output_type": "stream",
     "text": [
      "[ 0.2 -0.2]\n",
      "[ 0.2 -0.2]\n",
      "[ 0.2 -0.2]\n",
      "[ 0.2 -0.2]\n",
      "[ 0.2 -0.2]\n",
      "[ 0.2 -0.2]\n",
      "[ 0.2 -0.2]\n",
      "[ 0.2 -0.2]\n",
      "[ 0.2 -0.2]\n",
      "[ 0.2 -0.2]\n"
     ]
    },
    {
     "name": "stderr",
     "output_type": "stream",
     "text": [
      " 14%|█▎        | 136/1000 [00:02<00:18, 46.73it/s]"
     ]
    },
    {
     "name": "stdout",
     "output_type": "stream",
     "text": [
      "[ 0.2 -0.2]\n",
      "[ 0.2 -0.2]\n",
      "[ 0.2 -0.2]\n",
      "[ 0.2 -0.2]\n",
      "[ 0.2 -0.2]\n",
      "[ 0.2 -0.2]\n",
      "[ 0.2 -0.2]\n",
      "[ 0.2 -0.2]\n",
      "[ 0.2 -0.2]\n",
      "[ 0.2 -0.2]\n"
     ]
    },
    {
     "name": "stderr",
     "output_type": "stream",
     "text": [
      " 15%|█▍        | 146/1000 [00:03<00:18, 44.97it/s]"
     ]
    },
    {
     "name": "stdout",
     "output_type": "stream",
     "text": [
      "[ 0.2 -0.2]\n",
      "[ 0.2 -0.2]\n",
      "[ 0.2 -0.2]\n",
      "[ 0.2 -0.2]\n",
      "[ 0.2 -0.2]\n",
      "[ 0.2 -0.2]\n",
      "[ 0.2 -0.2]\n",
      "[ 0.2 -0.2]\n",
      "[ 0.2 -0.2]\n",
      "[ 0.2 -0.2]\n"
     ]
    },
    {
     "name": "stderr",
     "output_type": "stream",
     "text": [
      " 16%|█▌        | 156/1000 [00:03<00:20, 41.67it/s]"
     ]
    },
    {
     "name": "stdout",
     "output_type": "stream",
     "text": [
      "[ 0.2 -0.2]\n",
      "[ 0.2 -0.2]\n",
      "[ 0.2 -0.2]\n",
      "[ 0.2 -0.2]\n",
      "[ 0.2 -0.2]\n",
      "[ 0.2 -0.2]\n",
      "[ 0.2 -0.2]\n",
      "[ 0.2 -0.2]\n",
      "[ 0.2 -0.2]\n"
     ]
    },
    {
     "name": "stderr",
     "output_type": "stream",
     "text": [
      " 17%|█▋        | 167/1000 [00:03<00:17, 46.69it/s]"
     ]
    },
    {
     "name": "stdout",
     "output_type": "stream",
     "text": [
      "[ 0.2 -0.2]\n",
      "[ 0.2 -0.2]\n",
      "[ 0.2 -0.2]\n",
      "[ 0.2 -0.2]\n",
      "[ 0.2 -0.2]\n",
      "[ 0.2 -0.2]\n",
      "[ 0.2 -0.2]\n",
      "[ 0.2 -0.2]\n",
      "[ 0.2 -0.2]\n",
      "[ 0.2 -0.2]\n"
     ]
    },
    {
     "name": "stderr",
     "output_type": "stream",
     "text": [
      " 18%|█▊        | 177/1000 [00:03<00:17, 47.10it/s]"
     ]
    },
    {
     "name": "stdout",
     "output_type": "stream",
     "text": [
      "[ 0.2 -0.2]\n",
      "[ 0.2 -0.2]\n",
      "[ 0.2 -0.2]\n",
      "[ 0.2 -0.2]\n",
      "[ 0.2 -0.2]\n",
      "[ 0.2 -0.2]\n",
      "[ 0.2 -0.2]\n",
      "[ 0.2 -0.2]\n",
      "[ 0.2 -0.2]\n",
      "[ 0.2 -0.2]\n",
      "[ 0.2 -0.2]\n"
     ]
    },
    {
     "name": "stderr",
     "output_type": "stream",
     "text": [
      " 19%|█▊        | 187/1000 [00:03<00:17, 46.67it/s]"
     ]
    },
    {
     "name": "stdout",
     "output_type": "stream",
     "text": [
      "[ 0.2 -0.2]\n",
      "[ 0.2 -0.2]\n",
      "[ 0.2 -0.2]\n",
      "[ 0.2 -0.2]\n",
      "[ 0.2 -0.2]\n",
      "[ 0.2        -0.14848265]\n",
      "[ 0.2        -0.15228307]\n",
      "[ 0.2        -0.00173831]\n",
      "[0.2        0.15760797]\n",
      "[0.2 0.2]\n"
     ]
    },
    {
     "name": "stderr",
     "output_type": "stream",
     "text": [
      " 20%|█▉        | 197/1000 [00:04<00:17, 47.04it/s]"
     ]
    },
    {
     "name": "stdout",
     "output_type": "stream",
     "text": [
      "[0.2 0.2]\n",
      "[0.2       0.1649068]\n",
      "[ 0.2       -0.1886813]\n",
      "[ 0.14462113 -0.15815939]\n",
      "[0.2 0.2]\n",
      "[ 0.2        -0.08547761]\n",
      "[ 0.19049743 -0.08589573]\n",
      "[ 0.2        -0.09231766]\n",
      "[0.18917304 0.2       ]\n",
      "[ 0.2        -0.02876814]\n"
     ]
    },
    {
     "name": "stderr",
     "output_type": "stream",
     "text": [
      " 21%|██        | 207/1000 [00:04<00:16, 47.55it/s]"
     ]
    },
    {
     "name": "stdout",
     "output_type": "stream",
     "text": [
      "[0.2 0.2]\n",
      "[0.2 0.2]\n",
      "[0.2 0.2]\n",
      "[ 0.2        -0.11657275]\n",
      "[ 0.2        -0.10927291]\n",
      "[ 0.2 -0.2]\n",
      "[ 0.2        -0.17528641]\n",
      "[ 0.2        -0.11052872]\n",
      "[0.2        0.13914275]\n",
      "[ 0.17864126 -0.07505431]\n"
     ]
    },
    {
     "name": "stderr",
     "output_type": "stream",
     "text": [
      " 22%|██▏       | 217/1000 [00:04<00:16, 47.57it/s]"
     ]
    },
    {
     "name": "stdout",
     "output_type": "stream",
     "text": [
      "[0.2        0.03104887]\n",
      "[0.2 0.2]\n",
      "[ 0.2        -0.02115173]\n",
      "[ 0.2 -0.2]\n",
      "[ 0.2 -0.2]\n",
      "[ 0.2        -0.17207319]\n",
      "[ 0.2 -0.2]\n",
      "[0.2 0.2]\n",
      "[ 0.2 -0.2]\n",
      "[0.2        0.01460224]\n"
     ]
    },
    {
     "name": "stderr",
     "output_type": "stream",
     "text": [
      " 23%|██▎       | 227/1000 [00:04<00:17, 45.33it/s]"
     ]
    },
    {
     "name": "stdout",
     "output_type": "stream",
     "text": [
      "[0.2 0.2]\n",
      "[ 0.2 -0.2]\n",
      "[0.2       0.1365917]\n",
      "[0.2        0.03407861]\n",
      "[ 0.2        -0.07126688]\n",
      "[ 0.2        -0.10813128]\n",
      "[0.2 0.2]\n",
      "[ 0.2        -0.03215621]\n"
     ]
    },
    {
     "name": "stderr",
     "output_type": "stream",
     "text": [
      " 23%|██▎       | 233/1000 [00:04<00:16, 47.38it/s]"
     ]
    },
    {
     "name": "stdout",
     "output_type": "stream",
     "text": [
      "[ 0.2 -0.2]\n",
      "[0.2 0.2]\n",
      "[0.19179562 0.2       ]\n",
      "[ 0.2        -0.09681536]\n",
      "[ 0.2        -0.03020319]\n",
      "[ 0.2        -0.10395189]\n",
      "[ 0.2        -0.11014602]\n",
      "[ 0.04848942 -0.2       ]\n",
      "[0.2 0.2]\n",
      "[ 0.2        -0.19638291]\n"
     ]
    },
    {
     "name": "stderr",
     "output_type": "stream",
     "text": [
      " 24%|██▍       | 243/1000 [00:05<00:17, 43.53it/s]"
     ]
    },
    {
     "name": "stdout",
     "output_type": "stream",
     "text": [
      "[0.12826592 0.2       ]\n",
      "[0.04520747 0.2       ]\n",
      "[0.2 0.2]\n",
      "[0.2        0.08712014]\n",
      "[0.2        0.19511697]\n",
      "[ 0.10769887 -0.15727374]\n",
      "[0.2 0.2]\n",
      "[0.2 0.2]\n",
      "[-0.00180343  0.2       ]\n"
     ]
    },
    {
     "name": "stderr",
     "output_type": "stream",
     "text": [
      " 25%|██▌       | 254/1000 [00:05<00:16, 45.35it/s]"
     ]
    },
    {
     "name": "stdout",
     "output_type": "stream",
     "text": [
      "[0.2 0.2]\n",
      "[0.2 0.2]\n",
      "[0.2        0.07993524]\n",
      "[ 0.09794654 -0.10918844]\n",
      "[0.08338676 0.2       ]\n",
      "[0.2        0.18159692]\n",
      "[0.18455315 0.2       ]\n",
      "[0.2 0.2]\n",
      "[0.02742955 0.10809851]\n",
      "[ 0.12263216 -0.04591946]\n"
     ]
    },
    {
     "name": "stderr",
     "output_type": "stream",
     "text": [
      " 26%|██▋       | 264/1000 [00:05<00:15, 46.21it/s]"
     ]
    },
    {
     "name": "stdout",
     "output_type": "stream",
     "text": [
      "[ 0.13268794 -0.03781561]\n",
      "[0.01215848 0.19901302]\n",
      "[ 0.2       -0.0752259]\n",
      "[0.2        0.16325355]\n",
      "[ 0.14407283 -0.0304253 ]\n",
      "[ 0.2 -0.2]\n",
      "[ 0.2        -0.02968039]\n",
      "[0.2 0.2]\n",
      "[ 0.2 -0.2]\n",
      "[ 0.19538097 -0.01420151]\n"
     ]
    },
    {
     "name": "stderr",
     "output_type": "stream",
     "text": [
      " 27%|██▋       | 274/1000 [00:05<00:15, 45.88it/s]"
     ]
    },
    {
     "name": "stdout",
     "output_type": "stream",
     "text": [
      "[ 0.2        -0.06793409]\n",
      "[ 0.2        -0.16549398]\n",
      "[0.2        0.16957203]\n",
      "[0.2        0.04810842]\n",
      "[0.2        0.08076897]\n",
      "[0.2        0.13724098]\n",
      "[0.2        0.06341666]\n",
      "[0.2        0.00100915]\n",
      "[ 0.2        -0.14576018]\n",
      "[ 0.2 -0.2]\n"
     ]
    },
    {
     "name": "stderr",
     "output_type": "stream",
     "text": [
      " 28%|██▊       | 284/1000 [00:06<00:15, 47.14it/s]"
     ]
    },
    {
     "name": "stdout",
     "output_type": "stream",
     "text": [
      "[ 0.16918749 -0.06697477]\n",
      "[ 0.0423393 -0.2      ]\n",
      "[ 0.2 -0.2]\n",
      "[0.2        0.09662173]\n",
      "[0.2        0.03860585]\n",
      "[0.2        0.07549573]\n",
      "[0.2 0.2]\n",
      "[0.2        0.15829206]\n",
      "[0.2 0.2]\n",
      "[ 0.2        -0.02512988]\n"
     ]
    },
    {
     "name": "stderr",
     "output_type": "stream",
     "text": [
      " 29%|██▉       | 294/1000 [00:06<00:14, 47.33it/s]"
     ]
    },
    {
     "name": "stdout",
     "output_type": "stream",
     "text": [
      "[0.2       0.1033936]\n",
      "[0.2 0.2]\n",
      "[0.2 0.2]\n",
      "[-0.04113361 -0.2       ]\n",
      "[0.2        0.12446348]\n",
      "[0.2 0.2]\n",
      "[0.2 0.2]\n",
      "[0.2 0.2]\n",
      "[ 0.16213164 -0.0466677 ]\n",
      "[0.03602509 0.12467097]\n"
     ]
    },
    {
     "name": "stderr",
     "output_type": "stream",
     "text": [
      " 30%|███       | 304/1000 [00:06<00:14, 47.83it/s]"
     ]
    },
    {
     "name": "stdout",
     "output_type": "stream",
     "text": [
      "[0.2       0.1810335]\n",
      "[0.19092654 0.2       ]\n",
      "[0.14806259 0.2       ]\n",
      "[0.2 0.2]\n",
      "[0.2        0.07243527]\n",
      "[0.16722953 0.2       ]\n",
      "[ 0.2        -0.09904909]\n",
      "[0.16285127 0.2       ]\n",
      "[ 0.16406466 -0.03517254]\n",
      "[-0.09152398  0.2       ]\n",
      "[0.15329319 0.16380966]\n"
     ]
    },
    {
     "name": "stderr",
     "output_type": "stream",
     "text": [
      " 31%|███▏      | 314/1000 [00:06<00:14, 47.76it/s]"
     ]
    },
    {
     "name": "stdout",
     "output_type": "stream",
     "text": [
      "[0.2 0.2]\n",
      "[0.05275401 0.08093035]\n",
      "[ 0.2        -0.06929932]\n",
      "[0.2        0.10665381]\n",
      "[0.2        0.13042203]\n",
      "[0.2        0.16336933]\n",
      "[ 0.2       -0.0637731]\n",
      "[0.2 0.2]\n",
      "[0.2        0.07292256]\n",
      "[0.2        0.16280782]\n",
      "[ 0.2 -0.2]\n"
     ]
    },
    {
     "name": "stderr",
     "output_type": "stream",
     "text": [
      " 32%|███▎      | 325/1000 [00:06<00:13, 48.99it/s]"
     ]
    },
    {
     "name": "stdout",
     "output_type": "stream",
     "text": [
      "[ 0.2 -0.2]\n",
      "[ 0.2 -0.2]\n",
      "[ 0.2 -0.2]\n",
      "[ 0.1815455 -0.2      ]\n",
      "[ 0.2 -0.2]\n",
      "[0.2       0.1163336]\n",
      "[ 0.2        -0.04822779]\n",
      "[ 0.2 -0.2]\n",
      "[ 0.2 -0.2]\n",
      "[ 0.2 -0.2]\n"
     ]
    },
    {
     "name": "stderr",
     "output_type": "stream",
     "text": [
      " 34%|███▎      | 335/1000 [00:07<00:15, 43.51it/s]"
     ]
    },
    {
     "name": "stdout",
     "output_type": "stream",
     "text": [
      "[ 0.2       -0.1757161]\n",
      "[ 0.2 -0.2]\n",
      "[0.2        0.17589587]\n",
      "[ 0.2        -0.15989825]\n",
      "[ 0.2        -0.17255786]\n",
      "[ 0.2        -0.12706646]\n",
      "[ 0.2 -0.2]\n"
     ]
    },
    {
     "name": "stderr",
     "output_type": "stream",
     "text": [
      " 34%|███▍      | 342/1000 [00:07<00:13, 48.55it/s]"
     ]
    },
    {
     "name": "stdout",
     "output_type": "stream",
     "text": [
      "[ 0.2 -0.2]\n",
      "[ 0.2 -0.2]\n",
      "[ 0.2        -0.15210997]\n",
      "[0.2        0.02555999]\n",
      "[ 0.2        -0.10654591]\n",
      "[ 0.2        -0.07241902]\n",
      "[0.2        0.17561841]\n",
      "[ 0.2        -0.05710792]\n",
      "[ 0.2        -0.06990112]\n",
      "[0.2        0.02196178]\n",
      "[0.2 0.2]\n"
     ]
    },
    {
     "name": "stderr",
     "output_type": "stream",
     "text": [
      " 35%|███▌      | 352/1000 [00:07<00:13, 46.55it/s]"
     ]
    },
    {
     "name": "stdout",
     "output_type": "stream",
     "text": [
      "[0.2 0.2]\n",
      "[0.2        0.08766822]\n",
      "[0.2 0.2]\n",
      "[0.2 0.2]\n",
      "[0.2 0.2]\n",
      "[0.01513115 0.2       ]\n",
      "[0.12255519 0.2       ]\n",
      "[0.2 0.2]\n",
      "[0.2 0.2]\n",
      "[0.0409301  0.00876492]\n"
     ]
    },
    {
     "name": "stderr",
     "output_type": "stream",
     "text": [
      " 36%|███▌      | 362/1000 [00:07<00:14, 43.70it/s]"
     ]
    },
    {
     "name": "stdout",
     "output_type": "stream",
     "text": [
      "[0.10138253 0.2       ]\n",
      "[0.2 0.2]\n",
      "[0.2 0.2]\n",
      "[0.1459204 0.2      ]\n",
      "[-0.05348229  0.2       ]\n",
      "[0.07555609 0.2       ]\n",
      "[0.2 0.2]\n",
      "[0.2 0.2]\n",
      "[0.00788817 0.2       ]\n"
     ]
    },
    {
     "name": "stderr",
     "output_type": "stream",
     "text": [
      " 37%|███▋      | 372/1000 [00:08<00:14, 43.69it/s]"
     ]
    },
    {
     "name": "stdout",
     "output_type": "stream",
     "text": [
      "[0.2 0.2]\n",
      "[-0.016019  0.2     ]\n",
      "[0.2 0.2]\n",
      "[0.2 0.2]\n",
      "[-0.00503838  0.156726  ]\n",
      "[0.2        0.18813455]\n",
      "[0.17271338 0.2       ]\n",
      "[0.2 0.2]\n",
      "[ 0.2        -0.14415225]\n"
     ]
    },
    {
     "name": "stderr",
     "output_type": "stream",
     "text": [
      " 38%|███▊      | 382/1000 [00:08<00:13, 45.73it/s]"
     ]
    },
    {
     "name": "stdout",
     "output_type": "stream",
     "text": [
      "[ 0.2        -0.10183359]\n",
      "[ 0.2        -0.10718091]\n",
      "[ 0.2        -0.07429121]\n",
      "[ 0.2        -0.12644082]\n",
      "[ 0.2       -0.1515209]\n",
      "[0.2        0.12622775]\n",
      "[ 0.2        -0.03008139]\n",
      "[ 0.2 -0.2]\n",
      "[0.2 0.2]\n",
      "[ 0.2        -0.14033796]\n"
     ]
    },
    {
     "name": "stderr",
     "output_type": "stream",
     "text": [
      " 39%|███▉      | 393/1000 [00:08<00:13, 46.52it/s]"
     ]
    },
    {
     "name": "stdout",
     "output_type": "stream",
     "text": [
      "[ 0.2        -0.07088049]\n",
      "[ 0.2 -0.2]\n",
      "[ 0.2        -0.11325586]\n",
      "[0.2        0.00029092]\n",
      "[ 0.2        -0.14087601]\n",
      "[0.2 0.2]\n",
      "[ 0.2 -0.2]\n",
      "[ 0.2 -0.2]\n",
      "[ 0.2 -0.2]\n"
     ]
    },
    {
     "name": "stderr",
     "output_type": "stream",
     "text": [
      " 40%|███▉      | 398/1000 [00:08<00:12, 47.21it/s]"
     ]
    },
    {
     "name": "stdout",
     "output_type": "stream",
     "text": [
      "[0.2        0.06917887]\n",
      "[ 0.2        -0.00855935]\n",
      "[0.2        0.00316441]\n",
      "[ 0.2 -0.2]\n",
      "[0.2        0.02665707]\n",
      "[0.2        0.01879459]\n",
      "[0.2        0.04397508]\n",
      "[0.15162295 0.2       ]\n",
      "[ 0.2        -0.02266041]\n"
     ]
    },
    {
     "name": "stderr",
     "output_type": "stream",
     "text": [
      " 41%|████      | 408/1000 [00:08<00:13, 43.69it/s]"
     ]
    },
    {
     "name": "stdout",
     "output_type": "stream",
     "text": [
      "[ 0.06228332 -0.06014326]\n",
      "[ 0.2        -0.07056004]\n",
      "[0.17914978 0.10882706]\n",
      "[0.04666198 0.2       ]\n",
      "[0.05558911 0.2       ]\n",
      "[-0.04477377  0.2       ]\n",
      "[0.03914337 0.2       ]\n",
      "[-0.14522018  0.2       ]\n",
      "[0.07615186 0.2       ]\n"
     ]
    },
    {
     "name": "stderr",
     "output_type": "stream",
     "text": [
      " 42%|████▏     | 418/1000 [00:08<00:12, 46.60it/s]"
     ]
    },
    {
     "name": "stdout",
     "output_type": "stream",
     "text": [
      "[-0.06774251  0.2       ]\n",
      "[-0.2  0.2]\n",
      "[-0.2  0.2]\n",
      "[-0.07042085  0.2       ]\n",
      "[-0.1560397  0.2      ]\n",
      "[0.1205387 0.2      ]\n",
      "[-0.01170307  0.2       ]\n",
      "[-0.11501575  0.2       ]\n",
      "[0.09037167 0.2       ]\n"
     ]
    },
    {
     "name": "stderr",
     "output_type": "stream",
     "text": [
      " 43%|████▎     | 428/1000 [00:09<00:12, 45.85it/s]"
     ]
    },
    {
     "name": "stdout",
     "output_type": "stream",
     "text": [
      "[-0.06728347  0.2       ]\n",
      "[0.2 0.2]\n",
      "[-0.06173913  0.2       ]\n",
      "[0.00751158 0.2       ]\n",
      "[0.10763968 0.2       ]\n",
      "[0.2        0.16213031]\n",
      "[0.12752208 0.2       ]\n",
      "[0.19584595 0.2       ]\n",
      "[0.19088446 0.05239329]\n",
      "[0.2 0.2]\n"
     ]
    },
    {
     "name": "stderr",
     "output_type": "stream",
     "text": [
      " 44%|████▍     | 438/1000 [00:09<00:12, 45.72it/s]"
     ]
    },
    {
     "name": "stdout",
     "output_type": "stream",
     "text": [
      "[ 0.2        -0.00076617]\n",
      "[ 0.2       -0.1452091]\n",
      "[0.2        0.14848155]\n",
      "[0.2 0.2]\n",
      "[ 0.2 -0.2]\n",
      "[0.2      0.011758]\n",
      "[ 0.2        -0.04272783]\n",
      "[ 0.2        -0.11519574]\n",
      "[ 0.2 -0.2]\n",
      "[ 0.2 -0.2]\n"
     ]
    },
    {
     "name": "stderr",
     "output_type": "stream",
     "text": [
      " 45%|████▍     | 449/1000 [00:09<00:11, 46.62it/s]"
     ]
    },
    {
     "name": "stdout",
     "output_type": "stream",
     "text": [
      "[ 0.2        -0.13453683]\n",
      "[ 0.2 -0.2]\n",
      "[ 0.2 -0.2]\n",
      "[ 0.2 -0.2]\n",
      "[ 0.2 -0.2]\n",
      "[ 0.2        -0.15325038]\n",
      "[ 0.2 -0.2]\n",
      "[ 0.2 -0.2]\n",
      "[ 0.2 -0.2]\n",
      "[ 0.2 -0.2]\n"
     ]
    },
    {
     "name": "stderr",
     "output_type": "stream",
     "text": [
      " 45%|████▌     | 454/1000 [00:09<00:11, 47.53it/s]"
     ]
    },
    {
     "name": "stdout",
     "output_type": "stream",
     "text": [
      "[ 0.2        -0.14828329]\n",
      "[ 0.2 -0.2]\n",
      "[ 0.2 -0.2]\n",
      "[ 0.2 -0.2]\n",
      "[ 0.2        -0.18284836]\n",
      "[0.2        0.08061987]\n",
      "[ 0.2 -0.2]\n",
      "[0.2        0.06200138]\n",
      "[ 0.2      -0.047924]\n"
     ]
    },
    {
     "name": "stderr",
     "output_type": "stream",
     "text": [
      " 46%|████▋     | 464/1000 [00:09<00:11, 45.82it/s]"
     ]
    },
    {
     "name": "stdout",
     "output_type": "stream",
     "text": [
      "[0.2 0.2]\n",
      "[ 0.2        -0.05460562]\n",
      "[0.2        0.13065784]\n",
      "[0.11692369 0.2       ]\n",
      "[0.2 0.2]\n",
      "[ 0.12575242 -0.06143731]\n",
      "[0.2 0.2]\n",
      "[0.2 0.2]\n",
      "[0.10584312 0.2       ]\n",
      "[-0.13919587  0.2       ]\n"
     ]
    },
    {
     "name": "stderr",
     "output_type": "stream",
     "text": [
      " 47%|████▋     | 474/1000 [00:10<00:11, 46.03it/s]"
     ]
    },
    {
     "name": "stdout",
     "output_type": "stream",
     "text": [
      "[0.07627536 0.2       ]\n",
      "[0.10518382 0.2       ]\n",
      "[-0.06015234  0.2       ]\n",
      "[-0.04662102  0.2       ]\n",
      "[-0.2  0.2]\n",
      "[0.09226219 0.2       ]\n",
      "[-0.09606246  0.2       ]\n",
      "[-0.2  0.2]\n",
      "[-0.17827049  0.2       ]\n"
     ]
    },
    {
     "name": "stderr",
     "output_type": "stream",
     "text": [
      " 48%|████▊     | 485/1000 [00:10<00:11, 46.60it/s]"
     ]
    },
    {
     "name": "stdout",
     "output_type": "stream",
     "text": [
      "[-0.18332458  0.2       ]\n",
      "[0.2 0.2]\n",
      "[-0.1512537  0.2      ]\n",
      "[0.03515158 0.2       ]\n",
      "[0.2 0.2]\n",
      "[-0.0656932  0.2      ]\n",
      "[0.16361548 0.07746001]\n",
      "[0.2 0.2]\n",
      "[ 0.2        -0.09133512]\n"
     ]
    },
    {
     "name": "stderr",
     "output_type": "stream",
     "text": [
      " 50%|████▉     | 497/1000 [00:10<00:10, 47.86it/s]"
     ]
    },
    {
     "name": "stdout",
     "output_type": "stream",
     "text": [
      "[ 0.2        -0.18750995]\n",
      "[ 0.2       -0.1147021]\n",
      "[ 0.2 -0.2]\n",
      "[0.2        0.18846045]\n",
      "[ 0.2 -0.2]\n",
      "[ 0.2       -0.0061895]\n",
      "[ 0.2        -0.05478843]\n",
      "[ 0.2        -0.03341226]\n",
      "[ 0.2 -0.2]\n",
      "[0.2        0.16437677]\n",
      "[ 0.2 -0.2]\n",
      "[ 0.2 -0.2]\n"
     ]
    },
    {
     "name": "stderr",
     "output_type": "stream",
     "text": [
      " 51%|█████     | 508/1000 [00:10<00:10, 48.39it/s]"
     ]
    },
    {
     "name": "stdout",
     "output_type": "stream",
     "text": [
      "[ 0.2 -0.2]\n",
      "[ 0.2        -0.07504085]\n",
      "[ 0.2 -0.2]\n",
      "[ 0.2 -0.2]\n",
      "[ 0.2 -0.2]\n",
      "[ 0.2 -0.2]\n",
      "[ 0.2 -0.2]\n",
      "[ 0.2 -0.2]\n",
      "[ 0.2        -0.13479741]\n",
      "[ 0.2 -0.2]\n",
      "[ 0.2 -0.2]\n"
     ]
    },
    {
     "name": "stderr",
     "output_type": "stream",
     "text": [
      " 52%|█████▏    | 519/1000 [00:11<00:09, 48.71it/s]"
     ]
    },
    {
     "name": "stdout",
     "output_type": "stream",
     "text": [
      "[ 0.2        -0.19503841]\n",
      "[ 0.2 -0.2]\n",
      "[ 0.2 -0.2]\n",
      "[ 0.2        -0.09879375]\n",
      "[ 0.2 -0.2]\n",
      "[0.2        0.07188585]\n",
      "[0.2        0.09778918]\n",
      "[0.2        0.10972269]\n",
      "[0.2        0.01567624]\n",
      "[0.2 0.2]\n"
     ]
    },
    {
     "name": "stderr",
     "output_type": "stream",
     "text": [
      " 53%|█████▎    | 529/1000 [00:11<00:09, 48.60it/s]"
     ]
    },
    {
     "name": "stdout",
     "output_type": "stream",
     "text": [
      "[0.2 0.2]\n",
      "[ 0.15428479 -0.0059399 ]\n",
      "[0.132125 0.2     ]\n",
      "[0.00494951 0.2       ]\n",
      "[-0.05289109  0.2       ]\n",
      "[-0.05022787  0.2       ]\n",
      "[-0.2  0.2]\n",
      "[-0.14627466  0.2       ]\n",
      "[-0.2  0.2]\n"
     ]
    },
    {
     "name": "stderr",
     "output_type": "stream",
     "text": [
      " 53%|█████▎    | 534/1000 [00:11<00:09, 48.91it/s]"
     ]
    },
    {
     "name": "stdout",
     "output_type": "stream",
     "text": [
      "[-0.2  0.2]\n",
      "[-0.2  0.2]\n",
      "[-0.2  0.2]\n",
      "[-0.2  0.2]\n",
      "[-0.2  0.2]\n",
      "[-0.2  0.2]\n",
      "[-0.2  0.2]\n",
      "[-0.2  0.2]\n",
      "[-0.2  0.2]\n",
      "[-0.06917048  0.2       ]\n"
     ]
    },
    {
     "name": "stderr",
     "output_type": "stream",
     "text": [
      " 54%|█████▍    | 544/1000 [00:11<00:09, 47.62it/s]"
     ]
    },
    {
     "name": "stdout",
     "output_type": "stream",
     "text": [
      "[-0.16953525  0.2       ]\n",
      "[-0.2  0.2]\n",
      "[-0.2  0.2]\n",
      "[0.06517169 0.2       ]\n",
      "[0.14657429 0.2       ]\n",
      "[0.14637956 0.10595113]\n",
      "[0.2 0.2]\n",
      "[0.01759265 0.16306451]\n",
      "[0.033526   0.19020782]\n"
     ]
    },
    {
     "name": "stderr",
     "output_type": "stream",
     "text": [
      " 55%|█████▌    | 554/1000 [00:11<00:09, 48.56it/s]"
     ]
    },
    {
     "name": "stdout",
     "output_type": "stream",
     "text": [
      "[0.2 0.2]\n",
      "[0.2        0.06557523]\n",
      "[ 0.2       -0.0588585]\n",
      "[0.2        0.08506374]\n",
      "[ 0.2        -0.04551093]\n",
      "[ 0.2        -0.18082243]\n",
      "[ 0.2 -0.2]\n",
      "[ 0.2 -0.2]\n",
      "[ 0.2 -0.2]\n",
      "[ 0.2        -0.17896557]\n",
      "[0.2        0.02321991]\n"
     ]
    },
    {
     "name": "stderr",
     "output_type": "stream",
     "text": [
      " 56%|█████▋    | 564/1000 [00:12<00:09, 46.09it/s]"
     ]
    },
    {
     "name": "stdout",
     "output_type": "stream",
     "text": [
      "[ 0.2 -0.2]\n",
      "[ 0.2 -0.2]\n",
      "[ 0.2 -0.2]\n",
      "[ 0.2 -0.2]\n",
      "[ 0.2 -0.2]\n",
      "[ 0.2 -0.2]\n",
      "[ 0.2 -0.2]\n",
      "[ 0.2        -0.18578345]\n",
      "[ 0.2 -0.2]\n",
      "[ 0.2 -0.2]\n"
     ]
    },
    {
     "name": "stderr",
     "output_type": "stream",
     "text": [
      " 57%|█████▋    | 574/1000 [00:12<00:09, 46.90it/s]"
     ]
    },
    {
     "name": "stdout",
     "output_type": "stream",
     "text": [
      "[ 0.2 -0.2]\n",
      "[ 0.2 -0.2]\n",
      "[ 0.2        -0.06216533]\n",
      "[ 0.2 -0.2]\n",
      "[ 0.2        -0.17484856]\n",
      "[ 0.2 -0.2]\n",
      "[0.2 0.2]\n",
      "[ 0.2 -0.2]\n",
      "[ 0.2        -0.17778742]\n",
      "[0.2        0.03307925]\n"
     ]
    },
    {
     "name": "stderr",
     "output_type": "stream",
     "text": [
      " 58%|█████▊    | 584/1000 [00:12<00:09, 45.66it/s]"
     ]
    },
    {
     "name": "stdout",
     "output_type": "stream",
     "text": [
      "[0.2 0.2]\n",
      "[0.2        0.00248487]\n",
      "[-0.1190574  0.2      ]\n",
      "[0.04381704 0.2       ]\n",
      "[0.05102234 0.2       ]\n",
      "[-0.2  0.2]\n",
      "[-0.00267498  0.2       ]\n",
      "[-0.2  0.2]\n"
     ]
    },
    {
     "name": "stderr",
     "output_type": "stream",
     "text": [
      " 60%|█████▉    | 595/1000 [00:12<00:08, 46.92it/s]"
     ]
    },
    {
     "name": "stdout",
     "output_type": "stream",
     "text": [
      "[-0.19010177  0.2       ]\n",
      "[-0.2  0.2]\n",
      "[-0.2  0.2]\n",
      "[-0.1152328  0.2      ]\n",
      "[-0.2  0.2]\n",
      "[-0.2  0.2]\n",
      "[-0.2  0.2]\n",
      "[-0.2  0.2]\n",
      "[-0.2  0.2]\n",
      "[-0.2  0.2]\n",
      "[-0.2  0.2]\n"
     ]
    },
    {
     "name": "stderr",
     "output_type": "stream",
     "text": [
      " 60%|██████    | 605/1000 [00:12<00:08, 46.27it/s]"
     ]
    },
    {
     "name": "stdout",
     "output_type": "stream",
     "text": [
      "[0.06125878 0.2       ]\n",
      "[0.01968187 0.2       ]\n",
      "[-0.16657844  0.2       ]\n",
      "[ 0.2 -0.2]\n",
      "[ 0.2 -0.2]\n",
      "[ 0.2 -0.2]\n",
      "[ 0.2 -0.2]\n",
      "[ 0.2 -0.2]\n",
      "[ 0.2 -0.2]\n"
     ]
    },
    {
     "name": "stderr",
     "output_type": "stream",
     "text": [
      " 62%|██████▏   | 616/1000 [00:13<00:08, 46.84it/s]"
     ]
    },
    {
     "name": "stdout",
     "output_type": "stream",
     "text": [
      "[ 0.2 -0.2]\n",
      "[ 0.2 -0.2]\n",
      "[ 0.2 -0.2]\n",
      "[ 0.2 -0.2]\n",
      "[ 0.2 -0.2]\n",
      "[ 0.2 -0.2]\n",
      "[ 0.2 -0.2]\n",
      "[ 0.2 -0.2]\n",
      "[ 0.2 -0.2]\n"
     ]
    },
    {
     "name": "stderr",
     "output_type": "stream",
     "text": [
      " 62%|██████▏   | 621/1000 [00:13<00:08, 46.80it/s]"
     ]
    },
    {
     "name": "stdout",
     "output_type": "stream",
     "text": [
      "[ 0.2 -0.2]\n",
      "[ 0.2 -0.2]\n",
      "[ 0.2 -0.2]\n",
      "[ 0.2 -0.2]\n",
      "[ 0.2 -0.2]\n",
      "[ 0.2 -0.2]\n",
      "[ 0.2 -0.2]\n",
      "[ 0.2 -0.2]\n",
      "[ 0.2 -0.2]\n"
     ]
    },
    {
     "name": "stderr",
     "output_type": "stream",
     "text": [
      " 63%|██████▎   | 631/1000 [00:13<00:07, 46.25it/s]"
     ]
    },
    {
     "name": "stdout",
     "output_type": "stream",
     "text": [
      "[ 0.2 -0.2]\n",
      "[ 0.2 -0.2]\n",
      "[ 0.2 -0.2]\n",
      "[ 0.2 -0.2]\n",
      "[ 0.2 -0.2]\n",
      "[ 0.2 -0.2]\n",
      "[ 0.2 -0.2]\n",
      "[ 0.2 -0.2]\n",
      "[ 0.2 -0.2]\n",
      "[ 0.2 -0.2]\n"
     ]
    },
    {
     "name": "stderr",
     "output_type": "stream",
     "text": [
      " 64%|██████▍   | 642/1000 [00:13<00:07, 47.73it/s]"
     ]
    },
    {
     "name": "stdout",
     "output_type": "stream",
     "text": [
      "[ 0.2 -0.2]\n",
      "[ 0.2 -0.2]\n",
      "[ 0.2 -0.2]\n",
      "[ 0.2 -0.2]\n",
      "[ 0.2 -0.2]\n",
      "[ 0.2 -0.2]\n",
      "[ 0.2 -0.2]\n",
      "[ 0.2 -0.2]\n",
      "[ 0.2 -0.2]\n",
      "[ 0.2 -0.2]\n"
     ]
    },
    {
     "name": "stderr",
     "output_type": "stream",
     "text": [
      " 65%|██████▌   | 652/1000 [00:14<00:07, 46.24it/s]"
     ]
    },
    {
     "name": "stdout",
     "output_type": "stream",
     "text": [
      "[ 0.2 -0.2]\n",
      "[ 0.2 -0.2]\n",
      "[ 0.2 -0.2]\n",
      "[ 0.2 -0.2]\n",
      "[ 0.2 -0.2]\n",
      "[ 0.2 -0.2]\n",
      "[ 0.2 -0.2]\n",
      "[ 0.2 -0.2]\n",
      "[ 0.2 -0.2]\n"
     ]
    },
    {
     "name": "stderr",
     "output_type": "stream",
     "text": [
      " 66%|██████▌   | 657/1000 [00:14<00:07, 45.17it/s]"
     ]
    },
    {
     "name": "stdout",
     "output_type": "stream",
     "text": [
      "[ 0.2 -0.2]\n",
      "[ 0.2 -0.2]\n",
      "[ 0.2 -0.2]\n",
      "[ 0.2 -0.2]\n",
      "[ 0.2 -0.2]\n",
      "[ 0.2 -0.2]\n",
      "[ 0.2 -0.2]\n"
     ]
    },
    {
     "name": "stderr",
     "output_type": "stream",
     "text": [
      " 67%|██████▋   | 668/1000 [00:14<00:07, 45.69it/s]"
     ]
    },
    {
     "name": "stdout",
     "output_type": "stream",
     "text": [
      "[ 0.2 -0.2]\n",
      "[ 0.2 -0.2]\n",
      "[ 0.2 -0.2]\n",
      "[ 0.2 -0.2]\n",
      "[ 0.2 -0.2]\n",
      "[ 0.2 -0.2]\n",
      "[ 0.2 -0.2]\n",
      "[ 0.2 -0.2]\n",
      "[ 0.2 -0.2]\n",
      "[ 0.2 -0.2]\n",
      "[ 0.2 -0.2]\n",
      "[ 0.2 -0.2]\n"
     ]
    },
    {
     "name": "stderr",
     "output_type": "stream",
     "text": [
      " 68%|██████▊   | 680/1000 [00:14<00:06, 48.17it/s]"
     ]
    },
    {
     "name": "stdout",
     "output_type": "stream",
     "text": [
      "[ 0.2 -0.2]\n",
      "[ 0.2 -0.2]\n",
      "[ 0.2 -0.2]\n",
      "[ 0.2 -0.2]\n",
      "[ 0.2 -0.2]\n",
      "[ 0.2 -0.2]\n",
      "[ 0.2 -0.2]\n",
      "[ 0.2 -0.2]\n",
      "[ 0.2 -0.2]\n",
      "[ 0.2 -0.2]\n"
     ]
    },
    {
     "name": "stderr",
     "output_type": "stream",
     "text": [
      " 69%|██████▉   | 690/1000 [00:14<00:06, 48.08it/s]"
     ]
    },
    {
     "name": "stdout",
     "output_type": "stream",
     "text": [
      "[ 0.2 -0.2]\n",
      "[ 0.2 -0.2]\n",
      "[ 0.2 -0.2]\n",
      "[ 0.2 -0.2]\n",
      "[ 0.2 -0.2]\n",
      "[ 0.2 -0.2]\n",
      "[ 0.2 -0.2]\n",
      "[ 0.2 -0.2]\n",
      "[ 0.2 -0.2]\n",
      "[ 0.2 -0.2]\n"
     ]
    },
    {
     "name": "stderr",
     "output_type": "stream",
     "text": [
      " 70%|███████   | 700/1000 [00:15<00:06, 47.94it/s]"
     ]
    },
    {
     "name": "stdout",
     "output_type": "stream",
     "text": [
      "[ 0.2 -0.2]\n",
      "[ 0.2 -0.2]\n",
      "[ 0.2 -0.2]\n",
      "[ 0.2 -0.2]\n",
      "[ 0.2 -0.2]\n",
      "[ 0.2 -0.2]\n",
      "[ 0.2 -0.2]\n",
      "[ 0.2 -0.2]\n",
      "[ 0.2 -0.2]\n",
      "[ 0.2 -0.2]\n"
     ]
    },
    {
     "name": "stderr",
     "output_type": "stream",
     "text": [
      " 71%|███████   | 711/1000 [00:15<00:06, 47.74it/s]"
     ]
    },
    {
     "name": "stdout",
     "output_type": "stream",
     "text": [
      "[ 0.2 -0.2]\n",
      "[ 0.2 -0.2]\n",
      "[ 0.2 -0.2]\n",
      "[ 0.2 -0.2]\n",
      "[ 0.2 -0.2]\n",
      "[ 0.2 -0.2]\n",
      "[ 0.2 -0.2]\n",
      "[ 0.2 -0.2]\n",
      "[ 0.2 -0.2]\n",
      "[ 0.2 -0.2]\n",
      "[ 0.2 -0.2]\n"
     ]
    },
    {
     "name": "stderr",
     "output_type": "stream",
     "text": [
      " 72%|███████▏  | 721/1000 [00:15<00:05, 46.84it/s]"
     ]
    },
    {
     "name": "stdout",
     "output_type": "stream",
     "text": [
      "[ 0.2 -0.2]\n",
      "[ 0.2 -0.2]\n",
      "[ 0.2 -0.2]\n",
      "[ 0.2 -0.2]\n",
      "[ 0.2 -0.2]\n",
      "[ 0.2 -0.2]\n",
      "[ 0.2 -0.2]\n",
      "[ 0.2 -0.2]\n",
      "[ 0.2 -0.2]\n",
      "[ 0.2 -0.2]\n"
     ]
    },
    {
     "name": "stderr",
     "output_type": "stream",
     "text": [
      " 73%|███████▎  | 732/1000 [00:15<00:05, 48.24it/s]"
     ]
    },
    {
     "name": "stdout",
     "output_type": "stream",
     "text": [
      "[ 0.2 -0.2]\n",
      "[ 0.2 -0.2]\n",
      "[ 0.2 -0.2]\n",
      "[ 0.2 -0.2]\n",
      "[ 0.2 -0.2]\n",
      "[ 0.2 -0.2]\n",
      "[ 0.2 -0.2]\n",
      "[ 0.2 -0.2]\n",
      "[ 0.2 -0.2]\n",
      "[ 0.2 -0.2]\n"
     ]
    },
    {
     "name": "stderr",
     "output_type": "stream",
     "text": [
      " 74%|███████▍  | 742/1000 [00:15<00:05, 48.00it/s]"
     ]
    },
    {
     "name": "stdout",
     "output_type": "stream",
     "text": [
      "[ 0.2 -0.2]\n",
      "[ 0.2 -0.2]\n",
      "[ 0.2 -0.2]\n",
      "[ 0.2 -0.2]\n",
      "[ 0.2 -0.2]\n",
      "[ 0.2 -0.2]\n",
      "[ 0.2 -0.2]\n",
      "[ 0.2 -0.2]\n",
      "[ 0.2 -0.2]\n",
      "[ 0.2 -0.2]\n"
     ]
    },
    {
     "name": "stderr",
     "output_type": "stream",
     "text": [
      " 75%|███████▌  | 752/1000 [00:16<00:05, 43.04it/s]"
     ]
    },
    {
     "name": "stdout",
     "output_type": "stream",
     "text": [
      "[ 0.2 -0.2]\n",
      "[ 0.2 -0.2]\n",
      "[ 0.2 -0.2]\n",
      "[ 0.2 -0.2]\n",
      "[ 0.2 -0.2]\n",
      "[ 0.2 -0.2]\n",
      "[ 0.2 -0.2]\n",
      "[ 0.2 -0.2]\n"
     ]
    },
    {
     "name": "stderr",
     "output_type": "stream",
     "text": [
      " 76%|███████▌  | 759/1000 [00:16<00:05, 47.09it/s]"
     ]
    },
    {
     "name": "stdout",
     "output_type": "stream",
     "text": [
      "[ 0.2 -0.2]\n",
      "[ 0.2 -0.2]\n",
      "[ 0.2 -0.2]\n",
      "[ 0.2 -0.2]\n",
      "[ 0.2 -0.2]\n",
      "[ 0.2 -0.2]\n",
      "[ 0.2 -0.2]\n",
      "[ 0.2 -0.2]\n",
      "[ 0.2 -0.2]\n",
      "[ 0.2 -0.2]\n",
      "[ 0.2 -0.2]\n"
     ]
    },
    {
     "name": "stderr",
     "output_type": "stream",
     "text": [
      " 77%|███████▋  | 769/1000 [00:16<00:04, 47.51it/s]"
     ]
    },
    {
     "name": "stdout",
     "output_type": "stream",
     "text": [
      "[ 0.2 -0.2]\n",
      "[ 0.2 -0.2]\n",
      "[ 0.2 -0.2]\n",
      "[ 0.2 -0.2]\n",
      "[ 0.2 -0.2]\n",
      "[ 0.2 -0.2]\n",
      "[ 0.2 -0.2]\n",
      "[ 0.2 -0.2]\n",
      "[ 0.2 -0.2]\n",
      "[ 0.2 -0.2]\n"
     ]
    },
    {
     "name": "stderr",
     "output_type": "stream",
     "text": [
      " 78%|███████▊  | 780/1000 [00:16<00:04, 48.23it/s]"
     ]
    },
    {
     "name": "stdout",
     "output_type": "stream",
     "text": [
      "[ 0.2 -0.2]\n",
      "[ 0.2 -0.2]\n",
      "[ 0.2 -0.2]\n",
      "[ 0.2 -0.2]\n",
      "[ 0.2 -0.2]\n",
      "[ 0.2 -0.2]\n",
      "[ 0.2 -0.2]\n",
      "[ 0.2 -0.2]\n",
      "[ 0.2 -0.2]\n",
      "[ 0.2 -0.2]\n"
     ]
    },
    {
     "name": "stderr",
     "output_type": "stream",
     "text": [
      " 79%|███████▉  | 790/1000 [00:16<00:04, 48.17it/s]"
     ]
    },
    {
     "name": "stdout",
     "output_type": "stream",
     "text": [
      "[ 0.2 -0.2]\n",
      "[0.2        0.05354444]\n",
      "[0.2 0.2]\n",
      "[0.2 0.2]\n",
      "[0.2        0.03320738]\n",
      "[ 0.2        -0.09301059]\n",
      "[ 0.2 -0.2]\n",
      "[0.2        0.13837981]\n",
      "[ 0.2        -0.01260043]\n",
      "[0.2 0.2]\n"
     ]
    },
    {
     "name": "stderr",
     "output_type": "stream",
     "text": [
      " 80%|████████  | 801/1000 [00:17<00:04, 48.56it/s]"
     ]
    },
    {
     "name": "stdout",
     "output_type": "stream",
     "text": [
      "[ 0.2 -0.2]\n",
      "[ 0.2       -0.0184751]\n",
      "[0.2        0.05995899]\n",
      "[0.2 0.2]\n",
      "[ 0.2        -0.14768472]\n",
      "[0.2        0.18609832]\n",
      "[ 0.2       -0.1285182]\n",
      "[ 0.2 -0.2]\n",
      "[0.18142664 0.15269038]\n",
      "[0.2        0.00260704]\n"
     ]
    },
    {
     "name": "stderr",
     "output_type": "stream",
     "text": [
      " 81%|████████  | 812/1000 [00:17<00:03, 48.84it/s]"
     ]
    },
    {
     "name": "stdout",
     "output_type": "stream",
     "text": [
      "[ 0.2        -0.01275768]\n",
      "[ 0.2        -0.11627385]\n",
      "[0.2       0.0873529]\n",
      "[ 0.2        -0.00860232]\n",
      "[ 0.2 -0.2]\n",
      "[0.2        0.12158591]\n",
      "[0.2 0.2]\n",
      "[ 0.2 -0.2]\n",
      "[ 0.2       -0.1722684]\n",
      "[0.2        0.04128601]\n"
     ]
    },
    {
     "name": "stderr",
     "output_type": "stream",
     "text": [
      " 82%|████████▏ | 822/1000 [00:17<00:03, 47.56it/s]"
     ]
    },
    {
     "name": "stdout",
     "output_type": "stream",
     "text": [
      "[ 0.18138981 -0.10532139]\n",
      "[0.2        0.07557154]\n",
      "[0.2        0.00947281]\n",
      "[ 0.2        -0.01122503]\n",
      "[0.2        0.09680579]\n",
      "[ 0.2        -0.11426714]\n",
      "[0.2        0.06683442]\n",
      "[0.2       0.0812042]\n",
      "[0.2        0.19195192]\n"
     ]
    },
    {
     "name": "stderr",
     "output_type": "stream",
     "text": [
      " 83%|████████▎ | 827/1000 [00:17<00:04, 43.18it/s]"
     ]
    },
    {
     "name": "stdout",
     "output_type": "stream",
     "text": [
      "[0.2        0.00021788]\n",
      "[0.2        0.07271964]\n",
      "[ 0.2 -0.2]\n",
      "[ 0.2        -0.15048666]\n",
      "[0.2        0.16548213]\n",
      "[0.2        0.17756891]\n",
      "[0.10475329 0.07084869]\n",
      "[0.1119507  0.02194494]\n",
      "[0.12553039 0.2       ]\n"
     ]
    },
    {
     "name": "stderr",
     "output_type": "stream",
     "text": [
      " 84%|████████▍ | 839/1000 [00:17<00:03, 48.64it/s]"
     ]
    },
    {
     "name": "stdout",
     "output_type": "stream",
     "text": [
      "[0.2 0.2]\n",
      "[0.2        0.08321945]\n",
      "[ 0.2        -0.03033028]\n",
      "[0.2        0.14064379]\n",
      "[0.2 0.2]\n",
      "[0.04524928 0.2       ]\n",
      "[ 0.18677118 -0.06983683]\n",
      "[0.0030762 0.2      ]\n",
      "[0.15516557 0.18058254]\n",
      "[0.2 0.2]\n",
      "[ 0.2        -0.12274492]\n"
     ]
    },
    {
     "name": "stderr",
     "output_type": "stream",
     "text": [
      " 85%|████████▌ | 851/1000 [00:18<00:03, 47.97it/s]"
     ]
    },
    {
     "name": "stdout",
     "output_type": "stream",
     "text": [
      "[ 0.17712653 -0.17118812]\n",
      "[0.2 0.2]\n",
      "[0.00790608 0.2       ]\n",
      "[0.13143131 0.2       ]\n",
      "[0.2 0.2]\n",
      "[0.2 0.2]\n",
      "[ 0.2        -0.05151208]\n",
      "[0.2       0.0538764]\n",
      "[0.2        0.04449832]\n"
     ]
    },
    {
     "name": "stderr",
     "output_type": "stream",
     "text": [
      " 86%|████████▌ | 856/1000 [00:18<00:03, 47.62it/s]"
     ]
    },
    {
     "name": "stdout",
     "output_type": "stream",
     "text": [
      "[ 0.18297419 -0.00907305]\n",
      "[0.2        0.04554094]\n",
      "[0.09027965 0.07294495]\n",
      "[ 0.2 -0.2]\n",
      "[0.15813747 0.1615673 ]\n",
      "[ 0.15674578 -0.05026638]\n",
      "[ 0.19471371 -0.08851209]\n",
      "[0.2 0.2]\n",
      "[0.2        0.07880911]\n",
      "[ 0.2 -0.2]\n"
     ]
    },
    {
     "name": "stderr",
     "output_type": "stream",
     "text": [
      " 87%|████████▋ | 866/1000 [00:18<00:02, 48.55it/s]"
     ]
    },
    {
     "name": "stdout",
     "output_type": "stream",
     "text": [
      "[0.2        0.16533732]\n",
      "[0.2        0.02882548]\n",
      "[ 0.2        -0.15126681]\n",
      "[ 0.19060542 -0.13514724]\n",
      "[0.2        0.12617159]\n",
      "[0.2        0.09640832]\n",
      "[-0.0389016  0.2      ]\n",
      "[ 0.2        -0.14035664]\n",
      "[0.16668916 0.2       ]\n"
     ]
    },
    {
     "name": "stderr",
     "output_type": "stream",
     "text": [
      " 88%|████████▊ | 876/1000 [00:18<00:02, 48.33it/s]"
     ]
    },
    {
     "name": "stdout",
     "output_type": "stream",
     "text": [
      "[0.2        0.19517124]\n",
      "[ 0.2        -0.16157953]\n",
      "[ 0.2 -0.2]\n",
      "[ 0.2        -0.01627435]\n",
      "[ 0.2        -0.02639567]\n",
      "[0.2 0.2]\n",
      "[ 0.2        -0.01022279]\n",
      "[0.2 0.2]\n",
      "[ 0.2        -0.00261488]\n",
      "[ 0.2        -0.01226595]\n",
      "[0.2 0.2]\n"
     ]
    },
    {
     "name": "stderr",
     "output_type": "stream",
     "text": [
      " 89%|████████▊ | 886/1000 [00:18<00:02, 48.16it/s]"
     ]
    },
    {
     "name": "stdout",
     "output_type": "stream",
     "text": [
      "[ 0.2 -0.2]\n",
      "[ 0.2        -0.10183505]\n",
      "[0.2        0.01979888]\n",
      "[0.2        0.16333118]\n",
      "[0.2        0.05808199]\n",
      "[0.12978464 0.14044213]\n",
      "[0.2        0.09458308]\n",
      "[0.2 0.2]\n",
      "[ 0.2        -0.03496413]\n",
      "[0.10396864 0.2       ]\n"
     ]
    },
    {
     "name": "stderr",
     "output_type": "stream",
     "text": [
      " 90%|████████▉ | 897/1000 [00:19<00:02, 46.65it/s]"
     ]
    },
    {
     "name": "stdout",
     "output_type": "stream",
     "text": [
      "[ 0.2        -0.18806303]\n",
      "[0.2 0.2]\n",
      "[0.2 0.2]\n",
      "[0.2 0.2]\n",
      "[0.2 0.2]\n",
      "[0.16292197 0.19198774]\n",
      "[0.2 0.2]\n",
      "[0.2        0.05823547]\n",
      "[0.2        0.08599584]\n",
      "[0.2 0.2]\n"
     ]
    },
    {
     "name": "stderr",
     "output_type": "stream",
     "text": [
      " 91%|█████████ | 907/1000 [00:19<00:02, 46.24it/s]"
     ]
    },
    {
     "name": "stdout",
     "output_type": "stream",
     "text": [
      "[0.2 0.2]\n",
      "[0.2        0.07172814]\n",
      "[0.2       0.0112666]\n",
      "[ 0.2        -0.05419649]\n",
      "[0.2 0.2]\n",
      "[0.2 0.2]\n",
      "[ 0.15060748 -0.03269003]\n",
      "[0.2        0.08049572]\n",
      "[0.2 0.2]\n",
      "[0.2 0.2]\n"
     ]
    },
    {
     "name": "stderr",
     "output_type": "stream",
     "text": [
      " 92%|█████████▏| 917/1000 [00:19<00:01, 43.23it/s]"
     ]
    },
    {
     "name": "stdout",
     "output_type": "stream",
     "text": [
      "[ 0.2        -0.08175797]\n",
      "[0.2        0.05066947]\n",
      "[ 0.2 -0.2]\n",
      "[ 0.2        -0.16909076]\n",
      "[ 0.2        -0.16103898]\n",
      "[ 0.2        -0.00952998]\n",
      "[ 0.2        -0.17407241]\n",
      "[ 0.2        -0.04272925]\n",
      "[ 0.2        -0.13817742]\n",
      "[ 0.2        -0.11098368]\n"
     ]
    },
    {
     "name": "stderr",
     "output_type": "stream",
     "text": [
      " 93%|█████████▎| 928/1000 [00:19<00:01, 47.34it/s]"
     ]
    },
    {
     "name": "stdout",
     "output_type": "stream",
     "text": [
      "[ 0.2 -0.2]\n",
      "[ 0.2 -0.2]\n",
      "[ 0.2        -0.12998548]\n",
      "[ 0.2 -0.2]\n",
      "[0.2        0.12506962]\n",
      "[ 0.2 -0.2]\n",
      "[0.2        0.07687962]\n",
      "[ 0.2        -0.09686363]\n",
      "[ 0.2 -0.2]\n",
      "[ 0.2 -0.2]\n"
     ]
    },
    {
     "name": "stderr",
     "output_type": "stream",
     "text": [
      " 94%|█████████▍| 939/1000 [00:20<00:01, 48.29it/s]"
     ]
    },
    {
     "name": "stdout",
     "output_type": "stream",
     "text": [
      "[ 0.2 -0.2]\n",
      "[ 0.2        -0.08318704]\n",
      "[ 0.2 -0.2]\n",
      "[ 0.2        -0.17049609]\n",
      "[0.2        0.13387766]\n",
      "[ 0.2        -0.12296233]\n",
      "[ 0.2        -0.14848989]\n",
      "[ 0.2        -0.00606324]\n",
      "[ 0.2        -0.09942155]\n",
      "[ 0.2 -0.2]\n"
     ]
    },
    {
     "name": "stderr",
     "output_type": "stream",
     "text": [
      " 95%|█████████▍| 949/1000 [00:20<00:01, 47.07it/s]"
     ]
    },
    {
     "name": "stdout",
     "output_type": "stream",
     "text": [
      "[0.2        0.17936888]\n",
      "[0.2        0.01727797]\n",
      "[0.2        0.06146954]\n",
      "[0.2        0.09548797]\n",
      "[0.2 0.2]\n",
      "[ 0.2        -0.09527285]\n",
      "[ 0.02038151 -0.16214067]\n",
      "[0.2        0.08759189]\n",
      "[0.18693411 0.04571755]\n",
      "[ 0.2       -0.1716704]\n"
     ]
    },
    {
     "name": "stderr",
     "output_type": "stream",
     "text": [
      " 96%|█████████▌| 959/1000 [00:20<00:00, 46.67it/s]"
     ]
    },
    {
     "name": "stdout",
     "output_type": "stream",
     "text": [
      "[0.2 0.2]\n",
      "[ 0.04652351 -0.16475332]\n",
      "[0.2 0.2]\n",
      "[-0.2  0.2]\n",
      "[0.19143862 0.02102783]\n",
      "[-0.12840143  0.2       ]\n",
      "[0.2 0.2]\n",
      "[0.2 0.2]\n",
      "[0.2 0.2]\n",
      "[0.12169234 0.05209896]\n"
     ]
    },
    {
     "name": "stderr",
     "output_type": "stream",
     "text": [
      " 97%|█████████▋| 970/1000 [00:20<00:00, 47.83it/s]"
     ]
    },
    {
     "name": "stdout",
     "output_type": "stream",
     "text": [
      "[0.2 0.2]\n",
      "[0.08591759 0.11044714]\n",
      "[0.2 0.2]\n",
      "[0.03071851 0.2       ]\n",
      "[0.2 0.2]\n",
      "[0.030093 0.2     ]\n",
      "[0.04504636 0.09301438]\n",
      "[0.2 0.2]\n",
      "[0.10861254 0.2       ]\n",
      "[ 0.2        -0.09829509]\n"
     ]
    },
    {
     "name": "stderr",
     "output_type": "stream",
     "text": [
      " 98%|█████████▊| 980/1000 [00:20<00:00, 46.95it/s]"
     ]
    },
    {
     "name": "stdout",
     "output_type": "stream",
     "text": [
      "[0.2 0.2]\n",
      "[0.2 0.2]\n",
      "[0.05832562 0.10408667]\n",
      "[0.2        0.03450052]\n",
      "[0.2 0.2]\n",
      "[0.2 0.2]\n",
      "[0.2       0.1101563]\n",
      "[0.2        0.14934301]\n",
      "[ 0.2 -0.2]\n",
      "[ 0.2        -0.08882154]\n"
     ]
    },
    {
     "name": "stderr",
     "output_type": "stream",
     "text": [
      " 99%|█████████▉| 990/1000 [00:21<00:00, 47.19it/s]"
     ]
    },
    {
     "name": "stdout",
     "output_type": "stream",
     "text": [
      "[ 0.2 -0.2]\n",
      "[ 0.2 -0.2]\n",
      "[ 0.2        -0.01290072]\n",
      "[ 0.2       -0.0266749]\n",
      "[ 0.2 -0.2]\n",
      "[ 0.2 -0.2]\n",
      "[ 0.2        -0.08778167]\n",
      "[ 0.2 -0.2]\n",
      "[ 0.2 -0.2]\n",
      "[0.2 0.2]\n"
     ]
    },
    {
     "name": "stderr",
     "output_type": "stream",
     "text": [
      "100%|██████████| 1000/1000 [00:21<00:00, 45.86it/s]"
     ]
    },
    {
     "name": "stdout",
     "output_type": "stream",
     "text": [
      "[ 0.2 -0.2]\n",
      "[ 0.2        -0.13984011]\n",
      "[ 0.15507758 -0.2       ]\n",
      "[ 0.2        -0.15264311]\n",
      "[0.2        0.05024985]\n",
      "[ 0.2        -0.09882186]\n",
      "[ 0.2        -0.06258795]\n",
      "[0.17372039 0.2       ]\n",
      "[0.1855225  0.05731741]\n"
     ]
    },
    {
     "name": "stderr",
     "output_type": "stream",
     "text": [
      "100%|██████████| 1000/1000 [00:21<00:00, 46.79it/s]\n",
      "  1%|          | 6/1000 [00:00<00:19, 51.47it/s]"
     ]
    },
    {
     "name": "stdout",
     "output_type": "stream",
     "text": [
      "[ 0.2 -0.2]\n",
      "[ 0.2 -0.2]\n",
      "[ 0.2 -0.2]\n",
      "[ 0.2 -0.2]\n",
      "[ 0.2 -0.2]\n",
      "[ 0.2 -0.2]\n",
      "[ 0.2 -0.2]\n",
      "[ 0.2 -0.2]\n",
      "[ 0.2 -0.2]\n",
      "[ 0.2 -0.2]\n"
     ]
    },
    {
     "name": "stderr",
     "output_type": "stream",
     "text": [
      "  2%|▏         | 18/1000 [00:00<00:19, 50.06it/s]"
     ]
    },
    {
     "name": "stdout",
     "output_type": "stream",
     "text": [
      "[ 0.2 -0.2]\n",
      "[ 0.2 -0.2]\n",
      "[ 0.2 -0.2]\n",
      "[ 0.2 -0.2]\n",
      "[ 0.2 -0.2]\n",
      "[ 0.2 -0.2]\n",
      "[ 0.2 -0.2]\n",
      "[ 0.2 -0.2]\n",
      "[ 0.2 -0.2]\n",
      "[ 0.2 -0.2]\n",
      "[ 0.2 -0.2]\n"
     ]
    },
    {
     "name": "stderr",
     "output_type": "stream",
     "text": [
      "  3%|▎         | 29/1000 [00:00<00:20, 47.97it/s]"
     ]
    },
    {
     "name": "stdout",
     "output_type": "stream",
     "text": [
      "[ 0.2 -0.2]\n",
      "[ 0.2 -0.2]\n",
      "[ 0.2 -0.2]\n",
      "[ 0.2 -0.2]\n",
      "[ 0.2 -0.2]\n",
      "[ 0.2 -0.2]\n",
      "[ 0.2 -0.2]\n",
      "[ 0.2 -0.2]\n",
      "[ 0.2 -0.2]\n",
      "[ 0.2 -0.2]\n"
     ]
    },
    {
     "name": "stderr",
     "output_type": "stream",
     "text": [
      "  4%|▎         | 35/1000 [00:00<00:20, 48.12it/s]"
     ]
    },
    {
     "name": "stdout",
     "output_type": "stream",
     "text": [
      "[ 0.2 -0.2]\n",
      "[ 0.2 -0.2]\n",
      "[ 0.2 -0.2]\n",
      "[ 0.2 -0.2]\n",
      "[ 0.2 -0.2]\n",
      "[ 0.2 -0.2]\n",
      "[ 0.2 -0.2]\n",
      "[ 0.2 -0.2]\n",
      "[ 0.2 -0.2]\n",
      "[ 0.2 -0.2]\n"
     ]
    },
    {
     "name": "stderr",
     "output_type": "stream",
     "text": [
      "  5%|▍         | 46/1000 [00:00<00:20, 47.45it/s]"
     ]
    },
    {
     "name": "stdout",
     "output_type": "stream",
     "text": [
      "[ 0.2 -0.2]\n",
      "[ 0.2 -0.2]\n",
      "[ 0.2 -0.2]\n",
      "[ 0.2 -0.2]\n",
      "[ 0.2 -0.2]\n",
      "[ 0.2 -0.2]\n",
      "[ 0.2 -0.2]\n",
      "[ 0.2 -0.2]\n",
      "[ 0.2 -0.2]\n"
     ]
    },
    {
     "name": "stderr",
     "output_type": "stream",
     "text": [
      "  6%|▌         | 56/1000 [00:01<00:20, 46.81it/s]"
     ]
    },
    {
     "name": "stdout",
     "output_type": "stream",
     "text": [
      "[ 0.2 -0.2]\n",
      "[ 0.2 -0.2]\n",
      "[ 0.2 -0.2]\n",
      "[ 0.2 -0.2]\n",
      "[ 0.2 -0.2]\n",
      "[ 0.2 -0.2]\n",
      "[ 0.2 -0.2]\n",
      "[ 0.2 -0.2]\n",
      "[ 0.2 -0.2]\n",
      "[ 0.2 -0.2]\n"
     ]
    },
    {
     "name": "stderr",
     "output_type": "stream",
     "text": [
      "  7%|▋         | 66/1000 [00:01<00:20, 46.59it/s]"
     ]
    },
    {
     "name": "stdout",
     "output_type": "stream",
     "text": [
      "[ 0.2 -0.2]\n",
      "[ 0.2 -0.2]\n",
      "[ 0.2 -0.2]\n",
      "[ 0.2 -0.2]\n",
      "[ 0.2 -0.2]\n",
      "[ 0.2 -0.2]\n",
      "[ 0.2 -0.2]\n",
      "[ 0.2 -0.2]\n",
      "[ 0.2 -0.2]\n",
      "[ 0.2 -0.2]\n"
     ]
    },
    {
     "name": "stderr",
     "output_type": "stream",
     "text": [
      "  8%|▊         | 76/1000 [00:01<00:19, 47.20it/s]"
     ]
    },
    {
     "name": "stdout",
     "output_type": "stream",
     "text": [
      "[ 0.2 -0.2]\n",
      "[ 0.2 -0.2]\n",
      "[ 0.2 -0.2]\n",
      "[ 0.2 -0.2]\n",
      "[ 0.2 -0.2]\n",
      "[ 0.2 -0.2]\n",
      "[ 0.2 -0.2]\n",
      "[ 0.2 -0.2]\n",
      "[ 0.2 -0.2]\n",
      "[ 0.2 -0.2]\n"
     ]
    },
    {
     "name": "stderr",
     "output_type": "stream",
     "text": [
      "  9%|▊         | 86/1000 [00:01<00:20, 43.76it/s]"
     ]
    },
    {
     "name": "stdout",
     "output_type": "stream",
     "text": [
      "[ 0.2 -0.2]\n",
      "[ 0.2 -0.2]\n",
      "[ 0.2 -0.2]\n",
      "[ 0.2 -0.2]\n",
      "[ 0.2 -0.2]\n",
      "[ 0.2 -0.2]\n",
      "[ 0.2 -0.2]\n",
      "[ 0.2 -0.2]\n",
      "[ 0.2 -0.2]\n",
      "[ 0.2 -0.2]\n"
     ]
    },
    {
     "name": "stderr",
     "output_type": "stream",
     "text": [
      " 10%|▉         | 98/1000 [00:02<00:18, 48.23it/s]"
     ]
    },
    {
     "name": "stdout",
     "output_type": "stream",
     "text": [
      "[ 0.2 -0.2]\n",
      "[ 0.2 -0.2]\n",
      "[ 0.2 -0.2]\n",
      "[ 0.2 -0.2]\n",
      "[ 0.2 -0.2]\n",
      "[ 0.2 -0.2]\n",
      "[ 0.2 -0.2]\n",
      "[ 0.2 -0.2]\n",
      "[ 0.2 -0.2]\n",
      "[ 0.2 -0.2]\n",
      "[ 0.2 -0.2]\n"
     ]
    },
    {
     "name": "stderr",
     "output_type": "stream",
     "text": [
      " 11%|█         | 108/1000 [00:02<00:18, 48.23it/s]"
     ]
    },
    {
     "name": "stdout",
     "output_type": "stream",
     "text": [
      "[ 0.2 -0.2]\n",
      "[ 0.2 -0.2]\n",
      "[ 0.2 -0.2]\n",
      "[ 0.2 -0.2]\n",
      "[ 0.2 -0.2]\n",
      "[ 0.2 -0.2]\n",
      "[ 0.2 -0.2]\n",
      "[ 0.2 -0.2]\n",
      "[ 0.2 -0.2]\n",
      "[ 0.2 -0.2]\n"
     ]
    },
    {
     "name": "stderr",
     "output_type": "stream",
     "text": [
      " 12%|█▏        | 118/1000 [00:02<00:18, 47.16it/s]"
     ]
    },
    {
     "name": "stdout",
     "output_type": "stream",
     "text": [
      "[ 0.2 -0.2]\n",
      "[ 0.2 -0.2]\n",
      "[ 0.2 -0.2]\n",
      "[ 0.2 -0.2]\n",
      "[ 0.2 -0.2]\n",
      "[ 0.2 -0.2]\n",
      "[ 0.2 -0.2]\n",
      "[ 0.2 -0.2]\n",
      "[ 0.2 -0.2]\n",
      "[ 0.2 -0.2]\n"
     ]
    },
    {
     "name": "stderr",
     "output_type": "stream",
     "text": [
      " 13%|█▎        | 129/1000 [00:02<00:18, 47.83it/s]"
     ]
    },
    {
     "name": "stdout",
     "output_type": "stream",
     "text": [
      "[ 0.2 -0.2]\n",
      "[ 0.2 -0.2]\n",
      "[ 0.2 -0.2]\n",
      "[ 0.2 -0.2]\n",
      "[ 0.2 -0.2]\n",
      "[ 0.2 -0.2]\n",
      "[ 0.2 -0.2]\n",
      "[ 0.2 -0.2]\n",
      "[ 0.2 -0.2]\n",
      "[ 0.2 -0.2]\n",
      "[ 0.2 -0.2]\n"
     ]
    },
    {
     "name": "stderr",
     "output_type": "stream",
     "text": [
      " 14%|█▍        | 140/1000 [00:02<00:17, 48.33it/s]"
     ]
    },
    {
     "name": "stdout",
     "output_type": "stream",
     "text": [
      "[ 0.2 -0.2]\n",
      "[ 0.2 -0.2]\n",
      "[ 0.2 -0.2]\n",
      "[ 0.2 -0.2]\n",
      "[ 0.2 -0.2]\n",
      "[ 0.2 -0.2]\n",
      "[ 0.2 -0.2]\n",
      "[ 0.2 -0.2]\n",
      "[ 0.2 -0.2]\n",
      "[ 0.2 -0.2]\n",
      "[ 0.2 -0.2]\n"
     ]
    },
    {
     "name": "stderr",
     "output_type": "stream",
     "text": [
      " 15%|█▌        | 151/1000 [00:03<00:17, 47.77it/s]"
     ]
    },
    {
     "name": "stdout",
     "output_type": "stream",
     "text": [
      "[ 0.2 -0.2]\n",
      "[ 0.2 -0.2]\n",
      "[ 0.2 -0.2]\n",
      "[ 0.2 -0.2]\n",
      "[ 0.2 -0.2]\n",
      "[ 0.2 -0.2]\n",
      "[ 0.2 -0.2]\n",
      "[ 0.2 -0.2]\n",
      "[ 0.2 -0.2]\n",
      "[ 0.2 -0.2]\n"
     ]
    },
    {
     "name": "stderr",
     "output_type": "stream",
     "text": [
      " 16%|█▌        | 162/1000 [00:03<00:18, 44.58it/s]"
     ]
    },
    {
     "name": "stdout",
     "output_type": "stream",
     "text": [
      "[ 0.2 -0.2]\n",
      "[ 0.2 -0.2]\n",
      "[ 0.2 -0.2]\n",
      "[ 0.2 -0.2]\n",
      "[ 0.2 -0.2]\n",
      "[ 0.2 -0.2]\n",
      "[ 0.2 -0.2]\n",
      "[ 0.2 -0.2]\n",
      "[ 0.2 -0.2]\n"
     ]
    },
    {
     "name": "stderr",
     "output_type": "stream",
     "text": [
      " 17%|█▋        | 173/1000 [00:03<00:17, 47.08it/s]"
     ]
    },
    {
     "name": "stdout",
     "output_type": "stream",
     "text": [
      "[ 0.2 -0.2]\n",
      "[ 0.2 -0.2]\n",
      "[ 0.2 -0.2]\n",
      "[ 0.2 -0.2]\n",
      "[ 0.2 -0.2]\n",
      "[ 0.2 -0.2]\n",
      "[ 0.2 -0.2]\n",
      "[ 0.2 -0.2]\n",
      "[ 0.2 -0.2]\n",
      "[ 0.2 -0.2]\n",
      "[ 0.2 -0.2]\n"
     ]
    },
    {
     "name": "stderr",
     "output_type": "stream",
     "text": [
      " 18%|█▊        | 183/1000 [00:03<00:17, 47.59it/s]"
     ]
    },
    {
     "name": "stdout",
     "output_type": "stream",
     "text": [
      "[ 0.2 -0.2]\n",
      "[ 0.2 -0.2]\n",
      "[ 0.2 -0.2]\n",
      "[ 0.2 -0.2]\n",
      "[ 0.2 -0.2]\n",
      "[ 0.2 -0.2]\n",
      "[ 0.2 -0.2]\n",
      "[ 0.2 -0.2]\n",
      "[ 0.2 -0.2]\n",
      "[ 0.2 -0.2]\n"
     ]
    },
    {
     "name": "stderr",
     "output_type": "stream",
     "text": [
      " 19%|█▉        | 188/1000 [00:03<00:16, 47.98it/s]"
     ]
    },
    {
     "name": "stdout",
     "output_type": "stream",
     "text": [
      "[ 0.2 -0.2]\n",
      "[ 0.2 -0.2]\n",
      "[ 0.2 -0.2]\n",
      "[ 0.2 -0.2]\n",
      "[ 0.2 -0.2]\n",
      "[ 0.2 -0.2]\n",
      "[ 0.2 -0.2]\n",
      "[ 0.2 -0.2]\n",
      "[ 0.2 -0.2]\n",
      "[ 0.2 -0.2]\n"
     ]
    },
    {
     "name": "stderr",
     "output_type": "stream",
     "text": [
      " 20%|█▉        | 198/1000 [00:04<00:16, 48.05it/s]"
     ]
    },
    {
     "name": "stdout",
     "output_type": "stream",
     "text": [
      "[ 0.2 -0.2]\n",
      "[ 0.2 -0.2]\n",
      "[ 0.2 -0.2]\n",
      "[ 0.2 -0.2]\n",
      "[ 0.2 -0.2]\n",
      "[ 0.2 -0.2]\n",
      "[ 0.2 -0.2]\n",
      "[ 0.2 -0.2]\n",
      "[ 0.2 -0.2]\n"
     ]
    },
    {
     "name": "stderr",
     "output_type": "stream",
     "text": [
      " 21%|██        | 208/1000 [00:04<00:16, 47.09it/s]"
     ]
    },
    {
     "name": "stdout",
     "output_type": "stream",
     "text": [
      "[ 0.2 -0.2]\n",
      "[ 0.2 -0.2]\n",
      "[ 0.2 -0.2]\n",
      "[ 0.2 -0.2]\n",
      "[ 0.2 -0.2]\n",
      "[ 0.2 -0.2]\n",
      "[ 0.2 -0.2]\n",
      "[ 0.2 -0.2]\n",
      "[ 0.2 -0.2]\n",
      "[ 0.2 -0.2]\n"
     ]
    },
    {
     "name": "stderr",
     "output_type": "stream",
     "text": [
      " 22%|██▏       | 218/1000 [00:04<00:16, 47.66it/s]"
     ]
    },
    {
     "name": "stdout",
     "output_type": "stream",
     "text": [
      "[ 0.2 -0.2]\n",
      "[ 0.2 -0.2]\n",
      "[ 0.2 -0.2]\n",
      "[ 0.2 -0.2]\n",
      "[ 0.2 -0.2]\n",
      "[ 0.2 -0.2]\n",
      "[ 0.2 -0.2]\n",
      "[ 0.2 -0.2]\n",
      "[ 0.2 -0.2]\n",
      "[ 0.2 -0.2]\n"
     ]
    },
    {
     "name": "stderr",
     "output_type": "stream",
     "text": [
      " 23%|██▎       | 228/1000 [00:04<00:16, 46.84it/s]"
     ]
    },
    {
     "name": "stdout",
     "output_type": "stream",
     "text": [
      "[ 0.2 -0.2]\n",
      "[ 0.2 -0.2]\n",
      "[ 0.2 -0.2]\n",
      "[ 0.2 -0.2]\n",
      "[ 0.2 -0.2]\n",
      "[0.12665698 0.03089605]\n",
      "[ 0.2        -0.00404283]\n",
      "[0.2 0.2]\n",
      "[0.2        0.07761957]\n",
      "[0.2        0.02409813]\n"
     ]
    },
    {
     "name": "stderr",
     "output_type": "stream",
     "text": [
      " 24%|██▍       | 238/1000 [00:05<00:17, 42.74it/s]"
     ]
    },
    {
     "name": "stdout",
     "output_type": "stream",
     "text": [
      "[0.2        0.16382605]\n",
      "[0.2        0.06692213]\n",
      "[0.2 0.2]\n",
      "[0.04232585 0.13193506]\n",
      "[0.2        0.01878249]\n",
      "[ 0.2 -0.2]\n",
      "[ 0.2        -0.15471554]\n",
      "[0.2 0.2]\n"
     ]
    },
    {
     "name": "stderr",
     "output_type": "stream",
     "text": [
      " 25%|██▌       | 250/1000 [00:05<00:15, 47.68it/s]"
     ]
    },
    {
     "name": "stdout",
     "output_type": "stream",
     "text": [
      "[0.2 0.2]\n",
      "[ 0.2        -0.18620576]\n",
      "[0.2        0.00370163]\n",
      "[0.2 0.2]\n",
      "[0.2 0.2]\n",
      "[ 0.2        -0.14052166]\n",
      "[ 0.2        -0.07181685]\n",
      "[0.2 0.2]\n",
      "[0.2        0.01245687]\n",
      "[ 0.2        -0.02439676]\n",
      "[0.2        0.08644488]\n",
      "[ 0.2        -0.08129761]\n"
     ]
    },
    {
     "name": "stderr",
     "output_type": "stream",
     "text": [
      " 26%|██▌       | 262/1000 [00:05<00:15, 47.74it/s]"
     ]
    },
    {
     "name": "stdout",
     "output_type": "stream",
     "text": [
      "[0.2        0.19474754]\n",
      "[ 0.2        -0.04184041]\n",
      "[0.2 0.2]\n",
      "[ 0.2        -0.07951143]\n",
      "[ 0.2 -0.2]\n",
      "[ 0.2        -0.07170225]\n",
      "[ 0.2 -0.2]\n",
      "[ 0.2        -0.02336974]\n",
      "[ 0.2        -0.00407274]\n",
      "[0.2        0.12882394]\n"
     ]
    },
    {
     "name": "stderr",
     "output_type": "stream",
     "text": [
      " 27%|██▋       | 268/1000 [00:05<00:15, 47.93it/s]"
     ]
    },
    {
     "name": "stdout",
     "output_type": "stream",
     "text": [
      "[ 0.2        -0.01005419]\n",
      "[0.2        0.15724798]\n",
      "[0.2 0.2]\n",
      "[ 0.2        -0.00257023]\n",
      "[0.2        0.03809579]\n",
      "[ 0.2        -0.16711858]\n",
      "[0.2 0.2]\n",
      "[ 0.2        -0.02732315]\n",
      "[0.2        0.10891373]\n",
      "[0.2        0.08271971]\n"
     ]
    },
    {
     "name": "stderr",
     "output_type": "stream",
     "text": [
      " 28%|██▊       | 278/1000 [00:05<00:15, 47.86it/s]"
     ]
    },
    {
     "name": "stdout",
     "output_type": "stream",
     "text": [
      "[0.2 0.2]\n",
      "[0.2 0.2]\n",
      "[ 0.2        -0.08340126]\n",
      "[0.191907 0.2     ]\n",
      "[-0.01023865 -0.12452456]\n",
      "[0.2 0.2]\n",
      "[ 0.13213506 -0.06168243]\n",
      "[0.2        0.13286667]\n",
      "[0.2 0.2]\n"
     ]
    },
    {
     "name": "stderr",
     "output_type": "stream",
     "text": [
      " 29%|██▉       | 288/1000 [00:06<00:15, 46.93it/s]"
     ]
    },
    {
     "name": "stdout",
     "output_type": "stream",
     "text": [
      "[0.17793089 0.17746684]\n",
      "[0.2        0.01319198]\n",
      "[0.04108247 0.08530336]\n",
      "[0.2 0.2]\n",
      "[ 0.04235356 -0.06486815]\n",
      "[0.2        0.06743835]\n",
      "[0.17165014 0.17304008]\n",
      "[0.10051067 0.2       ]\n",
      "[0.2 0.2]\n",
      "[0.2 0.2]\n"
     ]
    },
    {
     "name": "stderr",
     "output_type": "stream",
     "text": [
      " 30%|██▉       | 299/1000 [00:06<00:14, 46.90it/s]"
     ]
    },
    {
     "name": "stdout",
     "output_type": "stream",
     "text": [
      "[0.2        0.11895576]\n",
      "[0.2 0.2]\n",
      "[0.2        0.19985072]\n",
      "[0.0775824  0.17733736]\n",
      "[0.2        0.04623573]\n",
      "[0.2        0.19999656]\n",
      "[0.2 0.2]\n",
      "[0.2 0.2]\n",
      "[ 0.2        -0.02480216]\n",
      "[0.12242949 0.2       ]\n"
     ]
    },
    {
     "name": "stderr",
     "output_type": "stream",
     "text": [
      " 30%|███       | 304/1000 [00:06<00:15, 45.65it/s]"
     ]
    },
    {
     "name": "stdout",
     "output_type": "stream",
     "text": [
      "[0.2        0.01094811]\n",
      "[0.09575251 0.16869876]\n",
      "[ 0.2        -0.01316138]\n",
      "[0.2 0.2]\n",
      "[0.2 0.2]\n",
      "[ 0.2        -0.01269491]\n",
      "[0.2        0.11807245]\n",
      "[0.2 0.2]\n",
      "[ 0.2 -0.2]\n"
     ]
    },
    {
     "name": "stderr",
     "output_type": "stream",
     "text": [
      " 32%|███▏      | 321/1000 [00:06<00:14, 46.58it/s]"
     ]
    },
    {
     "name": "stdout",
     "output_type": "stream",
     "text": [
      "[ 0.2        -0.00854045]\n",
      "[0.2        0.02333092]\n",
      "[ 0.2        -0.09849687]\n",
      "[0.2 0.2]\n",
      "[ 0.2        -0.07817789]\n",
      "[ 0.2        -0.09968121]\n",
      "[ 0.2        -0.10818728]\n",
      "[0.2        0.06952579]\n",
      "[ 0.2        -0.11738015]\n",
      "[ 0.2        -0.00742315]\n",
      "[0.2 0.2]\n"
     ]
    },
    {
     "name": "stderr",
     "output_type": "stream",
     "text": [
      " 33%|███▎      | 327/1000 [00:06<00:14, 47.98it/s]"
     ]
    },
    {
     "name": "stdout",
     "output_type": "stream",
     "text": [
      "[0.2        0.02373737]\n",
      "[0.2 0.2]\n",
      "[ 0.05034137 -0.2       ]\n",
      "[0.2        0.13973033]\n",
      "[0.18305442 0.2       ]\n",
      "[0.05131581 0.13976811]\n",
      "[0.2 0.2]\n",
      "[0.2 0.2]\n",
      "[0.2 0.2]\n",
      "[0.2 0.2]\n"
     ]
    },
    {
     "name": "stderr",
     "output_type": "stream",
     "text": [
      " 34%|███▍      | 338/1000 [00:07<00:13, 48.34it/s]"
     ]
    },
    {
     "name": "stdout",
     "output_type": "stream",
     "text": [
      "[0.2        0.12471952]\n",
      "[0.2        0.07969338]\n",
      "[ 0.2        -0.02308811]\n",
      "[0.02644357 0.2       ]\n",
      "[0.2 0.2]\n",
      "[0.1350263  0.13774636]\n",
      "[0.2 0.2]\n",
      "[-0.03511992  0.2       ]\n",
      "[0.2        0.00187808]\n",
      "[0.2 0.2]\n",
      "[0.2 0.2]\n"
     ]
    },
    {
     "name": "stderr",
     "output_type": "stream",
     "text": [
      " 35%|███▍      | 349/1000 [00:07<00:13, 48.15it/s]"
     ]
    },
    {
     "name": "stdout",
     "output_type": "stream",
     "text": [
      "[ 0.2        -0.13128406]\n",
      "[0.127461   0.07935931]\n",
      "[0.2 0.2]\n",
      "[ 0.2        -0.11932045]\n",
      "[0.2        0.19813225]\n",
      "[0.2 0.2]\n",
      "[-0.07431737  0.08645382]\n",
      "[-0.0132077   0.00577615]\n",
      "[ 0.05815437 -0.17700651]\n",
      "[0.2        0.11201516]\n",
      "[0.2        0.10051873]\n"
     ]
    },
    {
     "name": "stderr",
     "output_type": "stream",
     "text": [
      " 36%|███▌      | 360/1000 [00:07<00:13, 47.75it/s]"
     ]
    },
    {
     "name": "stdout",
     "output_type": "stream",
     "text": [
      "[ 0.2 -0.2]\n",
      "[0.2        0.05299469]\n",
      "[ 0.2 -0.2]\n",
      "[ 0.2        -0.00992758]\n",
      "[0.2        0.12805538]\n",
      "[ 0.09328416 -0.1977791 ]\n",
      "[ 0.2 -0.2]\n",
      "[ 0.2        -0.12591998]\n",
      "[ 0.2        -0.09625992]\n"
     ]
    },
    {
     "name": "stderr",
     "output_type": "stream",
     "text": [
      " 37%|███▋      | 371/1000 [00:07<00:13, 48.25it/s]"
     ]
    },
    {
     "name": "stdout",
     "output_type": "stream",
     "text": [
      "[ 0.2        -0.13414972]\n",
      "[ 0.2        -0.08284668]\n",
      "[0.2        0.02231371]\n",
      "[0.2        0.08239286]\n",
      "[ 0.2 -0.2]\n",
      "[0.2        0.10022676]\n",
      "[ 0.2       -0.1212307]\n",
      "[ 0.2        -0.04200307]\n",
      "[ 0.2       -0.0933727]\n",
      "[0.2        0.00615758]\n"
     ]
    },
    {
     "name": "stderr",
     "output_type": "stream",
     "text": [
      " 38%|███▊      | 381/1000 [00:08<00:12, 48.29it/s]"
     ]
    },
    {
     "name": "stdout",
     "output_type": "stream",
     "text": [
      "[0.2        0.05199528]\n",
      "[ 0.2        -0.15907617]\n",
      "[ 0.2 -0.2]\n",
      "[ 0.2        -0.05226199]\n",
      "[ 0.2 -0.2]\n",
      "[ 0.2        -0.13878724]\n",
      "[ 0.2 -0.2]\n",
      "[ 0.2        -0.08048449]\n",
      "[0.2 0.2]\n",
      "[ 0.2       -0.1773791]\n"
     ]
    },
    {
     "name": "stderr",
     "output_type": "stream",
     "text": [
      " 39%|███▊      | 386/1000 [00:08<00:14, 43.70it/s]"
     ]
    },
    {
     "name": "stdout",
     "output_type": "stream",
     "text": [
      "[0.2 0.2]\n",
      "[0.2        0.07070106]\n",
      "[ 0.2        -0.11651314]\n",
      "[0.2        0.07560447]\n",
      "[0.2       0.0334852]\n",
      "[ 0.2        -0.10707015]\n",
      "[0.2        0.05118706]\n",
      "[0.2       0.1255272]\n",
      "[0.1569515 0.2      ]\n"
     ]
    },
    {
     "name": "stderr",
     "output_type": "stream",
     "text": [
      " 40%|███▉      | 397/1000 [00:08<00:12, 47.09it/s]"
     ]
    },
    {
     "name": "stdout",
     "output_type": "stream",
     "text": [
      "[ 0.2       -0.0145117]\n",
      "[ 0.2        -0.15310639]\n",
      "[0.2        0.08286427]\n",
      "[-0.01516417  0.2       ]\n",
      "[ 0.12593356 -0.06994849]\n",
      "[0.0792772 0.2      ]\n",
      "[0.2 0.2]\n",
      "[0.05378992 0.2       ]\n",
      "[0.2 0.2]\n",
      "[0.2 0.2]\n",
      "[0.2 0.2]\n"
     ]
    },
    {
     "name": "stderr",
     "output_type": "stream",
     "text": [
      " 41%|████      | 408/1000 [00:08<00:12, 47.66it/s]"
     ]
    },
    {
     "name": "stdout",
     "output_type": "stream",
     "text": [
      "[0.2 0.2]\n",
      "[0.08090662 0.2       ]\n",
      "[0.0844242 0.2      ]\n",
      "[0.2 0.2]\n",
      "[0.2        0.04205658]\n",
      "[0.2        0.10305926]\n",
      "[0.2 0.2]\n",
      "[0.2        0.10402671]\n",
      "[0.2 0.2]\n",
      "[0.11264941 0.12951124]\n"
     ]
    },
    {
     "name": "stderr",
     "output_type": "stream",
     "text": [
      " 42%|████▏     | 420/1000 [00:08<00:12, 47.95it/s]"
     ]
    },
    {
     "name": "stdout",
     "output_type": "stream",
     "text": [
      "[0.2        0.10539752]\n",
      "[0.2        0.08635716]\n",
      "[0.2        0.10928138]\n",
      "[0.2 0.2]\n",
      "[ 0.2        -0.08620261]\n",
      "[0.2        0.07546795]\n",
      "[ 0.2       -0.0567334]\n",
      "[ 0.2        -0.00849277]\n",
      "[0.2        0.06778668]\n",
      "[ 0.2        -0.00487742]\n",
      "[ 0.2        -0.18822101]\n"
     ]
    },
    {
     "name": "stderr",
     "output_type": "stream",
     "text": [
      " 43%|████▎     | 431/1000 [00:09<00:11, 48.25it/s]"
     ]
    },
    {
     "name": "stdout",
     "output_type": "stream",
     "text": [
      "[ 0.2        -0.18726456]\n",
      "[ 0.2 -0.2]\n",
      "[ 0.2        -0.12441266]\n",
      "[0.2        0.01452498]\n",
      "[ 0.2        -0.16844699]\n",
      "[ 0.2 -0.2]\n",
      "[0.2 0.2]\n",
      "[ 0.2        -0.16966549]\n",
      "[ 0.2 -0.2]\n",
      "[ 0.2        -0.05821093]\n"
     ]
    },
    {
     "name": "stderr",
     "output_type": "stream",
     "text": [
      " 44%|████▍     | 441/1000 [00:09<00:11, 48.09it/s]"
     ]
    },
    {
     "name": "stdout",
     "output_type": "stream",
     "text": [
      "[0.2        0.14646095]\n",
      "[ 0.2        -0.07848154]\n",
      "[0.2        0.08044773]\n",
      "[0.2        0.12205163]\n",
      "[0.2        0.02288847]\n",
      "[0.2        0.06006023]\n",
      "[ 0.2        -0.09340486]\n",
      "[0.2 0.2]\n",
      "[ 0.2 -0.2]\n",
      "[ 0.2       -0.1497046]\n"
     ]
    },
    {
     "name": "stderr",
     "output_type": "stream",
     "text": [
      " 45%|████▌     | 452/1000 [00:09<00:11, 47.61it/s]"
     ]
    },
    {
     "name": "stdout",
     "output_type": "stream",
     "text": [
      "[0.2 0.2]\n",
      "[0.2 0.2]\n",
      "[0.2 0.2]\n",
      "[0.18574211 0.2       ]\n",
      "[ 0.00599669 -0.04400596]\n",
      "[0.14349467 0.15203628]\n",
      "[-0.2  0.2]\n",
      "[-0.11871434 -0.01803941]\n",
      "[-0.01696387  0.19221479]\n"
     ]
    },
    {
     "name": "stderr",
     "output_type": "stream",
     "text": [
      " 46%|████▌     | 457/1000 [00:09<00:11, 48.23it/s]"
     ]
    },
    {
     "name": "stdout",
     "output_type": "stream",
     "text": [
      "[-0.04404467  0.2       ]\n",
      "[-0.08996051  0.2       ]\n",
      "[-0.08908283  0.2       ]\n",
      "[-0.2  0.2]\n",
      "[-0.18662491  0.2       ]\n",
      "[-0.2  0.2]\n",
      "[-0.19622472  0.2       ]\n",
      "[-0.00609019  0.2       ]\n",
      "[0.2 0.2]\n"
     ]
    },
    {
     "name": "stderr",
     "output_type": "stream",
     "text": [
      " 47%|████▋     | 468/1000 [00:09<00:12, 43.32it/s]"
     ]
    },
    {
     "name": "stdout",
     "output_type": "stream",
     "text": [
      "[-0.2  0.2]\n",
      "[-0.2  0.2]\n",
      "[-0.2  0.2]\n",
      "[-0.10805012  0.2       ]\n",
      "[-0.01977089  0.2       ]\n",
      "[-0.13411506  0.2       ]\n",
      "[0.07448787 0.2       ]\n",
      "[0.13991039 0.2       ]\n"
     ]
    },
    {
     "name": "stderr",
     "output_type": "stream",
     "text": [
      " 47%|████▋     | 474/1000 [00:10<00:11, 46.12it/s]"
     ]
    },
    {
     "name": "stdout",
     "output_type": "stream",
     "text": [
      "[0.04407157 0.08657822]\n",
      "[-0.07867207  0.15147822]\n",
      "[0.2        0.14381412]\n",
      "[ 0.13015255 -0.03853115]\n",
      "[0.2 0.2]\n",
      "[0.2        0.04688075]\n",
      "[ 0.2      -0.123983]\n",
      "[ 0.2        -0.13883287]\n",
      "[ 0.2        -0.00786799]\n",
      "[ 0.2        -0.16289316]\n"
     ]
    },
    {
     "name": "stderr",
     "output_type": "stream",
     "text": [
      " 48%|████▊     | 484/1000 [00:10<00:11, 46.68it/s]"
     ]
    },
    {
     "name": "stdout",
     "output_type": "stream",
     "text": [
      "[0.2       0.1272054]\n",
      "[ 0.2        -0.11299102]\n",
      "[ 0.2 -0.2]\n",
      "[ 0.2       -0.1931741]\n",
      "[ 0.2 -0.2]\n",
      "[ 0.2 -0.2]\n",
      "[ 0.2        -0.19792955]\n",
      "[ 0.2 -0.2]\n",
      "[ 0.2 -0.2]\n",
      "[ 0.2 -0.2]\n"
     ]
    },
    {
     "name": "stderr",
     "output_type": "stream",
     "text": [
      " 50%|████▉     | 495/1000 [00:10<00:10, 46.83it/s]"
     ]
    },
    {
     "name": "stdout",
     "output_type": "stream",
     "text": [
      "[ 0.2 -0.2]\n",
      "[ 0.2 -0.2]\n",
      "[ 0.2 -0.2]\n",
      "[ 0.2 -0.2]\n",
      "[ 0.2 -0.2]\n",
      "[ 0.2 -0.2]\n",
      "[ 0.2 -0.2]\n",
      "[ 0.2        -0.01126683]\n",
      "[ 0.2 -0.2]\n",
      "[ 0.2        -0.16358593]\n",
      "[ 0.2 -0.2]\n"
     ]
    },
    {
     "name": "stderr",
     "output_type": "stream",
     "text": [
      " 51%|█████     | 506/1000 [00:10<00:10, 47.75it/s]"
     ]
    },
    {
     "name": "stdout",
     "output_type": "stream",
     "text": [
      "[0.2        0.09337299]\n",
      "[0.2       0.0821958]\n",
      "[ 0.2        -0.00040259]\n",
      "[0.2        0.02379917]\n",
      "[0.19481406 0.2       ]\n",
      "[ 0.2        -0.18039909]\n",
      "[0.2 0.2]\n",
      "[0.2 0.2]\n",
      "[0.2 0.2]\n",
      "[ 0.02880103 -0.13387805]\n"
     ]
    },
    {
     "name": "stderr",
     "output_type": "stream",
     "text": [
      " 52%|█████▏    | 517/1000 [00:10<00:10, 47.26it/s]"
     ]
    },
    {
     "name": "stdout",
     "output_type": "stream",
     "text": [
      "[0.10688888 0.2       ]\n",
      "[0.10682629 0.2       ]\n",
      "[-0.2  0.2]\n",
      "[0.1122811 0.2      ]\n",
      "[0.01104081 0.2       ]\n",
      "[-0.2  0.2]\n",
      "[-0.08077467  0.2       ]\n",
      "[-0.17041096  0.2       ]\n",
      "[-0.2  0.2]\n",
      "[0.05474076 0.2       ]\n",
      "[-0.12514505  0.2       ]\n"
     ]
    },
    {
     "name": "stderr",
     "output_type": "stream",
     "text": [
      " 53%|█████▎    | 528/1000 [00:11<00:09, 49.01it/s]"
     ]
    },
    {
     "name": "stdout",
     "output_type": "stream",
     "text": [
      "[0.18602155 0.2       ]\n",
      "[-0.2  0.2]\n",
      "[-0.06810416  0.2       ]\n",
      "[0.17358956 0.2       ]\n",
      "[-0.16174653  0.18083583]\n",
      "[0.04610801 0.2       ]\n",
      "[0.2 0.2]\n",
      "[0.2        0.09273272]\n",
      "[ 0.2      -0.153626]\n",
      "[0.2        0.17805366]\n",
      "[0.2        0.03242975]\n"
     ]
    },
    {
     "name": "stderr",
     "output_type": "stream",
     "text": [
      " 54%|█████▍    | 538/1000 [00:11<00:09, 48.68it/s]"
     ]
    },
    {
     "name": "stdout",
     "output_type": "stream",
     "text": [
      "[ 0.2       -0.1679033]\n",
      "[ 0.2 -0.2]\n",
      "[ 0.2 -0.2]\n",
      "[ 0.2        -0.02238227]\n",
      "[ 0.2 -0.2]\n",
      "[ 0.2        -0.13624449]\n",
      "[ 0.2 -0.2]\n",
      "[ 0.2 -0.2]\n",
      "[ 0.2 -0.2]\n",
      "[ 0.2 -0.2]\n"
     ]
    },
    {
     "name": "stderr",
     "output_type": "stream",
     "text": [
      " 55%|█████▍    | 548/1000 [00:11<00:10, 43.05it/s]"
     ]
    },
    {
     "name": "stdout",
     "output_type": "stream",
     "text": [
      "[ 0.2 -0.2]\n",
      "[ 0.2 -0.2]\n",
      "[ 0.2 -0.2]\n",
      "[ 0.2 -0.2]\n",
      "[ 0.2        -0.12810299]\n",
      "[ 0.2 -0.2]\n",
      "[ 0.2 -0.2]\n",
      "[ 0.2        -0.17885163]\n",
      "[ 0.2 -0.2]\n"
     ]
    },
    {
     "name": "stderr",
     "output_type": "stream",
     "text": [
      " 56%|█████▌    | 561/1000 [00:11<00:08, 48.88it/s]"
     ]
    },
    {
     "name": "stdout",
     "output_type": "stream",
     "text": [
      "[ 0.2 -0.2]\n",
      "[ 0.2 -0.2]\n",
      "[ 0.2 -0.2]\n",
      "[ 0.2 -0.2]\n",
      "[0.2        0.17273775]\n",
      "[ 0.2 -0.2]\n",
      "[ 0.2 -0.2]\n",
      "[0.2        0.12379366]\n",
      "[0.2        0.13455033]\n",
      "[0.2        0.17861032]\n"
     ]
    },
    {
     "name": "stderr",
     "output_type": "stream",
     "text": [
      " 57%|█████▋    | 567/1000 [00:11<00:08, 48.74it/s]"
     ]
    },
    {
     "name": "stdout",
     "output_type": "stream",
     "text": [
      "[0.2        0.09331582]\n",
      "[0.16479862 0.2       ]\n",
      "[0.2        0.08744837]\n",
      "[0.11403309 0.2       ]\n",
      "[-0.11518371  0.2       ]\n",
      "[-0.17805357  0.2       ]\n",
      "[-0.09822079  0.2       ]\n",
      "[-0.08590486  0.2       ]\n",
      "[-0.07221477  0.2       ]\n",
      "[-0.17992389  0.2       ]\n"
     ]
    },
    {
     "name": "stderr",
     "output_type": "stream",
     "text": [
      " 58%|█████▊    | 577/1000 [00:12<00:08, 48.02it/s]"
     ]
    },
    {
     "name": "stdout",
     "output_type": "stream",
     "text": [
      "[-0.2  0.2]\n",
      "[-0.2  0.2]\n",
      "[-0.2  0.2]\n",
      "[-0.2  0.2]\n",
      "[-0.2  0.2]\n",
      "[-0.2  0.2]\n",
      "[-0.2  0.2]\n",
      "[-0.2  0.2]\n",
      "[-0.2  0.2]\n",
      "[-0.2  0.2]\n"
     ]
    },
    {
     "name": "stderr",
     "output_type": "stream",
     "text": [
      " 59%|█████▊    | 587/1000 [00:12<00:08, 47.99it/s]"
     ]
    },
    {
     "name": "stdout",
     "output_type": "stream",
     "text": [
      "[-0.2  0.2]\n",
      "[-0.2  0.2]\n",
      "[-0.02992207  0.2       ]\n",
      "[-0.2  0.2]\n",
      "[-0.0251688  0.2      ]\n",
      "[0.2 0.2]\n",
      "[0.0017698 0.2      ]\n",
      "[0.2 0.2]\n",
      "[0.16351643 0.2       ]\n",
      "[ 0.2 -0.2]\n"
     ]
    },
    {
     "name": "stderr",
     "output_type": "stream",
     "text": [
      " 60%|█████▉    | 598/1000 [00:12<00:08, 47.83it/s]"
     ]
    },
    {
     "name": "stdout",
     "output_type": "stream",
     "text": [
      "[0.2        0.09388289]\n",
      "[0.2        0.01740674]\n",
      "[ 0.2        -0.07447915]\n",
      "[0.2        0.04228909]\n",
      "[ 0.2        -0.03107831]\n",
      "[0.2        0.14468327]\n",
      "[ 0.2 -0.2]\n",
      "[ 0.2 -0.2]\n",
      "[ 0.2 -0.2]\n",
      "[ 0.2 -0.2]\n"
     ]
    },
    {
     "name": "stderr",
     "output_type": "stream",
     "text": [
      " 61%|██████    | 608/1000 [00:12<00:08, 47.75it/s]"
     ]
    },
    {
     "name": "stdout",
     "output_type": "stream",
     "text": [
      "[ 0.2 -0.2]\n",
      "[ 0.2 -0.2]\n",
      "[ 0.2 -0.2]\n",
      "[ 0.2 -0.2]\n",
      "[ 0.2 -0.2]\n",
      "[ 0.2 -0.2]\n",
      "[ 0.2 -0.2]\n",
      "[ 0.2 -0.2]\n",
      "[ 0.2 -0.2]\n",
      "[ 0.2 -0.2]\n",
      "[ 0.2 -0.2]\n"
     ]
    },
    {
     "name": "stderr",
     "output_type": "stream",
     "text": [
      " 62%|██████▏   | 618/1000 [00:13<00:08, 44.61it/s]"
     ]
    },
    {
     "name": "stdout",
     "output_type": "stream",
     "text": [
      "[ 0.2 -0.2]\n",
      "[ 0.2 -0.2]\n",
      "[ 0.2        -0.11509427]\n",
      "[ 0.2        -0.09236513]\n",
      "[ 0.2        -0.02146664]\n",
      "[0.2        0.03298162]\n",
      "[0.2        0.12877642]\n",
      "[ 0.2        -0.17757525]\n",
      "[0.2 0.2]\n"
     ]
    },
    {
     "name": "stderr",
     "output_type": "stream",
     "text": [
      " 63%|██████▎   | 629/1000 [00:13<00:07, 47.65it/s]"
     ]
    },
    {
     "name": "stdout",
     "output_type": "stream",
     "text": [
      "[0.1096364 0.2      ]\n",
      "[-0.1111072  0.1304247]\n",
      "[-0.10961126  0.15133418]\n",
      "[-0.11458854  0.2       ]\n",
      "[-0.2  0.2]\n",
      "[0.02864896 0.2       ]\n",
      "[0.00097303 0.2       ]\n",
      "[-0.2  0.2]\n",
      "[-0.2  0.2]\n",
      "[-0.2  0.2]\n"
     ]
    },
    {
     "name": "stderr",
     "output_type": "stream",
     "text": [
      " 64%|██████▍   | 640/1000 [00:13<00:07, 47.43it/s]"
     ]
    },
    {
     "name": "stdout",
     "output_type": "stream",
     "text": [
      "[-0.2  0.2]\n",
      "[-0.2  0.2]\n",
      "[-0.2  0.2]\n",
      "[-0.2  0.2]\n",
      "[-0.2  0.2]\n",
      "[-0.2  0.2]\n",
      "[-0.2  0.2]\n",
      "[-0.2  0.2]\n",
      "[-0.14835134  0.2       ]\n",
      "[-0.07753405  0.2       ]\n"
     ]
    },
    {
     "name": "stderr",
     "output_type": "stream",
     "text": [
      " 65%|██████▌   | 650/1000 [00:13<00:07, 46.25it/s]"
     ]
    },
    {
     "name": "stdout",
     "output_type": "stream",
     "text": [
      "[0.0588651 0.2      ]\n",
      "[-0.2  0.2]\n",
      "[ 0.2 -0.2]\n",
      "[ 0.2 -0.2]\n",
      "[ 0.2 -0.2]\n",
      "[ 0.2 -0.2]\n",
      "[ 0.2 -0.2]\n",
      "[ 0.2 -0.2]\n",
      "[ 0.2 -0.2]\n"
     ]
    },
    {
     "name": "stderr",
     "output_type": "stream",
     "text": [
      " 66%|██████▌   | 655/1000 [00:13<00:07, 45.13it/s]"
     ]
    },
    {
     "name": "stdout",
     "output_type": "stream",
     "text": [
      "[ 0.2 -0.2]\n",
      "[ 0.2 -0.2]\n",
      "[ 0.2 -0.2]\n",
      "[ 0.2 -0.2]\n",
      "[ 0.2 -0.2]\n",
      "[ 0.2 -0.2]\n",
      "[ 0.2 -0.2]\n",
      "[ 0.2 -0.2]\n",
      "[ 0.2 -0.2]\n"
     ]
    },
    {
     "name": "stderr",
     "output_type": "stream",
     "text": [
      " 66%|██████▋   | 665/1000 [00:14<00:07, 45.60it/s]"
     ]
    },
    {
     "name": "stdout",
     "output_type": "stream",
     "text": [
      "[ 0.2 -0.2]\n",
      "[ 0.2 -0.2]\n",
      "[ 0.2 -0.2]\n",
      "[ 0.2 -0.2]\n",
      "[ 0.2 -0.2]\n",
      "[ 0.2 -0.2]\n",
      "[ 0.2 -0.2]\n",
      "[ 0.2 -0.2]\n",
      "[ 0.2 -0.2]\n"
     ]
    },
    {
     "name": "stderr",
     "output_type": "stream",
     "text": [
      " 68%|██████▊   | 676/1000 [00:14<00:06, 46.51it/s]"
     ]
    },
    {
     "name": "stdout",
     "output_type": "stream",
     "text": [
      "[ 0.2 -0.2]\n",
      "[ 0.2 -0.2]\n",
      "[ 0.2 -0.2]\n",
      "[ 0.2 -0.2]\n",
      "[ 0.2 -0.2]\n",
      "[ 0.2 -0.2]\n",
      "[ 0.2 -0.2]\n",
      "[ 0.2 -0.2]\n",
      "[ 0.2 -0.2]\n",
      "[ 0.2 -0.2]\n",
      "[ 0.2 -0.2]\n"
     ]
    },
    {
     "name": "stderr",
     "output_type": "stream",
     "text": [
      " 69%|██████▊   | 686/1000 [00:14<00:06, 44.97it/s]"
     ]
    },
    {
     "name": "stdout",
     "output_type": "stream",
     "text": [
      "[ 0.2 -0.2]\n",
      "[ 0.2 -0.2]\n",
      "[ 0.2 -0.2]\n",
      "[ 0.2 -0.2]\n",
      "[ 0.2 -0.2]\n",
      "[ 0.2 -0.2]\n",
      "[ 0.2 -0.2]\n",
      "[ 0.2 -0.2]\n",
      "[ 0.2 -0.2]\n"
     ]
    },
    {
     "name": "stderr",
     "output_type": "stream",
     "text": [
      " 70%|██████▉   | 696/1000 [00:14<00:06, 46.34it/s]"
     ]
    },
    {
     "name": "stdout",
     "output_type": "stream",
     "text": [
      "[ 0.2 -0.2]\n",
      "[ 0.2 -0.2]\n",
      "[ 0.2 -0.2]\n",
      "[ 0.2 -0.2]\n",
      "[ 0.2 -0.2]\n",
      "[ 0.2 -0.2]\n",
      "[ 0.2 -0.2]\n",
      "[ 0.2 -0.2]\n",
      "[ 0.2 -0.2]\n",
      "[ 0.2 -0.2]\n"
     ]
    },
    {
     "name": "stderr",
     "output_type": "stream",
     "text": [
      " 71%|███████   | 706/1000 [00:14<00:06, 46.93it/s]"
     ]
    },
    {
     "name": "stdout",
     "output_type": "stream",
     "text": [
      "[ 0.2 -0.2]\n",
      "[ 0.2 -0.2]\n",
      "[ 0.2 -0.2]\n",
      "[ 0.2 -0.2]\n",
      "[ 0.2 -0.2]\n",
      "[ 0.2 -0.2]\n",
      "[ 0.2 -0.2]\n",
      "[ 0.2 -0.2]\n",
      "[ 0.2 -0.2]\n",
      "[ 0.2 -0.2]\n"
     ]
    },
    {
     "name": "stderr",
     "output_type": "stream",
     "text": [
      " 72%|███████▏  | 716/1000 [00:15<00:06, 46.50it/s]"
     ]
    },
    {
     "name": "stdout",
     "output_type": "stream",
     "text": [
      "[ 0.2 -0.2]\n",
      "[ 0.2 -0.2]\n",
      "[ 0.2 -0.2]\n",
      "[ 0.2 -0.2]\n",
      "[ 0.2 -0.2]\n",
      "[ 0.2 -0.2]\n",
      "[ 0.2 -0.2]\n",
      "[ 0.2 -0.2]\n",
      "[ 0.2 -0.2]\n"
     ]
    },
    {
     "name": "stderr",
     "output_type": "stream",
     "text": [
      " 73%|███████▎  | 726/1000 [00:15<00:05, 47.36it/s]"
     ]
    },
    {
     "name": "stdout",
     "output_type": "stream",
     "text": [
      "[ 0.2 -0.2]\n",
      "[ 0.2 -0.2]\n",
      "[ 0.2 -0.2]\n",
      "[ 0.2 -0.2]\n",
      "[ 0.2 -0.2]\n",
      "[ 0.2 -0.2]\n",
      "[ 0.2 -0.2]\n",
      "[ 0.2 -0.2]\n",
      "[ 0.2 -0.2]\n",
      "[ 0.2 -0.2]\n"
     ]
    },
    {
     "name": "stderr",
     "output_type": "stream",
     "text": [
      " 74%|███████▎  | 736/1000 [00:15<00:05, 47.80it/s]"
     ]
    },
    {
     "name": "stdout",
     "output_type": "stream",
     "text": [
      "[ 0.2 -0.2]\n",
      "[ 0.2 -0.2]\n",
      "[ 0.2 -0.2]\n",
      "[ 0.2 -0.2]\n",
      "[ 0.2 -0.2]\n",
      "[ 0.2 -0.2]\n",
      "[ 0.2 -0.2]\n",
      "[ 0.2 -0.2]\n",
      "[ 0.2 -0.2]\n",
      "[ 0.2 -0.2]\n",
      "[ 0.2 -0.2]\n"
     ]
    },
    {
     "name": "stderr",
     "output_type": "stream",
     "text": [
      " 75%|███████▍  | 746/1000 [00:15<00:05, 47.96it/s]"
     ]
    },
    {
     "name": "stdout",
     "output_type": "stream",
     "text": [
      "[ 0.2 -0.2]\n",
      "[ 0.2 -0.2]\n",
      "[ 0.2 -0.2]\n",
      "[ 0.2 -0.2]\n",
      "[ 0.2 -0.2]\n",
      "[ 0.2 -0.2]\n",
      "[ 0.2 -0.2]\n",
      "[ 0.2 -0.2]\n",
      "[ 0.2 -0.2]\n",
      "[ 0.2 -0.2]\n"
     ]
    },
    {
     "name": "stderr",
     "output_type": "stream",
     "text": [
      " 76%|███████▌  | 756/1000 [00:16<00:05, 45.81it/s]"
     ]
    },
    {
     "name": "stdout",
     "output_type": "stream",
     "text": [
      "[ 0.2 -0.2]\n",
      "[ 0.2 -0.2]\n",
      "[ 0.2 -0.2]\n",
      "[ 0.2 -0.2]\n",
      "[ 0.2 -0.2]\n",
      "[ 0.2 -0.2]\n",
      "[ 0.2 -0.2]\n",
      "[ 0.2 -0.2]\n",
      "[ 0.2 -0.2]\n",
      "[ 0.2 -0.2]\n"
     ]
    },
    {
     "name": "stderr",
     "output_type": "stream",
     "text": [
      " 77%|███████▋  | 767/1000 [00:16<00:04, 47.96it/s]"
     ]
    },
    {
     "name": "stdout",
     "output_type": "stream",
     "text": [
      "[ 0.2 -0.2]\n",
      "[ 0.2 -0.2]\n",
      "[ 0.2 -0.2]\n",
      "[ 0.2 -0.2]\n",
      "[ 0.2 -0.2]\n",
      "[ 0.2 -0.2]\n",
      "[ 0.2 -0.2]\n",
      "[ 0.2 -0.2]\n",
      "[ 0.2 -0.2]\n",
      "[ 0.2 -0.2]\n"
     ]
    },
    {
     "name": "stderr",
     "output_type": "stream",
     "text": [
      " 78%|███████▊  | 778/1000 [00:16<00:04, 46.74it/s]"
     ]
    },
    {
     "name": "stdout",
     "output_type": "stream",
     "text": [
      "[ 0.2 -0.2]\n",
      "[ 0.2 -0.2]\n",
      "[ 0.2 -0.2]\n",
      "[ 0.2 -0.2]\n",
      "[ 0.2 -0.2]\n",
      "[ 0.2 -0.2]\n",
      "[ 0.2 -0.2]\n",
      "[ 0.2 -0.2]\n",
      "[ 0.2 -0.2]\n",
      "[ 0.2 -0.2]\n"
     ]
    },
    {
     "name": "stderr",
     "output_type": "stream",
     "text": [
      " 78%|███████▊  | 780/1000 [00:16<00:04, 47.20it/s]"
     ]
    },
    {
     "name": "stdout",
     "output_type": "stream",
     "text": [
      "[ 0.2 -0.2]\n",
      "[ 0.2 -0.2]\n"
     ]
    },
    {
     "name": "stderr",
     "output_type": "stream",
     "text": [
      "\n"
     ]
    },
    {
     "ename": "KeyboardInterrupt",
     "evalue": "",
     "output_type": "error",
     "traceback": [
      "\u001b[1;31m---------------------------------------------------------------------------\u001b[0m",
      "\u001b[1;31mKeyboardInterrupt\u001b[0m                         Traceback (most recent call last)",
      "Cell \u001b[1;32mIn[5], line 36\u001b[0m\n\u001b[0;32m     33\u001b[0m obs, _ \u001b[38;5;241m=\u001b[39m env\u001b[38;5;241m.\u001b[39mreset()  \u001b[38;5;66;03m# ここを修正\u001b[39;00m\n\u001b[0;32m     34\u001b[0m \u001b[38;5;28;01mfor\u001b[39;00m unk \u001b[38;5;129;01min\u001b[39;00m trange(\u001b[38;5;241m1000\u001b[39m):\n\u001b[0;32m     35\u001b[0m     \u001b[38;5;66;03m# 環境の描画\u001b[39;00m\n\u001b[1;32m---> 36\u001b[0m     \u001b[43menv\u001b[49m\u001b[38;5;241;43m.\u001b[39;49m\u001b[43mrender\u001b[49m\u001b[43m(\u001b[49m\u001b[43m)\u001b[49m\n\u001b[0;32m     38\u001b[0m     \u001b[38;5;66;03m# モデルの推論\u001b[39;00m\n\u001b[0;32m     39\u001b[0m     action, _ \u001b[38;5;241m=\u001b[39m model\u001b[38;5;241m.\u001b[39mpredict(obs)\n",
      "File \u001b[1;32mc:\\Users\\atusi\\anaconda3\\envs\\gymenv\\Lib\\site-packages\\gymnasium\\core.py:471\u001b[0m, in \u001b[0;36mWrapper.render\u001b[1;34m(self)\u001b[0m\n\u001b[0;32m    469\u001b[0m \u001b[38;5;28;01mdef\u001b[39;00m \u001b[38;5;21mrender\u001b[39m(\u001b[38;5;28mself\u001b[39m) \u001b[38;5;241m-\u001b[39m\u001b[38;5;241m>\u001b[39m RenderFrame \u001b[38;5;241m|\u001b[39m \u001b[38;5;28mlist\u001b[39m[RenderFrame] \u001b[38;5;241m|\u001b[39m \u001b[38;5;28;01mNone\u001b[39;00m:\n\u001b[0;32m    470\u001b[0m \u001b[38;5;250m    \u001b[39m\u001b[38;5;124;03m\"\"\"Uses the :meth:`render` of the :attr:`env` that can be overwritten to change the returned data.\"\"\"\u001b[39;00m\n\u001b[1;32m--> 471\u001b[0m     \u001b[38;5;28;01mreturn\u001b[39;00m \u001b[38;5;28;43mself\u001b[39;49m\u001b[38;5;241;43m.\u001b[39;49m\u001b[43menv\u001b[49m\u001b[38;5;241;43m.\u001b[39;49m\u001b[43mrender\u001b[49m\u001b[43m(\u001b[49m\u001b[43m)\u001b[49m\n",
      "File \u001b[1;32mc:\\Users\\atusi\\anaconda3\\envs\\gymenv\\Lib\\site-packages\\gymnasium\\wrappers\\order_enforcing.py:70\u001b[0m, in \u001b[0;36mOrderEnforcing.render\u001b[1;34m(self, *args, **kwargs)\u001b[0m\n\u001b[0;32m     65\u001b[0m \u001b[38;5;28;01mif\u001b[39;00m \u001b[38;5;129;01mnot\u001b[39;00m \u001b[38;5;28mself\u001b[39m\u001b[38;5;241m.\u001b[39m_disable_render_order_enforcing \u001b[38;5;129;01mand\u001b[39;00m \u001b[38;5;129;01mnot\u001b[39;00m \u001b[38;5;28mself\u001b[39m\u001b[38;5;241m.\u001b[39m_has_reset:\n\u001b[0;32m     66\u001b[0m     \u001b[38;5;28;01mraise\u001b[39;00m ResetNeeded(\n\u001b[0;32m     67\u001b[0m         \u001b[38;5;124m\"\u001b[39m\u001b[38;5;124mCannot call `env.render()` before calling `env.reset()`, if this is a intended action, \u001b[39m\u001b[38;5;124m\"\u001b[39m\n\u001b[0;32m     68\u001b[0m         \u001b[38;5;124m\"\u001b[39m\u001b[38;5;124mset `disable_render_order_enforcing=True` on the OrderEnforcer wrapper.\u001b[39m\u001b[38;5;124m\"\u001b[39m\n\u001b[0;32m     69\u001b[0m     )\n\u001b[1;32m---> 70\u001b[0m \u001b[38;5;28;01mreturn\u001b[39;00m \u001b[38;5;28;43mself\u001b[39;49m\u001b[38;5;241;43m.\u001b[39;49m\u001b[43menv\u001b[49m\u001b[38;5;241;43m.\u001b[39;49m\u001b[43mrender\u001b[49m\u001b[43m(\u001b[49m\u001b[38;5;241;43m*\u001b[39;49m\u001b[43margs\u001b[49m\u001b[43m,\u001b[49m\u001b[43m \u001b[49m\u001b[38;5;241;43m*\u001b[39;49m\u001b[38;5;241;43m*\u001b[39;49m\u001b[43mkwargs\u001b[49m\u001b[43m)\u001b[49m\n",
      "File \u001b[1;32mc:\\Users\\atusi\\anaconda3\\envs\\gymenv\\Lib\\site-packages\\gymnasium\\wrappers\\env_checker.py:67\u001b[0m, in \u001b[0;36mPassiveEnvChecker.render\u001b[1;34m(self, *args, **kwargs)\u001b[0m\n\u001b[0;32m     65\u001b[0m     \u001b[38;5;28;01mreturn\u001b[39;00m env_render_passive_checker(\u001b[38;5;28mself\u001b[39m\u001b[38;5;241m.\u001b[39menv, \u001b[38;5;241m*\u001b[39margs, \u001b[38;5;241m*\u001b[39m\u001b[38;5;241m*\u001b[39mkwargs)\n\u001b[0;32m     66\u001b[0m \u001b[38;5;28;01melse\u001b[39;00m:\n\u001b[1;32m---> 67\u001b[0m     \u001b[38;5;28;01mreturn\u001b[39;00m \u001b[38;5;28;43mself\u001b[39;49m\u001b[38;5;241;43m.\u001b[39;49m\u001b[43menv\u001b[49m\u001b[38;5;241;43m.\u001b[39;49m\u001b[43mrender\u001b[49m\u001b[43m(\u001b[49m\u001b[38;5;241;43m*\u001b[39;49m\u001b[43margs\u001b[49m\u001b[43m,\u001b[49m\u001b[43m \u001b[49m\u001b[38;5;241;43m*\u001b[39;49m\u001b[38;5;241;43m*\u001b[39;49m\u001b[43mkwargs\u001b[49m\u001b[43m)\u001b[49m\n",
      "File \u001b[1;32mc:\\Users\\atusi\\anaconda3\\envs\\gymenv\\Lib\\site-packages\\gymnasium\\envs\\mujoco\\mujoco_env.py:411\u001b[0m, in \u001b[0;36mMujocoEnv.render\u001b[1;34m(self)\u001b[0m\n\u001b[0;32m    410\u001b[0m \u001b[38;5;28;01mdef\u001b[39;00m \u001b[38;5;21mrender\u001b[39m(\u001b[38;5;28mself\u001b[39m):\n\u001b[1;32m--> 411\u001b[0m     \u001b[38;5;28;01mreturn\u001b[39;00m \u001b[38;5;28;43mself\u001b[39;49m\u001b[38;5;241;43m.\u001b[39;49m\u001b[43mmujoco_renderer\u001b[49m\u001b[38;5;241;43m.\u001b[39;49m\u001b[43mrender\u001b[49m\u001b[43m(\u001b[49m\n\u001b[0;32m    412\u001b[0m \u001b[43m        \u001b[49m\u001b[38;5;28;43mself\u001b[39;49m\u001b[38;5;241;43m.\u001b[39;49m\u001b[43mrender_mode\u001b[49m\u001b[43m,\u001b[49m\u001b[43m \u001b[49m\u001b[38;5;28;43mself\u001b[39;49m\u001b[38;5;241;43m.\u001b[39;49m\u001b[43mcamera_id\u001b[49m\u001b[43m,\u001b[49m\u001b[43m \u001b[49m\u001b[38;5;28;43mself\u001b[39;49m\u001b[38;5;241;43m.\u001b[39;49m\u001b[43mcamera_name\u001b[49m\n\u001b[0;32m    413\u001b[0m \u001b[43m    \u001b[49m\u001b[43m)\u001b[49m\n",
      "File \u001b[1;32mc:\\Users\\atusi\\anaconda3\\envs\\gymenv\\Lib\\site-packages\\gymnasium\\envs\\mujoco\\mujoco_rendering.py:673\u001b[0m, in \u001b[0;36mMujocoRenderer.render\u001b[1;34m(self, render_mode, camera_id, camera_name)\u001b[0m\n\u001b[0;32m    670\u001b[0m     \u001b[38;5;28;01mreturn\u001b[39;00m img\n\u001b[0;32m    672\u001b[0m \u001b[38;5;28;01melif\u001b[39;00m render_mode \u001b[38;5;241m==\u001b[39m \u001b[38;5;124m\"\u001b[39m\u001b[38;5;124mhuman\u001b[39m\u001b[38;5;124m\"\u001b[39m:\n\u001b[1;32m--> 673\u001b[0m     \u001b[38;5;28;01mreturn\u001b[39;00m \u001b[43mviewer\u001b[49m\u001b[38;5;241;43m.\u001b[39;49m\u001b[43mrender\u001b[49m\u001b[43m(\u001b[49m\u001b[43m)\u001b[49m\n",
      "File \u001b[1;32mc:\\Users\\atusi\\anaconda3\\envs\\gymenv\\Lib\\site-packages\\gymnasium\\envs\\mujoco\\mujoco_rendering.py:413\u001b[0m, in \u001b[0;36mWindowViewer.render\u001b[1;34m(self)\u001b[0m\n\u001b[0;32m    411\u001b[0m         \u001b[38;5;28mself\u001b[39m\u001b[38;5;241m.\u001b[39m_loop_count \u001b[38;5;241m=\u001b[39m \u001b[38;5;241m1\u001b[39m\n\u001b[0;32m    412\u001b[0m     \u001b[38;5;28;01mwhile\u001b[39;00m \u001b[38;5;28mself\u001b[39m\u001b[38;5;241m.\u001b[39m_loop_count \u001b[38;5;241m>\u001b[39m \u001b[38;5;241m0\u001b[39m:\n\u001b[1;32m--> 413\u001b[0m         \u001b[43mupdate\u001b[49m\u001b[43m(\u001b[49m\u001b[43m)\u001b[49m\n\u001b[0;32m    414\u001b[0m         \u001b[38;5;28mself\u001b[39m\u001b[38;5;241m.\u001b[39m_loop_count \u001b[38;5;241m-\u001b[39m\u001b[38;5;241m=\u001b[39m \u001b[38;5;241m1\u001b[39m\n\u001b[0;32m    416\u001b[0m \u001b[38;5;66;03m# clear overlay\u001b[39;00m\n",
      "File \u001b[1;32mc:\\Users\\atusi\\anaconda3\\envs\\gymenv\\Lib\\site-packages\\gymnasium\\envs\\mujoco\\mujoco_rendering.py:394\u001b[0m, in \u001b[0;36mWindowViewer.render.<locals>.update\u001b[1;34m()\u001b[0m\n\u001b[0;32m    384\u001b[0m     \u001b[38;5;28;01mfor\u001b[39;00m gridpos, [t1, t2] \u001b[38;5;129;01min\u001b[39;00m \u001b[38;5;28mself\u001b[39m\u001b[38;5;241m.\u001b[39m_overlays\u001b[38;5;241m.\u001b[39mitems():\n\u001b[0;32m    385\u001b[0m         mujoco\u001b[38;5;241m.\u001b[39mmjr_overlay(\n\u001b[0;32m    386\u001b[0m             mujoco\u001b[38;5;241m.\u001b[39mmjtFontScale\u001b[38;5;241m.\u001b[39mmjFONTSCALE_150,\n\u001b[0;32m    387\u001b[0m             gridpos,\n\u001b[1;32m   (...)\u001b[0m\n\u001b[0;32m    391\u001b[0m             \u001b[38;5;28mself\u001b[39m\u001b[38;5;241m.\u001b[39mcon,\n\u001b[0;32m    392\u001b[0m         )\n\u001b[1;32m--> 394\u001b[0m \u001b[43mglfw\u001b[49m\u001b[38;5;241;43m.\u001b[39;49m\u001b[43mswap_buffers\u001b[49m\u001b[43m(\u001b[49m\u001b[38;5;28;43mself\u001b[39;49m\u001b[38;5;241;43m.\u001b[39;49m\u001b[43mwindow\u001b[49m\u001b[43m)\u001b[49m\n\u001b[0;32m    395\u001b[0m glfw\u001b[38;5;241m.\u001b[39mpoll_events()\n\u001b[0;32m    396\u001b[0m \u001b[38;5;28mself\u001b[39m\u001b[38;5;241m.\u001b[39m_time_per_render \u001b[38;5;241m=\u001b[39m \u001b[38;5;241m0.9\u001b[39m \u001b[38;5;241m*\u001b[39m \u001b[38;5;28mself\u001b[39m\u001b[38;5;241m.\u001b[39m_time_per_render \u001b[38;5;241m+\u001b[39m \u001b[38;5;241m0.1\u001b[39m \u001b[38;5;241m*\u001b[39m (\n\u001b[0;32m    397\u001b[0m     time\u001b[38;5;241m.\u001b[39mtime() \u001b[38;5;241m-\u001b[39m render_start\n\u001b[0;32m    398\u001b[0m )\n",
      "File \u001b[1;32mc:\\Users\\atusi\\anaconda3\\envs\\gymenv\\Lib\\site-packages\\glfw\\__init__.py:2379\u001b[0m, in \u001b[0;36mswap_buffers\u001b[1;34m(window)\u001b[0m\n\u001b[0;32m   2372\u001b[0m \u001b[38;5;28;01mdef\u001b[39;00m \u001b[38;5;21mswap_buffers\u001b[39m(window):\n\u001b[0;32m   2373\u001b[0m \u001b[38;5;250m    \u001b[39m\u001b[38;5;124;03m\"\"\"\u001b[39;00m\n\u001b[0;32m   2374\u001b[0m \u001b[38;5;124;03m    Swaps the front and back buffers of the specified window.\u001b[39;00m\n\u001b[0;32m   2375\u001b[0m \n\u001b[0;32m   2376\u001b[0m \u001b[38;5;124;03m    Wrapper for:\u001b[39;00m\n\u001b[0;32m   2377\u001b[0m \u001b[38;5;124;03m        void glfwSwapBuffers(GLFWwindow* window);\u001b[39;00m\n\u001b[0;32m   2378\u001b[0m \u001b[38;5;124;03m    \"\"\"\u001b[39;00m\n\u001b[1;32m-> 2379\u001b[0m     \u001b[43m_glfw\u001b[49m\u001b[38;5;241;43m.\u001b[39;49m\u001b[43mglfwSwapBuffers\u001b[49m\u001b[43m(\u001b[49m\u001b[43mwindow\u001b[49m\u001b[43m)\u001b[49m\n",
      "File \u001b[1;32mc:\\Users\\atusi\\anaconda3\\envs\\gymenv\\Lib\\site-packages\\glfw\\__init__.py:686\u001b[0m, in \u001b[0;36m_prepare_errcheck.<locals>.errcheck\u001b[1;34m(result, *args)\u001b[0m\n\u001b[0;32m    678\u001b[0m \u001b[38;5;28;01mdef\u001b[39;00m \u001b[38;5;21m_prepare_errcheck\u001b[39m():\n\u001b[0;32m    679\u001b[0m \u001b[38;5;250m    \u001b[39m\u001b[38;5;124;03m\"\"\"\u001b[39;00m\n\u001b[0;32m    680\u001b[0m \u001b[38;5;124;03m    This function sets the errcheck attribute of all ctypes wrapped functions\u001b[39;00m\n\u001b[0;32m    681\u001b[0m \u001b[38;5;124;03m    to evaluate the _exc_info_from_callback global variable and re-raise any\u001b[39;00m\n\u001b[1;32m   (...)\u001b[0m\n\u001b[0;32m    684\u001b[0m \u001b[38;5;124;03m    using the _callback_exception_decorator.\u001b[39;00m\n\u001b[0;32m    685\u001b[0m \u001b[38;5;124;03m    \"\"\"\u001b[39;00m\n\u001b[1;32m--> 686\u001b[0m     \u001b[38;5;28;01mdef\u001b[39;00m \u001b[38;5;21merrcheck\u001b[39m(result, \u001b[38;5;241m*\u001b[39margs):\n\u001b[0;32m    687\u001b[0m         \u001b[38;5;28;01mglobal\u001b[39;00m _exc_info_from_callback\n\u001b[0;32m    688\u001b[0m         \u001b[38;5;28;01mif\u001b[39;00m _exc_info_from_callback \u001b[38;5;129;01mis\u001b[39;00m \u001b[38;5;129;01mnot\u001b[39;00m \u001b[38;5;28;01mNone\u001b[39;00m:\n",
      "\u001b[1;31mKeyboardInterrupt\u001b[0m: "
     ]
    }
   ],
   "source": [
    "import gymnasium as gym\n",
    "from stable_baselines3 import SAC, PPO\n",
    "from tqdm import trange\n",
    "import matplotlib.pyplot as plt\n",
    "from gymnasium.wrappers import RecordVideo\n",
    "import datetime\n",
    "\n",
    "# env = gym.make(\"ALE/Breakout-v5\",  render_mode=\"human\")\n",
    "# env = gym.make(\"CartPole-v1\",  render_mode=\"human\")\n",
    "# # env = Monitor(env, \"./gym-results\", force=True, video_callable=lambda episode: True)　こんな感じで，\n",
    "# model = SAC(\"MlpPolicy\", env, verbose=1)\n",
    "# model.learn(total_timesteps=200)\n",
    "\n",
    "from stable_baselines3.common.callbacks import BaseCallback\n",
    "\n",
    "start_time = datetime.datetime.now().replace(microsecond=0)\n",
    "\n",
    "env = gym.make(\"MouseRightEnv-v0\", render_mode=\"human\")\n",
    "# video_path = \"./\"  # 保存先のpath\n",
    "# env = RecordVideo(env, video_path, video_length=500)\n",
    "env.model.opt.timestep = 0.01  # タイムステップを設定 RecordVideoする場合はそれ以降に書かないとerrorが出る\n",
    "\n",
    "# model = PPO(\"MlpPolicy\", env, verbose=1)\n",
    "model = PPO.load('hidarimawari_housyuu',env)\n",
    "# render_freq = 1000  # 1000ステップごとにレンダリング\n",
    "# callback = CustomCallback(render_freq)\n",
    "for i in range(100):\n",
    "    # model.learn(total_timesteps=10000)#progress_bar = True, callback=callback)\n",
    "\n",
    "    # モデルのテスト\n",
    "    obs, _ = env.reset()  # ここを修正\n",
    "    for unk in trange(1000):\n",
    "        # 環境の描画\n",
    "        env.render()\n",
    "\n",
    "        # モデルの推論\n",
    "        action, _ = model.predict(obs)\n",
    "        print(action)\n",
    "        action = [0.1, 0.1]\n",
    "\n",
    "        # 1ステップ実行\n",
    "        obs, reward, terminated, truncated, info = env.step(action) #以前の4要素のタプルから5要素のタプルに変更され，`observation, reward, terminated, truncated, info`という形式になった。\n",
    "\n",
    "        # エピソード完了（終了または切り捨て）のチェック terminated(終了した)は目的を達成してエピソードを終了したことを表す，truncated(切り捨てられた)は，達成できずにエピソードが終了したことを表す\n",
    "        if terminated or truncated:\n",
    "            obs, _ = env.reset() # エピソードが終了したら、環境をリセット\n",
    "    #モデルの保存 (1)\n",
    "    # model.save('4sensaonly_rl')\n",
    "    # model.save('hidarimawari_housyuu')\n",
    "    end_time = datetime.datetime.now().replace(microsecond=0)\n",
    "    total_time = end_time - start_time\n",
    "    bot = LINENotifyBot(access_token='UuzEJNM69oW7g0suO2FsWygFKvSK4vj7HnEBFLyi0mc')\n",
    "    bot.send(\n",
    "    message=\"今\"+str(i+1)+\"回目の学習が終了しました\\nかかった時間：\"+str(total_time)+\"秒かかりました\",\n",
    "    #image='picf' + str(i) + '.png',  # png or jpg\n",
    "    # sticker_package_id=1,\n",
    "    # sticker_id=6,\n",
    "    )\n",
    "\n",
    "# print(video_path)\n",
    "plt.title(\"1マス前進\", fontname=\"MS Gothic\")\n",
    "plt.grid()\n",
    "plt.xlabel(\"step(s)\", fontname=\"MS Gothic\")\n",
    "plt.ylabel(\"速度[m/s]\", fontname=\"MS Gothic\")\n",
    "\n",
    "#前進関係のプロット\n",
    "t = list(range(len(env.reward_graph)))  # 0から始まるインデックスのリストを作成\n",
    "plt.plot(t, env.reward_graph, linestyle='solid', label=\"報酬\")\n",
    "plt.legend()\n",
    "# 環境のクローズ\n",
    "env.close()"
   ]
  },
  {
   "cell_type": "code",
   "execution_count": 1,
   "metadata": {},
   "outputs": [
    {
     "ename": "NameError",
     "evalue": "name 'plt' is not defined",
     "output_type": "error",
     "traceback": [
      "\u001b[1;31m---------------------------------------------------------------------------\u001b[0m",
      "\u001b[1;31mNameError\u001b[0m                                 Traceback (most recent call last)",
      "Cell \u001b[1;32mIn[1], line 2\u001b[0m\n\u001b[0;32m      1\u001b[0m \u001b[38;5;66;03m# print(video_path)\u001b[39;00m\n\u001b[1;32m----> 2\u001b[0m \u001b[43mplt\u001b[49m\u001b[38;5;241m.\u001b[39mtitle(\u001b[38;5;124m\"\u001b[39m\u001b[38;5;124m1マス前進\u001b[39m\u001b[38;5;124m\"\u001b[39m, fontname\u001b[38;5;241m=\u001b[39m\u001b[38;5;124m\"\u001b[39m\u001b[38;5;124mMS Gothic\u001b[39m\u001b[38;5;124m\"\u001b[39m)\n\u001b[0;32m      3\u001b[0m plt\u001b[38;5;241m.\u001b[39mgrid()\n\u001b[0;32m      4\u001b[0m plt\u001b[38;5;241m.\u001b[39mxlabel(\u001b[38;5;124m\"\u001b[39m\u001b[38;5;124mstep(s)\u001b[39m\u001b[38;5;124m\"\u001b[39m, fontname\u001b[38;5;241m=\u001b[39m\u001b[38;5;124m\"\u001b[39m\u001b[38;5;124mMS Gothic\u001b[39m\u001b[38;5;124m\"\u001b[39m)\n",
      "\u001b[1;31mNameError\u001b[0m: name 'plt' is not defined"
     ]
    }
   ],
   "source": [
    "# print(video_path)\n",
    "plt.title(\"1マス前進\", fontname=\"MS Gothic\")\n",
    "plt.grid()\n",
    "plt.xlabel(\"step(s)\", fontname=\"MS Gothic\")\n",
    "plt.ylabel(\"速度[m/s]\", fontname=\"MS Gothic\")\n",
    "\n",
    "#前進関係のプロット\n",
    "t = list(range(len(env.reward_graph)))  # 0から始まるインデックスのリストを作成\n",
    "plt.plot(t, env.reward_graph, linestyle='solid', label=\"報酬\")\n",
    "plt.legend()"
   ]
  },
  {
   "cell_type": "code",
   "execution_count": null,
   "metadata": {},
   "outputs": [
    {
     "ename": "NameError",
     "evalue": "name 'plt' is not defined",
     "output_type": "error",
     "traceback": [
      "\u001b[1;31m---------------------------------------------------------------------------\u001b[0m",
      "\u001b[1;31mNameError\u001b[0m                                 Traceback (most recent call last)",
      "Cell \u001b[1;32mIn[1], line 1\u001b[0m\n\u001b[1;32m----> 1\u001b[0m \u001b[43mplt\u001b[49m\u001b[38;5;241m.\u001b[39mtitle(\u001b[38;5;124m\"\u001b[39m\u001b[38;5;124mオドメトリ\u001b[39m\u001b[38;5;124m\"\u001b[39m, fontname\u001b[38;5;241m=\u001b[39m\u001b[38;5;124m\"\u001b[39m\u001b[38;5;124mMS Gothic\u001b[39m\u001b[38;5;124m\"\u001b[39m)\n\u001b[0;32m      2\u001b[0m plt\u001b[38;5;241m.\u001b[39mgrid()\n\u001b[0;32m      3\u001b[0m plt\u001b[38;5;241m.\u001b[39mxlabel(\u001b[38;5;124m\"\u001b[39m\u001b[38;5;124mx座標[m]\u001b[39m\u001b[38;5;124m\"\u001b[39m, fontname\u001b[38;5;241m=\u001b[39m\u001b[38;5;124m\"\u001b[39m\u001b[38;5;124mMS Gothic\u001b[39m\u001b[38;5;124m\"\u001b[39m)\n",
      "\u001b[1;31mNameError\u001b[0m: name 'plt' is not defined"
     ]
    }
   ],
   "source": [
    "plt.title(\"オドメトリ\", fontname=\"MS Gothic\")\n",
    "plt.grid()\n",
    "plt.xlabel(\"x座標[m]\", fontname=\"MS Gothic\")\n",
    "plt.ylabel(\"y座標[m]\", fontname=\"MS Gothic\")\n",
    "plt.plot(env.mouse_ypos_graph, env.mouse_xpos_graph, linestyle='solid', label=\"報酬\")"
   ]
  },
  {
   "cell_type": "code",
   "execution_count": 3,
   "metadata": {},
   "outputs": [
    {
     "ename": "NameNotFound",
     "evalue": "Environment `MouseEnv` doesn't exist.",
     "output_type": "error",
     "traceback": [
      "\u001b[1;31m---------------------------------------------------------------------------\u001b[0m",
      "\u001b[1;31mNameNotFound\u001b[0m                              Traceback (most recent call last)",
      "Cell \u001b[1;32mIn[3], line 12\u001b[0m\n\u001b[0;32m      8\u001b[0m \u001b[38;5;28;01mfrom\u001b[39;00m \u001b[38;5;21;01mstable_baselines3\u001b[39;00m\u001b[38;5;21;01m.\u001b[39;00m\u001b[38;5;21;01mcommon\u001b[39;00m\u001b[38;5;21;01m.\u001b[39;00m\u001b[38;5;21;01mcallbacks\u001b[39;00m \u001b[38;5;28;01mimport\u001b[39;00m BaseCallback\n\u001b[0;32m     10\u001b[0m start_time \u001b[38;5;241m=\u001b[39m datetime\u001b[38;5;241m.\u001b[39mdatetime\u001b[38;5;241m.\u001b[39mnow()\u001b[38;5;241m.\u001b[39mreplace(microsecond\u001b[38;5;241m=\u001b[39m\u001b[38;5;241m0\u001b[39m)\n\u001b[1;32m---> 12\u001b[0m env \u001b[38;5;241m=\u001b[39m \u001b[43mgym\u001b[49m\u001b[38;5;241;43m.\u001b[39;49m\u001b[43mmake\u001b[49m\u001b[43m(\u001b[49m\u001b[38;5;124;43m\"\u001b[39;49m\u001b[38;5;124;43mMouseEnv-v0\u001b[39;49m\u001b[38;5;124;43m\"\u001b[39;49m\u001b[43m,\u001b[49m\u001b[43m \u001b[49m\u001b[43mrender_mode\u001b[49m\u001b[38;5;241;43m=\u001b[39;49m\u001b[38;5;124;43m\"\u001b[39;49m\u001b[38;5;124;43mhuman\u001b[39;49m\u001b[38;5;124;43m\"\u001b[39;49m\u001b[43m)\u001b[49m\n\u001b[0;32m     13\u001b[0m env\u001b[38;5;241m.\u001b[39mmodel\u001b[38;5;241m.\u001b[39mopt\u001b[38;5;241m.\u001b[39mtimestep \u001b[38;5;241m=\u001b[39m \u001b[38;5;241m0.01\u001b[39m  \u001b[38;5;66;03m# タイムステップを設定 RecordVideoする場合はそれ以降に書かないとerrorが出る\u001b[39;00m\n\u001b[0;32m     15\u001b[0m \u001b[38;5;66;03m# model = PPO(\"MlpPolicy\", env, verbose=1)\u001b[39;00m\n",
      "File \u001b[1;32mc:\\Users\\atusi\\anaconda3\\envs\\gymenv\\Lib\\site-packages\\gymnasium\\envs\\registration.py:767\u001b[0m, in \u001b[0;36mmake\u001b[1;34m(id, max_episode_steps, autoreset, apply_api_compatibility, disable_env_checker, **kwargs)\u001b[0m\n\u001b[0;32m    764\u001b[0m     \u001b[38;5;28;01massert\u001b[39;00m \u001b[38;5;28misinstance\u001b[39m(\u001b[38;5;28mid\u001b[39m, \u001b[38;5;28mstr\u001b[39m)\n\u001b[0;32m    766\u001b[0m     \u001b[38;5;66;03m# The environment name can include an unloaded module in \"module:env_name\" style\u001b[39;00m\n\u001b[1;32m--> 767\u001b[0m     env_spec \u001b[38;5;241m=\u001b[39m \u001b[43m_find_spec\u001b[49m\u001b[43m(\u001b[49m\u001b[38;5;28;43mid\u001b[39;49m\u001b[43m)\u001b[49m\n\u001b[0;32m    769\u001b[0m \u001b[38;5;28;01massert\u001b[39;00m \u001b[38;5;28misinstance\u001b[39m(env_spec, EnvSpec)\n\u001b[0;32m    771\u001b[0m \u001b[38;5;66;03m# Update the env spec kwargs with the `make` kwargs\u001b[39;00m\n",
      "File \u001b[1;32mc:\\Users\\atusi\\anaconda3\\envs\\gymenv\\Lib\\site-packages\\gymnasium\\envs\\registration.py:529\u001b[0m, in \u001b[0;36m_find_spec\u001b[1;34m(env_id)\u001b[0m\n\u001b[0;32m    523\u001b[0m     logger\u001b[38;5;241m.\u001b[39mwarn(\n\u001b[0;32m    524\u001b[0m         \u001b[38;5;124mf\u001b[39m\u001b[38;5;124m\"\u001b[39m\u001b[38;5;124mUsing the latest versioned environment `\u001b[39m\u001b[38;5;132;01m{\u001b[39;00mnew_env_id\u001b[38;5;132;01m}\u001b[39;00m\u001b[38;5;124m` \u001b[39m\u001b[38;5;124m\"\u001b[39m\n\u001b[0;32m    525\u001b[0m         \u001b[38;5;124mf\u001b[39m\u001b[38;5;124m\"\u001b[39m\u001b[38;5;124minstead of the unversioned environment `\u001b[39m\u001b[38;5;132;01m{\u001b[39;00menv_name\u001b[38;5;132;01m}\u001b[39;00m\u001b[38;5;124m`.\u001b[39m\u001b[38;5;124m\"\u001b[39m\n\u001b[0;32m    526\u001b[0m     )\n\u001b[0;32m    528\u001b[0m \u001b[38;5;28;01mif\u001b[39;00m env_spec \u001b[38;5;129;01mis\u001b[39;00m \u001b[38;5;28;01mNone\u001b[39;00m:\n\u001b[1;32m--> 529\u001b[0m     \u001b[43m_check_version_exists\u001b[49m\u001b[43m(\u001b[49m\u001b[43mns\u001b[49m\u001b[43m,\u001b[49m\u001b[43m \u001b[49m\u001b[43mname\u001b[49m\u001b[43m,\u001b[49m\u001b[43m \u001b[49m\u001b[43mversion\u001b[49m\u001b[43m)\u001b[49m\n\u001b[0;32m    530\u001b[0m     \u001b[38;5;28;01mraise\u001b[39;00m error\u001b[38;5;241m.\u001b[39mError(\n\u001b[0;32m    531\u001b[0m         \u001b[38;5;124mf\u001b[39m\u001b[38;5;124m\"\u001b[39m\u001b[38;5;124mNo registered env with id: \u001b[39m\u001b[38;5;132;01m{\u001b[39;00menv_name\u001b[38;5;132;01m}\u001b[39;00m\u001b[38;5;124m. Did you register it, or import the package that registers it? Use `gymnasium.pprint_registry()` to see all of the registered environments.\u001b[39m\u001b[38;5;124m\"\u001b[39m\n\u001b[0;32m    532\u001b[0m     )\n\u001b[0;32m    534\u001b[0m \u001b[38;5;28;01mreturn\u001b[39;00m env_spec\n",
      "File \u001b[1;32mc:\\Users\\atusi\\anaconda3\\envs\\gymenv\\Lib\\site-packages\\gymnasium\\envs\\registration.py:395\u001b[0m, in \u001b[0;36m_check_version_exists\u001b[1;34m(ns, name, version)\u001b[0m\n\u001b[0;32m    392\u001b[0m \u001b[38;5;28;01mif\u001b[39;00m get_env_id(ns, name, version) \u001b[38;5;129;01min\u001b[39;00m registry:\n\u001b[0;32m    393\u001b[0m     \u001b[38;5;28;01mreturn\u001b[39;00m\n\u001b[1;32m--> 395\u001b[0m \u001b[43m_check_name_exists\u001b[49m\u001b[43m(\u001b[49m\u001b[43mns\u001b[49m\u001b[43m,\u001b[49m\u001b[43m \u001b[49m\u001b[43mname\u001b[49m\u001b[43m)\u001b[49m\n\u001b[0;32m    396\u001b[0m \u001b[38;5;28;01mif\u001b[39;00m version \u001b[38;5;129;01mis\u001b[39;00m \u001b[38;5;28;01mNone\u001b[39;00m:\n\u001b[0;32m    397\u001b[0m     \u001b[38;5;28;01mreturn\u001b[39;00m\n",
      "File \u001b[1;32mc:\\Users\\atusi\\anaconda3\\envs\\gymenv\\Lib\\site-packages\\gymnasium\\envs\\registration.py:372\u001b[0m, in \u001b[0;36m_check_name_exists\u001b[1;34m(ns, name)\u001b[0m\n\u001b[0;32m    369\u001b[0m namespace_msg \u001b[38;5;241m=\u001b[39m \u001b[38;5;124mf\u001b[39m\u001b[38;5;124m\"\u001b[39m\u001b[38;5;124m in namespace \u001b[39m\u001b[38;5;132;01m{\u001b[39;00mns\u001b[38;5;132;01m}\u001b[39;00m\u001b[38;5;124m\"\u001b[39m \u001b[38;5;28;01mif\u001b[39;00m ns \u001b[38;5;28;01melse\u001b[39;00m \u001b[38;5;124m\"\u001b[39m\u001b[38;5;124m\"\u001b[39m\n\u001b[0;32m    370\u001b[0m suggestion_msg \u001b[38;5;241m=\u001b[39m \u001b[38;5;124mf\u001b[39m\u001b[38;5;124m\"\u001b[39m\u001b[38;5;124m Did you mean: `\u001b[39m\u001b[38;5;132;01m{\u001b[39;00msuggestion[\u001b[38;5;241m0\u001b[39m]\u001b[38;5;132;01m}\u001b[39;00m\u001b[38;5;124m`?\u001b[39m\u001b[38;5;124m\"\u001b[39m \u001b[38;5;28;01mif\u001b[39;00m suggestion \u001b[38;5;28;01melse\u001b[39;00m \u001b[38;5;124m\"\u001b[39m\u001b[38;5;124m\"\u001b[39m\n\u001b[1;32m--> 372\u001b[0m \u001b[38;5;28;01mraise\u001b[39;00m error\u001b[38;5;241m.\u001b[39mNameNotFound(\n\u001b[0;32m    373\u001b[0m     \u001b[38;5;124mf\u001b[39m\u001b[38;5;124m\"\u001b[39m\u001b[38;5;124mEnvironment `\u001b[39m\u001b[38;5;132;01m{\u001b[39;00mname\u001b[38;5;132;01m}\u001b[39;00m\u001b[38;5;124m` doesn\u001b[39m\u001b[38;5;124m'\u001b[39m\u001b[38;5;124mt exist\u001b[39m\u001b[38;5;132;01m{\u001b[39;00mnamespace_msg\u001b[38;5;132;01m}\u001b[39;00m\u001b[38;5;124m.\u001b[39m\u001b[38;5;132;01m{\u001b[39;00msuggestion_msg\u001b[38;5;132;01m}\u001b[39;00m\u001b[38;5;124m\"\u001b[39m\n\u001b[0;32m    374\u001b[0m )\n",
      "\u001b[1;31mNameNotFound\u001b[0m: Environment `MouseEnv` doesn't exist."
     ]
    }
   ],
   "source": [
    "import gymnasium as gym\n",
    "from stable_baselines3 import SAC, PPO\n",
    "from tqdm import trange\n",
    "import matplotlib.pyplot as plt\n",
    "from gymnasium.wrappers import RecordVideo\n",
    "\n",
    "import datetime\n",
    "from stable_baselines3.common.callbacks import BaseCallback\n",
    "\n",
    "start_time = datetime.datetime.now().replace(microsecond=0)\n",
    "\n",
    "env = gym.make(\"MouseEnv-v0\", render_mode=\"human\")\n",
    "env.model.opt.timestep = 0.01  # タイムステップを設定 RecordVideoする場合はそれ以降に書かないとerrorが出る\n",
    "\n",
    "# model = PPO(\"MlpPolicy\", env, verbose=1)\n",
    "model = PPO.load('PPO',env)\n",
    "for i in range(3):\n",
    "    # モデルのテスト\n",
    "    state, _ = env.reset()  # ここを修正\n",
    "    for i in trange(100):\n",
    "        # 環境の描画\n",
    "        env.render()\n",
    "\n",
    "        # モデルの推論\n",
    "        action, _ = model.predict(state)\n",
    "\n",
    "        # 1ステップ実行\n",
    "        obs, reward, terminated, truncated, info = env.step(action) #以前の4要素のタプルから5要素のタプルに変更され，`observation, reward, terminated, truncated, info`という形式になった。\n",
    "        # エピソード完了（終了または切り捨て）のチェック terminated(終了した)は目的を達成してエピソードを終了したことを表す，truncated(切り捨てられた)は，達成できずにエピソードが終了したことを表す\n",
    "        if terminated or truncated:\n",
    "            state, _ = env.reset() # エピソードが終了したら、環境をリセット\n",
    "# 環境のクローズ\n",
    "env.close()"
   ]
  },
  {
   "cell_type": "code",
   "execution_count": 3,
   "metadata": {},
   "outputs": [
    {
     "data": {
      "text/html": [
       "<pre style=\"white-space:pre;overflow-x:auto;line-height:normal;font-family:Menlo,'DejaVu Sans Mono',consolas,'Courier New',monospace\">{'render_modes': ['human', 'rgb_array'], 'render_fps': 50}\n",
       "</pre>\n"
      ],
      "text/plain": [
       "{'render_modes': ['human', 'rgb_array'], 'render_fps': 50}\n"
      ]
     },
     "metadata": {},
     "output_type": "display_data"
    }
   ],
   "source": [
    "import gymnasium as gym\n",
    "env = gym.make('CartPole-v1')\n",
    "print(env.metadata)\n"
   ]
  },
  {
   "cell_type": "markdown",
   "metadata": {},
   "source": [
    "## env.step(action)の戻り値の更新について（４つから５つになりました）\n",
    "Gymライブラリのバージョン0.26以降、及びGymnasiumの全バージョンにおいて、`env.step()`メソッドの戻り値は、以前の4要素のタプルから5要素のタプルに変更されました。これまでの`observation, reward, done, info`という形式から、`observation, reward, terminated, truncated, info`という形式になっています。\n",
    "\n",
    "ここでの`terminated`と`truncated`はどちらもブール値（真偽値）です。`terminated`は環境がマルコフ決定過程（MDP）のタスクの定義に基づいて終了状態に達したことを示します。これは通常、環境の目標が達成されたり、終了条件が満たされたときに発生します。一方、`truncated`は、エピソードがMDPの範囲外の条件、たとえば時間制限や境界条件（エージェントが境界を越えるなど）によって終了したことを示します。強化学習アルゴリズムにおいて、特にブートストラップを伴うものでは、終了と切り捨て状態の取り扱いが値の更新において異なる場合があるため、この区別は重要です。\n",
    "\n",
    "Gymライブラリのこの更新は、強化学習タスクにおける終了と切り捨ての明確な区別を提供するために行われました。これは、特定のアルゴリズムの正確な実装にとって重要です。終了(`terminated`)と切り捨て(`truncated`)の両方のタイプのエピソード終了を区別するために、両方が含まれるようになりました。\n",
    "\n",
    "あなたの目的に合わせて、エピソードが終了したかどうか（理由に関係なく）を知りたい場合は、`terminated`または`truncated`のいずれかが`True`であるかどうかを確認すればよいです。その場合、環境をリセットします。"
   ]
  },
  {
   "cell_type": "code",
   "execution_count": null,
   "metadata": {},
   "outputs": [],
   "source": [
    "# モデルのテスト\n",
    "state, _ = env.reset()  # ここを修正\n",
    "for i in trange(4000):\n",
    "    # 環境の描画\n",
    "    env.render()\n",
    "\n",
    "    # モデルの推論\n",
    "    action, _ = model.predict(state)\n",
    "\n",
    "    # 1ステップ実行\n",
    "    state, rewards, done, info = env.step(action)\n",
    "\n",
    "    # エピソード完了\n",
    "    if done:\n",
    "        state, _ = env.reset()  # エピソードが終了したら、環境をリセット\n"
   ]
  }
 ],
 "metadata": {
  "kernelspec": {
   "display_name": "gymenv",
   "language": "python",
   "name": "python3"
  },
  "language_info": {
   "codemirror_mode": {
    "name": "ipython",
    "version": 3
   },
   "file_extension": ".py",
   "mimetype": "text/x-python",
   "name": "python",
   "nbconvert_exporter": "python",
   "pygments_lexer": "ipython3",
   "version": "3.11.7"
  }
 },
 "nbformat": 4,
 "nbformat_minor": 2
}
