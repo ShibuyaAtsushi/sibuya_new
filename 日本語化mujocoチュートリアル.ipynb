{
  "cells": [
    {
      "cell_type": "markdown",
      "metadata": {
        "id": "MpkYHwCqk7W-"
      },
      "source": [
        "![MuJoCo banner](https://raw.githubusercontent.com/google-deepmind/mujoco/main/banner.png)\n",
        "\n",
        "# <h1><center>Tutorial  <a href=\"https://colab.research.google.com/github/google-deepmind/mujoco/blob/main/python/tutorial.ipynb\"><img src=\"https://colab.research.google.com/assets/colab-badge.svg\" width=\"140\" align=\"center\"/></a></center></h1>\n",
        "\n",
        "このnotebookは， [**MuJoCo** physics](https://github.com/google-deepmind/mujoco#readme)の入門チュートリアルです．ネイティブのPythonバインディングを使用しています。\n",
        "\n",
        "**CPUのみのランタイムを使用している場合**は、メニューの \"Runtime > Change runtime type \"で切り替えることができます。\n",
        "\n",
        "\n",
        "\n",
        "\n",
        "\n",
        "\n",
        "\n",
        "\n"
      ]
    },
    {
      "cell_type": "markdown",
      "metadata": {
        "id": "xBSdkbmGN2K-"
      },
      "source": [
        "### 著作権について"
      ]
    },
    {
      "cell_type": "markdown",
      "metadata": {
        "id": "_UbO9uhtBSX5"
      },
      "source": [
        "> <p><small><small>Copyright 2022 DeepMind Technologies Limited.</small></p>\n",
        "> <p><small><small>Licensed under the Apache License, Version 2.0 (the \"License\"); you may not use this file except in compliance with the License. You may obtain a copy of the License at <a href=\"http://www.apache.org/licenses/LICENSE-2.0\">http://www.apache.org/licenses/LICENSE-2.0</a>.</small></small></p>\n",
        "> <p><small><small>Unless required by applicable law or agreed to in writing, software distributed under the License is distributed on an \"AS IS\" BASIS, WITHOUT WARRANTIES OR CONDITIONS OF ANY KIND, either express or implied. See the License for the specific language governing permissions and limitations under the License.</small></small></p>"
      ]
    },
    {
      "cell_type": "markdown",
      "metadata": {
        "id": "YvyGCsgSCxHQ"
      },
      "source": [
        "# Install MuJoCo"
      ]
    },
    {
      "cell_type": "code",
      "execution_count": 1,
      "metadata": {
        "id": "Xqo7pyX-n72M"
      },
      "outputs": [],
      "source": [
        "# !pip install mujoco"
      ]
    },
    {
      "cell_type": "code",
      "execution_count": 2,
      "metadata": {
        "cellView": "form",
        "id": "IbZxYDxzoz5R"
      },
      "outputs": [
        {
          "name": "stdout",
          "output_type": "stream",
          "text": [
            "mujocoのインストールが成功しているか確認します\n",
            "インストールは成功していました.\n"
          ]
        }
      ],
      "source": [
        "#@title インストールが成功したかどうかを確認する.\n",
        "\n",
        "# from google.colab import files\n",
        "\n",
        "import distutils.util\n",
        "import os\n",
        "import subprocess\n",
        "if subprocess.run('nvidia-smi').returncode: #GPUが利用可能かどうかを確認します。subprocess.run('nvidia-smi').returncode は、nvidia-smiコマンドを実行し、その戻り値を取得しています。もしGPUが利用できない場合はエラーが発生します。\n",
        "  raise RuntimeError(\n",
        "      'Cannot communicate with GPU. '\n",
        "      'Make sure you are using a GPU Colab runtime. '\n",
        "      'Go to the Runtime menu and select Choose runtime type.')\n",
        "\n",
        "# # Add an ICD config so that glvnd can pick up the Nvidia EGL driver.\n",
        "# # This is usually installed as part of an Nvidia driver package, but the Colab\n",
        "# # kernel doesn't install its driver via APT, and as a result the ICD is missing.\n",
        "# # (https://github.com/NVIDIA/libglvnd/blob/master/src/EGL/icd_enumeration.md)\n",
        "# NVIDIA_ICD_CONFIG_PATH = '/usr/share/glvnd/egl_vendor.d/10_nvidia.json'\n",
        "# if not os.path.exists(NVIDIA_ICD_CONFIG_PATH):\n",
        "#   with open(NVIDIA_ICD_CONFIG_PATH, 'w') as f:\n",
        "#     f.write(\"\"\"{\n",
        "#     \"file_format_version\" : \"1.0.0\",\n",
        "#     \"ICD\" : {\n",
        "#         \"library_path\" : \"libEGL_nvidia.so.0\"\n",
        "#     }\n",
        "# }\n",
        "# \"\"\")\n",
        "\n",
        "# Configure MuJoCo to use the EGL rendering backend (requires GPU)\n",
        "# print('Setting environment variable to use GPU rendering:')\n",
        "# %env MUJOCO_GL=egl\n",
        "\n",
        "try:\n",
        "  print('mujocoのインストールが成功しているか確認します')\n",
        "  import mujoco\n",
        "  mujoco.MjModel.from_xml_string('<mujoco/>') #超単純なxmlを読み込ませ，エラーが出ないか確かめる\n",
        "except Exception as e:\n",
        "  raise e from RuntimeError(\n",
        "      'Something went wrong during installation. Check the shell output above '\n",
        "      'for more information.\\n'\n",
        "      'If using a hosted Colab runtime, make sure you enable GPU acceleration '\n",
        "      'by going to the Runtime menu and selecting \"Choose runtime type\".')\n",
        "\n",
        "print('インストールは成功していました.')"
      ]
    },
    {
      "cell_type": "code",
      "execution_count": 3,
      "metadata": {
        "id": "T5f4w3Kq2X14"
      },
      "outputs": [
        {
          "name": "stdout",
          "output_type": "stream",
          "text": [
            "Installing mediapy:\n"
          ]
        }
      ],
      "source": [
        "#Import packages for plotting and creating graphics\n",
        "import time\n",
        "import itertools\n",
        "import numpy as np\n",
        "from typing import Callable, NamedTuple, Optional, Union, List\n",
        "\n",
        "# Graphics and plotting.\n",
        "print('Installing mediapy:')\n",
        "# !pip install -q mediapy\n",
        "import mediapy as media\n",
        "import matplotlib.pyplot as plt\n",
        "\n",
        "# More legible printing from numpy.\n",
        "np.set_printoptions(precision=3, suppress=True, linewidth=100)\n",
        "# コードの意味\n",
        "# np.set_printoptions: これはNumPyの関数であり、NumPyのデフォルトの出力オプションを変更します。\n",
        "# precision=3: 小数点以下の桁数を3桁に設定します。つまり、浮動小数点数は3桁まで表示されます。\n",
        "# suppress=True: 指数表記を抑制します。通常、非常に大きな数や非常に小さな数は指数表記で表示されますが、このオプションをTrueに設定することで、通常の小数形式で表示されます。\n",
        "# linewidth=100: 1行に表示される文字の最大数を100文字に設定します。これにより、行が長すぎて読みにくくなるのを防ぎます。\n",
        "# つまり、このコードは、NumPyを使用する際に出力される浮動小数点数のフォーマットを設定し、より読みやすい形式で表示するためのものです。"
      ]
    },
    {
      "cell_type": "markdown",
      "metadata": {
        "id": "t0CF6Gvkt_Cw"
      },
      "source": [
        "# MuJoCoの基本\n",
        "\n",
        "まず、簡単なモデルを定義し、ロードすることから始めます："
      ]
    },
    {
      "cell_type": "code",
      "execution_count": 4,
      "metadata": {
        "id": "3KJVqak6xdJa"
      },
      "outputs": [],
      "source": [
        "xml = \"\"\"\n",
        "<mujoco>\n",
        "  <worldbody>\n",
        "    <geom name=\"red_box\" type=\"box\" size=\".2 .2 .2\" rgba=\"1 0 0 1\"/>\n",
        "    <geom name=\"green_sphere\" pos=\".2 .2 .2\" size=\".1\" rgba=\"0 1 0 1\"/>\n",
        "  </worldbody>\n",
        "</mujoco>\n",
        "\"\"\"\n",
        "model = mujoco.MjModel.from_xml_string(xml)"
      ]
    },
    {
      "cell_type": "markdown",
      "metadata": {
        "id": "slhf39lGxvDI"
      },
      "source": [
        "以下はMuJoCo公式チュートリアルの一部の日本語訳です：\n",
        "\n",
        "\n",
        "`xml`文字列はMuJoCoの[ MJCF ](http://www.mujoco.org/book/modeling.html)形式で書かれており、これは[XML](https://en.wikipedia.org/wiki/XML#Key_terminology)ベースのモデリング言語です。\n",
        "  - 唯一必須の要素は `<mujoco>` です。最小の有効なMJCFモデルは `<mujoco/>` であり、完全に空のモデルです。\n",
        "  - すべての物理要素は常にトップレベルのボディであり、デカルト座標系におけるグローバルオリジンを構成する `<worldbody>` 内に存在します。\n",
        "  - 我々は `red_box` と `green_sphere` という名前の二つの形状を定義しています。\n",
        "  - **質問:** `red_box` には位置がありませんし、`green_sphere` にはタイプがありません。それはなぜですか？\n",
        "    - **回答:** MJCFの属性には *デフォルト値* があります。デフォルトの位置は `0 0 0` であり、デフォルトのジオムタイプは `sphere` です。MJCF言語の詳細はドキュメンテーションの[XMLリファレンス章](https://mujoco.readthedocs.io/en/latest/XMLreference.html)で説明されています。\n",
        "\n",
        "`from_xml_string()` メソッドはモデルコンパイラを呼び出し、バイナリの `mjModel` インスタンスを作成します。"
      ]
    },
    {
      "cell_type": "markdown",
      "metadata": {
        "id": "gf9h_wi9weet"
      },
      "source": [
        "## mjModel\n",
        "\n",
        "MuJoCoの `mjModel` は*モデルの記述*を含みます。つまり、*時間経過によって変化しない*すべての数量が含まれています。`mjModel`の完全な説明はヘッダファイル [`mjmodel.h`](https://github.com/google-deepmind/mujoco/blob/main/include/mujoco/mjmodel.h) の最後にあります。ヘッダファイルには各フィールドを説明する短い有用なインラインコメントが含まれていることに注意してください。\n",
        "\n",
        "`mjModel`で見つかる数量の例としては、`ngeom`（シーン内のジオムの数）やそれぞれの色を示す `geom_rgba` があります。"
      ]
    },
    {
      "cell_type": "code",
      "execution_count": 5,
      "metadata": {
        "id": "F40Pe6DY3Q0g"
      },
      "outputs": [
        {
          "data": {
            "text/plain": [
              "2"
            ]
          },
          "execution_count": 5,
          "metadata": {},
          "output_type": "execute_result"
        }
      ],
      "source": [
        "model.ngeom"
      ]
    },
    {
      "cell_type": "code",
      "execution_count": 6,
      "metadata": {
        "id": "MOIJG9pzx8cA"
      },
      "outputs": [
        {
          "data": {
            "text/plain": [
              "array([[1., 0., 0., 1.],\n",
              "       [0., 1., 0., 1.]], dtype=float32)"
            ]
          },
          "execution_count": 6,
          "metadata": {},
          "output_type": "execute_result"
        }
      ],
      "source": [
        "model.geom_rgba"
      ]
    },
    {
      "cell_type": "markdown",
      "metadata": {
        "id": "bzcLjdY23Kvp"
      },
      "source": [
        "## Named access (指名アクセス?)\n",
        "\n",
        "MuJoCoのPythonバインディングは、名前を使用した便利な[アクセサ](https://mujoco.readthedocs.io/en/latest/python.html#named-access)を提供します。名前文字列なしで `model.geom()` アクセサを呼び出すと、有効な名前が何かを教えてくれる便利なエラーが生成されます。(つまり何という名前が定義されているのか一覧表示できる)"
      ]
    },
    {
      "cell_type": "code",
      "execution_count": 7,
      "metadata": {
        "id": "9AuTwbLFyJxQ"
      },
      "outputs": [
        {
          "name": "stdout",
          "output_type": "stream",
          "text": [
            "\"Invalid name ''. Valid names: ['green_sphere', 'red_box']\"\n"
          ]
        }
      ],
      "source": [
        "try:\n",
        "  model.geom()\n",
        "except KeyError as e:\n",
        "  print(e)"
      ]
    },
    {
      "cell_type": "markdown",
      "metadata": {
        "id": "qkfLK3h2zrqr"
      },
      "source": [
        "特定のプロパティを指定せずに名前付きアクセサを呼び出すと、すべての有効なプロパティが表示されます  \n",
        "(つまり，ただ名前を指定してmodel.geomを実行すると，どんな機能があるかを一覧表示してくれる？)"
      ]
    },
    {
      "cell_type": "code",
      "execution_count": 8,
      "metadata": {
        "id": "9X95TlWnyEEw"
      },
      "outputs": [
        {
          "data": {
            "text/plain": [
              "<_MjModelGeomViews\n",
              "  bodyid: array([0])\n",
              "  conaffinity: array([1])\n",
              "  condim: array([3])\n",
              "  contype: array([1])\n",
              "  dataid: array([-1])\n",
              "  friction: array([1.   , 0.005, 0.   ])\n",
              "  gap: array([0.])\n",
              "  group: array([0])\n",
              "  id: 1\n",
              "  margin: array([0.])\n",
              "  matid: array([-1])\n",
              "  name: 'green_sphere'\n",
              "  pos: array([0.2, 0.2, 0.2])\n",
              "  priority: array([0])\n",
              "  quat: array([1., 0., 0., 0.])\n",
              "  rbound: array([0.1])\n",
              "  rgba: array([0., 1., 0., 1.], dtype=float32)\n",
              "  sameframe: array([0], dtype=uint8)\n",
              "  size: array([0.1, 0. , 0. ])\n",
              "  solimp: array([0.9  , 0.95 , 0.001, 0.5  , 2.   ])\n",
              "  solmix: array([1.])\n",
              "  solref: array([0.02, 1.  ])\n",
              "  type: array([2])\n",
              "  user: array([], dtype=float64)\n",
              ">"
            ]
          },
          "execution_count": 8,
          "metadata": {},
          "output_type": "execute_result"
        }
      ],
      "source": [
        "model.geom('green_sphere')"
      ]
    },
    {
      "cell_type": "markdown",
      "metadata": {
        "id": "mS9qDLevKsJq"
      },
      "source": [
        "それでは `green_sphere`'の色情報であるrgba値を見ていきましょう:\n",
        "（さっき一覧表示した中のrgbaオプション（プロパティ？）を使ってみるという場面）"
      ]
    },
    {
      "cell_type": "code",
      "execution_count": 9,
      "metadata": {
        "id": "xsBlJAV7zpHb"
      },
      "outputs": [
        {
          "data": {
            "text/plain": [
              "array([0., 1., 0., 1.], dtype=float32)"
            ]
          },
          "execution_count": 9,
          "metadata": {},
          "output_type": "execute_result"
        }
      ],
      "source": [
        "model.geom('green_sphere').rgba"
      ]
    },
    {
      "cell_type": "markdown",
      "metadata": {
        "id": "8a8hswjjKyIa"
      },
      "source": [
        "以下の機能は、MuJoCoの[`mj_name2id`](https://mujoco.readthedocs.io/en/latest/APIreference.html?highlight=mj_name2id#mj-name2id)関数の便利なショートカットです："
      ]
    },
    {
      "cell_type": "code",
      "execution_count": 10,
      "metadata": {
        "id": "Ng92hNUoKnVq"
      },
      "outputs": [
        {
          "name": "stdout",
          "output_type": "stream",
          "text": [
            "[0. 1. 0. 1.]\n",
            "[0. 1. 0. 1.]\n"
          ]
        }
      ],
      "source": [
        "id = mujoco.mj_name2id(model, mujoco.mjtObj.mjOBJ_GEOM, 'green_sphere') #名前からidに変換するショートカット機能（関数？２つめの引数が不明）\n",
        "print(model.geom_rgba[id, :])\n",
        "\n",
        "#####実験↓####\n",
        "print(model.geom_rgba[id])"
      ]
    },
    {
      "cell_type": "markdown",
      "metadata": {
        "id": "5WL_SaJPLl3r"
      },
      "source": [
        "同様に、読み取り専用の `id` と `name` プロパティは、idから名前への変換やその逆を行うのに使用できます：\n",
        "（mujocoで物体を指定する場合，その物体を定義するときにつけた名前でも指定できるし，idでも指定できる．名前とidを相互変換できる機能がある）"
      ]
    },
    {
      "cell_type": "code",
      "execution_count": 11,
      "metadata": {},
      "outputs": [],
      "source": [
        "# geom_rgb = [[1, 2, 3],\n",
        "#             [4, 5, 6],\n",
        "#             [7, 8, 9]]\n",
        "\n",
        "# print(geom_rgb[1]) #  ->  4\n",
        "# print(geom_rgb[1, :]) # -> [4, 5, 6]\n",
        "# print(geom_rgb[1]) #  ->  4\n"
      ]
    },
    {
      "cell_type": "code",
      "execution_count": 12,
      "metadata": {
        "id": "2CbGSmRZeE5p"
      },
      "outputs": [
        {
          "name": "stdout",
          "output_type": "stream",
          "text": [
            "id of \"green_sphere\":  1\n",
            "name of geom 1:  green_sphere\n",
            "name of body 0:  world\n"
          ]
        }
      ],
      "source": [
        "print('id of \"green_sphere\": ', model.geom('green_sphere').id)\n",
        "print('name of geom 1: ', model.geom(1).name)\n",
        "print('name of body 0: ', model.body(0).name)"
      ]
    },
    {
      "cell_type": "markdown",
      "metadata": {
        "id": "3RIizubaL_du"
      },
      "source": [
        "0番目のボディは常に `world` です。これは名前を変更できません。\n",
        "\n",
        "`id` および `name` 属性はPythonの内包表記で便利です：\n",
        "（内包表記で，一文でmodel内のgeomの名前を一覧表示するプログラムの紹介）"
      ]
    },
    {
      "cell_type": "code",
      "execution_count": 13,
      "metadata": {
        "id": "m3MtIE5F1K7s"
      },
      "outputs": [
        {
          "data": {
            "text/plain": [
              "['red_box', 'green_sphere']"
            ]
          },
          "execution_count": 13,
          "metadata": {},
          "output_type": "execute_result"
        }
      ],
      "source": [
        "[model.geom(i).name for i in range(model.ngeom)]"
      ]
    },
    {
      "cell_type": "markdown",
      "metadata": {
        "id": "t5hY0fyXFLcf"
      },
      "source": [
        "## `mjData`\n",
        "`mjData` は*状態*とそれに依存する量を含んでいます。状態は時間、[一般化座標](https://en.wikipedia.org/wiki/Generalized_coordinates)、一般化速度で構成されています。それぞれ `data.time`、`data.qpos`、および `data.qvel` です。新しい `mjData` を作成するには、`mjModel` があれば十分です。"
      ]
    },
    {
      "cell_type": "code",
      "execution_count": 14,
      "metadata": {
        "id": "FV2Hy6m948nr"
      },
      "outputs": [],
      "source": [
        "data = mujoco.MjData(model)"
      ]
    },
    {
      "cell_type": "markdown",
      "metadata": {
        "id": "-KmNuvlJ46u0"
      },
      "source": [
        "`mjData` には状態の*関数*も含まれており、例えばワールドフレーム内のオブジェクトの直交座標が含まれます。我々の二つの形状(redboxとgreensphere)の(x, y, z)位置は `data.geom_xpos` に格納されています："
      ]
    },
    {
      "cell_type": "code",
      "execution_count": 15,
      "metadata": {
        "id": "CPwDcAQ0-uUE"
      },
      "outputs": [
        {
          "name": "stdout",
          "output_type": "stream",
          "text": [
            "[[0. 0. 0.]\n",
            " [0. 0. 0.]]\n"
          ]
        }
      ],
      "source": [
        "print(data.geom_xpos)"
      ]
    },
    {
      "cell_type": "markdown",
      "metadata": {
        "id": "Sjst5xGXX3sr"
      },
      "source": [
        "待ってください。なぜ私たちの二つの形状が両方とも原点にあるのですか？緑色の球体をオフセットしなかったのではないですか？答えは、`mjData`内の派生量は明示的に伝播する必要があるということです（[以下を参照](#scrollTo=QY1gpms1HXeN)）。私たちの場合、最小限に必要な関数は[`mj_kinematics`](https://mujoco.readthedocs.io/en/latest/APIreference.html#mj-kinematics)です。これはすべてのオブジェクトのグローバルな直交座標を計算します．カメラやライトは除きます。\n",
        "（赤い立方体と緑の玉がありましたが，なぜ上では両方とも座標が0,0,0なのか？それは，～～～（まだよくわかってない）　座標は相対的に決まるからである．想定的な表示の仕方ではなく，絶対的な座標（グローバルな直交座標）を取得したい場合は，mj_kinematicsというのを使えば取得できる）"
      ]
    },
    {
      "cell_type": "code",
      "execution_count": 16,
      "metadata": {
        "id": "tfe0YeZRYNTr"
      },
      "outputs": [
        {
          "name": "stdout",
          "output_type": "stream",
          "text": [
            "raw access:\n",
            " [[0.  0.  0. ]\n",
            " [0.2 0.2 0.2]]\n",
            "\n",
            "named access:\n",
            " [0.2 0.2 0.2]\n"
          ]
        }
      ],
      "source": [
        "mujoco.mj_kinematics(model, data)\n",
        "print('raw access:\\n', data.geom_xpos)\n",
        "\n",
        "# MjData also supports named access:\n",
        "print('\\nnamed access:\\n', data.geom('green_sphere').xpos)"
      ]
    },
    {
      "cell_type": "markdown",
      "metadata": {
        "id": "eU7uWNsTwmcZ"
      },
      "source": [
        "# 基本的なレンダリング、シミュレーション、アニメーション\n",
        "\n",
        "レンダリングを行うには、`Renderer` オブジェクトをインスタンス化し、その `render` メソッドを呼び出す必要があります。\n",
        "\n",
        "また、Colabのセクションを独立させるために、モデルを再読み込みします。"
      ]
    },
    {
      "cell_type": "code",
      "execution_count": 17,
      "metadata": {
        "id": "xK3c0-UDxMrN"
      },
      "outputs": [
        {
          "data": {
            "text/html": [
              "<table class=\"show_images\" style=\"border-spacing:0px;\"><tr><td style=\"padding:1px;\"><img width=\"320\" height=\"240\" style=\"image-rendering:auto; object-fit:cover;\" src=\"data:image/png;base64,iVBORw0KGgoAAAANSUhEUgAAAUAAAADwCAIAAAD+Tyo8AAAA9UlEQVR4nO3BAQEAAACCIP+vbkhAAQAAAAAAAAAAAAAAAAAAAAAAAAAAAAAAAAAAAAAAAAAAAAAAAAAAAAAAAAAAAAAAAAAAAAAAAAAAAAAAAAAAAAAAAAAAAAAAAAAAAAAAAAAAAAAAAAAAAAAAAAAAAAAAAAAAAAAAAAAAAAAAAAAAAAAAAAAAAAAAAAAAAAAAAAAAAAAAAAAAAAAAAAAAAAAAAAAAAAAAAAAAAAAAAAAAAAAAAAAAAAAAAAAAAAAAAAAAAAAAAAAAAAAAAAAAAAAAAAAAAAAAAAAAAAAAAAAAAAAAAAAAAAAAAAAAAAAAAPBohR0AAXbPpmUAAAAASUVORK5CYII=\"/></td></tr></table>"
            ],
            "text/plain": [
              "<IPython.core.display.HTML object>"
            ]
          },
          "metadata": {},
          "output_type": "display_data"
        }
      ],
      "source": [
        "import mujoco\n",
        "import mediapy as media\n",
        "import matplotlib.pyplot as plt\n",
        "\n",
        "xml = \"\"\"\n",
        "<mujoco>\n",
        "    <default>\n",
        "        <!-- <joint damping=\".03\" actuatorforcerange=\"-0.5 0.5\"/> -->\n",
        "        <default class=\"wheel\">\n",
        "            <geom type=\"cylinder\" size=\".03 .01\" rgba=\".5 .5 1 1\" />\n",
        "        </default>\n",
        "    </default>\n",
        "\n",
        "    <compiler angle=\"degree\" coordinate=\"local\" inertiafromgeom=\"true\" />\n",
        "    <option integrator=\"RK4\" timestep=\"0.01\" />\n",
        "    <asset>\n",
        "        <texture builtin=\"gradient\" height=\"100\" rgb1=\"1 1 1\" rgb2=\"0 0 0\" type=\"skybox\" width=\"100\" />\n",
        "        <texture builtin=\"flat\" height=\"1278\" mark=\"cross\" markrgb=\"1 1 1\" name=\"texgeom\"\n",
        "            random=\"0.01\" rgb1=\"0.8 0.6 0.4\" rgb2=\"0.8 0.6 0.4\" type=\"cube\" width=\"127\" />\n",
        "        <texture builtin=\"checker\" height=\"100\" name=\"texplane\" rgb1=\"0 0 0\" rgb2=\"0.8 0.8 0.8\"\n",
        "            type=\"2d\" width=\"100\" />\n",
        "        <material name=\"MatPlane\" reflectance=\"0.5\" shininess=\"1\" specular=\"1\" texrepeat=\"60 60\"\n",
        "            texture=\"texplane\" />\n",
        "        <material name=\"geom\" texture=\"texgeom\" texuniform=\"true\" />\n",
        "    </asset>\n",
        "\n",
        "    <worldbody>\n",
        "        <light cutoff=\"100\" diffuse=\"1 1 1\" dir=\"-0 0 -1.3\" directional=\"true\" exponent=\"1\"\n",
        "            pos=\"0 0 1.3\" specular=\".1 .1 .1\" />\n",
        "        <!-- <geom type=\"plane\" size=\"50 50 .01\" rgba=\"0.6 1 0 1\" /> -->\n",
        "        <geom conaffinity=\"1\" condim=\"3\" material=\"MatPlane\" name=\"floor\" pos=\"0 0 0\" rgba=\"0.8 0.9 0.8 1\" size=\"3 3 3\" type=\"plane\"/>\n",
        "\n",
        "\n",
        "        <body pos=\"0 0 .08\">\n",
        "            <freejoint />\n",
        "            <geom name=\"red_box\" type=\"cylinder\" size=\".16 .040 \" rgba=\"0.1 0.1 0.1 .5\" pos=\"0 0 0\" />\n",
        "\n",
        "            <body name=\"left wheel\" pos=\"-0.04 .13 -.02\" zaxis=\"0 1 0\">\n",
        "                <joint name=\"left wheel joint\" type=\"hinge\" axis=\"0 0 1\" limited=\"false\" />\n",
        "                <geom type=\"cylinder\" size=\".036 .01\" rgba=\".5 .5 1 1\" />\n",
        "                <site type=\"box\" rgba=\"1 1 1 1\" size=\".006 .036 .012\" />\n",
        "            </body>\n",
        "\n",
        "            <body name=\"right wheel\" pos=\"-0.04 -.13 -.02\" zaxis=\"0 1 0\">\n",
        "                <joint name=\"right wheel joint\" type=\"hinge\" axis=\"0 0 1\" limited=\"false\" />\n",
        "                <geom type=\"cylinder\" size=\".036 .01\" rgba=\".5 .5 1 1\" />\n",
        "                <site type=\"box\" rgba=\"1 1 1 1\" size=\".006 .036 .012\" />\n",
        "            </body>\n",
        "\n",
        "            <body name=\"flont_ball\" pos=\".13 0 -.035\">\n",
        "                <joint type=\"ball\" limited=\"false\" />\n",
        "                <geom type=\"sphere\" size=\".02\" rgba=\".8 .8 0 1\" />\n",
        "                <site type=\"box\" rgba=\"1 0 0 1\" size=\".006 .02 .006\" />\n",
        "            </body>\n",
        "        </body>\n",
        "    </worldbody>\n",
        "    <actuator>\n",
        "        <motor name=\"right\" joint=\"right wheel joint\" />\n",
        "        <motor name=\"left\" joint=\"left wheel joint\" />\n",
        "        <!-- <motor name=\"right\" joint=\"right wheel joint\" ctrllimited=\"true\" ctrlrange=\"-1.0 1.0\" gear=\".02\"/>\n",
        "        <motor name=\"left\" joint=\"left wheel joint\" ctrllimited=\"true\" ctrlrange=\"-1.0 1.0\" gear=\".02\"/> -->\n",
        "    </actuator>\n",
        "</mujoco>\n",
        "\"\"\"\n",
        "# Make model and data\n",
        "model = mujoco.MjModel.from_xml_string(xml)\n",
        "data = mujoco.MjData(model)\n",
        "\n",
        "# Make renderer, render and show the pixels\n",
        "renderer = mujoco.Renderer(model)\n",
        "media.show_image(renderer.render())"
      ]
    },
    {
      "cell_type": "markdown",
      "metadata": {
        "id": "ZkFSHeYGxlT5"
      },
      "source": [
        "うーん、なぜ黒いピクセルが表示されるのでしょうか？\n",
        "\n",
        "**回答:** 先ほどと同じ理由で、まずは `mjData` 内の値を伝播させる必要があります。今回は [`mj_forward`](https://mujoco.readthedocs.io/en/latest/APIreference.html#mj-forward) を呼び出します。これは加速度の計算までのパイプライン全体を呼び出します。つまり、$\\dot x = f(x)$ を計算します。ここで $x$ は状態を表します。この関数は実際には必要以上のことをしますが、計算時間を節約することに興味がない限り、`mj_forward` を呼び出すのが良い習慣です。そうすれば、何か重要な部分を見逃していないかがわかります。\n",
        "mj_forwardは，積分はせず順序を守らない実行でシミュレーションを1つ進める？（mj_inverseというものもあり，順ダイナミクスと逆ダイナミクスを計算し，それを比較することで精度チェックをすることもできる）\n",
        "\n",
        "また、レンダラーが持っているビジュアルシーンを記述する `mjvScene` を更新する必要があります。シーンには、物理モデルの一部ではないビジュアル・オブジェクトを含めることができることを後で説明します。"
      ]
    },
    {
      "cell_type": "code",
      "execution_count": 18,
      "metadata": {
        "id": "pvh47r97huS4"
      },
      "outputs": [
        {
          "data": {
            "text/html": [
              "<table class=\"show_images\" style=\"border-spacing:0px;\"><tr><td style=\"padding:1px;\"><img width=\"320\" height=\"240\" style=\"image-rendering:auto; object-fit:cover;\" src=\"data:image/png;base64,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\"/></td></tr></table>"
            ],
            "text/plain": [
              "<IPython.core.display.HTML object>"
            ]
          },
          "metadata": {},
          "output_type": "display_data"
        }
      ],
      "source": [
        "mujoco.mj_forward(model, data)\n",
        "renderer.update_scene(data)\n",
        "\n",
        "media.show_image(renderer.render())"
      ]
    },
    {
      "cell_type": "markdown",
      "metadata": {
        "id": "6oDW1dOUifw6"
      },
      "source": [
        "これはうまくいきましたが、この画像は少し暗いですね。では、ライトを追加して再レンダリングしましょう。"
      ]
    },
    {
      "cell_type": "code",
      "execution_count": 19,
      "metadata": {
        "id": "iqzJj2NIr_2V"
      },
      "outputs": [
        {
          "data": {
            "text/html": [
              "<table class=\"show_images\" style=\"border-spacing:0px;\"><tr><td style=\"padding:1px;\"><img width=\"320\" height=\"240\" style=\"image-rendering:auto; object-fit:cover;\" src=\"data:image/png;base64,iVBORw0KGgoAAAANSUhEUgAAAUAAAADwCAIAAAD+Tyo8AAAA9UlEQVR4nO3BAQEAAACCIP+vbkhAAQAAAAAAAAAAAAAAAAAAAAAAAAAAAAAAAAAAAAAAAAAAAAAAAAAAAAAAAAAAAAAAAAAAAAAAAAAAAAAAAAAAAAAAAAAAAAAAAAAAAAAAAAAAAAAAAAAAAAAAAAAAAAAAAAAAAAAAAAAAAAAAAAAAAAAAAAAAAAAAAAAAAAAAAAAAAAAAAAAAAAAAAAAAAAAAAAAAAAAAAAAAAAAAAAAAAAAAAAAAAAAAAAAAAAAAAAAAAAAAAAAAAAAAAAAAAAAAAAAAAAAAAAAAAAAAAAAAAAAAAAAAAAAAAAAAAAAAAPBohR0AAXbPpmUAAAAASUVORK5CYII=\"/></td></tr></table>"
            ],
            "text/plain": [
              "<IPython.core.display.HTML object>"
            ]
          },
          "metadata": {},
          "output_type": "display_data"
        }
      ],
      "source": [
        "import mujoco\n",
        "import mediapy as media\n",
        "import matplotlib.pyplot as plt\n",
        "\n",
        "xml = \"\"\"\n",
        "<mujoco>\n",
        "    <default>\n",
        "        <!-- <joint damping=\".03\" actuatorforcerange=\"-0.5 0.5\"/> -->\n",
        "        <default class=\"wheel\">\n",
        "            <geom type=\"cylinder\" size=\".03 .01\" rgba=\".5 .5 1 1\" />\n",
        "        </default>\n",
        "    </default>\n",
        "\n",
        "    <compiler angle=\"degree\" coordinate=\"local\" inertiafromgeom=\"true\" />\n",
        "    <option integrator=\"RK4\" timestep=\"0.01\" />\n",
        "    <asset>\n",
        "        <texture builtin=\"gradient\" height=\"100\" rgb1=\"1 1 1\" rgb2=\"0 0 0\" type=\"skybox\" width=\"100\" />\n",
        "        <texture builtin=\"flat\" height=\"1278\" mark=\"cross\" markrgb=\"1 1 1\" name=\"texgeom\"\n",
        "            random=\"0.01\" rgb1=\"0.8 0.6 0.4\" rgb2=\"0.8 0.6 0.4\" type=\"cube\" width=\"127\" />\n",
        "        <texture builtin=\"checker\" height=\"100\" name=\"texplane\" rgb1=\"0 0 0\" rgb2=\"0.8 0.8 0.8\"\n",
        "            type=\"2d\" width=\"100\" />\n",
        "        <material name=\"MatPlane\" reflectance=\"0.5\" shininess=\"1\" specular=\"1\" texrepeat=\"60 60\"\n",
        "            texture=\"texplane\" />\n",
        "        <material name=\"geom\" texture=\"texgeom\" texuniform=\"true\" />\n",
        "    </asset>\n",
        "\n",
        "    <worldbody>\n",
        "        <light cutoff=\"100\" diffuse=\"1 1 1\" dir=\"-0 0 -1.3\" directional=\"true\" exponent=\"1\"\n",
        "            pos=\"0 0 1.3\" specular=\".1 .1 .1\" />\n",
        "        <!-- <geom type=\"plane\" size=\"50 50 .01\" rgba=\"0.6 1 0 1\" /> -->\n",
        "        <geom conaffinity=\"1\" condim=\"3\" material=\"MatPlane\" name=\"floor\" pos=\"0 0 0\" rgba=\"0.8 0.9 0.8 1\" size=\"3 3 3\" type=\"plane\"/>\n",
        "\n",
        "\n",
        "        <body pos=\"0 0 .08\">\n",
        "            <freejoint />\n",
        "            <geom name=\"red_box\" type=\"cylinder\" size=\".16 .040 \" rgba=\"0.1 0.1 0.1 .5\" pos=\"0 0 0\" />\n",
        "\n",
        "            <body name=\"left wheel\" pos=\"-0.04 .13 -.02\" zaxis=\"0 1 0\">\n",
        "                <joint name=\"left wheel joint\" type=\"hinge\" axis=\"0 0 1\" limited=\"false\" />\n",
        "                <geom type=\"cylinder\" size=\".036 .01\" rgba=\".5 .5 1 1\" />\n",
        "                <site type=\"box\" rgba=\"1 1 1 1\" size=\".006 .036 .012\" />\n",
        "            </body>\n",
        "\n",
        "            <body name=\"right wheel\" pos=\"-0.04 -.13 -.02\" zaxis=\"0 1 0\">\n",
        "                <joint name=\"right wheel joint\" type=\"hinge\" axis=\"0 0 1\" limited=\"false\" />\n",
        "                <geom type=\"cylinder\" size=\".036 .01\" rgba=\".5 .5 1 1\" />\n",
        "                <site type=\"box\" rgba=\"1 1 1 1\" size=\".006 .036 .012\" />\n",
        "            </body>\n",
        "\n",
        "            <body name=\"flont_ball\" pos=\".13 0 -.035\">\n",
        "                <joint type=\"ball\" limited=\"false\" />\n",
        "                <geom type=\"sphere\" size=\".02\" rgba=\".8 .8 0 1\" />\n",
        "                <site type=\"box\" rgba=\"1 0 0 1\" size=\".006 .02 .006\" />\n",
        "            </body>\n",
        "        </body>\n",
        "    </worldbody>\n",
        "    <actuator>\n",
        "        <motor name=\"right\" joint=\"right wheel joint\" />\n",
        "        <motor name=\"left\" joint=\"left wheel joint\" />\n",
        "        <!-- <motor name=\"right\" joint=\"right wheel joint\" ctrllimited=\"true\" ctrlrange=\"-1.0 1.0\" gear=\".02\"/>\n",
        "        <motor name=\"left\" joint=\"left wheel joint\" ctrllimited=\"true\" ctrlrange=\"-1.0 1.0\" gear=\".02\"/> -->\n",
        "    </actuator>\n",
        "</mujoco>\n",
        "\"\"\"\n",
        "model = mujoco.MjModel.from_xml_string(xml)\n",
        "data = mujoco.MjData(model)\n",
        "renderer = mujoco.Renderer(model)\n",
        "\n",
        "mujoco.mj_forward(model, data)\n",
        "renderer.update_scene(data)\n",
        "\n",
        "media.show_image(renderer.render())"
      ]
    },
    {
      "cell_type": "markdown",
      "metadata": {
        "id": "HS4K38Eirww9"
      },
      "source": [
        "とても良くなりました！\n",
        "\n",
        "`mjModel` インスタンス内のすべての値は書き込み可能です。一般的にはXML内の値を変更する方が推奨されますが、無効なモデルになる可能性があるため、注意が必要です。ただし、一部の値は安全に書き込むことができます。例えば、色です："
      ]
    },
    {
      "cell_type": "code",
      "execution_count": 20,
      "metadata": {
        "id": "GBNcQVYJrt2h"
      },
      "outputs": [
        {
          "data": {
            "text/html": [
              "<table class=\"show_images\" style=\"border-spacing:0px;\"><tr><td style=\"padding:1px;\"><img width=\"320\" height=\"240\" style=\"image-rendering:auto; object-fit:cover;\" src=\"data:image/png;base64,iVBORw0KGgoAAAANSUhEUgAAAUAAAADwCAIAAAD+Tyo8AAAA9UlEQVR4nO3BAQEAAACCIP+vbkhAAQAAAAAAAAAAAAAAAAAAAAAAAAAAAAAAAAAAAAAAAAAAAAAAAAAAAAAAAAAAAAAAAAAAAAAAAAAAAAAAAAAAAAAAAAAAAAAAAAAAAAAAAAAAAAAAAAAAAAAAAAAAAAAAAAAAAAAAAAAAAAAAAAAAAAAAAAAAAAAAAAAAAAAAAAAAAAAAAAAAAAAAAAAAAAAAAAAAAAAAAAAAAAAAAAAAAAAAAAAAAAAAAAAAAAAAAAAAAAAAAAAAAAAAAAAAAAAAAAAAAAAAAAAAAAAAAAAAAAAAAAAAAAAAAAAAAAAAAPBohR0AAXbPpmUAAAAASUVORK5CYII=\"/></td></tr></table>"
            ],
            "text/plain": [
              "<IPython.core.display.HTML object>"
            ]
          },
          "metadata": {},
          "output_type": "display_data"
        }
      ],
      "source": [
        "import numpy as np\n",
        "\n",
        "# Run this cell multiple times for different colors\n",
        "model.geom('red_box').rgba[:3] = np.random.rand(3)\n",
        "renderer.update_scene(data)\n",
        "media.show_image(renderer.render())"
      ]
    },
    {
      "cell_type": "markdown",
      "metadata": {
        "id": "-P95E-QHizQq"
      },
      "source": [
        "# シミュレーション\n",
        "\n",
        "さて、シミュレーションを行ってビデオを作成しましょう。MuJoCoの主要な高レベル関数である `mj_step` を使用します。これは状態を1ステップ進めます $x_{t+h} = f(x_t)$。\n",
        "\n",
        "以下のコードブロックでは、`mj_step` を呼び出した後に毎回レンダリングは行いません。これはデフォルトのタイムステップが2msであり、60fpsのビデオを作成したいためです。500fpsではないためです。"
      ]
    },
    {
      "cell_type": "code",
      "execution_count": 21,
      "metadata": {
        "id": "NdVnHOYisiKl"
      },
      "outputs": [
        {
          "data": {
            "text/html": [
              "<table class=\"show_videos\" style=\"border-spacing:0px;\"><tr><td style=\"padding:1px;\"><video controls width=\"320\" height=\"240\" style=\"object-fit:cover;\" loop autoplay muted>\n",
              "      <source src=\"data:video/mp4;base64,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\" type=\"video/mp4\"/>\n",
              "      This browser does not support the video tag.\n",
              "      </video></td></tr></table>"
            ],
            "text/plain": [
              "<IPython.core.display.HTML object>"
            ]
          },
          "metadata": {},
          "output_type": "display_data"
        }
      ],
      "source": [
        "duration = 0.5  # (seconds)\n",
        "framerate = 60  # (Hz)\n",
        "\n",
        "# Simulate and display video.\n",
        "frames = []     #シミュレーションのコマドリ写真を保存するリスト用意\n",
        "mujoco.mj_resetData(model, data)  # Reset state and time. #シミュレーションを初期状態へ（？）\n",
        "while data.time < duration: #mujocoのシミュレーション内時間が指定した時間より小さいとき\n",
        "  mujoco.mj_step(model, data) #mujoco内の1step進める\n",
        "  if len(frames) < data.time * framerate: #もしこまどり写真が，1秒あたりの指定したフレーム分たまったら　これで１秒当たり何フレームというのを指定したフレームレート動画ようのこまどり写真が用意できる\n",
        "    renderer.update_scene(data) #mujocoのレンダー（描画）関数？？？？？？詳細不明？？？？？？\n",
        "    pixels = renderer.render() #レンダラーのレンダーを使用し，ピクセル情報に変換？？\n",
        "    frames.append(pixels) #変換したこまどりのピクセル情報をframeリストに格納していく\n",
        "media.show_video(frames, fps=framerate) #たまったframeリスト内のピクセル情報を使って，mediapyの機能で動画を作成"
      ]
    },
    {
      "cell_type": "markdown",
      "metadata": {
        "id": "tYN4sL9RnsCU"
      },
      "source": [
        "うーん、ビデオは再生されていますが、何も動いていませんね。なぜでしょうか？\n",
        "\n",
        "これはこのモデルには[自由度（degrees of freedom）](https://www.google.com/url?sa=D&q=https%3A%2F%2Fen.wikipedia.org%2Fwiki%2FDegrees_of_freedom_(mechanics))（DoFs）がないためです。動くもの（および慣性を持つもの）は*ボディ*と呼ばれます。私たちは*ボディ*に*ジョイント*を追加して、それらが親に対してどのように動くかを指定します。新しいボディを作成し、その中に私たちの形状を含め、ヒンジジョイントを追加して再レンダリングし、可視化オプションオブジェクト `MjvOption` を使用してジョイント軸を可視化しましょう。"
      ]
    },
    {
      "cell_type": "code",
      "execution_count": 22,
      "metadata": {
        "id": "LbWf84VYst5m"
      },
      "outputs": [
        {
          "data": {
            "text/html": [
              "<table class=\"show_videos\" style=\"border-spacing:0px;\"><tr><td style=\"padding:1px;\"><video controls width=\"320\" height=\"240\" style=\"object-fit:cover;\" loop autoplay muted>\n",
              "      <source src=\"data:video/mp4;base64,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\" type=\"video/mp4\"/>\n",
              "      This browser does not support the video tag.\n",
              "      </video></td></tr></table>"
            ],
            "text/plain": [
              "<IPython.core.display.HTML object>"
            ]
          },
          "metadata": {},
          "output_type": "display_data"
        }
      ],
      "source": [
        "import mujoco\n",
        "import mediapy as media\n",
        "import matplotlib.pyplot as plt\n",
        "\n",
        "xml = \"\"\"\n",
        "<mujoco>\n",
        "    <default>\n",
        "        <!-- <joint damping=\".03\" actuatorforcerange=\"-0.5 0.5\"/> -->\n",
        "        <default class=\"wheel\">\n",
        "            <geom type=\"cylinder\" size=\".03 .01\" rgba=\".5 .5 1 1\" />\n",
        "        </default>\n",
        "    </default>\n",
        "\n",
        "    <compiler angle=\"degree\" coordinate=\"local\" inertiafromgeom=\"true\" />\n",
        "    <option integrator=\"RK4\" timestep=\"0.01\" />\n",
        "    <asset>\n",
        "        <texture builtin=\"gradient\" height=\"100\" rgb1=\"1 1 1\" rgb2=\"0 0 0\" type=\"skybox\" width=\"100\" />\n",
        "        <texture builtin=\"flat\" height=\"1278\" mark=\"cross\" markrgb=\"1 1 1\" name=\"texgeom\"\n",
        "            random=\"0.01\" rgb1=\"0.8 0.6 0.4\" rgb2=\"0.8 0.6 0.4\" type=\"cube\" width=\"127\" />\n",
        "        <texture builtin=\"checker\" height=\"100\" name=\"texplane\" rgb1=\"0 0 0\" rgb2=\"0.8 0.8 0.8\"\n",
        "            type=\"2d\" width=\"100\" />\n",
        "        <material name=\"MatPlane\" reflectance=\"0.5\" shininess=\"1\" specular=\"1\" texrepeat=\"60 60\"\n",
        "            texture=\"texplane\" />\n",
        "        <material name=\"geom\" texture=\"texgeom\" texuniform=\"true\" />\n",
        "    </asset>\n",
        "\n",
        "    <worldbody>\n",
        "        <light cutoff=\"100\" diffuse=\"1 1 1\" dir=\"-0 0 -1.3\" directional=\"true\" exponent=\"1\"\n",
        "            pos=\"0 0 1.3\" specular=\".1 .1 .1\" />\n",
        "        <!-- <geom type=\"plane\" size=\"50 50 .01\" rgba=\"0.6 1 0 1\" /> -->\n",
        "        <geom conaffinity=\"1\" condim=\"3\" material=\"MatPlane\" name=\"floor\" pos=\"0 0 0\" rgba=\"0.8 0.9 0.8 1\" size=\"3 3 3\" type=\"plane\"/>\n",
        "\n",
        "\n",
        "        <body pos=\"0 0 .08\">\n",
        "            <freejoint />\n",
        "            <geom name=\"red_box\" type=\"cylinder\" size=\".16 .040 \" rgba=\"0.1 0.1 0.1 .5\" pos=\"0 0 0\" />\n",
        "\n",
        "            <body name=\"left wheel\" pos=\"-0.04 .13 -.02\" zaxis=\"0 1 0\">\n",
        "                <joint name=\"left wheel joint\" type=\"hinge\" axis=\"0 0 1\" limited=\"false\" />\n",
        "                <geom type=\"cylinder\" size=\".036 .01\" rgba=\".5 .5 1 1\" />\n",
        "                <site type=\"box\" rgba=\"1 1 1 1\" size=\".006 .036 .012\" />\n",
        "            </body>\n",
        "\n",
        "            <body name=\"right wheel\" pos=\"-0.04 -.13 -.02\" zaxis=\"0 1 0\">\n",
        "                <joint name=\"right wheel joint\" type=\"hinge\" axis=\"0 0 1\" limited=\"false\" />\n",
        "                <geom type=\"cylinder\" size=\".036 .01\" rgba=\".5 .5 1 1\" />\n",
        "                <site type=\"box\" rgba=\"1 1 1 1\" size=\".006 .036 .012\" />\n",
        "            </body>\n",
        "\n",
        "            <body name=\"flont_ball\" pos=\".13 0 -.035\">\n",
        "                <joint type=\"ball\" limited=\"false\" />\n",
        "                <geom type=\"sphere\" size=\".02\" rgba=\".8 .8 0 1\" />\n",
        "                <site type=\"box\" rgba=\"1 0 0 1\" size=\".006 .02 .006\" />\n",
        "            </body>\n",
        "        </body>\n",
        "    </worldbody>\n",
        "    <actuator>\n",
        "        <motor name=\"right\" joint=\"right wheel joint\" />\n",
        "        <motor name=\"left\" joint=\"left wheel joint\" />\n",
        "        <!-- <motor name=\"right\" joint=\"right wheel joint\" ctrllimited=\"true\" ctrlrange=\"-1.0 1.0\" gear=\".02\"/>\n",
        "        <motor name=\"left\" joint=\"left wheel joint\" ctrllimited=\"true\" ctrlrange=\"-1.0 1.0\" gear=\".02\"/> -->\n",
        "    </actuator>\n",
        "      <keyframe>\n",
        "    <key name=\"spinning\" qpos=\"-6.68899113e-05  1.21074841e-16  5.55654542e-02  9.99995339e-01\n",
        "  2.42058338e-17  3.05322072e-03 -2.63404886e-18 -1.13295585e-02\n",
        " -1.13295585e-02  9.99999865e-01  2.08587446e-16  5.19266123e-04\n",
        "  9.81321233e-16\" qvel=\"0.1  0.5  0 0\n",
        "  0 0 0 0\n",
        "  9.11206580e-16 900.6  3.60178047e-16\" />\n",
        "  </keyframe>\n",
        "</mujoco>\n",
        "\"\"\"\n",
        "# mujoco.mj_resetData(model, data)  # Reset state and time.\n",
        "model = mujoco.MjModel.from_xml_string(xml) #xmlからモデルをロード   注：passからもxmlをロードで期待色々機能があります\n",
        "data = mujoco.MjData(model) #ロードしたそのmodelのいろんな情報を入れる，dataインスタンスを作成？\n",
        "renderer = mujoco.Renderer(model) #modelのレンダーを用意？\n",
        "\n",
        "# enable joint visualization option:\n",
        "scene_option = mujoco.MjvOption() #シーンオプションを使うためのインスタンス作成\n",
        "scene_option.flags[mujoco.mjtVisFlag.mjVIS_JOINT] = True #joint可視化モードのフラグをTrueに変更\n",
        "\n",
        "duration = 3.8  # (seconds)\n",
        "framerate = 60  # (Hz)\n",
        "\n",
        "frames = [] #こまどり保存用リスト作成\n",
        "mujoco.mj_resetDataKeyframe(model, data, 0)  # Reset the state to keyframe 0　よくわかんないけどこれを付けると，xmlで下のほうに書いた<keyframe>の初期速度情報を使用してシミュレーションをしてくれる\n",
        "while data.time < duration: #mujocoのシミュレーション内時間が指定した時間より小さいとき\n",
        "  mujoco.mj_step(model, data) #mujoco内の1step進める\n",
        "  if len(frames) < data.time * framerate: #もしこまどり写真が，1秒あたりの指定したフレーム分たまったら　これで１秒当たり何フレームというのを指定したフレームレート動画ようのこまどり写真が用意できる\n",
        "    renderer.update_scene(data, scene_option=scene_option) #mujocoのレンダー（描画）関数？？？詳細不明？？？　と，joint可視化するためのオプションをここでつけて，ちゃんと見れるようにしてる\n",
        "    pixels = renderer.render() #レンダラーのレンダーを使用し，ピクセル情報に変換？？\n",
        "    frames.append(pixels) #変換したこまどりのピクセル情報をframeリストに格納していく\n",
        "\n",
        "# Simulate and display video.\n",
        "media.show_video(frames, fps=framerate) #たまったframeリスト内のピクセル情報を使って，mediapyの機能で動画を作成"
      ]
    },
    {
      "cell_type": "markdown",
      "metadata": {
        "id": "Ymv-tvWCpl6V"
      },
      "source": [
        "注意してください、`box_and_sphere` ボディをZ軸（垂直軸）を中心に30°回転させました。これは、要素の姿勢が常にそれらの*親ボディ*に対して行われることを強調するためです。そのため、私たちの二つの形状もこの変換によって回転しました。\n",
        "\n",
        "物理オプションは `mjModel.opt` にあります。例えば、タイムステップは以下の通りです："
      ]
    },
    {
      "cell_type": "code",
      "execution_count": 23,
      "metadata": {
        "id": "5yvAJokcpyX_"
      },
      "outputs": [
        {
          "name": "stdout",
          "output_type": "stream",
          "text": [
            "<MjOption\n",
            "  apirate: 100.0\n",
            "  collision: 0\n",
            "  cone: 0\n",
            "  density: 0.0\n",
            "  disableflags: 0\n",
            "  enableflags: 0\n",
            "  gravity: array([ 0.  ,  0.  , -9.81])\n",
            "  impratio: 1.0\n",
            "  integrator: 1\n",
            "  iterations: 100\n",
            "  jacobian: 2\n",
            "  magnetic: array([ 0. , -0.5,  0. ])\n",
            "  mpr_iterations: 50\n",
            "  mpr_tolerance: 1e-06\n",
            "  noslip_iterations: 0\n",
            "  noslip_tolerance: 1e-06\n",
            "  o_margin: 0.0\n",
            "  o_solimp: array([0.9  , 0.95 , 0.001, 0.5  , 2.   ])\n",
            "  o_solref: array([0.02, 1.  ])\n",
            "  solver: 2\n",
            "  timestep: 0.01\n",
            "  tolerance: 1e-08\n",
            "  viscosity: 0.0\n",
            "  wind: array([0., 0., 0.])\n",
            ">\n"
          ]
        }
      ],
      "source": [
        "model.opt.timestep\n",
        "\n",
        "####実験####\n",
        "print(model.opt)"
      ]
    },
    {
      "cell_type": "markdown",
      "metadata": {
        "id": "SdkwLeGUp9B2"
      },
      "source": [
        "重力を反転させて再度レンダリングしましょう： 上で表示させた，model.optの中の値を直接変えてしまうことで．シミュレーションの値を変えることができる！！"
      ]
    },
    {
      "cell_type": "code",
      "execution_count": 24,
      "metadata": {
        "id": "ocjPQG8Dp2F-"
      },
      "outputs": [
        {
          "name": "stdout",
          "output_type": "stream",
          "text": [
            "default gravity [ 0.    0.   -9.81]\n",
            "<bound method PyCapsule.actuator of <mujoco._structs.MjModel object at 0x0000022433171EF0>>\n",
            "flipped gravity [0.   0.   0.05]\n",
            "Total number of DoFs in the model: 11\n",
            "Generalized positions: [ 0.545  0.197  0.056  0.987 -0.     0.003  0.158 14.783 16.928 -0.875  0.386  0.275  0.096]\n",
            "Generalized velocities: [ 0.143  0.047  0.    -0.     0.     0.     4.207  4.207  2.084  3.21   7.282]\n"
          ]
        },
        {
          "data": {
            "text/html": [
              "<table class=\"show_videos\" style=\"border-spacing:0px;\"><tr><td style=\"padding:1px;\"><video controls width=\"320\" height=\"240\" style=\"object-fit:cover;\" loop autoplay muted>\n",
              "      <source src=\"data:video/mp4;base64,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\" type=\"video/mp4\"/>\n",
              "      This browser does not support the video tag.\n",
              "      </video></td></tr></table>"
            ],
            "text/plain": [
              "<IPython.core.display.HTML object>"
            ]
          },
          "metadata": {},
          "output_type": "display_data"
        }
      ],
      "source": [
        "import mujoco\n",
        "import mediapy as media\n",
        "import matplotlib.pyplot as plt\n",
        "\n",
        "\n",
        "print('default gravity', model.opt.gravity) #model.optのgravityを表示\n",
        "model.opt.gravity = (0, 0, 0.05) #直接値を変更\n",
        "print(model.actuator)\n",
        "print('flipped gravity', model.opt.gravity) #直接値変更後のgravityを表示\n",
        "print('Total number of DoFs in the model:', model.nv) #ん？？　訳すと，このモデルの自由度の総数？？　そしてそれはmodel.nvに入っている？？nvってなんだ？\n",
        "print('Generalized positions:', data.qpos) #一般化された位置座標    dataのqposには位置の情報が入っているのでそれをプリントしているだけ\n",
        "print('Generalized velocities:', data.qvel) #一般化された速度       dataのqposには位置の情報が入っているのでそれをプリントしているだけ\n",
        "\n",
        "frames = [] #こまどり保存用リスト作成\n",
        "mujoco.mj_resetDataKeyframe(model, data, 0)  # Reset the state to keyframe 0　よくわかんないけどこれを付けると，xmlで下のほうに書いた<keyframe>の初期速度情報を使用してシミュレーションをしてくれる\n",
        "while data.time < duration: #mujocoのシミュレーション内時間が指定した時間より小さいとき\n",
        "  mujoco.mj_step(model, data) #mujoco内の1step進める\n",
        "  if len(frames) < data.time * framerate: #もしこまどり写真が，1秒あたりの指定したフレーム分たまったら　これで１秒当たり何フレームというのを指定したフレームレート動画ようのこまどり写真が用意できる\n",
        "    renderer.update_scene(data, scene_option=scene_option) #mujocoのレンダー（描画）関数？？？詳細不明？？？　と，joint可視化するためのオプションをここでつけて，ちゃんと見れるようにしてる\n",
        "    pixels = renderer.render() #レンダラーのレンダーを使用し，ピクセル情報に変換？？\n",
        "    frames.append(pixels) #変換したこまどりのピクセル情報をframeリストに格納していく\n",
        "\n",
        "# Simulate and display video.\n",
        "media.show_video(frames, fps=framerate) #たまったframeリスト内のピクセル情報を使って，mediapyの機能で動画を作成"
      ]
    },
    {
      "cell_type": "markdown",
      "metadata": {
        "id": "FsxDDgXBqg_J"
      },
      "source": [
        "これはプログラムでやることもできるし，XMLに書いておいても同様にシミュレーションの設定値を変えることができます。xmlの上のほうに， `<option>` 要素を使用すればよいです：\n",
        "\n",
        "```xml\n",
        "<mujoco>\n",
        "  <option gravity=\"0 0 10\"/>\n",
        "  ...\n",
        "</mujoco>\n",
        "```"
      ]
    },
    {
      "cell_type": "markdown",
      "metadata": {
        "id": "QY1gpms1HXeN"
      },
      "source": [
        "### 自由度の理解\n",
        "\n",
        "実世界では、すべての剛体オブジェクトは6つの自由度を持っています：3つの平行移動と3つの回転です。実世界のジョイントは制約として機能し、ジョイントで接続されたボディ間の相対的な自由度を削除します。一部の物理シミュレーションソフトウェアは、これを「カーテシアン」または「減算」表現として使用しますが、これは効率的ではありません。MuJoCoは、「ラグランジアン」、「一般化」または「加算」表現として知られる表現を使用します。この表現では、オブジェクトは明示的にジョイントを使用して追加しない限り、自由度を持ちません。  \n",
        "（つまりモデリングすると，ほかの物理演算ソフトでは６自由度持ってる物体同紙にジョイントでくっつけると自由度を一部減らす，みたいな処理をしてるけど，mujocoはもともとが０自由度で，そこに自由度を足していくスタイルを取っているということ．これが加算方式←これが一般化？？）\n",
        "\n",
        "私たちのモデルは、単一のヒンジジョイントを持っており、1つの自由度を持っています。全体の状態は、このジョイントの角度と角速度で定義されます。これらがシステムの一般化された位置と速度です。"
      ]
    },
    {
      "cell_type": "code",
      "execution_count": 25,
      "metadata": {
        "id": "wEdfGEfSKAOC"
      },
      "outputs": [
        {
          "name": "stdout",
          "output_type": "stream",
          "text": [
            "Total number of DoFs in the model: 11\n",
            "Generalized positions: [ 0.428  1.643  0.727  0.905 -0.101  0.146  0.387 -0.321 -0.321 -0.814  0.1   -0.565 -0.093]\n",
            "Generalized velocities: [  0.112   0.431   0.272  -0.083   0.059   0.208  -0.059  -0.059  -0.389 598.877   4.83 ]\n"
          ]
        }
      ],
      "source": [
        "print('Total number of DoFs in the model:', model.nv)\n",
        "print('Generalized positions:', data.qpos)\n",
        "print('Generalized velocities:', data.qvel)"
      ]
    },
    {
      "cell_type": "markdown",
      "metadata": {
        "id": "Z8E-P5xONUSn"
      },
      "source": [
        "MuJoCoが一般化座標を使用する理由は、関数を呼び出す（例: [`mj_forward`](https://mujoco.readthedocs.io/en/latest/APIreference.html#mj-forward)）必要があるのは、オブジェクトのグローバルな姿勢をレンダリングしたり読み取ったりする前に、データを準備する必要があるからです - カーテシアン座標（デカルト座標．直交系座標）は一般化座標から*派生*し、明示的に計算する必要があります。"
      ]
    },
    {
      "cell_type": "markdown",
      "metadata": {
        "id": "SHppAOjvSupc"
      },
      "source": [
        "# 例: 自由なボディをシミュレートして自己反転する \"tippe-top\"\n",
        "\n",
        "自由なボディは、6つの自由度、つまり3つの移動と3つの回転を持つ[自由ジョイント](https://www.google.com/url?sa=D&q=https%3A%2F%2Fmujoco.readthedocs.io%2Fen%2Flatest%2FXMLreference.html%3Fhighlight%3Dfreejoint%23body-freejoint)を持つボディです。私たちは `box_and_sphere` ボディに自由なジョイントを与えて落ちる様子を見ることもできますが、もう少し面白いものを見てみましょう。\"tippe top\"は、自分自身を反転させる回転するおもちゃです（[動画](https://www.youtube.com/watch?v=kbYpVrdcszQ)、[Wikipedia](https://en.wikipedia.org/wiki/Tippe_top)）。これを以下のようにモデル化します："
      ]
    },
    {
      "cell_type": "code",
      "execution_count": 26,
      "metadata": {
        "id": "xasXQpVMjIwA"
      },
      "outputs": [
        {
          "name": "stdout",
          "output_type": "stream",
          "text": [
            "Total number of DoFs in the model: 6\n",
            "Generalized positions: [0.   0.   0.02 1.   0.   0.   0.  ]\n",
            "Generalized velocities: [0. 0. 0. 0. 0. 0.]\n"
          ]
        },
        {
          "data": {
            "text/html": [
              "<table class=\"show_images\" style=\"border-spacing:0px;\"><tr><td style=\"padding:1px;\"><img width=\"320\" height=\"240\" style=\"image-rendering:auto; object-fit:cover;\" src=\"data:image/png;base64,iVBORw0KGgoAAAANSUhEUgAAAUAAAADwCAIAAAD+Tyo8AAAA9UlEQVR4nO3BAQEAAACCIP+vbkhAAQAAAAAAAAAAAAAAAAAAAAAAAAAAAAAAAAAAAAAAAAAAAAAAAAAAAAAAAAAAAAAAAAAAAAAAAAAAAAAAAAAAAAAAAAAAAAAAAAAAAAAAAAAAAAAAAAAAAAAAAAAAAAAAAAAAAAAAAAAAAAAAAAAAAAAAAAAAAAAAAAAAAAAAAAAAAAAAAAAAAAAAAAAAAAAAAAAAAAAAAAAAAAAAAAAAAAAAAAAAAAAAAAAAAAAAAAAAAAAAAAAAAAAAAAAAAAAAAAAAAAAAAAAAAAAAAAAAAAAAAAAAAAAAAAAAAAAAAPBohR0AAXbPpmUAAAAASUVORK5CYII=\"/></td></tr></table>"
            ],
            "text/plain": [
              "<IPython.core.display.HTML object>"
            ]
          },
          "metadata": {},
          "output_type": "display_data"
        }
      ],
      "source": [
        "import mujoco\n",
        "import mediapy as media\n",
        "import matplotlib.pyplot as plt\n",
        "\n",
        "tippe_top = \"\"\"\n",
        "<mujoco model=\"tippe top\">\n",
        "  <option integrator=\"RK4\"/>\n",
        "\n",
        "  <asset>\n",
        "    <texture name=\"grid\" type=\"2d\" builtin=\"checker\" rgb1=\".1 .2 .3\"\n",
        "     rgb2=\".2 .3 .4\" width=\"300\" height=\"300\"/>\n",
        "    <material name=\"grid\" texture=\"grid\" texrepeat=\"8 8\" reflectance=\".2\"/>\n",
        "  </asset>\n",
        "\n",
        "  <worldbody>\n",
        "    <geom size=\".2 .2 .01\" type=\"plane\" material=\"grid\"/>\n",
        "    <light pos=\"0 0 .6\"/>\n",
        "    <camera name=\"closeup\" pos=\"0 -.1 .07\" xyaxes=\"1 0 0 0 1 2\"/>\n",
        "    <body name=\"top\" pos=\"0 0 .02\">\n",
        "      <freejoint/>\n",
        "      <geom name=\"ball\" type=\"sphere\" size=\".02\" />\n",
        "      <geom name=\"stem\" type=\"cylinder\" pos=\"0 0 .02\" size=\"0.004 .008\"/>\n",
        "      <geom name=\"ballast\" type=\"box\" size=\".023 .023 0.005\"  pos=\"0 0 -.015\"\n",
        "       contype=\"0\" conaffinity=\"0\" group=\"3\"/>\n",
        "    </body>\n",
        "  </worldbody>\n",
        "\n",
        "  <keyframe>\n",
        "    <key name=\"spinning\" qpos=\"0 0 0.02 1 0 0 0\" qvel=\"0 0 0 0 1 200\" />\n",
        "  </keyframe>\n",
        "</mujoco>\n",
        "\"\"\"\n",
        "\n",
        "model = mujoco.MjModel.from_xml_string(tippe_top)\n",
        "renderer = mujoco.Renderer(model)\n",
        "data = mujoco.MjData(model)\n",
        "print('Total number of DoFs in the model:', model.nv)\n",
        "print('Generalized positions:', data.qpos)\n",
        "print('Generalized velocities:', data.qvel)\n",
        "mujoco.mj_forward(model, data)\n",
        "renderer.update_scene(data, camera=\"closeup\")\n",
        "media.show_image(renderer.render())"
      ]
    },
    {
      "cell_type": "markdown",
      "metadata": {
        "id": "bvHlr6maJYIG"
      },
      "source": [
        "このモデル定義のいくつかの新機能に注意してください：\n",
        "1. 6自由度の自由ジョイントが `<freejoint/>` 句で追加されています。\n",
        "2. 4次の[ルンゲ・クッタ法](https://en.wikipedia.org/wiki/Runge%E2%80%93Kutta_methods)が演算に使用されるように、積分器を設定するために `<option/>` 句を使用しています。ルンゲ・クッタ法はデフォルトのオイラー積分器よりも収束率が高く、多くの場合、与えられたタイムステップサイズでの精度が向上します。\n",
        "3. フロアのグリッド素材を `<asset/>` 句内で定義し、それを \"floor\" ジオムで参照しています。\n",
        "4. `ballast` という名前の，見えない非衝突ボックスジオムを使用して、トップの重心を下げています。低い重心を持つことは（直感に反して）反転動作が発生するために必要です。\n",
        "5. 最初の回転状態を*キーフレーム*として保存しています。これはZ軸周りに高い回転速度を持っていますが、z軸周りにきれいに回られると反転し始めないので，反転に必要な対称性の破れを導入ししています．\n",
        "6. モデル内で `<camera>` を定義し、それを使用して `update_scene()` の `camera` 引数からレンダリングします。\n",
        "\n",
        "状態を調べてみましょう："
      ]
    },
    {
      "cell_type": "code",
      "execution_count": 1,
      "metadata": {
        "id": "o4S9nYhHOKmb"
      },
      "outputs": [
        {
          "ename": "NameError",
          "evalue": "name 'data' is not defined",
          "output_type": "error",
          "traceback": [
            "\u001b[1;31m---------------------------------------------------------------------------\u001b[0m",
            "\u001b[1;31mNameError\u001b[0m                                 Traceback (most recent call last)",
            "\u001b[1;32mc:\\Users\\atusi\\OneDrive\\ドキュメント\\研究関連（修士）\\Github\\sibuya\\日本語化mujocoチュートリアル.ipynb セル 56\u001b[0m line \u001b[0;36m1\n\u001b[1;32m----> <a href='vscode-notebook-cell:/c%3A/Users/atusi/OneDrive/%E3%83%89%E3%82%AD%E3%83%A5%E3%83%A1%E3%83%B3%E3%83%88/%E7%A0%94%E7%A9%B6%E9%96%A2%E9%80%A3%EF%BC%88%E4%BF%AE%E5%A3%AB%EF%BC%89/Github/sibuya/%E6%97%A5%E6%9C%AC%E8%AA%9E%E5%8C%96mujoco%E3%83%81%E3%83%A5%E3%83%BC%E3%83%88%E3%83%AA%E3%82%A2%E3%83%AB.ipynb#Y105sZmlsZQ%3D%3D?line=0'>1</a>\u001b[0m \u001b[39mprint\u001b[39m(\u001b[39m'\u001b[39m\u001b[39mpositions(data.qpos)=\u001b[39m\u001b[39m'\u001b[39m, data\u001b[39m.\u001b[39mqpos)\n\u001b[0;32m      <a href='vscode-notebook-cell:/c%3A/Users/atusi/OneDrive/%E3%83%89%E3%82%AD%E3%83%A5%E3%83%A1%E3%83%B3%E3%83%88/%E7%A0%94%E7%A9%B6%E9%96%A2%E9%80%A3%EF%BC%88%E4%BF%AE%E5%A3%AB%EF%BC%89/Github/sibuya/%E6%97%A5%E6%9C%AC%E8%AA%9E%E5%8C%96mujoco%E3%83%81%E3%83%A5%E3%83%BC%E3%83%88%E3%83%AA%E3%82%A2%E3%83%AB.ipynb#Y105sZmlsZQ%3D%3D?line=1'>2</a>\u001b[0m \u001b[39mprint\u001b[39m(\u001b[39m'\u001b[39m\u001b[39mvelocities(data.qvel)=\u001b[39m\u001b[39m'\u001b[39m, data\u001b[39m.\u001b[39mqvel)\n",
            "\u001b[1;31mNameError\u001b[0m: name 'data' is not defined"
          ]
        }
      ],
      "source": [
        "print('positions(data.qpos)=', data.qpos)\n",
        "print('velocities(data.qvel)=', data.qvel)"
      ]
    },
    {
      "cell_type": "markdown",
      "metadata": {
        "id": "71UgzBAqWdtZ"
      },
      "source": [
        "速度は解釈しやすいですね、6つのゼロがあります、それぞれが1つの自由度に対応しています。(つまり速度velocityの6つのうち最初３つはx,y,z方向の速度で，最後の３つはx,y,zの角速度)では、長さ7の位置はどうでしょうか？最初の2cmの高さが見えます。その後の4つの数字は3Dの向きを示しており、*ユニット四元数*で定義されています。3Dの向きは**4**つの数字で表され、角速度は**3**つの数字です。詳細については、ウィキペディアの[四元数と空間回転](https://en.wikipedia.org/wiki/Quaternions_and_spatial_rotation)の記事を参照してください。  \n",
        "### つまり，qposの７つの値は最初の３つが位置座標で，残り４つがクオータニオンを使った向き表現\n",
        "### そして，qvelの６つの値は最初の３つがxyz軸方向への速度で，残り３つがxyz軸に対する回転速度（回転角速度？のはず）\n",
        "\n",
        "さて、ビデオを作成しましょう："
      ]
    },
    {
      "cell_type": "code",
      "execution_count": 28,
      "metadata": {
        "id": "5P4HkhKNGQvs"
      },
      "outputs": [
        {
          "data": {
            "text/html": [
              "<table class=\"show_videos\" style=\"border-spacing:0px;\"><tr><td style=\"padding:1px;\"><video controls width=\"320\" height=\"240\" style=\"object-fit:cover;\" loop autoplay muted>\n",
              "      <source src=\"data:video/mp4;base64,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\" type=\"video/mp4\"/>\n",
              "      This browser does not support the video tag.\n",
              "      </video></td></tr></table>"
            ],
            "text/plain": [
              "<IPython.core.display.HTML object>"
            ]
          },
          "metadata": {},
          "output_type": "display_data"
        }
      ],
      "source": [
        "duration = 7    # (seconds)\n",
        "framerate = 60  # (Hz)\n",
        "\n",
        "# Simulate and display video.\n",
        "frames = []\n",
        "mujoco.mj_resetDataKeyframe(model, data, 0)  # Reset the state to keyframe 0\n",
        "while data.time < duration:\n",
        "  mujoco.mj_step(model, data)\n",
        "  if len(frames) < data.time * framerate:\n",
        "    renderer.update_scene(data, \"closeup\") #closeupをつけたらカメラの角度が変わった！\n",
        "    pixels = renderer.render()\n",
        "    frames.append(pixels)\n",
        "\n",
        "media.show_video(frames, fps=framerate)"
      ]
    },
    {
      "cell_type": "markdown",
      "metadata": {
        "id": "rRuFKD2ubPgu"
      },
      "source": [
        "### `mjData` からの値の計測\n",
        "先述の通り、`mjData` 構造体にはシミュレーションによって生成される動的な変数や中間結果が含まれており、これらは各タイムステップで*変化することが期待されています*。以下では、2000のタイムステップのシミュレーションを行い、トップの角速度とステムの高さを時間の関数としてプロットします。"
      ]
    },
    {
      "cell_type": "code",
      "execution_count": 29,
      "metadata": {
        "id": "1XXB6asJoZ2N"
      },
      "outputs": [
        {
          "name": "stdout",
          "output_type": "stream",
          "text": [
            "[[ 0.     0.     0.   ]\n",
            " [ 0.023 -0.024  0.028]\n",
            " [ 0.022 -0.027  0.008]\n",
            " [ 0.025 -0.022  0.043]]\n"
          ]
        },
        {
          "data": {
            "image/png": "[encoded data removed]",
            "text/plain": [
              "<Figure size 600x800 with 2 Axes>"
            ]
          },
          "metadata": {},
          "output_type": "display_data"
        }
      ],
      "source": [
        "timevals = [] #横軸の時間tの値を格納するためのリスト\n",
        "angular_velocity = [] #角速度格納用リスト\n",
        "stem_height = [] #stemというgeomの高さ格納用リスト\n",
        "\n",
        "# Simulate and save data\n",
        "mujoco.mj_resetDataKeyframe(model, data, 0) #初期速度をいじるためにkeyframeというやつを使うための一行\n",
        "while data.time < duration: #その秒数になるまで\n",
        "  mujoco.mj_step(model, data) #シミュレーションを1ステップ進める\n",
        "  timevals.append(data.time) #時間の値をリストに格納\n",
        "  angular_velocity.append(data.qvel[3:6].copy()) #角速度をリストに格納．角速度は，data.qvelの，6つある値のうち後ろから３つの値つまり3番目から5番目までの値を取得して保存している copyとしている理由は，qvelの値に影響がないようにするため\n",
        "  stem_height.append(data.geom_xpos[2,2]); #４つgeomを定義したことで，geom.xposには４種類のgeomのx,y,z座標の情報が格納されている．今回見たいstemという名前のgeomは３つ目に定義したので，0番目から数えて2番目のリストに格納されたデータが座標．そのうちz座標を取り出すので２[2,2]である．\n",
        "\n",
        "####確認用####\n",
        "print(data.geom_xpos)\n",
        "##############\n",
        "\n",
        "dpi = 120\n",
        "width = 600\n",
        "height = 800\n",
        "figsize = (width / dpi, height / dpi) #グラフサイズのテクい設定\n",
        "_, ax = plt.subplots(2, 1, figsize=figsize, dpi=dpi, sharex=True) #使わない変数は\"_\"という名前を付けることで可読性を上げている\n",
        "\n",
        "ax[0].plot(timevals, angular_velocity)\n",
        "ax[0].set_title('angular velocity')\n",
        "ax[0].set_ylabel('radians / second') #データ数でプロットすればそれはx軸は時間tになるからこれだけでよいというテクニック\n",
        "\n",
        "ax[1].plot(timevals, stem_height)\n",
        "ax[1].set_xlabel('time (seconds)') #横軸時間\n",
        "ax[1].set_ylabel('meters') #縦軸長さ\n",
        "_ = ax[1].set_title('stem height')"
      ]
    },
    {
      "cell_type": "code",
      "execution_count": 30,
      "metadata": {},
      "outputs": [
        {
          "name": "stdout",
          "output_type": "stream",
          "text": [
            "[3, 4, 5]\n"
          ]
        }
      ],
      "source": [
        "data1 = [0, 1, 2, 3, 4, 5, 6]\n",
        "result1 = data1[3:6]\n",
        "\n",
        "print(result1)"
      ]
    },
    {
      "cell_type": "markdown",
      "metadata": {
        "id": "u_zN8vATwcGy"
      },
      "source": [
        "# 例: カオスな振り子"
      ]
    },
    {
      "cell_type": "markdown",
      "metadata": {
        "id": "g1MKUEL_eSCM"
      },
      "source": [
        "以下は、サンフランシスコエクスプロレータリウムにある[この振り子](https://www.exploratorium.edu/exhibits/chaotic-pendulum)に類似したカオスな振り子のモデルです。"
      ]
    },
    {
      "cell_type": "code",
      "execution_count": 1,
      "metadata": {
        "id": "3jHYTV-bwfrS"
      },
      "outputs": [
        {
          "data": {
            "text/html": [
              "<table class=\"show_images\" style=\"border-spacing:0px;\"><tr><td style=\"padding:1px;\"><img width=\"640\" height=\"480\" style=\"image-rendering:auto; object-fit:cover;\" src=\"data:image/png;base64,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\"/></td></tr></table>"
            ],
            "text/plain": [
              "<IPython.core.display.HTML object>"
            ]
          },
          "metadata": {},
          "output_type": "display_data"
        }
      ],
      "source": [
        "import mujoco\n",
        "import mediapy as media\n",
        "import matplotlib.pyplot as plt\n",
        "\n",
        "chaotic_pendulum = \"\"\"\n",
        "<mujoco>\n",
        "  <option timestep=\".001\">\n",
        "    <flag energy=\"enable\" contact=\"disable\"/>\n",
        "  </option>\n",
        "\n",
        "  <default>\n",
        "    <joint type=\"hinge\" axis=\"0 -1 0\"/>\n",
        "    <geom type=\"capsule\" size=\".02\"/>\n",
        "  </default>\n",
        "\n",
        "  <worldbody>\n",
        "    <light pos=\"0 -.4 1\"/>\n",
        "    <camera name=\"fixed\" pos=\"0 -1 0\" xyaxes=\"1 0 0 0 0 1\"/>\n",
        "    <body name=\"0\" pos=\"0 0 .2\">\n",
        "      <joint name=\"root\"/>\n",
        "      <geom fromto=\"-.2 0 0 .2 0 0\" rgba=\"1 1 0 1\"/>\n",
        "      <geom fromto=\"0 0 0 0 0 -.25\" rgba=\"1 1 0 1\"/>\n",
        "      <body name=\"1\" pos=\"-.2 0 0\">\n",
        "        <joint/>\n",
        "        <geom fromto=\"0 0 0 0 0 -.2\" rgba=\"1 0 0 1\"/>\n",
        "      </body>\n",
        "      <body name=\"2\" pos=\".2 0 0\">\n",
        "        <joint/>\n",
        "        <geom fromto=\"0 0 0 0 0 -.2\" rgba=\"0 1 0 1\"/>\n",
        "      </body>\n",
        "      <body name=\"3\" pos=\"0 0 -.25\">\n",
        "        <joint/>\n",
        "        <geom fromto=\"0 0 0 0 0 -.2\" rgba=\"0 0 1 1\"/>\n",
        "      </body>\n",
        "    </body>\n",
        "  </worldbody>\n",
        "</mujoco>\n",
        "\"\"\"\n",
        "model = mujoco.MjModel.from_xml_string(chaotic_pendulum)\n",
        "renderer = mujoco.Renderer(model, 480, 640)\n",
        "data = mujoco.MjData(model)\n",
        "mujoco.mj_forward(model, data)\n",
        "renderer.update_scene(data, camera=\"fixed\")\n",
        "media.show_image(renderer.render())"
      ]
    },
    {
      "cell_type": "markdown",
      "metadata": {
        "id": "EKZrTBSS5f49"
      },
      "source": [
        "## タイミング\n",
        "それを動作させながら各コンポーネントのタイミングを計測する動画を見てみましょう："
      ]
    },
    {
      "cell_type": "code",
      "execution_count": 2,
      "metadata": {
        "id": "-kNWvE9dNwYW"
      },
      "outputs": [
        {
          "ename": "NameError",
          "evalue": "name 'time' is not defined",
          "output_type": "error",
          "traceback": [
            "\u001b[1;31m---------------------------------------------------------------------------\u001b[0m",
            "\u001b[1;31mNameError\u001b[0m                                 Traceback (most recent call last)",
            "\u001b[1;32mc:\\Users\\atusi\\OneDrive\\ドキュメント\\研究関連（修士）\\Github\\sibuya\\日本語化mujocoチュートリアル.ipynb セル 66\u001b[0m line \u001b[0;36m2\n\u001b[0;32m     <a href='vscode-notebook-cell:/c%3A/Users/atusi/OneDrive/%E3%83%89%E3%82%AD%E3%83%A5%E3%83%A1%E3%83%B3%E3%83%88/%E7%A0%94%E7%A9%B6%E9%96%A2%E9%80%A3%EF%BC%88%E4%BF%AE%E5%A3%AB%EF%BC%89/Github/sibuya/%E6%97%A5%E6%9C%AC%E8%AA%9E%E5%8C%96mujoco%E3%83%81%E3%83%A5%E3%83%BC%E3%83%88%E3%83%AA%E3%82%A2%E3%83%AB.ipynb#Y120sZmlsZQ%3D%3D?line=22'>23</a>\u001b[0m   sim_time \u001b[39m+\u001b[39m\u001b[39m=\u001b[39m time\u001b[39m.\u001b[39mtime() \u001b[39m-\u001b[39m tic\n\u001b[0;32m     <a href='vscode-notebook-cell:/c%3A/Users/atusi/OneDrive/%E3%83%89%E3%82%AD%E3%83%A5%E3%83%A1%E3%83%B3%E3%83%88/%E7%A0%94%E7%A9%B6%E9%96%A2%E9%80%A3%EF%BC%88%E4%BF%AE%E5%A3%AB%EF%BC%89/Github/sibuya/%E6%97%A5%E6%9C%AC%E8%AA%9E%E5%8C%96mujoco%E3%83%81%E3%83%A5%E3%83%BC%E3%83%88%E3%83%AA%E3%82%A2%E3%83%AB.ipynb#Y120sZmlsZQ%3D%3D?line=23'>24</a>\u001b[0m   n_steps \u001b[39m+\u001b[39m\u001b[39m=\u001b[39m \u001b[39m1\u001b[39m\n\u001b[1;32m---> <a href='vscode-notebook-cell:/c%3A/Users/atusi/OneDrive/%E3%83%89%E3%82%AD%E3%83%A5%E3%83%A1%E3%83%B3%E3%83%88/%E7%A0%94%E7%A9%B6%E9%96%A2%E9%80%A3%EF%BC%88%E4%BF%AE%E5%A3%AB%EF%BC%89/Github/sibuya/%E6%97%A5%E6%9C%AC%E8%AA%9E%E5%8C%96mujoco%E3%83%81%E3%83%A5%E3%83%BC%E3%83%88%E3%83%AA%E3%82%A2%E3%83%AB.ipynb#Y120sZmlsZQ%3D%3D?line=24'>25</a>\u001b[0m tic \u001b[39m=\u001b[39m time\u001b[39m.\u001b[39mtime()\n\u001b[0;32m     <a href='vscode-notebook-cell:/c%3A/Users/atusi/OneDrive/%E3%83%89%E3%82%AD%E3%83%A5%E3%83%A1%E3%83%B3%E3%83%88/%E7%A0%94%E7%A9%B6%E9%96%A2%E9%80%A3%EF%BC%88%E4%BF%AE%E5%A3%AB%EF%BC%89/Github/sibuya/%E6%97%A5%E6%9C%AC%E8%AA%9E%E5%8C%96mujoco%E3%83%81%E3%83%A5%E3%83%BC%E3%83%88%E3%83%AA%E3%82%A2%E3%83%AB.ipynb#Y120sZmlsZQ%3D%3D?line=25'>26</a>\u001b[0m renderer\u001b[39m.\u001b[39mupdate_scene(data, \u001b[39m\"\u001b[39m\u001b[39mfixed\u001b[39m\u001b[39m\"\u001b[39m)\n\u001b[0;32m     <a href='vscode-notebook-cell:/c%3A/Users/atusi/OneDrive/%E3%83%89%E3%82%AD%E3%83%A5%E3%83%A1%E3%83%B3%E3%83%88/%E7%A0%94%E7%A9%B6%E9%96%A2%E9%80%A3%EF%BC%88%E4%BF%AE%E5%A3%AB%EF%BC%89/Github/sibuya/%E6%97%A5%E6%9C%AC%E8%AA%9E%E5%8C%96mujoco%E3%83%81%E3%83%A5%E3%83%BC%E3%83%88%E3%83%AA%E3%82%A2%E3%83%AB.ipynb#Y120sZmlsZQ%3D%3D?line=26'>27</a>\u001b[0m frame \u001b[39m=\u001b[39m renderer\u001b[39m.\u001b[39mrender()\n",
            "\u001b[1;31mNameError\u001b[0m: name 'time' is not defined"
          ]
        }
      ],
      "source": [
        "# setup\n",
        "n_seconds = 6\n",
        "framerate = 30  # Hz\n",
        "n_frames = int(n_seconds * framerate)\n",
        "frames = []\n",
        "renderer = mujoco.Renderer(model, 240, 320)\n",
        "\n",
        "\n",
        "# set initial state\n",
        "mujoco.mj_resetData(model, data)\n",
        "data.joint('root').qvel = 10\n",
        "\n",
        "\n",
        "# simulate and record frames\n",
        "frame = 0\n",
        "sim_time = 0\n",
        "render_time = 0\n",
        "n_steps = 0\n",
        "for i in range(n_frames):\n",
        "  while data.time * framerate < i:\n",
        "    tic = time.time()\n",
        "    mujoco.mj_step(model, data)\n",
        "    sim_time += time.time() - tic\n",
        "    n_steps += 1\n",
        "  tic = time.time()\n",
        "  renderer.update_scene(data, \"fixed\")\n",
        "  frame = renderer.render()\n",
        "  render_time += time.time() - tic\n",
        "  frames.append(frame)\n",
        "\n",
        "# print timing and play video\n",
        "step_time = 1e6*sim_time/n_steps\n",
        "step_fps = n_steps/sim_time\n",
        "print(f'simulation: {step_time:5.3g} μs/step  ({step_fps:5.0f}Hz)')\n",
        "frame_time = 1e6*render_time/n_frames\n",
        "frame_fps = n_frames/render_time\n",
        "print(f'rendering:  {frame_time:5.3g} μs/frame ({frame_fps:5.0f}Hz)')\n",
        "print('\\n')\n",
        "\n",
        "# show video\n",
        "media.show_video(frames, fps=framerate)"
      ]
    },
    {
      "cell_type": "markdown",
      "metadata": {
        "id": "Iqi_m8HT-X5k"
      },
      "source": [
        "レンダリングがシミュレーションされた物理よりも**はるかに**遅いことに注意してください。\n",
        "\n",
        "## カオス\n",
        "これは[カオス理論](https://en.wikipedia.org/wiki/Chaos_theory)に基づくシステムです（初期条件のわずかな変化が急速に蓄積します）。"
      ]
    },
    {
      "cell_type": "code",
      "execution_count": null,
      "metadata": {
        "id": "Pa_19EfvOzzg"
      },
      "outputs": [],
      "source": [
        "PERTURBATION = 1e-7\n",
        "SIM_DURATION = 10 # seconds\n",
        "NUM_REPEATS = 8\n",
        "\n",
        "# preallocate\n",
        "n_steps = int(SIM_DURATION / model.opt.timestep)\n",
        "sim_time = np.zeros(n_steps)\n",
        "angle = np.zeros(n_steps)\n",
        "energy = np.zeros(n_steps)\n",
        "\n",
        "# prepare plotting axes\n",
        "_, ax = plt.subplots(2, 1, figsize=(8, 6), sharex=True)\n",
        "\n",
        "# simulate NUM_REPEATS times with slightly different initial conditions\n",
        "for _ in range(NUM_REPEATS):\n",
        "  # initialize\n",
        "  mujoco.mj_resetData(model, data)\n",
        "  data.qvel[0] = 10 # root joint velocity\n",
        "  # perturb initial velocities\n",
        "  data.qvel[:] += PERTURBATION * np.random.randn(model.nv)\n",
        "\n",
        "  # simulate\n",
        "  for i in range(n_steps):\n",
        "    mujoco.mj_step(model, data)\n",
        "    sim_time[i] = data.time\n",
        "    angle[i] = data.joint('root').qpos\n",
        "    energy[i] = data.energy[0] + data.energy[1]\n",
        "\n",
        "  # plot\n",
        "  ax[0].plot(sim_time, angle)\n",
        "  ax[1].plot(sim_time, energy)\n",
        "\n",
        "# finalize plot\n",
        "ax[0].set_title('root angle')\n",
        "ax[0].set_ylabel('radian')\n",
        "ax[1].set_title('total energy')\n",
        "ax[1].set_ylabel('Joule')\n",
        "ax[1].set_xlabel('second')\n",
        "plt.tight_layout()"
      ]
    },
    {
      "cell_type": "markdown",
      "metadata": {
        "id": "daSIA_ewFGxV"
      },
      "source": [
        "## タイムステップと精度\n",
        "**質問:** なぜエネルギーが変動しているのですか？摩擦や減衰がないので、このシステムはエネルギーを保存するはずです。\n",
        "\n",
        "**回答:** 時間の離散化のためです。\n",
        "\n",
        "タイムステップを減少させると、精度が向上し、エネルギーの保存が向上します：\n",
        "つまり，タイムステップをなるべく小さくしたほうがシミュレーションの精度は上がるということ　そしてタイムステップがおおざっぱすぎると変な計算結果になるということ"
      ]
    },
    {
      "cell_type": "code",
      "execution_count": null,
      "metadata": {
        "id": "4z-7KN_fFme-"
      },
      "outputs": [],
      "source": [
        "SIM_DURATION = 10 # (seconds)\n",
        "TIMESTEPS = np.power(10, np.linspace(-2, -4, 5))\n",
        "\n",
        "# prepare plotting axes\n",
        "_, ax = plt.subplots(1, 1)\n",
        "\n",
        "for dt in TIMESTEPS:\n",
        "   # set timestep, print\n",
        "  model.opt.timestep = dt\n",
        "\n",
        "  # allocate\n",
        "  n_steps = int(SIM_DURATION / model.opt.timestep)\n",
        "  sim_time = np.zeros(n_steps)\n",
        "  energy = np.zeros(n_steps)\n",
        "\n",
        "  # initialize\n",
        "  mujoco.mj_resetData(model, data)\n",
        "  data.qvel[0] = 9 # root joint velocity\n",
        "\n",
        "  # simulate\n",
        "  print('{} steps at dt = {:2.2g}ms'.format(n_steps, 1000*dt))\n",
        "  for i in range(n_steps):\n",
        "    mujoco.mj_step(model, data)\n",
        "    sim_time[i] = data.time\n",
        "    energy[i] = data.energy[0] + data.energy[1]\n",
        "\n",
        "  # plot\n",
        "  ax.plot(sim_time, energy, label='timestep = {:2.2g}ms'.format(1000*dt))\n",
        "\n",
        "# finalize plot\n",
        "ax.set_title('energy')\n",
        "ax.set_ylabel('Joule')\n",
        "ax.set_xlabel('second')\n",
        "ax.legend(frameon=True);\n",
        "plt.tight_layout()"
      ]
    },
    {
      "cell_type": "markdown",
      "metadata": {
        "id": "jsVkUm7QKb9I"
      },
      "source": [
        "## タイムステップと発散\n",
        "タイムステップを増やすと、シミュレーションが急速に発散します：\n",
        "細かいシミュレーションにしないと，すぐにバグってぶっ飛んだ値になりますという意味"
      ]
    },
    {
      "cell_type": "code",
      "execution_count": null,
      "metadata": {
        "id": "FbdUA4zDPbDP"
      },
      "outputs": [],
      "source": [
        "SIM_DURATION = 10 # (seconds)\n",
        "TIMESTEPS = np.power(10, np.linspace(-2, -1.5, 7))\n",
        "\n",
        "# get plotting axes\n",
        "ax = plt.gca()\n",
        "\n",
        "for dt in TIMESTEPS:\n",
        "  # set timestep\n",
        "  model.opt.timestep = dt\n",
        "\n",
        "  # allocate\n",
        "  n_steps = int(SIM_DURATION / model.opt.timestep)\n",
        "  sim_time = np.zeros(n_steps)\n",
        "  energy = np.zeros(n_steps) * np.nan\n",
        "  speed = np.zeros(n_steps) * np.nan\n",
        "\n",
        "  # initialize\n",
        "  mujoco.mj_resetData(model, data)\n",
        "  data.qvel[0] = 11 # set root joint velocity\n",
        "\n",
        "  # simulate\n",
        "  print('simulating {} steps at dt = {:2.2g}ms'.format(n_steps, 1000*dt))\n",
        "  for i in range(n_steps):\n",
        "    mujoco.mj_step(model, data)\n",
        "    if data.warning.number.any():\n",
        "      warning_index = np.nonzero(data.warning.number)[0]\n",
        "      warning = mujoco.mjtWarning(warning_index).name\n",
        "      print(f'stopped due to divergence ({warning}) at timestep {i}.\\n')\n",
        "      break\n",
        "    sim_time[i] = data.time\n",
        "    energy[i] = sum(abs(data.qvel))\n",
        "    speed[i] = np.linalg.norm(data.qvel)\n",
        "\n",
        "  # plot\n",
        "  ax.plot(sim_time, energy, label='timestep = {:2.2g}ms'.format(1000*dt))\n",
        "  ax.set_yscale('log')\n",
        "\n",
        "\n",
        "# finalize plot\n",
        "ax.set_ybound(1, 1e3)\n",
        "ax.set_title('energy')\n",
        "ax.set_ylabel('Joule')\n",
        "ax.set_xlabel('second')\n",
        "ax.legend(frameon=True, loc='lower right');\n",
        "plt.tight_layout()\n"
      ]
    },
    {
      "cell_type": "markdown",
      "metadata": {
        "id": "FITYfGyy3XPL"
      },
      "source": [
        "# コンタクト\n",
        "\n",
        "ボックスと球の例に戻り、それに自由なジョイントを与えましょう："
      ]
    },
    {
      "cell_type": "code",
      "execution_count": 1,
      "metadata": {
        "id": "2n1VNVv_FkbB"
      },
      "outputs": [
        {
          "data": {
            "text/html": [
              "<table class=\"show_images\" style=\"border-spacing:0px;\"><tr><td style=\"padding:1px;\"><img width=\"600\" height=\"400\" style=\"image-rendering:auto; object-fit:cover;\" src=\"data:image/png;base64,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\"/></td></tr></table>"
            ],
            "text/plain": [
              "<IPython.core.display.HTML object>"
            ]
          },
          "metadata": {},
          "output_type": "display_data"
        }
      ],
      "source": [
        "import numpy as np\n",
        "import mujoco\n",
        "import mediapy as media\n",
        "import matplotlib.pyplot as plt\n",
        "\n",
        "free_body_MJCF = \"\"\"\n",
        "<mujoco>\n",
        "  <asset>\n",
        "    <texture name=\"grid\" type=\"2d\" builtin=\"checker\" rgb1=\".1 .2 .3\"\n",
        "    rgb2=\".2 .3 .4\" width=\"300\" height=\"300\" mark=\"edge\" markrgb=\".2 .3 .4\"/>\n",
        "    <material name=\"grid\" texture=\"grid\" texrepeat=\"2 2\" texuniform=\"true\"\n",
        "    reflectance=\".2\"/>\n",
        "  </asset>\n",
        "\n",
        "  <worldbody>\n",
        "    <light pos=\"0 0 1\" mode=\"trackcom\"/>\n",
        "    <geom name=\"ground\" type=\"plane\" pos=\"0 0 -.5\" size=\"2 2 .1\" material=\"grid\" solimp=\".99 .99 .01\" solref=\".001 1\"/>\n",
        "    <body name=\"box_and_sphere\" pos=\"0 0 0\">\n",
        "      <freejoint/>\n",
        "      <geom name=\"red_box\" type=\"box\" size=\".1 .1 .1\" rgba=\"1 0 0 1\" solimp=\".99 .99 .01\"  solref=\".001 1\"/>\n",
        "      <geom name=\"green_sphere\" size=\".06\" pos=\".1 .1 .1\" rgba=\"0 1 0 1\"/>\n",
        "      <camera name=\"fixed\" pos=\"0 -.6 .3\" xyaxes=\"1 0 0 0 1 2\"/>\n",
        "      <camera name=\"track\" pos=\"0 -.6 .3\" xyaxes=\"1 0 0 0 1 2\" mode=\"track\"/>\n",
        "    </body>\n",
        "  </worldbody>\n",
        "</mujoco>\n",
        "\"\"\"\n",
        "model = mujoco.MjModel.from_xml_string(free_body_MJCF)\n",
        "renderer = mujoco.Renderer(model, 400, 600)\n",
        "data = mujoco.MjData(model)\n",
        "mujoco.mj_forward(model, data)\n",
        "renderer.update_scene(data, \"fixed\")\n",
        "media.show_image(renderer.render())"
      ]
    },
    {
      "cell_type": "markdown",
      "metadata": {
        "id": "Z2amdQCn8REu"
      },
      "source": [
        "床の上をゆっくりと転がるこのボディを、接触点と力を視覚化しながらレンダリングしましょう："
      ]
    },
    {
      "cell_type": "code",
      "execution_count": 1,
      "metadata": {
        "id": "HlRhFs_d3WLP"
      },
      "outputs": [
        {
          "data": {
            "text/html": [
              "<table class=\"show_images\" style=\"border-spacing:0px;\"><tr><td style=\"padding:1px;\"><img width=\"600\" height=\"400\" style=\"image-rendering:auto; object-fit:cover;\" src=\"data:image/png;base64,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\"/></td></tr></table>"
            ],
            "text/plain": [
              "<IPython.core.display.HTML object>"
            ]
          },
          "metadata": {},
          "output_type": "display_data"
        },
        {
          "data": {
            "text/html": [
              "<table class=\"show_videos\" style=\"border-spacing:0px;\"><tr><td style=\"padding:1px;\"><video controls width=\"320\" height=\"240\" style=\"object-fit:cover;\" loop autoplay muted>\n",
              "      <source src=\"data:video/mp4;base64,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\" type=\"video/mp4\"/>\n",
              "      This browser does not support the video tag.\n",
              "      </video></td></tr></table>"
            ],
            "text/plain": [
              "<IPython.core.display.HTML object>"
            ]
          },
          "metadata": {},
          "output_type": "display_data"
        }
      ],
      "source": [
        "import numpy as np\n",
        "import mujoco\n",
        "import mediapy as media\n",
        "import matplotlib.pyplot as plt\n",
        "\n",
        "free_body_MJCF = \"\"\"\n",
        "<mujoco>\n",
        "  <asset>\n",
        "    <texture name=\"grid\" type=\"2d\" builtin=\"checker\" rgb1=\".1 .2 .3\"\n",
        "    rgb2=\".2 .3 .4\" width=\"300\" height=\"300\" mark=\"edge\" markrgb=\".2 .3 .4\"/>\n",
        "    <material name=\"grid\" texture=\"grid\" texrepeat=\"2 2\" texuniform=\"true\"\n",
        "    reflectance=\".2\"/>\n",
        "  </asset>\n",
        "\n",
        "  <worldbody>\n",
        "    <light pos=\"0 0 1\" mode=\"trackcom\"/>\n",
        "    <geom name=\"ground\" type=\"plane\" pos=\"0 0 -.5\" size=\"2 2 .1\" material=\"grid\" solimp=\".99 .99 .01\" solref=\".001 1\"/>\n",
        "    <body name=\"box_and_sphere\" pos=\"0 0 0\">\n",
        "      <freejoint/>\n",
        "      <geom name=\"red_box\" type=\"box\" size=\".1 .1 .1\" rgba=\"1 0 0 1\" solimp=\".99 .99 .01\"  solref=\".001 1\"/>\n",
        "      <geom name=\"green_sphere\" size=\".06\" pos=\".1 .1 .1\" rgba=\"0 1 0 1\"/>\n",
        "      <camera name=\"fixed\" pos=\"0 -.6 .3\" xyaxes=\"1 0 0 0 1 2\"/>\n",
        "      <camera name=\"track\" pos=\"0 -.6 .3\" xyaxes=\"1 0 0 0 1 2\" mode=\"track\"/>\n",
        "    </body>\n",
        "  </worldbody>\n",
        "</mujoco>\n",
        "\"\"\"\n",
        "model = mujoco.MjModel.from_xml_string(free_body_MJCF)\n",
        "renderer = mujoco.Renderer(model, 400, 600)\n",
        "data = mujoco.MjData(model)\n",
        "mujoco.mj_forward(model, data)\n",
        "renderer.update_scene(data, \"fixed\")\n",
        "media.show_image(renderer.render())\n",
        "\n",
        "\n",
        "n_frames = 200\n",
        "height = 240\n",
        "width = 320\n",
        "frames = []\n",
        "renderer = mujoco.Renderer(model, height, width)\n",
        "\n",
        "# visualize contact frames and forces, make body transparent\n",
        "options = mujoco.MjvOption()\n",
        "mujoco.mjv_defaultOption(options)\n",
        "options.flags[mujoco.mjtVisFlag.mjVIS_CONTACTPOINT] = True\n",
        "options.flags[mujoco.mjtVisFlag.mjVIS_CONTACTFORCE] = True\n",
        "options.flags[mujoco.mjtVisFlag.mjVIS_TRANSPARENT] = True\n",
        "\n",
        "# tweak scales of contact visualization elements\n",
        "model.vis.scale.contactwidth = 0.1\n",
        "model.vis.scale.contactheight = 0.03\n",
        "model.vis.scale.forcewidth = 0.05\n",
        "model.vis.map.force = 0.3\n",
        "\n",
        "# random initial rotational velocity:\n",
        "mujoco.mj_resetData(model, data)\n",
        "data.qvel[3:6] = 5*np.random.randn(3)\n",
        "\n",
        "# simulate and render\n",
        "for i in range(n_frames):\n",
        "  while data.time < i/120.0: #1/4x real time\n",
        "    mujoco.mj_step(model, data)\n",
        "  renderer.update_scene(data, \"track\", options)\n",
        "  frame = renderer.render()\n",
        "  frames.append(frame)\n",
        "\n",
        "# show video\n",
        "media.show_video(frames, fps=30)"
      ]
    },
    {
      "cell_type": "markdown",
      "metadata": {
        "id": "_181TbtVSMBl"
      },
      "source": [
        "## 接触力の解析\n",
        "\n",
        "上記のシミュレーションを再実行しましょう（異なるランダムな初期条件で）、そして接触に関連するいくつかの値をプロットします。"
      ]
    },
    {
      "cell_type": "code",
      "execution_count": null,
      "metadata": {
        "id": "BMqyWeHki8Eg"
      },
      "outputs": [],
      "source": [
        "n_steps = 499\n",
        "\n",
        "# allocate\n",
        "sim_time = np.zeros(n_steps)\n",
        "ncon = np.zeros(n_steps)\n",
        "force = np.zeros((n_steps,3))\n",
        "velocity = np.zeros((n_steps, model.nv))\n",
        "penetration = np.zeros(n_steps)\n",
        "acceleration = np.zeros((n_steps, model.nv))\n",
        "forcetorque = np.zeros(6)\n",
        "\n",
        "# random initial rotational velocity:\n",
        "mujoco.mj_resetData(model, data)\n",
        "data.qvel[3:6] = 2*np.random.randn(3)\n",
        "\n",
        "# simulate and save data\n",
        "for i in range(n_steps):\n",
        "  mujoco.mj_step(model, data)\n",
        "  sim_time[i] = data.time\n",
        "  ncon[i] = data.ncon\n",
        "  velocity[i] = data.qvel[:]\n",
        "  acceleration[i] = data.qacc[:]\n",
        "  # iterate over active contacts, save force and distance\n",
        "  for j,c in enumerate(data.contact):\n",
        "    mujoco.mj_contactForce(model, data, j, forcetorque)\n",
        "    force[i] += forcetorque[0:3]\n",
        "    penetration[i] = min(penetration[i], c.dist)\n",
        "  # we could also do\n",
        "  # force[i] += data.qfrc_constraint[0:3]\n",
        "  # do you see why?\n",
        "\n",
        "# plot\n",
        "_, ax = plt.subplots(3, 2, sharex=True, figsize=(10, 10))\n",
        "\n",
        "lines = ax[0,0].plot(sim_time, force)\n",
        "ax[0,0].set_title('contact force')\n",
        "ax[0,0].set_ylabel('Newton')\n",
        "ax[0,0].legend(iter(lines), ('normal z', 'friction x', 'friction y'));\n",
        "\n",
        "ax[1,0].plot(sim_time, acceleration)\n",
        "ax[1,0].set_title('acceleration')\n",
        "ax[1,0].set_ylabel('(meter,radian)/s/s')\n",
        "\n",
        "ax[2,0].plot(sim_time, velocity)\n",
        "ax[2,0].set_title('velocity')\n",
        "ax[2,0].set_ylabel('(meter,radian)/s')\n",
        "ax[2,0].set_xlabel('second')\n",
        "\n",
        "ax[0,1].plot(sim_time, ncon)\n",
        "ax[0,1].set_title('number of contacts')\n",
        "ax[0,1].set_yticks(range(6))\n",
        "\n",
        "ax[1,1].plot(sim_time, force[:,0])\n",
        "ax[1,1].set_yscale('log')\n",
        "ax[1,1].set_title('normal (z) force - log scale')\n",
        "ax[1,1].set_ylabel('Newton')\n",
        "z_gravity = -model.opt.gravity[2]\n",
        "mg = model.body(\"box_and_sphere\").mass[0] * z_gravity\n",
        "mg_line = ax[1,1].plot(sim_time, np.ones(n_steps)*mg, label='m*g', linewidth=1)\n",
        "ax[1,1].legend()\n",
        "\n",
        "ax[2,1].plot(sim_time, 1000*penetration)\n",
        "ax[2,1].set_title('penetration depth')\n",
        "ax[2,1].set_ylabel('millimeter')\n",
        "ax[2,1].set_xlabel('second')\n",
        "\n",
        "plt.tight_layout()"
      ]
    },
    {
      "cell_type": "markdown",
      "metadata": {
        "id": "zV5PkYzFXu42"
      },
      "source": [
        "## 摩擦\n",
        "\n",
        "摩擦値を変更する効果を見てみましょう。"
      ]
    },
    {
      "cell_type": "code",
      "execution_count": null,
      "metadata": {
        "id": "2R_gKoYyXwda"
      },
      "outputs": [],
      "source": [
        "MJCF = \"\"\"\n",
        "<mujoco>\n",
        "  <asset>\n",
        "    <texture name=\"grid\" type=\"2d\" builtin=\"checker\" rgb1=\".1 .2 .3\"\n",
        "     rgb2=\".2 .3 .4\" width=\"300\" height=\"300\" mark=\"none\"/>\n",
        "    <material name=\"grid\" texture=\"grid\" texrepeat=\"6 6\"\n",
        "     texuniform=\"true\" reflectance=\".2\"/>\n",
        "     <material name=\"wall\" rgba='.5 .5 .5 1'/>\n",
        "  </asset>\n",
        "\n",
        "  <default>\n",
        "    <geom type=\"box\" size=\".05 .05 .05\" />\n",
        "    <joint type=\"free\"/>\n",
        "  </default>\n",
        "\n",
        "  <worldbody>\n",
        "    <light name=\"light\" pos=\"-.2 0 1\"/>\n",
        "    <geom name=\"ground\" type=\"plane\" size=\".5 .5 10\" material=\"grid\"\n",
        "     zaxis=\"-.3 0 1\" friction=\".1\"/>\n",
        "    <camera name=\"y\" pos=\"-.1 -.6 .3\" xyaxes=\"1 0 0 0 1 2\"/>\n",
        "    <body pos=\"0 0 .1\">\n",
        "      <joint/>\n",
        "      <geom/>\n",
        "    </body>\n",
        "    <body pos=\"0 .2 .1\">\n",
        "      <joint/>\n",
        "      <geom friction=\".33\"/>\n",
        "    </body>\n",
        "  </worldbody>\n",
        "\n",
        "</mujoco>\n",
        "\"\"\"\n",
        "n_frames = 60\n",
        "height = 300\n",
        "width = 300\n",
        "frames = []\n",
        "\n",
        "# load\n",
        "model = mujoco.MjModel.from_xml_string(MJCF)\n",
        "data = mujoco.MjData(model)\n",
        "renderer = mujoco.Renderer(model, height, width)\n",
        "\n",
        "# simulate and render\n",
        "mujoco.mj_resetData(model, data)\n",
        "for i in range(n_frames):\n",
        "  while data.time < i/30.0:\n",
        "    mujoco.mj_step(model, data)\n",
        "  renderer.update_scene(data, \"y\")\n",
        "  frame = renderer.render()\n",
        "  frames.append(frame)\n",
        "media.show_video(frames, fps=30)"
      ]
    },
    {
      "cell_type": "markdown",
      "metadata": {
        "id": "ArmmaPqGP6W7"
      },
      "source": [
        "# Tendons, actuators and sensors（# 腱、アクチュエータ、センサー）"
      ]
    },
    {
      "cell_type": "code",
      "execution_count": null,
      "metadata": {
        "id": "VJz84c97c8Df"
      },
      "outputs": [],
      "source": [
        "MJCF = \"\"\"\n",
        "<mujoco>\n",
        "  <asset>\n",
        "    <texture name=\"grid\" type=\"2d\" builtin=\"checker\" rgb1=\".1 .2 .3\"\n",
        "     rgb2=\".2 .3 .4\" width=\"300\" height=\"300\" mark=\"none\"/>\n",
        "    <material name=\"grid\" texture=\"grid\" texrepeat=\"1 1\"\n",
        "     texuniform=\"true\" reflectance=\".2\"/>\n",
        "  </asset>\n",
        "\n",
        "  <worldbody>\n",
        "    <light name=\"light\" pos=\"0 0 1\"/>\n",
        "    <geom name=\"floor\" type=\"plane\" pos=\"0 0 -.5\" size=\"2 2 .1\" material=\"grid\"/>\n",
        "    <site name=\"anchor\" pos=\"0 0 .3\" size=\".01\"/>\n",
        "    <camera name=\"fixed\" pos=\"0 -1.3 .5\" xyaxes=\"1 0 0 0 1 2\"/>\n",
        "\n",
        "    <geom name=\"pole\" type=\"cylinder\" fromto=\".3 0 -.5 .3 0 -.1\" size=\".04\"/>\n",
        "    <body name=\"bat\" pos=\".3 0 -.1\">\n",
        "      <joint name=\"swing\" type=\"hinge\" damping=\"1\" axis=\"0 0 1\"/>\n",
        "      <geom name=\"bat\" type=\"capsule\" fromto=\"0 0 .04 0 -.3 .04\"\n",
        "       size=\".04\" rgba=\"0 0 1 1\"/>\n",
        "    </body>\n",
        "\n",
        "    <body name=\"box_and_sphere\" pos=\"0 0 0\">\n",
        "      <joint name=\"free\" type=\"free\"/>\n",
        "      <geom name=\"red_box\" type=\"box\" size=\".1 .1 .1\" rgba=\"1 0 0 1\"/>\n",
        "      <geom name=\"green_sphere\"  size=\".06\" pos=\".1 .1 .1\" rgba=\"0 1 0 1\"/>\n",
        "      <site name=\"hook\" pos=\"-.1 -.1 -.1\" size=\".01\"/>\n",
        "      <site name=\"IMU\"/>\n",
        "    </body>\n",
        "  </worldbody>\n",
        "\n",
        "  <tendon>\n",
        "    <spatial name=\"wire\" limited=\"true\" range=\"0 0.35\" width=\"0.003\">\n",
        "      <site site=\"anchor\"/>\n",
        "      <site site=\"hook\"/>\n",
        "    </spatial>\n",
        "  </tendon>\n",
        "\n",
        "  <actuator>\n",
        "    <motor name=\"my_motor\" joint=\"swing\" gear=\"1\"/>\n",
        "  </actuator>\n",
        "\n",
        "  <sensor>\n",
        "    <accelerometer name=\"accelerometer\" site=\"IMU\"/>\n",
        "  </sensor>\n",
        "</mujoco>\n",
        "\"\"\"\n",
        "model = mujoco.MjModel.from_xml_string(MJCF)\n",
        "renderer = mujoco.Renderer(model, 480, 480)\n",
        "data = mujoco.MjData(model)\n",
        "mujoco.mj_forward(model, data)\n",
        "renderer.update_scene(data, \"fixed\")\n",
        "media.show_image(renderer.render())\n"
      ]
    },
    {
      "cell_type": "markdown",
      "metadata": {
        "id": "u8z2vrOr_RVD"
      },
      "source": [
        "駆動されるバット（bat）と受動的な「ピニャータ」："
      ]
    },
    {
      "cell_type": "code",
      "execution_count": null,
      "metadata": {
        "id": "z-zoBCuBv2Xi"
      },
      "outputs": [],
      "source": [
        "n_frames = 180\n",
        "height = 240\n",
        "width = 320\n",
        "frames = []\n",
        "fps = 60.0\n",
        "times = []\n",
        "sensordata = []\n",
        "\n",
        "renderer = mujoco.Renderer(model, height, width)\n",
        "\n",
        "# constant actuator signal\n",
        "mujoco.mj_resetData(model, data)\n",
        "data.ctrl = 20\n",
        "\n",
        "# simulate and render\n",
        "for i in range(n_frames):\n",
        "  while data.time < i/fps:\n",
        "    mujoco.mj_step(model, data)\n",
        "    times.append(data.time)\n",
        "    sensordata.append(data.sensor('accelerometer').data.copy())\n",
        "  renderer.update_scene(data, \"fixed\")\n",
        "  frame = renderer.render()\n",
        "  frames.append(frame)\n",
        "\n",
        "media.show_video(frames, fps=fps)"
      ]
    },
    {
      "cell_type": "markdown",
      "metadata": {
        "id": "gwHMy_iRA7Jh"
      },
      "source": [
        "さて、私たちの加速度計センサーで測定された値をプロットしてみましょう："
      ]
    },
    {
      "cell_type": "code",
      "execution_count": null,
      "metadata": {
        "id": "uy4wSEMAAJgn"
      },
      "outputs": [],
      "source": [
        "ax = plt.gca()\n",
        "\n",
        "ax.plot(np.asarray(times), np.asarray(sensordata), label='timestep = {:2.2g}ms'.format(1000*dt))\n",
        "\n",
        "# finalize plot\n",
        "ax.set_title('Accelerometer values')\n",
        "ax.set_ylabel('meter/second^2')\n",
        "ax.set_xlabel('second')\n",
        "ax.legend(frameon=True, loc='lower right');\n",
        "plt.tight_layout()"
      ]
    },
    {
      "cell_type": "markdown",
      "metadata": {
        "id": "0YKSTtJ_BQ7x"
      },
      "source": [
        "加速度計の測定値において、ボディがバットで打たれる瞬間が明確に見えることに注意してください。"
      ]
    },
    {
      "cell_type": "markdown",
      "metadata": {
        "id": "1kOs1wTc7uCZ"
      },
      "source": [
        "# 高度なレンダリング\n",
        "\n",
        "ジョイントの可視化と同様に、追加のレンダリングオプションは `render` メソッドのパラメータとして公開されています。\n",
        "\n",
        "最初のモデルに戻りましょう："
      ]
    },
    {
      "cell_type": "code",
      "execution_count": null,
      "metadata": {
        "id": "mTDgsk2xcgwH"
      },
      "outputs": [],
      "source": [
        "xml = \"\"\"\n",
        "<mujoco>\n",
        "  <worldbody>\n",
        "    <light name=\"top\" pos=\"0 0 1\"/>\n",
        "    <body name=\"box_and_sphere\" euler=\"0 0 -30\">\n",
        "      <joint name=\"swing\" type=\"hinge\" axis=\"1 -1 0\" pos=\"-.2 -.2 -.2\"/>\n",
        "      <geom name=\"red_box\" type=\"box\" size=\".2 .2 .2\" rgba=\"1 0 0 1\"/>\n",
        "      <geom name=\"green_sphere\" pos=\".2 .2 .2\" size=\".1\" rgba=\"0 1 0 1\"/>\n",
        "    </body>\n",
        "  </worldbody>\n",
        "</mujoco>\n",
        "\"\"\"\n",
        "model = mujoco.MjModel.from_xml_string(xml)\n",
        "renderer = mujoco.Renderer(model)\n",
        "data = mujoco.MjData(model)\n",
        "\n",
        "mujoco.mj_forward(model, data)\n",
        "renderer.update_scene(data)\n",
        "media.show_image(renderer.render())"
      ]
    },
    {
      "cell_type": "code",
      "execution_count": null,
      "metadata": {
        "id": "VePXamL_6XUc"
      },
      "outputs": [],
      "source": [
        "#@title Enable transparency and frame visualization\n",
        "\n",
        "scene_option.frame = mujoco.mjtFrame.mjFRAME_GEOM\n",
        "scene_option.flags[mujoco.mjtVisFlag.mjVIS_TRANSPARENT] = True\n",
        "renderer.update_scene(data, scene_option=scene_option)\n",
        "frame = renderer.render()\n",
        "media.show_image(frame)"
      ]
    },
    {
      "cell_type": "code",
      "execution_count": null,
      "metadata": {
        "id": "PVcpcvww9lZ8"
      },
      "outputs": [],
      "source": [
        "#@title Depth rendering\n",
        "\n",
        "# update renderer to render depth\n",
        "renderer.enable_depth_rendering()\n",
        "\n",
        "# reset the scene\n",
        "renderer.update_scene(data)\n",
        "\n",
        "# depth is a float array, in meters.\n",
        "depth = renderer.render()\n",
        "\n",
        "# Shift nearest values to the origin.\n",
        "depth -= depth.min()\n",
        "# Scale by 2 mean distances of near rays.\n",
        "depth /= 2*depth[depth <= 1].mean()\n",
        "# Scale to [0, 255]\n",
        "pixels = 255*np.clip(depth, 0, 1)\n",
        "\n",
        "media.show_image(pixels.astype(np.uint8))\n",
        "\n",
        "renderer.disable_depth_rendering()"
      ]
    },
    {
      "cell_type": "code",
      "execution_count": null,
      "metadata": {
        "id": "PNwiIrgpx7T8"
      },
      "outputs": [],
      "source": [
        "#@title Segmentation rendering\n",
        "\n",
        "# update renderer to render segmentation\n",
        "renderer.enable_segmentation_rendering()\n",
        "\n",
        "# reset the scene\n",
        "renderer.update_scene(data)\n",
        "\n",
        "seg = renderer.render()\n",
        "\n",
        "# Display the contents of the first channel, which contains object\n",
        "# IDs. The second channel, seg[:, :, 1], contains object types.\n",
        "geom_ids = seg[:, :, 0]\n",
        "# Infinity is mapped to -1\n",
        "geom_ids = geom_ids.astype(np.float64) + 1\n",
        "# Scale to [0, 1]\n",
        "geom_ids = geom_ids / geom_ids.max()\n",
        "pixels = 255*geom_ids\n",
        "media.show_image(pixels.astype(np.uint8))\n",
        "\n",
        "renderer.disable_segmentation_rendering()"
      ]
    },
    {
      "cell_type": "markdown",
      "metadata": {
        "id": "wo72mo0mGIXr"
      },
      "source": [
        "## カメラ行列\n",
        "\n",
        "カメラ行列の詳細については、Wikipediaの記事 [Camera matrix](https://en.wikipedia.org/wiki/Camera_matrix) を参照してください。"
      ]
    },
    {
      "cell_type": "code",
      "execution_count": null,
      "metadata": {
        "id": "sDYwClpxaxab"
      },
      "outputs": [],
      "source": [
        "def compute_camera_matrix(renderer, data):\n",
        "  \"\"\"Returns the 3x4 camera matrix.\"\"\"\n",
        "  # If the camera is a 'free' camera, we get its position and orientation\n",
        "  # from the scene data structure. It is a stereo camera, so we average over\n",
        "  # the left and right channels. Note: we call `self.update()` in order to\n",
        "  # ensure that the contents of `scene.camera` are correct.\n",
        "  renderer.update_scene(data)\n",
        "  pos = np.mean([camera.pos for camera in renderer.scene.camera], axis=0)\n",
        "  z = -np.mean([camera.forward for camera in renderer.scene.camera], axis=0)\n",
        "  y = np.mean([camera.up for camera in renderer.scene.camera], axis=0)\n",
        "  rot = np.vstack((np.cross(y, z), y, z))\n",
        "  fov = model.vis.global_.fovy\n",
        "\n",
        "  # Translation matrix (4x4).\n",
        "  translation = np.eye(4)\n",
        "  translation[0:3, 3] = -pos\n",
        "\n",
        "  # Rotation matrix (4x4).\n",
        "  rotation = np.eye(4)\n",
        "  rotation[0:3, 0:3] = rot\n",
        "\n",
        "  # Focal transformation matrix (3x4).\n",
        "  focal_scaling = (1./np.tan(np.deg2rad(fov)/2)) * renderer.height / 2.0\n",
        "  focal = np.diag([-focal_scaling, focal_scaling, 1.0, 0])[0:3, :]\n",
        "\n",
        "  # Image matrix (3x3).\n",
        "  image = np.eye(3)\n",
        "  image[0, 2] = (renderer.width - 1) / 2.0\n",
        "  image[1, 2] = (renderer.height - 1) / 2.0\n",
        "  return image @ focal @ rotation @ translation"
      ]
    },
    {
      "cell_type": "markdown",
      "metadata": {
        "id": "Bs89vS0wLoU0"
      },
      "source": [
        "カメラ行列を使用して、ワールド座標からカメラ座標に変換してみましょう："
      ]
    },
    {
      "cell_type": "code",
      "execution_count": null,
      "metadata": {
        "id": "My0N4_7PDJ_q"
      },
      "outputs": [],
      "source": [
        "# reset the scene\n",
        "renderer.update_scene(data)\n",
        "\n",
        "\n",
        "# Get the world coordinates of the box corners\n",
        "box_pos = data.geom_xpos[model.geom('red_box').id]\n",
        "box_mat = data.geom_xmat[model.geom('red_box').id].reshape(3, 3)\n",
        "box_size = model.geom_size[model.geom('red_box').id]\n",
        "offsets = np.array([-1, 1]) * box_size[:, None]\n",
        "xyz_local = np.stack(list(itertools.product(*offsets))).T\n",
        "xyz_global = box_pos[:, None] + box_mat @ xyz_local\n",
        "\n",
        "# Camera matrices multiply homogenous [x, y, z, 1] vectors.\n",
        "corners_homogeneous = np.ones((4, xyz_global.shape[1]), dtype=float)\n",
        "corners_homogeneous[:3, :] = xyz_global\n",
        "\n",
        "# Get the camera matrix.\n",
        "m = compute_camera_matrix(renderer, data)\n",
        "\n",
        "# Project world coordinates into pixel space. See:\n",
        "# https://en.wikipedia.org/wiki/3D_projection#Mathematical_formula\n",
        "xs, ys, s = m @ corners_homogeneous\n",
        "# x and y are in the pixel coordinate system.\n",
        "x = xs / s\n",
        "y = ys / s\n",
        "\n",
        "# Render the camera view and overlay the projected corner coordinates.\n",
        "pixels = renderer.render()\n",
        "fig, ax = plt.subplots(1, 1)\n",
        "ax.imshow(pixels)\n",
        "ax.plot(x, y, '+', c='w')\n",
        "ax.set_axis_off()"
      ]
    },
    {
      "cell_type": "markdown",
      "metadata": {
        "id": "AGm5-e0sHEAF"
      },
      "source": [
        "## シーンの変更\n",
        "\n",
        "`mjvScene` にいくつかの任意のジオメトリを追加しましょう。"
      ]
    },
    {
      "cell_type": "code",
      "execution_count": null,
      "metadata": {
        "id": "Z6NDYJ8IOVt7"
      },
      "outputs": [],
      "source": [
        "def get_geom_speed(model, data, geom_name):\n",
        "  \"\"\"Returns the speed of a geom.\"\"\"\n",
        "  geom_vel = np.zeros(6)\n",
        "  geom_type = mujoco.mjtObj.mjOBJ_GEOM\n",
        "  geom_id = data.geom(geom_name).id\n",
        "  mujoco.mj_objectVelocity(model, data, geom_type, geom_id, geom_vel, 0)\n",
        "  return np.linalg.norm(geom_vel)\n",
        "\n",
        "def add_visual_capsule(scene, point1, point2, radius, rgba):\n",
        "  \"\"\"Adds one capsule to an mjvScene.\"\"\"\n",
        "  if scene.ngeom >= scene.maxgeom:\n",
        "    return\n",
        "  scene.ngeom += 1  # increment ngeom\n",
        "  # initialise a new capsule, add it to the scene using mjv_makeConnector\n",
        "  mujoco.mjv_initGeom(scene.geoms[scene.ngeom-1],\n",
        "                      mujoco.mjtGeom.mjGEOM_CAPSULE, np.zeros(3),\n",
        "                      np.zeros(3), np.zeros(9), rgba.astype(np.float32))\n",
        "  mujoco.mjv_makeConnector(scene.geoms[scene.ngeom-1],\n",
        "                           mujoco.mjtGeom.mjGEOM_CAPSULE, radius,\n",
        "                           point1[0], point1[1], point1[2],\n",
        "                           point2[0], point2[1], point2[2])\n",
        "\n",
        " # traces of time, position and speed\n",
        "times = []\n",
        "positions = []\n",
        "speeds = []\n",
        "offset = model.jnt_axis[0]/8  # offset along the joint axis\n",
        "\n",
        "def modify_scene(scn):\n",
        "  \"\"\"Draw position trace, speed modifies width and colors.\"\"\"\n",
        "  if len(positions) > 1:\n",
        "    for i in range(len(positions)-1):\n",
        "      rgba=np.array((np.clip(speeds[i]/10, 0, 1),\n",
        "                     np.clip(1-speeds[i]/10, 0, 1),\n",
        "                     .5, 1.))\n",
        "      radius=.003*(1+speeds[i])\n",
        "      point1 = positions[i] + offset*times[i]\n",
        "      point2 = positions[i+1] + offset*times[i+1]\n",
        "      add_visual_capsule(scn, point1, point2, radius, rgba)\n",
        "\n",
        "duration = 6    # (seconds)\n",
        "framerate = 30  # (Hz)\n",
        "\n",
        "# Simulate and display video.\n",
        "frames = []\n",
        "\n",
        "# Reset state and time.\n",
        "mujoco.mj_resetData(model, data)\n",
        "mujoco.mj_forward(model, data)\n",
        "\n",
        "while data.time < duration:\n",
        "  # append data to the traces\n",
        "  positions.append(data.geom_xpos[data.geom(\"green_sphere\").id].copy())\n",
        "  times.append(data.time)\n",
        "  speeds.append(get_geom_speed(model, data, \"green_sphere\"))\n",
        "  mujoco.mj_step(model, data)\n",
        "  if len(frames) < data.time * framerate:\n",
        "    renderer.update_scene(data)\n",
        "    modify_scene(renderer.scene)\n",
        "    pixels = renderer.render()\n",
        "    frames.append(pixels)\n",
        "media.show_video(frames, fps=framerate)"
      ]
    }
  ],
  "metadata": {
    "accelerator": "GPU",
    "colab": {
      "collapsed_sections": [
        "-re3Szx-1Ias"
      ],
      "gpuClass": "premium",
      "gpuType": "T4",
      "private_outputs": true,
      "provenance": [],
      "toc_visible": true
    },
    "kernelspec": {
      "display_name": "Python 3",
      "name": "python3"
    },
    "language_info": {
      "codemirror_mode": {
        "name": "ipython",
        "version": 3
      },
      "file_extension": ".py",
      "mimetype": "text/x-python",
      "name": "python",
      "nbconvert_exporter": "python",
      "pygments_lexer": "ipython3",
      "version": "3.9.16"
    }
  },
  "nbformat": 4,
  "nbformat_minor": 0
}
